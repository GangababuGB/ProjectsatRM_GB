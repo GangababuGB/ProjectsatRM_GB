{
 "cells": [
  {
   "cell_type": "markdown",
   "metadata": {},
   "source": [
    "# Author"
   ]
  },
  {
   "cell_type": "markdown",
   "metadata": {},
   "source": [
    "Name: GANGABABU.M\n",
    "\n",
    "github: https://github.com/GangababuGB\n",
    "\n",
    "g.dev: https://g.dev/gangababu\n",
    "\n",
    "In: https://www.linkedin.com/in/ganga-babu200495/"
   ]
  },
  {
   "cell_type": "markdown",
   "metadata": {},
   "source": [
    "# Code:"
   ]
  },
  {
   "cell_type": "markdown",
   "metadata": {},
   "source": [
    "#### CORE"
   ]
  },
  {
   "cell_type": "code",
   "execution_count": 83,
   "metadata": {},
   "outputs": [],
   "source": [
    "import pandas as pd\n",
    "from bs4 import BeautifulSoup\n",
    "import requests, lxml, json\n",
    "from itertools import zip_longest\n",
    "import schedule\n",
    "import time"
   ]
  },
  {
   "cell_type": "code",
   "execution_count": 84,
   "metadata": {},
   "outputs": [],
   "source": [
    "def scrape_google_finance(ticker: str):\n",
    "    # https://docs.python-requests.org/en/master/user/quickstart/#passing-parameters-in-urls\n",
    "    params = {\n",
    "        \"hl\": \"en\" # language\n",
    "        }\n",
    "\n",
    "    headers = {\n",
    "        \"User-Agent\": \"Mozilla/5.0 (Windows NT 10.0; Win64; x64) AppleWebKit/537.36 (KHTML, like Gecko) Chrome/100.0.4896.60 Safari/537.36\",\n",
    "        }\n",
    "\n",
    "    html = requests.get(f\"https://www.google.com/finance/quote/{ticker}\", params=params, headers=headers, timeout=30)\n",
    "    soup = BeautifulSoup(html.text, \"lxml\")\n",
    "    \n",
    "    ticker_data = {\"right_panel_data\": {},\n",
    "                    \"ticker_info\": {}}\n",
    "    \n",
    "    ticker_data[\"ticker_info\"][\"title\"] = soup.select_one(\".zzDege\").text\n",
    "    ticker_data[\"ticker_info\"][\"current_price\"] = soup.select_one(\".AHmHk .fxKbKc\").text\n",
    "    \n",
    "    right_panel_keys = soup.select(\".gyFHrc .mfs7Fc\")\n",
    "    right_panel_values = soup.select(\".gyFHrc .P6K39c\")\n",
    "    \n",
    "    for key, value in zip_longest(right_panel_keys, right_panel_values):\n",
    "        key_value = key.text.lower().replace(\" \", \"_\")\n",
    "\n",
    "        ticker_data[\"right_panel_data\"][key_value] = value.text\n",
    "    \n",
    "    return ticker_data"
   ]
  },
  {
   "cell_type": "code",
   "execution_count": 3,
   "metadata": {},
   "outputs": [
    {
     "name": "stdout",
     "output_type": "stream",
     "text": [
      "{\n",
      "  \"right_panel_data\": {\n",
      "    \"previous_close\": \"16,522.75\",\n",
      "    \"day_range\": \"16,443.05 - 16,646.40\",\n",
      "    \"year_range\": \"15,450.90 - 18,604.45\"\n",
      "  },\n",
      "  \"ticker_info\": {\n",
      "    \"title\": \"NIFTY 50\",\n",
      "    \"current_price\": \"16,628.00\"\n",
      "  }\n",
      "}\n"
     ]
    }
   ],
   "source": [
    "data = scrape_google_finance(ticker=\"NIFTY_50:INDEXNSE\")\n",
    "print(json.dumps(data, indent=2))"
   ]
  },
  {
   "cell_type": "code",
   "execution_count": 187,
   "metadata": {},
   "outputs": [],
   "source": [
    "# symbol = 'HDFCBANK:NSE'"
   ]
  },
  {
   "cell_type": "code",
   "execution_count": 5,
   "metadata": {},
   "outputs": [],
   "source": [
    "# pip install schedule"
   ]
  },
  {
   "cell_type": "code",
   "execution_count": 4,
   "metadata": {},
   "outputs": [],
   "source": [
    "def gf_sec_scrape():\n",
    "    data = scrape_google_finance(ticker=symbol)\n",
    "    print(data)"
   ]
  },
  {
   "cell_type": "code",
   "execution_count": 5,
   "metadata": {},
   "outputs": [
    {
     "name": "stdout",
     "output_type": "stream",
     "text": [
      "{'right_panel_data': {'previous_close': '₹1,394.85', 'day_range': '₹1,378.60 - ₹1,388.00', 'year_range': '₹1,278.30 - ₹1,725.00', 'market_cap': '7.70T INR', 'p/e_ratio': '20.28', 'dividend_yield': '1.12%', 'primary_exchange': 'NSE', 'ceo': 'Sashidhar Jagdishan', 'founded': 'Aug 1994', 'headquarters': 'Mumbai, MaharashtraIndia', 'website': 'hdfcbank.com', 'employees': '141,579'}, 'ticker_info': {'title': 'HDFC Bank Limited', 'current_price': '₹1,385.20'}}\n",
      "{'right_panel_data': {'previous_close': '₹1,394.85', 'day_range': '₹1,378.60 - ₹1,388.00', 'year_range': '₹1,278.30 - ₹1,725.00', 'market_cap': '7.70T INR', 'p/e_ratio': '20.28', 'dividend_yield': '1.12%', 'primary_exchange': 'NSE', 'ceo': 'Sashidhar Jagdishan', 'founded': 'Aug 1994', 'headquarters': 'Mumbai, MaharashtraIndia', 'website': 'hdfcbank.com', 'employees': '141,579'}, 'ticker_info': {'title': 'HDFC Bank Limited', 'current_price': '₹1,385.20'}}\n"
     ]
    }
   ],
   "source": [
    "symbol = 'HDFCBANK:NSE'\n",
    "schedule.every().seconds.do(gf_sec_scrape)\n",
    "try:\n",
    "    while True:\n",
    "        schedule.run_pending()\n",
    "except KeyboardInterrupt:\n",
    "    pass"
   ]
  },
  {
   "cell_type": "markdown",
   "metadata": {},
   "source": [
    "### Simple df"
   ]
  },
  {
   "cell_type": "code",
   "execution_count": 12,
   "metadata": {},
   "outputs": [],
   "source": [
    "# initialize list of lists\n",
    "BSE_Ticker_data = [['Sbi Life Insurance Company Ltd', '540719:BOM'],]\n",
    "# Create the pandas DataFrame\n",
    "BSE_Ticker = pd.DataFrame(BSE_Ticker_data, columns=['Title', 'Ticker'])"
   ]
  },
  {
   "cell_type": "code",
   "execution_count": 13,
   "metadata": {},
   "outputs": [
    {
     "data": {
      "text/html": [
       "<div>\n",
       "<style scoped>\n",
       "    .dataframe tbody tr th:only-of-type {\n",
       "        vertical-align: middle;\n",
       "    }\n",
       "\n",
       "    .dataframe tbody tr th {\n",
       "        vertical-align: top;\n",
       "    }\n",
       "\n",
       "    .dataframe thead th {\n",
       "        text-align: right;\n",
       "    }\n",
       "</style>\n",
       "<table border=\"1\" class=\"dataframe\">\n",
       "  <thead>\n",
       "    <tr style=\"text-align: right;\">\n",
       "      <th></th>\n",
       "      <th>Title</th>\n",
       "      <th>Ticker</th>\n",
       "    </tr>\n",
       "  </thead>\n",
       "  <tbody>\n",
       "    <tr>\n",
       "      <th>0</th>\n",
       "      <td>Sbi Life Insurance Company Ltd</td>\n",
       "      <td>540719:BOM</td>\n",
       "    </tr>\n",
       "  </tbody>\n",
       "</table>\n",
       "</div>"
      ],
      "text/plain": [
       "                            Title      Ticker\n",
       "0  Sbi Life Insurance Company Ltd  540719:BOM"
      ]
     },
     "execution_count": 13,
     "metadata": {},
     "output_type": "execute_result"
    }
   ],
   "source": [
    "BSE_Ticker"
   ]
  },
  {
   "cell_type": "code",
   "execution_count": 15,
   "metadata": {},
   "outputs": [],
   "source": [
    "BSE_Ticker.loc[len(BSE_Ticker)] = ['Sbi Life Insurance Company Ltd', '540719:BOM']"
   ]
  },
  {
   "cell_type": "code",
   "execution_count": 16,
   "metadata": {},
   "outputs": [
    {
     "data": {
      "text/html": [
       "<div>\n",
       "<style scoped>\n",
       "    .dataframe tbody tr th:only-of-type {\n",
       "        vertical-align: middle;\n",
       "    }\n",
       "\n",
       "    .dataframe tbody tr th {\n",
       "        vertical-align: top;\n",
       "    }\n",
       "\n",
       "    .dataframe thead th {\n",
       "        text-align: right;\n",
       "    }\n",
       "</style>\n",
       "<table border=\"1\" class=\"dataframe\">\n",
       "  <thead>\n",
       "    <tr style=\"text-align: right;\">\n",
       "      <th></th>\n",
       "      <th>Title</th>\n",
       "      <th>Ticker</th>\n",
       "    </tr>\n",
       "  </thead>\n",
       "  <tbody>\n",
       "    <tr>\n",
       "      <th>0</th>\n",
       "      <td>Sbi Life Insurance Company Ltd</td>\n",
       "      <td>540719:BOM</td>\n",
       "    </tr>\n",
       "    <tr>\n",
       "      <th>1</th>\n",
       "      <td>Sbi Life Insurance Company Ltd</td>\n",
       "      <td>540719:BOM</td>\n",
       "    </tr>\n",
       "  </tbody>\n",
       "</table>\n",
       "</div>"
      ],
      "text/plain": [
       "                            Title      Ticker\n",
       "0  Sbi Life Insurance Company Ltd  540719:BOM\n",
       "1  Sbi Life Insurance Company Ltd  540719:BOM"
      ]
     },
     "execution_count": 16,
     "metadata": {},
     "output_type": "execute_result"
    }
   ],
   "source": [
    "BSE_Ticker"
   ]
  },
  {
   "cell_type": "markdown",
   "metadata": {},
   "source": [
    "### NSE"
   ]
  },
  {
   "cell_type": "markdown",
   "metadata": {},
   "source": [
    "https://en.wikipedia.org/wiki/List_of_companies_listed_on_the_National_Stock_Exchange_of_India"
   ]
  },
  {
   "cell_type": "code",
   "execution_count": 83,
   "metadata": {},
   "outputs": [],
   "source": [
    "NSE_Tickers_Url = 'https://en.wikipedia.org/wiki/List_of_companies_listed_on_the_National_Stock_Exchange_of_India'"
   ]
  },
  {
   "cell_type": "code",
   "execution_count": 10,
   "metadata": {},
   "outputs": [
    {
     "data": {
      "text/plain": [
       "'HDFCBANK:NSE'"
      ]
     },
     "execution_count": 10,
     "metadata": {},
     "output_type": "execute_result"
    }
   ],
   "source": [
    "TickerList = ['HDFCBANK:NSE','M&M:NSE','NIFTY_50:INDEXNSE']\n",
    "BSE_TL = ['540719:BOM',]\n",
    "TickerList[0]"
   ]
  },
  {
   "cell_type": "code",
   "execution_count": 164,
   "metadata": {},
   "outputs": [],
   "source": [
    "NSE_Tickers_df = pd.read_html(NSE_Tickers_Url)[:27]"
   ]
  },
  {
   "cell_type": "code",
   "execution_count": 165,
   "metadata": {},
   "outputs": [
    {
     "data": {
      "text/plain": [
       "27"
      ]
     },
     "execution_count": 165,
     "metadata": {},
     "output_type": "execute_result"
    }
   ],
   "source": [
    "len(NSE_Tickers_df)"
   ]
  },
  {
   "cell_type": "code",
   "execution_count": 166,
   "metadata": {},
   "outputs": [
    {
     "data": {
      "text/html": [
       "<div>\n",
       "<style scoped>\n",
       "    .dataframe tbody tr th:only-of-type {\n",
       "        vertical-align: middle;\n",
       "    }\n",
       "\n",
       "    .dataframe tbody tr th {\n",
       "        vertical-align: top;\n",
       "    }\n",
       "\n",
       "    .dataframe thead th {\n",
       "        text-align: right;\n",
       "    }\n",
       "</style>\n",
       "<table border=\"1\" class=\"dataframe\">\n",
       "  <thead>\n",
       "    <tr style=\"text-align: right;\">\n",
       "      <th></th>\n",
       "      <th>Symbol</th>\n",
       "      <th>Company name</th>\n",
       "    </tr>\n",
       "  </thead>\n",
       "  <tbody>\n",
       "    <tr>\n",
       "      <th>0</th>\n",
       "      <td>NSE: 20MICRONS</td>\n",
       "      <td>20 Microns Limited</td>\n",
       "    </tr>\n",
       "    <tr>\n",
       "      <th>1</th>\n",
       "      <td>NSE: 21STCENMGM</td>\n",
       "      <td>21st Century Management Services Limited</td>\n",
       "    </tr>\n",
       "    <tr>\n",
       "      <th>2</th>\n",
       "      <td>NSE: 3IINFOTECH</td>\n",
       "      <td>3i Infotech Limited</td>\n",
       "    </tr>\n",
       "    <tr>\n",
       "      <th>3</th>\n",
       "      <td>NSE: 3MINDIA</td>\n",
       "      <td>3M India Limited</td>\n",
       "    </tr>\n",
       "    <tr>\n",
       "      <th>4</th>\n",
       "      <td>NSE: 3PLAND</td>\n",
       "      <td>3P Land Holdings Limited</td>\n",
       "    </tr>\n",
       "    <tr>\n",
       "      <th>5</th>\n",
       "      <td>NSE: 3RDROCK</td>\n",
       "      <td>3rd Rock Multimedia Limited</td>\n",
       "    </tr>\n",
       "    <tr>\n",
       "      <th>6</th>\n",
       "      <td>NSE: 5PAISA</td>\n",
       "      <td>5Paisa Capital Limited</td>\n",
       "    </tr>\n",
       "    <tr>\n",
       "      <th>7</th>\n",
       "      <td>NSE: 63MOONS</td>\n",
       "      <td>63 Moons Technologies Limited</td>\n",
       "    </tr>\n",
       "  </tbody>\n",
       "</table>\n",
       "</div>"
      ],
      "text/plain": [
       "            Symbol                              Company name\n",
       "0   NSE: 20MICRONS                        20 Microns Limited\n",
       "1  NSE: 21STCENMGM  21st Century Management Services Limited\n",
       "2  NSE: 3IINFOTECH                       3i Infotech Limited\n",
       "3     NSE: 3MINDIA                          3M India Limited\n",
       "4      NSE: 3PLAND                  3P Land Holdings Limited\n",
       "5     NSE: 3RDROCK               3rd Rock Multimedia Limited\n",
       "6      NSE: 5PAISA                    5Paisa Capital Limited\n",
       "7     NSE: 63MOONS             63 Moons Technologies Limited"
      ]
     },
     "execution_count": 166,
     "metadata": {},
     "output_type": "execute_result"
    }
   ],
   "source": [
    "NSE_Tickers_df[0]"
   ]
  },
  {
   "cell_type": "code",
   "execution_count": 167,
   "metadata": {},
   "outputs": [],
   "source": [
    "NSE_Listed_Tickers_df= pd.concat(NSE_Tickers_df).reset_index(drop=True)\n",
    "# NSE_Listed_Tickers_df.tail()"
   ]
  },
  {
   "cell_type": "code",
   "execution_count": 168,
   "metadata": {},
   "outputs": [
    {
     "data": {
      "text/html": [
       "<div>\n",
       "<style scoped>\n",
       "    .dataframe tbody tr th:only-of-type {\n",
       "        vertical-align: middle;\n",
       "    }\n",
       "\n",
       "    .dataframe tbody tr th {\n",
       "        vertical-align: top;\n",
       "    }\n",
       "\n",
       "    .dataframe thead th {\n",
       "        text-align: right;\n",
       "    }\n",
       "</style>\n",
       "<table border=\"1\" class=\"dataframe\">\n",
       "  <thead>\n",
       "    <tr style=\"text-align: right;\">\n",
       "      <th></th>\n",
       "      <th>Symbol</th>\n",
       "      <th>Company name</th>\n",
       "    </tr>\n",
       "  </thead>\n",
       "  <tbody>\n",
       "    <tr>\n",
       "      <th>0</th>\n",
       "      <td>NSE: 20MICRONS</td>\n",
       "      <td>20 Microns Limited</td>\n",
       "    </tr>\n",
       "    <tr>\n",
       "      <th>1</th>\n",
       "      <td>NSE: 21STCENMGM</td>\n",
       "      <td>21st Century Management Services Limited</td>\n",
       "    </tr>\n",
       "    <tr>\n",
       "      <th>2</th>\n",
       "      <td>NSE: 3IINFOTECH</td>\n",
       "      <td>3i Infotech Limited</td>\n",
       "    </tr>\n",
       "    <tr>\n",
       "      <th>3</th>\n",
       "      <td>NSE: 3MINDIA</td>\n",
       "      <td>3M India Limited</td>\n",
       "    </tr>\n",
       "    <tr>\n",
       "      <th>4</th>\n",
       "      <td>NSE: 3PLAND</td>\n",
       "      <td>3P Land Holdings Limited</td>\n",
       "    </tr>\n",
       "  </tbody>\n",
       "</table>\n",
       "</div>"
      ],
      "text/plain": [
       "            Symbol                              Company name\n",
       "0   NSE: 20MICRONS                        20 Microns Limited\n",
       "1  NSE: 21STCENMGM  21st Century Management Services Limited\n",
       "2  NSE: 3IINFOTECH                       3i Infotech Limited\n",
       "3     NSE: 3MINDIA                          3M India Limited\n",
       "4      NSE: 3PLAND                  3P Land Holdings Limited"
      ]
     },
     "execution_count": 168,
     "metadata": {},
     "output_type": "execute_result"
    }
   ],
   "source": [
    "NSE_Listed_Tickers_df.head()"
   ]
  },
  {
   "cell_type": "code",
   "execution_count": 169,
   "metadata": {},
   "outputs": [
    {
     "data": {
      "text/html": [
       "<div>\n",
       "<style scoped>\n",
       "    .dataframe tbody tr th:only-of-type {\n",
       "        vertical-align: middle;\n",
       "    }\n",
       "\n",
       "    .dataframe tbody tr th {\n",
       "        vertical-align: top;\n",
       "    }\n",
       "\n",
       "    .dataframe thead th {\n",
       "        text-align: right;\n",
       "    }\n",
       "</style>\n",
       "<table border=\"1\" class=\"dataframe\">\n",
       "  <thead>\n",
       "    <tr style=\"text-align: right;\">\n",
       "      <th></th>\n",
       "      <th>Symbol</th>\n",
       "      <th>Company name</th>\n",
       "    </tr>\n",
       "  </thead>\n",
       "  <tbody>\n",
       "    <tr>\n",
       "      <th>0</th>\n",
       "      <td>20MICRONS</td>\n",
       "      <td>20 Microns Limited</td>\n",
       "    </tr>\n",
       "    <tr>\n",
       "      <th>1</th>\n",
       "      <td>21STCENMGM</td>\n",
       "      <td>21st Century Management Services Limited</td>\n",
       "    </tr>\n",
       "    <tr>\n",
       "      <th>2</th>\n",
       "      <td>3IINFOTECH</td>\n",
       "      <td>3i Infotech Limited</td>\n",
       "    </tr>\n",
       "    <tr>\n",
       "      <th>3</th>\n",
       "      <td>3MINDIA</td>\n",
       "      <td>3M India Limited</td>\n",
       "    </tr>\n",
       "    <tr>\n",
       "      <th>4</th>\n",
       "      <td>3PLAND</td>\n",
       "      <td>3P Land Holdings Limited</td>\n",
       "    </tr>\n",
       "  </tbody>\n",
       "</table>\n",
       "</div>"
      ],
      "text/plain": [
       "       Symbol                              Company name\n",
       "0   20MICRONS                        20 Microns Limited\n",
       "1  21STCENMGM  21st Century Management Services Limited\n",
       "2  3IINFOTECH                       3i Infotech Limited\n",
       "3     3MINDIA                          3M India Limited\n",
       "4      3PLAND                  3P Land Holdings Limited"
      ]
     },
     "execution_count": 169,
     "metadata": {},
     "output_type": "execute_result"
    }
   ],
   "source": [
    "NSE_Listed_Tickers_df['Symbol'] = NSE_Listed_Tickers_df['Symbol'].str.slice(5,)\n",
    "NSE_Listed_Tickers_df.head()"
   ]
  },
  {
   "cell_type": "code",
   "execution_count": 170,
   "metadata": {},
   "outputs": [
    {
     "data": {
      "text/html": [
       "<div>\n",
       "<style scoped>\n",
       "    .dataframe tbody tr th:only-of-type {\n",
       "        vertical-align: middle;\n",
       "    }\n",
       "\n",
       "    .dataframe tbody tr th {\n",
       "        vertical-align: top;\n",
       "    }\n",
       "\n",
       "    .dataframe thead th {\n",
       "        text-align: right;\n",
       "    }\n",
       "</style>\n",
       "<table border=\"1\" class=\"dataframe\">\n",
       "  <thead>\n",
       "    <tr style=\"text-align: right;\">\n",
       "      <th></th>\n",
       "      <th>Symbol</th>\n",
       "      <th>Company name</th>\n",
       "    </tr>\n",
       "  </thead>\n",
       "  <tbody>\n",
       "    <tr>\n",
       "      <th>0</th>\n",
       "      <td>20MICRONS:NSE</td>\n",
       "      <td>20 Microns Limited</td>\n",
       "    </tr>\n",
       "    <tr>\n",
       "      <th>1</th>\n",
       "      <td>21STCENMGM:NSE</td>\n",
       "      <td>21st Century Management Services Limited</td>\n",
       "    </tr>\n",
       "    <tr>\n",
       "      <th>2</th>\n",
       "      <td>3IINFOTECH:NSE</td>\n",
       "      <td>3i Infotech Limited</td>\n",
       "    </tr>\n",
       "    <tr>\n",
       "      <th>3</th>\n",
       "      <td>3MINDIA:NSE</td>\n",
       "      <td>3M India Limited</td>\n",
       "    </tr>\n",
       "    <tr>\n",
       "      <th>4</th>\n",
       "      <td>3PLAND:NSE</td>\n",
       "      <td>3P Land Holdings Limited</td>\n",
       "    </tr>\n",
       "  </tbody>\n",
       "</table>\n",
       "</div>"
      ],
      "text/plain": [
       "           Symbol                              Company name\n",
       "0   20MICRONS:NSE                        20 Microns Limited\n",
       "1  21STCENMGM:NSE  21st Century Management Services Limited\n",
       "2  3IINFOTECH:NSE                       3i Infotech Limited\n",
       "3     3MINDIA:NSE                          3M India Limited\n",
       "4      3PLAND:NSE                  3P Land Holdings Limited"
      ]
     },
     "execution_count": 170,
     "metadata": {},
     "output_type": "execute_result"
    }
   ],
   "source": [
    "NSE_Listed_Tickers_df['Symbol'] = NSE_Listed_Tickers_df['Symbol'] + ':NSE'\n",
    "NSE_Listed_Tickers_df.head()"
   ]
  },
  {
   "cell_type": "code",
   "execution_count": 171,
   "metadata": {},
   "outputs": [],
   "source": [
    "NSE_Listed_Tickers_df.to_csv('NSE_All_Listed_Tickers.csv')"
   ]
  },
  {
   "cell_type": "markdown",
   "metadata": {},
   "source": [
    "### NSE NIFTY 50"
   ]
  },
  {
   "cell_type": "code",
   "execution_count": 52,
   "metadata": {},
   "outputs": [],
   "source": [
    "Nift_50_Tickers = 'https://en.wikipedia.org/wiki/NIFTY_50#Constituents'"
   ]
  },
  {
   "cell_type": "code",
   "execution_count": 53,
   "metadata": {},
   "outputs": [],
   "source": [
    "Nift_50_Tickers_df = pd.read_html(Nift_50_Tickers)[1]"
   ]
  },
  {
   "cell_type": "code",
   "execution_count": 54,
   "metadata": {},
   "outputs": [
    {
     "data": {
      "text/plain": [
       "50"
      ]
     },
     "execution_count": 54,
     "metadata": {},
     "output_type": "execute_result"
    }
   ],
   "source": [
    "len(Nift_50_Tickers_df)"
   ]
  },
  {
   "cell_type": "code",
   "execution_count": 55,
   "metadata": {},
   "outputs": [
    {
     "data": {
      "text/html": [
       "<div>\n",
       "<style scoped>\n",
       "    .dataframe tbody tr th:only-of-type {\n",
       "        vertical-align: middle;\n",
       "    }\n",
       "\n",
       "    .dataframe tbody tr th {\n",
       "        vertical-align: top;\n",
       "    }\n",
       "\n",
       "    .dataframe thead th {\n",
       "        text-align: right;\n",
       "    }\n",
       "</style>\n",
       "<table border=\"1\" class=\"dataframe\">\n",
       "  <thead>\n",
       "    <tr style=\"text-align: right;\">\n",
       "      <th></th>\n",
       "      <th>Company Name</th>\n",
       "      <th>Symbol</th>\n",
       "      <th>Sector</th>\n",
       "    </tr>\n",
       "  </thead>\n",
       "  <tbody>\n",
       "    <tr>\n",
       "      <th>45</th>\n",
       "      <td>Tech Mahindra</td>\n",
       "      <td>TECHM</td>\n",
       "      <td>Information Technology</td>\n",
       "    </tr>\n",
       "    <tr>\n",
       "      <th>46</th>\n",
       "      <td>Titan Company</td>\n",
       "      <td>TITAN</td>\n",
       "      <td>Consumer Durables</td>\n",
       "    </tr>\n",
       "    <tr>\n",
       "      <th>47</th>\n",
       "      <td>UltraTech Cement</td>\n",
       "      <td>ULTRACEMCO</td>\n",
       "      <td>Cement</td>\n",
       "    </tr>\n",
       "    <tr>\n",
       "      <th>48</th>\n",
       "      <td>United Phosphorus Limited</td>\n",
       "      <td>UPL</td>\n",
       "      <td>Chemicals</td>\n",
       "    </tr>\n",
       "    <tr>\n",
       "      <th>49</th>\n",
       "      <td>Wipro</td>\n",
       "      <td>WIPRO</td>\n",
       "      <td>Information Technology[15]</td>\n",
       "    </tr>\n",
       "  </tbody>\n",
       "</table>\n",
       "</div>"
      ],
      "text/plain": [
       "                 Company Name      Symbol                      Sector\n",
       "45              Tech Mahindra       TECHM      Information Technology\n",
       "46              Titan Company       TITAN           Consumer Durables\n",
       "47           UltraTech Cement  ULTRACEMCO                      Cement\n",
       "48  United Phosphorus Limited         UPL                   Chemicals\n",
       "49                      Wipro       WIPRO  Information Technology[15]"
      ]
     },
     "execution_count": 55,
     "metadata": {},
     "output_type": "execute_result"
    }
   ],
   "source": [
    "Nift_50_Tickers_df.tail()"
   ]
  },
  {
   "cell_type": "code",
   "execution_count": 122,
   "metadata": {},
   "outputs": [
    {
     "data": {
      "text/html": [
       "<div>\n",
       "<style scoped>\n",
       "    .dataframe tbody tr th:only-of-type {\n",
       "        vertical-align: middle;\n",
       "    }\n",
       "\n",
       "    .dataframe tbody tr th {\n",
       "        vertical-align: top;\n",
       "    }\n",
       "\n",
       "    .dataframe thead th {\n",
       "        text-align: right;\n",
       "    }\n",
       "</style>\n",
       "<table border=\"1\" class=\"dataframe\">\n",
       "  <thead>\n",
       "    <tr style=\"text-align: right;\">\n",
       "      <th></th>\n",
       "      <th>Company Name</th>\n",
       "      <th>Symbol</th>\n",
       "      <th>Sector</th>\n",
       "    </tr>\n",
       "  </thead>\n",
       "  <tbody>\n",
       "    <tr>\n",
       "      <th>45</th>\n",
       "      <td>Tech Mahindra</td>\n",
       "      <td>TECHM:NSE</td>\n",
       "      <td>Information Technology</td>\n",
       "    </tr>\n",
       "    <tr>\n",
       "      <th>46</th>\n",
       "      <td>Titan Company</td>\n",
       "      <td>TITAN:NSE</td>\n",
       "      <td>Consumer Durables</td>\n",
       "    </tr>\n",
       "    <tr>\n",
       "      <th>47</th>\n",
       "      <td>UltraTech Cement</td>\n",
       "      <td>ULTRACEMCO:NSE</td>\n",
       "      <td>Cement</td>\n",
       "    </tr>\n",
       "    <tr>\n",
       "      <th>48</th>\n",
       "      <td>United Phosphorus Limited</td>\n",
       "      <td>UPL:NSE</td>\n",
       "      <td>Chemicals</td>\n",
       "    </tr>\n",
       "    <tr>\n",
       "      <th>49</th>\n",
       "      <td>Wipro</td>\n",
       "      <td>WIPRO:NSE</td>\n",
       "      <td>Information Technology[15]</td>\n",
       "    </tr>\n",
       "  </tbody>\n",
       "</table>\n",
       "</div>"
      ],
      "text/plain": [
       "                 Company Name          Symbol                      Sector\n",
       "45              Tech Mahindra       TECHM:NSE      Information Technology\n",
       "46              Titan Company       TITAN:NSE           Consumer Durables\n",
       "47           UltraTech Cement  ULTRACEMCO:NSE                      Cement\n",
       "48  United Phosphorus Limited         UPL:NSE                   Chemicals\n",
       "49                      Wipro       WIPRO:NSE  Information Technology[15]"
      ]
     },
     "execution_count": 122,
     "metadata": {},
     "output_type": "execute_result"
    }
   ],
   "source": [
    "Nift_50_Tickers_df['Symbol'] = Nift_50_Tickers_df['Symbol'] + ':NSE'\n",
    "Nift_50_Tickers_df.tail()"
   ]
  },
  {
   "cell_type": "code",
   "execution_count": 123,
   "metadata": {},
   "outputs": [],
   "source": [
    "Nift_50_Tickers_df.to_csv('Nift_50_Tickers.csv')"
   ]
  },
  {
   "cell_type": "markdown",
   "metadata": {},
   "source": [
    "### NIFTY_Next_50"
   ]
  },
  {
   "cell_type": "code",
   "execution_count": 49,
   "metadata": {},
   "outputs": [
    {
     "data": {
      "text/plain": [
       "50"
      ]
     },
     "execution_count": 49,
     "metadata": {},
     "output_type": "execute_result"
    }
   ],
   "source": [
    "NIFTY_Next_50_df = 'https://en.wikipedia.org/wiki/NIFTY_Next_50'\n",
    "NIFTY_Next_50_df = pd.read_html(NIFTY_Next_50_df)[1]\n",
    "len(NIFTY_Next_50_df)"
   ]
  },
  {
   "cell_type": "markdown",
   "metadata": {},
   "source": [
    "https://www.nseindia.com/market-data/live-market-indices"
   ]
  },
  {
   "cell_type": "code",
   "execution_count": 124,
   "metadata": {},
   "outputs": [
    {
     "data": {
      "text/html": [
       "<div>\n",
       "<style scoped>\n",
       "    .dataframe tbody tr th:only-of-type {\n",
       "        vertical-align: middle;\n",
       "    }\n",
       "\n",
       "    .dataframe tbody tr th {\n",
       "        vertical-align: top;\n",
       "    }\n",
       "\n",
       "    .dataframe thead th {\n",
       "        text-align: right;\n",
       "    }\n",
       "</style>\n",
       "<table border=\"1\" class=\"dataframe\">\n",
       "  <thead>\n",
       "    <tr style=\"text-align: right;\">\n",
       "      <th></th>\n",
       "      <th>Company Name</th>\n",
       "      <th>Symbol</th>\n",
       "      <th>Sector</th>\n",
       "    </tr>\n",
       "  </thead>\n",
       "  <tbody>\n",
       "    <tr>\n",
       "      <th>45</th>\n",
       "      <td>Torrent Pharmaceuticals</td>\n",
       "      <td>TORNTPHARM:NSE</td>\n",
       "      <td>Pharmaceuticals</td>\n",
       "    </tr>\n",
       "    <tr>\n",
       "      <th>46</th>\n",
       "      <td>United Spirits</td>\n",
       "      <td>MCDOWELL-N:NSE</td>\n",
       "      <td>Consumer Goods</td>\n",
       "    </tr>\n",
       "    <tr>\n",
       "      <th>47</th>\n",
       "      <td>Vedanta</td>\n",
       "      <td>VEDL:NSE</td>\n",
       "      <td>Metals</td>\n",
       "    </tr>\n",
       "    <tr>\n",
       "      <th>48</th>\n",
       "      <td>Zomato</td>\n",
       "      <td>ZOMATO:NSE</td>\n",
       "      <td>Internet Services</td>\n",
       "    </tr>\n",
       "    <tr>\n",
       "      <th>49</th>\n",
       "      <td>Zydus Lifesciences</td>\n",
       "      <td>ZYDUSLIFE:NSE</td>\n",
       "      <td>Pharmaceuticals</td>\n",
       "    </tr>\n",
       "  </tbody>\n",
       "</table>\n",
       "</div>"
      ],
      "text/plain": [
       "               Company Name          Symbol             Sector\n",
       "45  Torrent Pharmaceuticals  TORNTPHARM:NSE    Pharmaceuticals\n",
       "46           United Spirits  MCDOWELL-N:NSE     Consumer Goods\n",
       "47                  Vedanta        VEDL:NSE             Metals\n",
       "48                   Zomato      ZOMATO:NSE  Internet Services\n",
       "49       Zydus Lifesciences   ZYDUSLIFE:NSE    Pharmaceuticals"
      ]
     },
     "execution_count": 124,
     "metadata": {},
     "output_type": "execute_result"
    }
   ],
   "source": [
    "NIFTY_Next_50_df['Symbol'] = NIFTY_Next_50_df['Symbol'] + ':NSE'\n",
    "NIFTY_Next_50_df.tail()"
   ]
  },
  {
   "cell_type": "code",
   "execution_count": 125,
   "metadata": {},
   "outputs": [],
   "source": [
    "NIFTY_Next_50_df.to_csv('NIFTY_Next_50_Ticker.CSV')"
   ]
  },
  {
   "cell_type": "markdown",
   "metadata": {},
   "source": [
    "### BSE "
   ]
  },
  {
   "cell_type": "code",
   "execution_count": 74,
   "metadata": {},
   "outputs": [
    {
     "data": {
      "text/plain": [
       "30"
      ]
     },
     "execution_count": 74,
     "metadata": {},
     "output_type": "execute_result"
    }
   ],
   "source": [
    "BSE_Ticker_url = 'https://en.wikipedia.org/wiki/BSE_SENSEX'\n",
    "BSE_Ticker_df = pd.read_html(BSE_Ticker_url)[1]\n",
    "len(BSE_Ticker_df)"
   ]
  },
  {
   "cell_type": "code",
   "execution_count": 75,
   "metadata": {},
   "outputs": [
    {
     "data": {
      "text/html": [
       "<div>\n",
       "<style scoped>\n",
       "    .dataframe tbody tr th:only-of-type {\n",
       "        vertical-align: middle;\n",
       "    }\n",
       "\n",
       "    .dataframe tbody tr th {\n",
       "        vertical-align: top;\n",
       "    }\n",
       "\n",
       "    .dataframe thead th {\n",
       "        text-align: right;\n",
       "    }\n",
       "</style>\n",
       "<table border=\"1\" class=\"dataframe\">\n",
       "  <thead>\n",
       "    <tr style=\"text-align: right;\">\n",
       "      <th></th>\n",
       "      <th>#</th>\n",
       "      <th>Exchange ticker</th>\n",
       "      <th>Symbol</th>\n",
       "      <th>Companies</th>\n",
       "      <th>Sector</th>\n",
       "      <th>Date Added</th>\n",
       "    </tr>\n",
       "  </thead>\n",
       "  <tbody>\n",
       "    <tr>\n",
       "      <th>0</th>\n",
       "      <td>1</td>\n",
       "      <td>500820</td>\n",
       "      <td>ASIANPAINT.BO</td>\n",
       "      <td>Asian Paints</td>\n",
       "      <td>Paints</td>\n",
       "      <td>21 December 2015[4]</td>\n",
       "    </tr>\n",
       "    <tr>\n",
       "      <th>1</th>\n",
       "      <td>2</td>\n",
       "      <td>532215</td>\n",
       "      <td>AXISBANK.BO</td>\n",
       "      <td>Axis Bank</td>\n",
       "      <td>Banking - Private</td>\n",
       "      <td>NaN</td>\n",
       "    </tr>\n",
       "    <tr>\n",
       "      <th>2</th>\n",
       "      <td>3</td>\n",
       "      <td>532977</td>\n",
       "      <td>BAJAJ-AUTO.BO</td>\n",
       "      <td>Bajaj Auto</td>\n",
       "      <td>Automobile</td>\n",
       "      <td>NaN</td>\n",
       "    </tr>\n",
       "    <tr>\n",
       "      <th>3</th>\n",
       "      <td>4</td>\n",
       "      <td>500034</td>\n",
       "      <td>BAJFINANCE.BO</td>\n",
       "      <td>Bajaj Finance</td>\n",
       "      <td>Finance (NBFC)</td>\n",
       "      <td>24 December 2018[5]</td>\n",
       "    </tr>\n",
       "    <tr>\n",
       "      <th>4</th>\n",
       "      <td>5</td>\n",
       "      <td>532978</td>\n",
       "      <td>BAJAJFINSV.BO</td>\n",
       "      <td>Bajaj Finserv</td>\n",
       "      <td>Finance (Investment)</td>\n",
       "      <td>NaN</td>\n",
       "    </tr>\n",
       "  </tbody>\n",
       "</table>\n",
       "</div>"
      ],
      "text/plain": [
       "   #  Exchange ticker         Symbol      Companies                Sector  \\\n",
       "0  1           500820  ASIANPAINT.BO   Asian Paints                Paints   \n",
       "1  2           532215    AXISBANK.BO      Axis Bank     Banking - Private   \n",
       "2  3           532977  BAJAJ-AUTO.BO     Bajaj Auto            Automobile   \n",
       "3  4           500034  BAJFINANCE.BO  Bajaj Finance        Finance (NBFC)   \n",
       "4  5           532978  BAJAJFINSV.BO  Bajaj Finserv  Finance (Investment)   \n",
       "\n",
       "            Date Added  \n",
       "0  21 December 2015[4]  \n",
       "1                  NaN  \n",
       "2                  NaN  \n",
       "3  24 December 2018[5]  \n",
       "4                  NaN  "
      ]
     },
     "execution_count": 75,
     "metadata": {},
     "output_type": "execute_result"
    }
   ],
   "source": [
    "BSE_Ticker_df.head()"
   ]
  },
  {
   "cell_type": "code",
   "execution_count": 76,
   "metadata": {},
   "outputs": [
    {
     "data": {
      "text/html": [
       "<div>\n",
       "<style scoped>\n",
       "    .dataframe tbody tr th:only-of-type {\n",
       "        vertical-align: middle;\n",
       "    }\n",
       "\n",
       "    .dataframe tbody tr th {\n",
       "        vertical-align: top;\n",
       "    }\n",
       "\n",
       "    .dataframe thead th {\n",
       "        text-align: right;\n",
       "    }\n",
       "</style>\n",
       "<table border=\"1\" class=\"dataframe\">\n",
       "  <thead>\n",
       "    <tr style=\"text-align: right;\">\n",
       "      <th></th>\n",
       "      <th>Exchange ticker</th>\n",
       "      <th>Symbol</th>\n",
       "      <th>Companies</th>\n",
       "      <th>Sector</th>\n",
       "    </tr>\n",
       "  </thead>\n",
       "  <tbody>\n",
       "    <tr>\n",
       "      <th>0</th>\n",
       "      <td>500820</td>\n",
       "      <td>ASIANPAINT.BO</td>\n",
       "      <td>Asian Paints</td>\n",
       "      <td>Paints</td>\n",
       "    </tr>\n",
       "    <tr>\n",
       "      <th>1</th>\n",
       "      <td>532215</td>\n",
       "      <td>AXISBANK.BO</td>\n",
       "      <td>Axis Bank</td>\n",
       "      <td>Banking - Private</td>\n",
       "    </tr>\n",
       "    <tr>\n",
       "      <th>2</th>\n",
       "      <td>532977</td>\n",
       "      <td>BAJAJ-AUTO.BO</td>\n",
       "      <td>Bajaj Auto</td>\n",
       "      <td>Automobile</td>\n",
       "    </tr>\n",
       "    <tr>\n",
       "      <th>3</th>\n",
       "      <td>500034</td>\n",
       "      <td>BAJFINANCE.BO</td>\n",
       "      <td>Bajaj Finance</td>\n",
       "      <td>Finance (NBFC)</td>\n",
       "    </tr>\n",
       "    <tr>\n",
       "      <th>4</th>\n",
       "      <td>532978</td>\n",
       "      <td>BAJAJFINSV.BO</td>\n",
       "      <td>Bajaj Finserv</td>\n",
       "      <td>Finance (Investment)</td>\n",
       "    </tr>\n",
       "  </tbody>\n",
       "</table>\n",
       "</div>"
      ],
      "text/plain": [
       "   Exchange ticker         Symbol      Companies                Sector\n",
       "0           500820  ASIANPAINT.BO   Asian Paints                Paints\n",
       "1           532215    AXISBANK.BO      Axis Bank     Banking - Private\n",
       "2           532977  BAJAJ-AUTO.BO     Bajaj Auto            Automobile\n",
       "3           500034  BAJFINANCE.BO  Bajaj Finance        Finance (NBFC)\n",
       "4           532978  BAJAJFINSV.BO  Bajaj Finserv  Finance (Investment)"
      ]
     },
     "execution_count": 76,
     "metadata": {},
     "output_type": "execute_result"
    }
   ],
   "source": [
    "BSE_SENSEX_Ticker_df = BSE_Ticker_df.loc[:,'Exchange ticker':'Sector']\n",
    "BSE_SENSEX_Ticker_df.head()"
   ]
  },
  {
   "cell_type": "code",
   "execution_count": 77,
   "metadata": {},
   "outputs": [
    {
     "data": {
      "text/plain": [
       "Index(['Exchange ticker', 'Symbol', 'Companies', 'Sector'], dtype='object')"
      ]
     },
     "execution_count": 77,
     "metadata": {},
     "output_type": "execute_result"
    }
   ],
   "source": [
    "BSE_SENSEX_Ticker_df.columns"
   ]
  },
  {
   "cell_type": "code",
   "execution_count": 78,
   "metadata": {},
   "outputs": [
    {
     "data": {
      "text/html": [
       "<div>\n",
       "<style scoped>\n",
       "    .dataframe tbody tr th:only-of-type {\n",
       "        vertical-align: middle;\n",
       "    }\n",
       "\n",
       "    .dataframe tbody tr th {\n",
       "        vertical-align: top;\n",
       "    }\n",
       "\n",
       "    .dataframe thead th {\n",
       "        text-align: right;\n",
       "    }\n",
       "</style>\n",
       "<table border=\"1\" class=\"dataframe\">\n",
       "  <thead>\n",
       "    <tr style=\"text-align: right;\">\n",
       "      <th></th>\n",
       "      <th>Exchange ticker</th>\n",
       "      <th>Symbol</th>\n",
       "      <th>Companies</th>\n",
       "      <th>Sector</th>\n",
       "    </tr>\n",
       "  </thead>\n",
       "  <tbody>\n",
       "    <tr>\n",
       "      <th>0</th>\n",
       "      <td>500820:BOM</td>\n",
       "      <td>ASIANPAINT.BO</td>\n",
       "      <td>Asian Paints</td>\n",
       "      <td>Paints</td>\n",
       "    </tr>\n",
       "    <tr>\n",
       "      <th>1</th>\n",
       "      <td>532215:BOM</td>\n",
       "      <td>AXISBANK.BO</td>\n",
       "      <td>Axis Bank</td>\n",
       "      <td>Banking - Private</td>\n",
       "    </tr>\n",
       "    <tr>\n",
       "      <th>2</th>\n",
       "      <td>532977:BOM</td>\n",
       "      <td>BAJAJ-AUTO.BO</td>\n",
       "      <td>Bajaj Auto</td>\n",
       "      <td>Automobile</td>\n",
       "    </tr>\n",
       "    <tr>\n",
       "      <th>3</th>\n",
       "      <td>500034:BOM</td>\n",
       "      <td>BAJFINANCE.BO</td>\n",
       "      <td>Bajaj Finance</td>\n",
       "      <td>Finance (NBFC)</td>\n",
       "    </tr>\n",
       "    <tr>\n",
       "      <th>4</th>\n",
       "      <td>532978:BOM</td>\n",
       "      <td>BAJAJFINSV.BO</td>\n",
       "      <td>Bajaj Finserv</td>\n",
       "      <td>Finance (Investment)</td>\n",
       "    </tr>\n",
       "  </tbody>\n",
       "</table>\n",
       "</div>"
      ],
      "text/plain": [
       "  Exchange ticker         Symbol      Companies                Sector\n",
       "0      500820:BOM  ASIANPAINT.BO   Asian Paints                Paints\n",
       "1      532215:BOM    AXISBANK.BO      Axis Bank     Banking - Private\n",
       "2      532977:BOM  BAJAJ-AUTO.BO     Bajaj Auto            Automobile\n",
       "3      500034:BOM  BAJFINANCE.BO  Bajaj Finance        Finance (NBFC)\n",
       "4      532978:BOM  BAJAJFINSV.BO  Bajaj Finserv  Finance (Investment)"
      ]
     },
     "execution_count": 78,
     "metadata": {},
     "output_type": "execute_result"
    }
   ],
   "source": [
    "BSE_SENSEX_Ticker_df['Exchange ticker'] = BSE_SENSEX_Ticker_df['Exchange ticker'].astype(str) + ':BOM'\n",
    "BSE_SENSEX_Ticker_df.head()"
   ]
  },
  {
   "cell_type": "code",
   "execution_count": 79,
   "metadata": {},
   "outputs": [],
   "source": [
    "BSE_SENSEX_Ticker_df.to_csv('BSE_SENSEX_Ticker.csv')"
   ]
  },
  {
   "cell_type": "markdown",
   "metadata": {},
   "source": [
    "### BSE_Ticker_Top100"
   ]
  },
  {
   "cell_type": "code",
   "execution_count": 29,
   "metadata": {},
   "outputs": [
    {
     "data": {
      "text/plain": [
       "'https://www.bseindia.com/markets/equity/eqreports/topmarketcapitalization.aspx'"
      ]
     },
     "execution_count": 29,
     "metadata": {},
     "output_type": "execute_result"
    }
   ],
   "source": [
    "BSE_Ticker_Top100_url = 'https://www.bseindia.com/markets/equity/eqreports/topmarketcapitalization.aspx'\n",
    "BSE_Ticker_Top100_url"
   ]
  },
  {
   "cell_type": "code",
   "execution_count": 30,
   "metadata": {},
   "outputs": [
    {
     "data": {
      "text/html": [
       "<div>\n",
       "<style scoped>\n",
       "    .dataframe tbody tr th:only-of-type {\n",
       "        vertical-align: middle;\n",
       "    }\n",
       "\n",
       "    .dataframe tbody tr th {\n",
       "        vertical-align: top;\n",
       "    }\n",
       "\n",
       "    .dataframe thead th {\n",
       "        text-align: right;\n",
       "    }\n",
       "</style>\n",
       "<table border=\"1\" class=\"dataframe\">\n",
       "  <thead>\n",
       "    <tr style=\"text-align: right;\">\n",
       "      <th></th>\n",
       "      <th>Ticker</th>\n",
       "      <th>Title</th>\n",
       "      <th>Close</th>\n",
       "      <th>MarketCap</th>\n",
       "    </tr>\n",
       "  </thead>\n",
       "  <tbody>\n",
       "  </tbody>\n",
       "</table>\n",
       "</div>"
      ],
      "text/plain": [
       "Empty DataFrame\n",
       "Columns: [Ticker, Title, Close, MarketCap]\n",
       "Index: []"
      ]
     },
     "execution_count": 30,
     "metadata": {},
     "output_type": "execute_result"
    }
   ],
   "source": [
    "BSE_Ticker_Top100_data = []\n",
    "BSE_Ticker_Top100_df = pd.DataFrame(BSE_Ticker_Top100_data, columns=['Ticker', 'Title', 'Close', 'MarketCap'])\n",
    "BSE_Ticker_Top100_df"
   ]
  },
  {
   "cell_type": "code",
   "execution_count": 31,
   "metadata": {},
   "outputs": [],
   "source": [
    "temp_df1 = pd.read_clipboard()"
   ]
  },
  {
   "cell_type": "code",
   "execution_count": 32,
   "metadata": {},
   "outputs": [],
   "source": [
    "temp_df2 = pd.read_clipboard()"
   ]
  },
  {
   "cell_type": "code",
   "execution_count": 34,
   "metadata": {},
   "outputs": [
    {
     "data": {
      "text/html": [
       "<div>\n",
       "<style scoped>\n",
       "    .dataframe tbody tr th:only-of-type {\n",
       "        vertical-align: middle;\n",
       "    }\n",
       "\n",
       "    .dataframe tbody tr th {\n",
       "        vertical-align: top;\n",
       "    }\n",
       "\n",
       "    .dataframe thead th {\n",
       "        text-align: right;\n",
       "    }\n",
       "</style>\n",
       "<table border=\"1\" class=\"dataframe\">\n",
       "  <thead>\n",
       "    <tr style=\"text-align: right;\">\n",
       "      <th></th>\n",
       "      <th>500096</th>\n",
       "      <th>DABUR INDIA LTD.</th>\n",
       "      <th>516.95</th>\n",
       "      <th>91389.34</th>\n",
       "    </tr>\n",
       "  </thead>\n",
       "  <tbody>\n",
       "    <tr>\n",
       "      <th>44</th>\n",
       "      <td>543287</td>\n",
       "      <td>Macrotech Developers Ltd</td>\n",
       "      <td>1001.95</td>\n",
       "      <td>48254.06</td>\n",
       "    </tr>\n",
       "    <tr>\n",
       "      <th>45</th>\n",
       "      <td>540180</td>\n",
       "      <td>Varun Beverages Ltd</td>\n",
       "      <td>1109.15</td>\n",
       "      <td>48029.86</td>\n",
       "    </tr>\n",
       "    <tr>\n",
       "      <th>46</th>\n",
       "      <td>500420</td>\n",
       "      <td>TORRENT PHARMACEUTICALS LTD.</td>\n",
       "      <td>2816.30</td>\n",
       "      <td>47658.19</td>\n",
       "    </tr>\n",
       "    <tr>\n",
       "      <th>47</th>\n",
       "      <td>526299</td>\n",
       "      <td>MPHASIS LTD.</td>\n",
       "      <td>2531.95</td>\n",
       "      <td>47586.77</td>\n",
       "    </tr>\n",
       "    <tr>\n",
       "      <th>48</th>\n",
       "      <td>543245</td>\n",
       "      <td>Gland Pharma Ltd</td>\n",
       "      <td>2806.65</td>\n",
       "      <td>46190.87</td>\n",
       "    </tr>\n",
       "  </tbody>\n",
       "</table>\n",
       "</div>"
      ],
      "text/plain": [
       "    500096              DABUR INDIA LTD.   516.95  91389.34\n",
       "44  543287      Macrotech Developers Ltd  1001.95  48254.06\n",
       "45  540180           Varun Beverages Ltd  1109.15  48029.86\n",
       "46  500420  TORRENT PHARMACEUTICALS LTD.  2816.30  47658.19\n",
       "47  526299                  MPHASIS LTD.  2531.95  47586.77\n",
       "48  543245              Gland Pharma Ltd  2806.65  46190.87"
      ]
     },
     "execution_count": 34,
     "metadata": {},
     "output_type": "execute_result"
    }
   ],
   "source": [
    "temp_df2.tail()"
   ]
  },
  {
   "cell_type": "code",
   "execution_count": 35,
   "metadata": {},
   "outputs": [],
   "source": [
    "column=['Ticker', 'Title', 'Close', 'MarketCap']"
   ]
  },
  {
   "cell_type": "code",
   "execution_count": 36,
   "metadata": {},
   "outputs": [
    {
     "data": {
      "text/html": [
       "<div>\n",
       "<style scoped>\n",
       "    .dataframe tbody tr th:only-of-type {\n",
       "        vertical-align: middle;\n",
       "    }\n",
       "\n",
       "    .dataframe tbody tr th {\n",
       "        vertical-align: top;\n",
       "    }\n",
       "\n",
       "    .dataframe thead th {\n",
       "        text-align: right;\n",
       "    }\n",
       "</style>\n",
       "<table border=\"1\" class=\"dataframe\">\n",
       "  <thead>\n",
       "    <tr style=\"text-align: right;\">\n",
       "      <th></th>\n",
       "      <th>Ticker</th>\n",
       "      <th>Title</th>\n",
       "      <th>Close</th>\n",
       "      <th>MarketCap</th>\n",
       "    </tr>\n",
       "  </thead>\n",
       "  <tbody>\n",
       "    <tr>\n",
       "      <th>0</th>\n",
       "      <td>500325</td>\n",
       "      <td>RELIANCE INDUSTRIES LTD.</td>\n",
       "      <td>2632.20</td>\n",
       "      <td>1780701.03</td>\n",
       "    </tr>\n",
       "    <tr>\n",
       "      <th>1</th>\n",
       "      <td>532540</td>\n",
       "      <td>TATA CONSULTANCY SERVICES LTD.</td>\n",
       "      <td>3356.5</td>\n",
       "      <td>1228160.59</td>\n",
       "    </tr>\n",
       "    <tr>\n",
       "      <th>2</th>\n",
       "      <td>500180</td>\n",
       "      <td>HDFC Bank Ltd</td>\n",
       "      <td>1396.3</td>\n",
       "      <td>775225.66</td>\n",
       "    </tr>\n",
       "    <tr>\n",
       "      <th>3</th>\n",
       "      <td>500209</td>\n",
       "      <td>INFOSYS LTD.</td>\n",
       "      <td>1478.9</td>\n",
       "      <td>622238.94</td>\n",
       "    </tr>\n",
       "    <tr>\n",
       "      <th>4</th>\n",
       "      <td>500696</td>\n",
       "      <td>HINDUSTAN UNILEVER LTD.</td>\n",
       "      <td>2308.7</td>\n",
       "      <td>542450.13</td>\n",
       "    </tr>\n",
       "  </tbody>\n",
       "</table>\n",
       "</div>"
      ],
      "text/plain": [
       "   Ticker                           Title    Close   MarketCap\n",
       "0  500325        RELIANCE INDUSTRIES LTD.  2632.20  1780701.03\n",
       "1  532540  TATA CONSULTANCY SERVICES LTD.   3356.5  1228160.59\n",
       "2  500180                   HDFC Bank Ltd   1396.3   775225.66\n",
       "3  500209                    INFOSYS LTD.   1478.9   622238.94\n",
       "4  500696         HINDUSTAN UNILEVER LTD.   2308.7   542450.13"
      ]
     },
     "execution_count": 36,
     "metadata": {},
     "output_type": "execute_result"
    }
   ],
   "source": [
    "temp_df1 = temp_df1.T.reset_index(drop=False).T.reset_index(drop=True)\n",
    "temp_df1.columns = column\n",
    "temp_df1.head()"
   ]
  },
  {
   "cell_type": "code",
   "execution_count": 37,
   "metadata": {},
   "outputs": [
    {
     "data": {
      "text/html": [
       "<div>\n",
       "<style scoped>\n",
       "    .dataframe tbody tr th:only-of-type {\n",
       "        vertical-align: middle;\n",
       "    }\n",
       "\n",
       "    .dataframe tbody tr th {\n",
       "        vertical-align: top;\n",
       "    }\n",
       "\n",
       "    .dataframe thead th {\n",
       "        text-align: right;\n",
       "    }\n",
       "</style>\n",
       "<table border=\"1\" class=\"dataframe\">\n",
       "  <thead>\n",
       "    <tr style=\"text-align: right;\">\n",
       "      <th></th>\n",
       "      <th>Ticker</th>\n",
       "      <th>Title</th>\n",
       "      <th>Close</th>\n",
       "      <th>MarketCap</th>\n",
       "    </tr>\n",
       "  </thead>\n",
       "  <tbody>\n",
       "    <tr>\n",
       "      <th>0</th>\n",
       "      <td>500096</td>\n",
       "      <td>DABUR INDIA LTD.</td>\n",
       "      <td>516.95</td>\n",
       "      <td>91389.34</td>\n",
       "    </tr>\n",
       "    <tr>\n",
       "      <th>1</th>\n",
       "      <td>500550</td>\n",
       "      <td>SIEMENS LTD.</td>\n",
       "      <td>2419.4</td>\n",
       "      <td>86159.73</td>\n",
       "    </tr>\n",
       "    <tr>\n",
       "      <th>2</th>\n",
       "      <td>500825</td>\n",
       "      <td>BRITANNIA INDUSTRIES LTD.</td>\n",
       "      <td>3551.5</td>\n",
       "      <td>85544.38</td>\n",
       "    </tr>\n",
       "    <tr>\n",
       "      <th>3</th>\n",
       "      <td>543458</td>\n",
       "      <td>Adani Wilmar Ltd</td>\n",
       "      <td>644.95</td>\n",
       "      <td>83822.77</td>\n",
       "    </tr>\n",
       "    <tr>\n",
       "      <th>4</th>\n",
       "      <td>532868</td>\n",
       "      <td>DLF LTD.</td>\n",
       "      <td>337.0</td>\n",
       "      <td>83418.0</td>\n",
       "    </tr>\n",
       "  </tbody>\n",
       "</table>\n",
       "</div>"
      ],
      "text/plain": [
       "   Ticker                      Title   Close MarketCap\n",
       "0  500096           DABUR INDIA LTD.  516.95  91389.34\n",
       "1  500550               SIEMENS LTD.  2419.4  86159.73\n",
       "2  500825  BRITANNIA INDUSTRIES LTD.  3551.5  85544.38\n",
       "3  543458           Adani Wilmar Ltd  644.95  83822.77\n",
       "4  532868                   DLF LTD.   337.0   83418.0"
      ]
     },
     "execution_count": 37,
     "metadata": {},
     "output_type": "execute_result"
    }
   ],
   "source": [
    "temp_df2 = temp_df2.T.reset_index(drop=False).T.reset_index(drop=True)\n",
    "temp_df2.columns = column\n",
    "temp_df2.head()"
   ]
  },
  {
   "cell_type": "code",
   "execution_count": 38,
   "metadata": {},
   "outputs": [
    {
     "data": {
      "text/html": [
       "<div>\n",
       "<style scoped>\n",
       "    .dataframe tbody tr th:only-of-type {\n",
       "        vertical-align: middle;\n",
       "    }\n",
       "\n",
       "    .dataframe tbody tr th {\n",
       "        vertical-align: top;\n",
       "    }\n",
       "\n",
       "    .dataframe thead th {\n",
       "        text-align: right;\n",
       "    }\n",
       "</style>\n",
       "<table border=\"1\" class=\"dataframe\">\n",
       "  <thead>\n",
       "    <tr style=\"text-align: right;\">\n",
       "      <th></th>\n",
       "      <th>Ticker</th>\n",
       "      <th>Title</th>\n",
       "      <th>Close</th>\n",
       "      <th>MarketCap</th>\n",
       "    </tr>\n",
       "  </thead>\n",
       "  <tbody>\n",
       "    <tr>\n",
       "      <th>45</th>\n",
       "      <td>543287</td>\n",
       "      <td>Macrotech Developers Ltd</td>\n",
       "      <td>1001.95</td>\n",
       "      <td>48254.06</td>\n",
       "    </tr>\n",
       "    <tr>\n",
       "      <th>46</th>\n",
       "      <td>540180</td>\n",
       "      <td>Varun Beverages Ltd</td>\n",
       "      <td>1109.15</td>\n",
       "      <td>48029.86</td>\n",
       "    </tr>\n",
       "    <tr>\n",
       "      <th>47</th>\n",
       "      <td>500420</td>\n",
       "      <td>TORRENT PHARMACEUTICALS LTD.</td>\n",
       "      <td>2816.3</td>\n",
       "      <td>47658.19</td>\n",
       "    </tr>\n",
       "    <tr>\n",
       "      <th>48</th>\n",
       "      <td>526299</td>\n",
       "      <td>MPHASIS LTD.</td>\n",
       "      <td>2531.95</td>\n",
       "      <td>47586.77</td>\n",
       "    </tr>\n",
       "    <tr>\n",
       "      <th>49</th>\n",
       "      <td>543245</td>\n",
       "      <td>Gland Pharma Ltd</td>\n",
       "      <td>2806.65</td>\n",
       "      <td>46190.87</td>\n",
       "    </tr>\n",
       "  </tbody>\n",
       "</table>\n",
       "</div>"
      ],
      "text/plain": [
       "    Ticker                         Title    Close MarketCap\n",
       "45  543287      Macrotech Developers Ltd  1001.95  48254.06\n",
       "46  540180           Varun Beverages Ltd  1109.15  48029.86\n",
       "47  500420  TORRENT PHARMACEUTICALS LTD.   2816.3  47658.19\n",
       "48  526299                  MPHASIS LTD.  2531.95  47586.77\n",
       "49  543245              Gland Pharma Ltd  2806.65  46190.87"
      ]
     },
     "execution_count": 38,
     "metadata": {},
     "output_type": "execute_result"
    }
   ],
   "source": [
    "temp_df2.tail()"
   ]
  },
  {
   "cell_type": "code",
   "execution_count": 39,
   "metadata": {},
   "outputs": [
    {
     "data": {
      "text/html": [
       "<div>\n",
       "<style scoped>\n",
       "    .dataframe tbody tr th:only-of-type {\n",
       "        vertical-align: middle;\n",
       "    }\n",
       "\n",
       "    .dataframe tbody tr th {\n",
       "        vertical-align: top;\n",
       "    }\n",
       "\n",
       "    .dataframe thead th {\n",
       "        text-align: right;\n",
       "    }\n",
       "</style>\n",
       "<table border=\"1\" class=\"dataframe\">\n",
       "  <thead>\n",
       "    <tr style=\"text-align: right;\">\n",
       "      <th></th>\n",
       "      <th>Ticker</th>\n",
       "      <th>Title</th>\n",
       "      <th>Close</th>\n",
       "      <th>MarketCap</th>\n",
       "    </tr>\n",
       "  </thead>\n",
       "  <tbody>\n",
       "  </tbody>\n",
       "</table>\n",
       "</div>"
      ],
      "text/plain": [
       "Empty DataFrame\n",
       "Columns: [Ticker, Title, Close, MarketCap]\n",
       "Index: []"
      ]
     },
     "execution_count": 39,
     "metadata": {},
     "output_type": "execute_result"
    }
   ],
   "source": [
    "BSE_Ticker_Top100_df"
   ]
  },
  {
   "cell_type": "code",
   "execution_count": null,
   "metadata": {},
   "outputs": [],
   "source": [
    "frames = [temp_df1,temp_df2]\n",
    "BSE_Ticker_Top100_df = pd.concat(frames).reset_index(drop=True)"
   ]
  },
  {
   "cell_type": "code",
   "execution_count": 71,
   "metadata": {},
   "outputs": [
    {
     "data": {
      "text/html": [
       "<div>\n",
       "<style scoped>\n",
       "    .dataframe tbody tr th:only-of-type {\n",
       "        vertical-align: middle;\n",
       "    }\n",
       "\n",
       "    .dataframe tbody tr th {\n",
       "        vertical-align: top;\n",
       "    }\n",
       "\n",
       "    .dataframe thead th {\n",
       "        text-align: right;\n",
       "    }\n",
       "</style>\n",
       "<table border=\"1\" class=\"dataframe\">\n",
       "  <thead>\n",
       "    <tr style=\"text-align: right;\">\n",
       "      <th></th>\n",
       "      <th>Ticker</th>\n",
       "      <th>Title</th>\n",
       "      <th>Close</th>\n",
       "      <th>MarketCap</th>\n",
       "    </tr>\n",
       "  </thead>\n",
       "  <tbody>\n",
       "    <tr>\n",
       "      <th>95</th>\n",
       "      <td>543287</td>\n",
       "      <td>Macrotech Developers Ltd</td>\n",
       "      <td>1001.95</td>\n",
       "      <td>48254.06</td>\n",
       "    </tr>\n",
       "    <tr>\n",
       "      <th>96</th>\n",
       "      <td>540180</td>\n",
       "      <td>Varun Beverages Ltd</td>\n",
       "      <td>1109.15</td>\n",
       "      <td>48029.86</td>\n",
       "    </tr>\n",
       "    <tr>\n",
       "      <th>97</th>\n",
       "      <td>500420</td>\n",
       "      <td>TORRENT PHARMACEUTICALS LTD.</td>\n",
       "      <td>2816.3</td>\n",
       "      <td>47658.19</td>\n",
       "    </tr>\n",
       "    <tr>\n",
       "      <th>98</th>\n",
       "      <td>526299</td>\n",
       "      <td>MPHASIS LTD.</td>\n",
       "      <td>2531.95</td>\n",
       "      <td>47586.77</td>\n",
       "    </tr>\n",
       "    <tr>\n",
       "      <th>99</th>\n",
       "      <td>543245</td>\n",
       "      <td>Gland Pharma Ltd</td>\n",
       "      <td>2806.65</td>\n",
       "      <td>46190.87</td>\n",
       "    </tr>\n",
       "  </tbody>\n",
       "</table>\n",
       "</div>"
      ],
      "text/plain": [
       "    Ticker                         Title    Close MarketCap\n",
       "95  543287      Macrotech Developers Ltd  1001.95  48254.06\n",
       "96  540180           Varun Beverages Ltd  1109.15  48029.86\n",
       "97  500420  TORRENT PHARMACEUTICALS LTD.   2816.3  47658.19\n",
       "98  526299                  MPHASIS LTD.  2531.95  47586.77\n",
       "99  543245              Gland Pharma Ltd  2806.65  46190.87"
      ]
     },
     "execution_count": 71,
     "metadata": {},
     "output_type": "execute_result"
    }
   ],
   "source": [
    "# '\\n'.join(temp_df0)\n",
    "# '\\n'.join(map(str, mylist))\n",
    "BSE_Ticker_Top100_df.tail()"
   ]
  },
  {
   "cell_type": "code",
   "execution_count": 72,
   "metadata": {},
   "outputs": [
    {
     "data": {
      "text/html": [
       "<div>\n",
       "<style scoped>\n",
       "    .dataframe tbody tr th:only-of-type {\n",
       "        vertical-align: middle;\n",
       "    }\n",
       "\n",
       "    .dataframe tbody tr th {\n",
       "        vertical-align: top;\n",
       "    }\n",
       "\n",
       "    .dataframe thead th {\n",
       "        text-align: right;\n",
       "    }\n",
       "</style>\n",
       "<table border=\"1\" class=\"dataframe\">\n",
       "  <thead>\n",
       "    <tr style=\"text-align: right;\">\n",
       "      <th></th>\n",
       "      <th>Ticker</th>\n",
       "      <th>Title</th>\n",
       "      <th>Close</th>\n",
       "      <th>MarketCap</th>\n",
       "    </tr>\n",
       "  </thead>\n",
       "  <tbody>\n",
       "    <tr>\n",
       "      <th>0</th>\n",
       "      <td>500325:BOM</td>\n",
       "      <td>RELIANCE INDUSTRIES LTD.</td>\n",
       "      <td>2632.20</td>\n",
       "      <td>1780701.03</td>\n",
       "    </tr>\n",
       "    <tr>\n",
       "      <th>1</th>\n",
       "      <td>532540:BOM</td>\n",
       "      <td>TATA CONSULTANCY SERVICES LTD.</td>\n",
       "      <td>3356.5</td>\n",
       "      <td>1228160.59</td>\n",
       "    </tr>\n",
       "    <tr>\n",
       "      <th>2</th>\n",
       "      <td>500180:BOM</td>\n",
       "      <td>HDFC Bank Ltd</td>\n",
       "      <td>1396.3</td>\n",
       "      <td>775225.66</td>\n",
       "    </tr>\n",
       "    <tr>\n",
       "      <th>3</th>\n",
       "      <td>500209:BOM</td>\n",
       "      <td>INFOSYS LTD.</td>\n",
       "      <td>1478.9</td>\n",
       "      <td>622238.94</td>\n",
       "    </tr>\n",
       "    <tr>\n",
       "      <th>4</th>\n",
       "      <td>500696:BOM</td>\n",
       "      <td>HINDUSTAN UNILEVER LTD.</td>\n",
       "      <td>2308.7</td>\n",
       "      <td>542450.13</td>\n",
       "    </tr>\n",
       "  </tbody>\n",
       "</table>\n",
       "</div>"
      ],
      "text/plain": [
       "       Ticker                           Title    Close   MarketCap\n",
       "0  500325:BOM        RELIANCE INDUSTRIES LTD.  2632.20  1780701.03\n",
       "1  532540:BOM  TATA CONSULTANCY SERVICES LTD.   3356.5  1228160.59\n",
       "2  500180:BOM                   HDFC Bank Ltd   1396.3   775225.66\n",
       "3  500209:BOM                    INFOSYS LTD.   1478.9   622238.94\n",
       "4  500696:BOM         HINDUSTAN UNILEVER LTD.   2308.7   542450.13"
      ]
     },
     "execution_count": 72,
     "metadata": {},
     "output_type": "execute_result"
    }
   ],
   "source": [
    "BSE_Ticker_Top100_df['Ticker'] = BSE_Ticker_Top100_df['Ticker'].astype(str) + ':BOM'\n",
    "BSE_Ticker_Top100_df.head()"
   ]
  },
  {
   "cell_type": "code",
   "execution_count": 73,
   "metadata": {},
   "outputs": [],
   "source": [
    "BSE_Ticker_Top100_df.to_csv('BSE_Ticker_Top100.csv')"
   ]
  },
  {
   "cell_type": "markdown",
   "metadata": {},
   "source": [
    "### S&J 500"
   ]
  },
  {
   "cell_type": "code",
   "execution_count": 95,
   "metadata": {},
   "outputs": [],
   "source": [
    "# SandP500_url = 'https://datahub.io/core/s-and-p-500-companies'\n",
    "SandP500_url = 'https://datahub.io/core/s-and-p-500-companies/r/0.html'"
   ]
  },
  {
   "cell_type": "code",
   "execution_count": 176,
   "metadata": {},
   "outputs": [],
   "source": [
    "S_J_500 = pd.read_clipboard()"
   ]
  },
  {
   "cell_type": "code",
   "execution_count": 177,
   "metadata": {},
   "outputs": [
    {
     "data": {
      "text/html": [
       "<div>\n",
       "<style scoped>\n",
       "    .dataframe tbody tr th:only-of-type {\n",
       "        vertical-align: middle;\n",
       "    }\n",
       "\n",
       "    .dataframe tbody tr th {\n",
       "        vertical-align: top;\n",
       "    }\n",
       "\n",
       "    .dataframe thead th {\n",
       "        text-align: right;\n",
       "    }\n",
       "</style>\n",
       "<table border=\"1\" class=\"dataframe\">\n",
       "  <thead>\n",
       "    <tr style=\"text-align: right;\">\n",
       "      <th></th>\n",
       "      <th>Symbol</th>\n",
       "      <th>Name</th>\n",
       "      <th>Sector</th>\n",
       "    </tr>\n",
       "  </thead>\n",
       "  <tbody>\n",
       "    <tr>\n",
       "      <th>0</th>\n",
       "      <td>MMM:NYSE</td>\n",
       "      <td>3M</td>\n",
       "      <td>Industrials</td>\n",
       "    </tr>\n",
       "    <tr>\n",
       "      <th>1</th>\n",
       "      <td>AOS:NYSE</td>\n",
       "      <td>A. O. Smith</td>\n",
       "      <td>Industrials</td>\n",
       "    </tr>\n",
       "    <tr>\n",
       "      <th>2</th>\n",
       "      <td>ABT:NYSE</td>\n",
       "      <td>Abbott Laboratories</td>\n",
       "      <td>Health Care</td>\n",
       "    </tr>\n",
       "    <tr>\n",
       "      <th>3</th>\n",
       "      <td>ABBV:NYSE</td>\n",
       "      <td>AbbVie</td>\n",
       "      <td>Health Care</td>\n",
       "    </tr>\n",
       "    <tr>\n",
       "      <th>4</th>\n",
       "      <td>ABMD:NYSE</td>\n",
       "      <td>Abiomed</td>\n",
       "      <td>Health Care</td>\n",
       "    </tr>\n",
       "  </tbody>\n",
       "</table>\n",
       "</div>"
      ],
      "text/plain": [
       "      Symbol                 Name       Sector\n",
       "0   MMM:NYSE                   3M  Industrials\n",
       "1   AOS:NYSE          A. O. Smith  Industrials\n",
       "2   ABT:NYSE  Abbott Laboratories  Health Care\n",
       "3  ABBV:NYSE               AbbVie  Health Care\n",
       "4  ABMD:NYSE              Abiomed  Health Care"
      ]
     },
     "execution_count": 177,
     "metadata": {},
     "output_type": "execute_result"
    }
   ],
   "source": [
    "S_J_500 = S_J_500.T.reset_index(drop=False).T.reset_index(drop=True)\n",
    "S_J_500.columns = ['Symbol','Name','Sector']\n",
    "S_J_500['Symbol'] = S_J_500['Symbol'].astype(str) + ':NYSE'\n",
    "S_J_500.head()"
   ]
  },
  {
   "cell_type": "code",
   "execution_count": 178,
   "metadata": {},
   "outputs": [],
   "source": [
    "S_J_500.to_csv('S&J_500_Tickers.csv')"
   ]
  },
  {
   "cell_type": "markdown",
   "metadata": {},
   "source": [
    "# Portfolio"
   ]
  },
  {
   "cell_type": "code",
   "execution_count": 14,
   "metadata": {},
   "outputs": [],
   "source": [
    "# TickersList\t    \t| CSV                           | Ticker_Column_Ref\n",
    "# ------------------------------------------------------------------------------------------------\n",
    "# NSE_All_Listed        | NSE_All_Listed_Tickers.csv    | NSE_Listed_Tickers_df['Symbol']\n",
    "# Nift_50\t\t\t    | Nift_50_Tickers.csv           | Nift_50_Tickers_df['Symbol']\n",
    "# NIFTY_Next_50\t\t    | NIFTY_Next_50_Ticker.CSV      | NIFTY_Next_50_df['Symbol']\n",
    "# BSE_SENSEX \t\t    | BSE_SENSEX_Ticker.csv         | BSE_SENSEX_Ticker_df['Exchange ticker']\n",
    "# BSE_Ticker_Top100\t    | BSE_Ticker_Top100.csv         | BSE_Ticker_Top100_df['Ticker']\n",
    "# S&J_500 \t    \t    | S&J_500_Tickers.csv           | S_J_500['Symbol']\n",
    "# ------------------------------------------------------------------------------------------------"
   ]
  },
  {
   "cell_type": "markdown",
   "metadata": {},
   "source": [
    "### NSE_All_Listed Execution"
   ]
  },
  {
   "cell_type": "code",
   "execution_count": 172,
   "metadata": {},
   "outputs": [
    {
     "data": {
      "text/plain": [
       "1807"
      ]
     },
     "execution_count": 172,
     "metadata": {},
     "output_type": "execute_result"
    }
   ],
   "source": [
    "len(NSE_Listed_Tickers_df['Symbol'])"
   ]
  },
  {
   "cell_type": "code",
   "execution_count": 173,
   "metadata": {},
   "outputs": [
    {
     "data": {
      "text/plain": [
       "'20MICRONS:NSE'"
      ]
     },
     "execution_count": 173,
     "metadata": {},
     "output_type": "execute_result"
    }
   ],
   "source": [
    "NSE_Listed_Tickers_df['Symbol'][0]"
   ]
  },
  {
   "cell_type": "code",
   "execution_count": 108,
   "metadata": {},
   "outputs": [],
   "source": [
    "symbol = '20MICRONS:NSE'"
   ]
  },
  {
   "cell_type": "code",
   "execution_count": 109,
   "metadata": {},
   "outputs": [
    {
     "ename": "NameError",
     "evalue": "name 'gf_sec_scrape' is not defined",
     "output_type": "error",
     "traceback": [
      "\u001b[1;31m---------------------------------------------------------------------------\u001b[0m",
      "\u001b[1;31mNameError\u001b[0m                                 Traceback (most recent call last)",
      "\u001b[1;32mC:\\Users\\GANGAB~1.M\\AppData\\Local\\Temp/ipykernel_12532/1414439910.py\u001b[0m in \u001b[0;36m<module>\u001b[1;34m\u001b[0m\n\u001b[0;32m      1\u001b[0m \u001b[1;31m# symbol = NSE_Listed_Tickers_df['Symbol'][0]\u001b[0m\u001b[1;33m\u001b[0m\u001b[1;33m\u001b[0m\u001b[1;33m\u001b[0m\u001b[0m\n\u001b[1;32m----> 2\u001b[1;33m \u001b[0mschedule\u001b[0m\u001b[1;33m.\u001b[0m\u001b[0mevery\u001b[0m\u001b[1;33m(\u001b[0m\u001b[1;33m)\u001b[0m\u001b[1;33m.\u001b[0m\u001b[0mseconds\u001b[0m\u001b[1;33m.\u001b[0m\u001b[0mdo\u001b[0m\u001b[1;33m(\u001b[0m\u001b[0mgf_sec_scrape\u001b[0m\u001b[1;33m)\u001b[0m\u001b[1;33m\u001b[0m\u001b[1;33m\u001b[0m\u001b[0m\n\u001b[0m\u001b[0;32m      3\u001b[0m \u001b[1;32mtry\u001b[0m\u001b[1;33m:\u001b[0m\u001b[1;33m\u001b[0m\u001b[1;33m\u001b[0m\u001b[0m\n\u001b[0;32m      4\u001b[0m     \u001b[1;32mwhile\u001b[0m \u001b[1;32mTrue\u001b[0m\u001b[1;33m:\u001b[0m\u001b[1;33m\u001b[0m\u001b[1;33m\u001b[0m\u001b[0m\n\u001b[0;32m      5\u001b[0m         \u001b[0mschedule\u001b[0m\u001b[1;33m.\u001b[0m\u001b[0mrun_pending\u001b[0m\u001b[1;33m(\u001b[0m\u001b[1;33m)\u001b[0m\u001b[1;33m\u001b[0m\u001b[1;33m\u001b[0m\u001b[0m\n",
      "\u001b[1;31mNameError\u001b[0m: name 'gf_sec_scrape' is not defined"
     ]
    }
   ],
   "source": [
    "# symbol = NSE_Listed_Tickers_df['Symbol'][0]\n",
    "schedule.every().seconds.do(gf_sec_scrape)\n",
    "try:\n",
    "    while True:\n",
    "        schedule.run_pending()\n",
    "except KeyboardInterrupt:\n",
    "    pass"
   ]
  },
  {
   "cell_type": "markdown",
   "metadata": {},
   "source": [
    "### Nift_50 Execution"
   ]
  },
  {
   "cell_type": "code",
   "execution_count": 180,
   "metadata": {},
   "outputs": [
    {
     "data": {
      "text/plain": [
       "50"
      ]
     },
     "execution_count": 180,
     "metadata": {},
     "output_type": "execute_result"
    }
   ],
   "source": [
    "len(Nift_50_Tickers_df['Symbol'])"
   ]
  },
  {
   "cell_type": "code",
   "execution_count": 181,
   "metadata": {},
   "outputs": [
    {
     "name": "stdout",
     "output_type": "stream",
     "text": [
      "{'right_panel_data': {'previous_close': '₹736.90', 'day_range': '₹730.25 - ₹741.90', 'year_range': '₹638.10 - ₹924.65', 'market_cap': '1.55T INR', 'p/e_ratio': '32.87', 'dividend_yield': '0.68%', 'primary_exchange': 'NSE', 'ceo': 'Karan Adani', 'founded': 'May 26, 1998', 'headquarters': 'India', 'website': 'adaniports.com', 'employees': '2,773'}, 'ticker_info': {'title': 'Adani Ports and Special Economic Zone Ld', 'current_price': '₹735.75'}}\n",
      "{'right_panel_data': {'previous_close': '₹736.90', 'day_range': '₹730.25 - ₹741.90', 'year_range': '₹638.10 - ₹924.65', 'market_cap': '1.55T INR', 'p/e_ratio': '32.87', 'dividend_yield': '0.68%', 'primary_exchange': 'NSE', 'ceo': 'Karan Adani', 'founded': 'May 26, 1998', 'headquarters': 'India', 'website': 'adaniports.com', 'employees': '2,773'}, 'ticker_info': {'title': 'Adani Ports and Special Economic Zone Ld', 'current_price': '₹735.75'}}\n",
      "{'right_panel_data': {'previous_close': '₹736.90', 'day_range': '₹730.25 - ₹741.90', 'year_range': '₹638.10 - ₹924.65', 'market_cap': '1.55T INR', 'p/e_ratio': '32.87', 'dividend_yield': '0.68%', 'primary_exchange': 'NSE', 'ceo': 'Karan Adani', 'founded': 'May 26, 1998', 'headquarters': 'India', 'website': 'adaniports.com', 'employees': '2,773'}, 'ticker_info': {'title': 'Adani Ports and Special Economic Zone Ld', 'current_price': '₹735.75'}}\n",
      "{'right_panel_data': {'previous_close': '₹736.90', 'day_range': '₹730.25 - ₹741.90', 'year_range': '₹638.10 - ₹924.65', 'market_cap': '1.55T INR', 'p/e_ratio': '32.87', 'dividend_yield': '0.68%', 'primary_exchange': 'NSE', 'ceo': 'Karan Adani', 'founded': 'May 26, 1998', 'headquarters': 'India', 'website': 'adaniports.com', 'employees': '2,773'}, 'ticker_info': {'title': 'Adani Ports and Special Economic Zone Ld', 'current_price': '₹735.75'}}\n"
     ]
    }
   ],
   "source": [
    "symbol = Nift_50_Tickers_df['Symbol'][0]\n",
    "schedule.every().seconds.do(gf_sec_scrape)\n",
    "try:\n",
    "    while True:\n",
    "        schedule.run_pending()\n",
    "except KeyboardInterrupt:\n",
    "    pass"
   ]
  },
  {
   "cell_type": "markdown",
   "metadata": {},
   "source": [
    "### NIFTY_Next_50 Execution"
   ]
  },
  {
   "cell_type": "code",
   "execution_count": 182,
   "metadata": {},
   "outputs": [
    {
     "data": {
      "text/plain": [
       "50"
      ]
     },
     "execution_count": 182,
     "metadata": {},
     "output_type": "execute_result"
    }
   ],
   "source": [
    "len(NIFTY_Next_50_df['Symbol'])"
   ]
  },
  {
   "cell_type": "code",
   "execution_count": 183,
   "metadata": {},
   "outputs": [
    {
     "data": {
      "text/plain": [
       "'ACC:NSE'"
      ]
     },
     "execution_count": 183,
     "metadata": {},
     "output_type": "execute_result"
    }
   ],
   "source": [
    "NIFTY_Next_50_df['Symbol'][0]"
   ]
  },
  {
   "cell_type": "code",
   "execution_count": 185,
   "metadata": {},
   "outputs": [
    {
     "data": {
      "text/html": [
       "<div>\n",
       "<style scoped>\n",
       "    .dataframe tbody tr th:only-of-type {\n",
       "        vertical-align: middle;\n",
       "    }\n",
       "\n",
       "    .dataframe tbody tr th {\n",
       "        vertical-align: top;\n",
       "    }\n",
       "\n",
       "    .dataframe thead th {\n",
       "        text-align: right;\n",
       "    }\n",
       "</style>\n",
       "<table border=\"1\" class=\"dataframe\">\n",
       "  <thead>\n",
       "    <tr style=\"text-align: right;\">\n",
       "      <th></th>\n",
       "      <th>Company Name</th>\n",
       "      <th>Symbol</th>\n",
       "      <th>Sector</th>\n",
       "    </tr>\n",
       "  </thead>\n",
       "  <tbody>\n",
       "    <tr>\n",
       "      <th>0</th>\n",
       "      <td>ACC</td>\n",
       "      <td>ACC:NSE</td>\n",
       "      <td>Cement</td>\n",
       "    </tr>\n",
       "    <tr>\n",
       "      <th>1</th>\n",
       "      <td>Adani Enterprises</td>\n",
       "      <td>ADANIENT:NSE</td>\n",
       "      <td>Metals</td>\n",
       "    </tr>\n",
       "    <tr>\n",
       "      <th>2</th>\n",
       "      <td>Adani Green Energy</td>\n",
       "      <td>ADANIGREEN:NSE</td>\n",
       "      <td>Energy - Power</td>\n",
       "    </tr>\n",
       "    <tr>\n",
       "      <th>3</th>\n",
       "      <td>Adani Transmission</td>\n",
       "      <td>ADANITRANS:NSE</td>\n",
       "      <td>Energy - Power</td>\n",
       "    </tr>\n",
       "    <tr>\n",
       "      <th>4</th>\n",
       "      <td>Ambuja Cements</td>\n",
       "      <td>AMBUJACEM:NSE</td>\n",
       "      <td>Cement</td>\n",
       "    </tr>\n",
       "  </tbody>\n",
       "</table>\n",
       "</div>"
      ],
      "text/plain": [
       "         Company Name          Symbol          Sector\n",
       "0                 ACC         ACC:NSE          Cement\n",
       "1   Adani Enterprises    ADANIENT:NSE          Metals\n",
       "2  Adani Green Energy  ADANIGREEN:NSE  Energy - Power\n",
       "3  Adani Transmission  ADANITRANS:NSE  Energy - Power\n",
       "4      Ambuja Cements   AMBUJACEM:NSE          Cement"
      ]
     },
     "execution_count": 185,
     "metadata": {},
     "output_type": "execute_result"
    }
   ],
   "source": [
    "NIFTY_Next_50_df.head()"
   ]
  },
  {
   "cell_type": "code",
   "execution_count": 186,
   "metadata": {},
   "outputs": [
    {
     "name": "stdout",
     "output_type": "stream",
     "text": [
      "{'right_panel_data': {'previous_close': '₹2,195.85', 'day_range': '₹2,186.05 - ₹2,211.65', 'year_range': '₹1,900.00 - ₹2,589.00', 'market_cap': '414.92B INR', 'p/e_ratio': '24.51', 'dividend_yield': '2.63%', 'primary_exchange': 'NSE', 'ceo': 'Sridhar Balakrishnan', 'founded': 'Aug 1, 1936', 'headquarters': 'Mumbai, India', 'website': 'acclimited.com', 'employees': '6,082'}, 'ticker_info': {'title': 'ACC Ltd', 'current_price': '₹2,209.75'}}\n",
      "{'right_panel_data': {'previous_close': '₹2,195.85', 'day_range': '₹2,186.05 - ₹2,211.65', 'year_range': '₹1,900.00 - ₹2,589.00', 'market_cap': '414.92B INR', 'p/e_ratio': '24.51', 'dividend_yield': '2.63%', 'primary_exchange': 'NSE', 'ceo': 'Sridhar Balakrishnan', 'founded': 'Aug 1, 1936', 'headquarters': 'Mumbai, India', 'website': 'acclimited.com', 'employees': '6,082'}, 'ticker_info': {'title': 'ACC Ltd', 'current_price': '₹2,209.75'}}\n",
      "{'right_panel_data': {'previous_close': '₹2,195.85', 'day_range': '₹2,186.05 - ₹2,211.65', 'year_range': '₹1,900.00 - ₹2,589.00', 'market_cap': '414.92B INR', 'p/e_ratio': '24.51', 'dividend_yield': '2.63%', 'primary_exchange': 'NSE', 'ceo': 'Sridhar Balakrishnan', 'founded': 'Aug 1, 1936', 'headquarters': 'Mumbai, India', 'website': 'acclimited.com', 'employees': '6,082'}, 'ticker_info': {'title': 'ACC Ltd', 'current_price': '₹2,209.75'}}\n"
     ]
    }
   ],
   "source": [
    "symbol = NIFTY_Next_50_df['Symbol'][0]\n",
    "schedule.every().seconds.do(gf_sec_scrape)\n",
    "try:\n",
    "    while True:\n",
    "        schedule.run_pending()\n",
    "except KeyboardInterrupt:\n",
    "    pass"
   ]
  },
  {
   "cell_type": "markdown",
   "metadata": {},
   "source": [
    "### BSE_SENSEX Execution"
   ]
  },
  {
   "cell_type": "code",
   "execution_count": 187,
   "metadata": {},
   "outputs": [
    {
     "data": {
      "text/plain": [
       "30"
      ]
     },
     "execution_count": 187,
     "metadata": {},
     "output_type": "execute_result"
    }
   ],
   "source": [
    "len(BSE_SENSEX_Ticker_df['Exchange ticker'])"
   ]
  },
  {
   "cell_type": "code",
   "execution_count": 189,
   "metadata": {},
   "outputs": [
    {
     "data": {
      "text/html": [
       "<div>\n",
       "<style scoped>\n",
       "    .dataframe tbody tr th:only-of-type {\n",
       "        vertical-align: middle;\n",
       "    }\n",
       "\n",
       "    .dataframe tbody tr th {\n",
       "        vertical-align: top;\n",
       "    }\n",
       "\n",
       "    .dataframe thead th {\n",
       "        text-align: right;\n",
       "    }\n",
       "</style>\n",
       "<table border=\"1\" class=\"dataframe\">\n",
       "  <thead>\n",
       "    <tr style=\"text-align: right;\">\n",
       "      <th></th>\n",
       "      <th>Exchange ticker</th>\n",
       "      <th>Symbol</th>\n",
       "      <th>Companies</th>\n",
       "      <th>Sector</th>\n",
       "    </tr>\n",
       "  </thead>\n",
       "  <tbody>\n",
       "    <tr>\n",
       "      <th>0</th>\n",
       "      <td>500820:BOM</td>\n",
       "      <td>ASIANPAINT.BO</td>\n",
       "      <td>Asian Paints</td>\n",
       "      <td>Paints</td>\n",
       "    </tr>\n",
       "    <tr>\n",
       "      <th>1</th>\n",
       "      <td>532215:BOM</td>\n",
       "      <td>AXISBANK.BO</td>\n",
       "      <td>Axis Bank</td>\n",
       "      <td>Banking - Private</td>\n",
       "    </tr>\n",
       "    <tr>\n",
       "      <th>2</th>\n",
       "      <td>532977:BOM</td>\n",
       "      <td>BAJAJ-AUTO.BO</td>\n",
       "      <td>Bajaj Auto</td>\n",
       "      <td>Automobile</td>\n",
       "    </tr>\n",
       "    <tr>\n",
       "      <th>3</th>\n",
       "      <td>500034:BOM</td>\n",
       "      <td>BAJFINANCE.BO</td>\n",
       "      <td>Bajaj Finance</td>\n",
       "      <td>Finance (NBFC)</td>\n",
       "    </tr>\n",
       "    <tr>\n",
       "      <th>4</th>\n",
       "      <td>532978:BOM</td>\n",
       "      <td>BAJAJFINSV.BO</td>\n",
       "      <td>Bajaj Finserv</td>\n",
       "      <td>Finance (Investment)</td>\n",
       "    </tr>\n",
       "  </tbody>\n",
       "</table>\n",
       "</div>"
      ],
      "text/plain": [
       "  Exchange ticker         Symbol      Companies                Sector\n",
       "0      500820:BOM  ASIANPAINT.BO   Asian Paints                Paints\n",
       "1      532215:BOM    AXISBANK.BO      Axis Bank     Banking - Private\n",
       "2      532977:BOM  BAJAJ-AUTO.BO     Bajaj Auto            Automobile\n",
       "3      500034:BOM  BAJFINANCE.BO  Bajaj Finance        Finance (NBFC)\n",
       "4      532978:BOM  BAJAJFINSV.BO  Bajaj Finserv  Finance (Investment)"
      ]
     },
     "execution_count": 189,
     "metadata": {},
     "output_type": "execute_result"
    }
   ],
   "source": [
    "BSE_SENSEX_Ticker_df.head()"
   ]
  },
  {
   "cell_type": "code",
   "execution_count": 190,
   "metadata": {},
   "outputs": [
    {
     "name": "stdout",
     "output_type": "stream",
     "text": [
      "{'right_panel_data': {'previous_close': '₹2,853.10', 'day_range': '₹2,849.55 - ₹2,940.40', 'year_range': '₹2,601.00 - ₹3,588.05', 'market_cap': '2.76T INR', 'p/e_ratio': '90.98', 'dividend_yield': '0.67%', 'primary_exchange': 'NSE', 'ceo': 'Amit Syngle', 'founded': '1942', 'headquarters': 'Mumbai, MaharashtraIndia', 'website': 'asianpaints.com', 'employees': '7,134'}, 'ticker_info': {'title': 'Asian Paints Ltd', 'current_price': '₹2,874.00'}}\n",
      "{'right_panel_data': {'previous_close': '₹2,853.10', 'day_range': '₹2,849.55 - ₹2,940.40', 'year_range': '₹2,601.00 - ₹3,588.05', 'market_cap': '2.76T INR', 'p/e_ratio': '90.98', 'dividend_yield': '0.67%', 'primary_exchange': 'NSE', 'ceo': 'Amit Syngle', 'founded': '1942', 'headquarters': 'Mumbai, MaharashtraIndia', 'website': 'asianpaints.com', 'employees': '7,134'}, 'ticker_info': {'title': 'Asian Paints Ltd', 'current_price': '₹2,874.00'}}\n",
      "{'right_panel_data': {'previous_close': '₹2,853.10', 'day_range': '₹2,849.55 - ₹2,940.40', 'year_range': '₹2,601.00 - ₹3,588.05', 'market_cap': '2.76T INR', 'p/e_ratio': '90.98', 'dividend_yield': '0.67%', 'primary_exchange': 'NSE', 'ceo': 'Amit Syngle', 'founded': '1942', 'headquarters': 'Mumbai, MaharashtraIndia', 'website': 'asianpaints.com', 'employees': '7,134'}, 'ticker_info': {'title': 'Asian Paints Ltd', 'current_price': '₹2,874.00'}}\n"
     ]
    }
   ],
   "source": [
    "symbol = BSE_SENSEX_Ticker_df['Exchange ticker'][0]\n",
    "schedule.every().seconds.do(gf_sec_scrape)\n",
    "try:\n",
    "    while True:\n",
    "        schedule.run_pending()\n",
    "except KeyboardInterrupt:\n",
    "    pass"
   ]
  },
  {
   "cell_type": "markdown",
   "metadata": {},
   "source": [
    "### BSE_Ticker_Top100 Execution"
   ]
  },
  {
   "cell_type": "code",
   "execution_count": 191,
   "metadata": {},
   "outputs": [
    {
     "data": {
      "text/plain": [
       "100"
      ]
     },
     "execution_count": 191,
     "metadata": {},
     "output_type": "execute_result"
    }
   ],
   "source": [
    "len(BSE_Ticker_Top100_df['Ticker'])"
   ]
  },
  {
   "cell_type": "code",
   "execution_count": 192,
   "metadata": {},
   "outputs": [
    {
     "data": {
      "text/html": [
       "<div>\n",
       "<style scoped>\n",
       "    .dataframe tbody tr th:only-of-type {\n",
       "        vertical-align: middle;\n",
       "    }\n",
       "\n",
       "    .dataframe tbody tr th {\n",
       "        vertical-align: top;\n",
       "    }\n",
       "\n",
       "    .dataframe thead th {\n",
       "        text-align: right;\n",
       "    }\n",
       "</style>\n",
       "<table border=\"1\" class=\"dataframe\">\n",
       "  <thead>\n",
       "    <tr style=\"text-align: right;\">\n",
       "      <th></th>\n",
       "      <th>Ticker</th>\n",
       "      <th>Title</th>\n",
       "      <th>Close</th>\n",
       "      <th>MarketCap</th>\n",
       "    </tr>\n",
       "  </thead>\n",
       "  <tbody>\n",
       "    <tr>\n",
       "      <th>0</th>\n",
       "      <td>500325:BOM</td>\n",
       "      <td>RELIANCE INDUSTRIES LTD.</td>\n",
       "      <td>2632.20</td>\n",
       "      <td>1780701.03</td>\n",
       "    </tr>\n",
       "    <tr>\n",
       "      <th>1</th>\n",
       "      <td>532540:BOM</td>\n",
       "      <td>TATA CONSULTANCY SERVICES LTD.</td>\n",
       "      <td>3356.5</td>\n",
       "      <td>1228160.59</td>\n",
       "    </tr>\n",
       "    <tr>\n",
       "      <th>2</th>\n",
       "      <td>500180:BOM</td>\n",
       "      <td>HDFC Bank Ltd</td>\n",
       "      <td>1396.3</td>\n",
       "      <td>775225.66</td>\n",
       "    </tr>\n",
       "    <tr>\n",
       "      <th>3</th>\n",
       "      <td>500209:BOM</td>\n",
       "      <td>INFOSYS LTD.</td>\n",
       "      <td>1478.9</td>\n",
       "      <td>622238.94</td>\n",
       "    </tr>\n",
       "    <tr>\n",
       "      <th>4</th>\n",
       "      <td>500696:BOM</td>\n",
       "      <td>HINDUSTAN UNILEVER LTD.</td>\n",
       "      <td>2308.7</td>\n",
       "      <td>542450.13</td>\n",
       "    </tr>\n",
       "  </tbody>\n",
       "</table>\n",
       "</div>"
      ],
      "text/plain": [
       "       Ticker                           Title    Close   MarketCap\n",
       "0  500325:BOM        RELIANCE INDUSTRIES LTD.  2632.20  1780701.03\n",
       "1  532540:BOM  TATA CONSULTANCY SERVICES LTD.   3356.5  1228160.59\n",
       "2  500180:BOM                   HDFC Bank Ltd   1396.3   775225.66\n",
       "3  500209:BOM                    INFOSYS LTD.   1478.9   622238.94\n",
       "4  500696:BOM         HINDUSTAN UNILEVER LTD.   2308.7   542450.13"
      ]
     },
     "execution_count": 192,
     "metadata": {},
     "output_type": "execute_result"
    }
   ],
   "source": [
    "BSE_Ticker_Top100_df.head()"
   ]
  },
  {
   "cell_type": "code",
   "execution_count": 193,
   "metadata": {},
   "outputs": [
    {
     "name": "stdout",
     "output_type": "stream",
     "text": [
      "{'right_panel_data': {'previous_close': '₹2,632.20', 'day_range': '₹2,635.65 - ₹2,712.50', 'year_range': '₹2,016.60 - ₹2,855.00', 'market_cap': '18.35T INR', 'p/e_ratio': '29.83', 'dividend_yield': '-', 'primary_exchange': 'NSE', 'ceo': 'Mukesh Ambani', 'founded': 'May 8, 1973', 'headquarters': 'Mumbai, MaharashtraIndia', 'website': 'ril.com', 'employees': '236,334'}, 'ticker_info': {'title': 'Reliance Industries Ltd', 'current_price': '₹2,710.00'}}\n",
      "{'right_panel_data': {'previous_close': '₹2,632.20', 'day_range': '₹2,635.65 - ₹2,712.50', 'year_range': '₹2,016.60 - ₹2,855.00', 'market_cap': '18.35T INR', 'p/e_ratio': '29.83', 'dividend_yield': '-', 'primary_exchange': 'NSE', 'ceo': 'Mukesh Ambani', 'founded': 'May 8, 1973', 'headquarters': 'Mumbai, MaharashtraIndia', 'website': 'ril.com', 'employees': '236,334'}, 'ticker_info': {'title': 'Reliance Industries Ltd', 'current_price': '₹2,710.00'}}\n",
      "{'right_panel_data': {'previous_close': '₹2,632.20', 'day_range': '₹2,635.65 - ₹2,712.50', 'year_range': '₹2,016.60 - ₹2,855.00', 'market_cap': '18.35T INR', 'p/e_ratio': '29.83', 'dividend_yield': '-', 'primary_exchange': 'NSE', 'ceo': 'Mukesh Ambani', 'founded': 'May 8, 1973', 'headquarters': 'Mumbai, MaharashtraIndia', 'website': 'ril.com', 'employees': '236,334'}, 'ticker_info': {'title': 'Reliance Industries Ltd', 'current_price': '₹2,710.00'}}\n"
     ]
    }
   ],
   "source": [
    "symbol = BSE_Ticker_Top100_df['Ticker'][0]\n",
    "schedule.every().seconds.do(gf_sec_scrape)\n",
    "try:\n",
    "    while True:\n",
    "        schedule.run_pending()\n",
    "except KeyboardInterrupt:\n",
    "    pass"
   ]
  },
  {
   "cell_type": "markdown",
   "metadata": {},
   "source": [
    "### S&J_500 Execution"
   ]
  },
  {
   "cell_type": "code",
   "execution_count": 177,
   "metadata": {},
   "outputs": [],
   "source": [
    "S_J_500 =pd.read_csv('E:\\Stock Market\\S&J_500_Tickers.csv')"
   ]
  },
  {
   "cell_type": "code",
   "execution_count": 178,
   "metadata": {},
   "outputs": [
    {
     "data": {
      "text/plain": [
       "505"
      ]
     },
     "execution_count": 178,
     "metadata": {},
     "output_type": "execute_result"
    }
   ],
   "source": [
    "len(S_J_500['Symbol'])"
   ]
  },
  {
   "cell_type": "code",
   "execution_count": 179,
   "metadata": {},
   "outputs": [
    {
     "data": {
      "text/plain": [
       "'ZTS:NYSE'"
      ]
     },
     "execution_count": 179,
     "metadata": {},
     "output_type": "execute_result"
    }
   ],
   "source": [
    "S_J_500['Symbol'][504]"
   ]
  },
  {
   "cell_type": "code",
   "execution_count": null,
   "metadata": {},
   "outputs": [],
   "source": [
    "symbol = S_J_500['Symbol'][504]\n",
    "schedule.every().seconds.do(gf_sec_scrape)\n",
    "try:\n",
    "    while True:\n",
    "        schedule.run_pending()\n",
    "except KeyboardInterrupt:\n",
    "    pass"
   ]
  },
  {
   "cell_type": "markdown",
   "metadata": {},
   "source": [
    "# Sublevel Extraction"
   ]
  },
  {
   "cell_type": "markdown",
   "metadata": {},
   "source": [
    "### Trial 1"
   ]
  },
  {
   "cell_type": "code",
   "execution_count": 1,
   "metadata": {},
   "outputs": [],
   "source": [
    "import pandas as pd\n",
    "from bs4 import BeautifulSoup\n",
    "import requests, lxml, json\n",
    "from itertools import zip_longest\n",
    "import schedule\n",
    "import time"
   ]
  },
  {
   "cell_type": "code",
   "execution_count": 2,
   "metadata": {},
   "outputs": [],
   "source": [
    "BSE_Ticker_Top100_df =pd.read_csv('E:\\Stock Market\\BSE_Ticker_Top100.csv')"
   ]
  },
  {
   "cell_type": "code",
   "execution_count": 3,
   "metadata": {},
   "outputs": [
    {
     "data": {
      "text/plain": [
       "Index(['Unnamed: 0', 'Ticker', 'Title', 'Close', 'MarketCap'], dtype='object')"
      ]
     },
     "execution_count": 3,
     "metadata": {},
     "output_type": "execute_result"
    }
   ],
   "source": [
    "BSE_Ticker_Top100_df.columns"
   ]
  },
  {
   "cell_type": "code",
   "execution_count": 4,
   "metadata": {},
   "outputs": [],
   "source": [
    "symbol = BSE_Ticker_Top100_df['Ticker'][0]"
   ]
  },
  {
   "cell_type": "code",
   "execution_count": 5,
   "metadata": {},
   "outputs": [
    {
     "data": {
      "text/html": [
       "<div>\n",
       "<style scoped>\n",
       "    .dataframe tbody tr th:only-of-type {\n",
       "        vertical-align: middle;\n",
       "    }\n",
       "\n",
       "    .dataframe tbody tr th {\n",
       "        vertical-align: top;\n",
       "    }\n",
       "\n",
       "    .dataframe thead th {\n",
       "        text-align: right;\n",
       "    }\n",
       "</style>\n",
       "<table border=\"1\" class=\"dataframe\">\n",
       "  <thead>\n",
       "    <tr style=\"text-align: right;\">\n",
       "      <th></th>\n",
       "      <th>Unnamed: 0</th>\n",
       "      <th>Ticker</th>\n",
       "      <th>Title</th>\n",
       "      <th>Close</th>\n",
       "      <th>MarketCap</th>\n",
       "    </tr>\n",
       "  </thead>\n",
       "  <tbody>\n",
       "    <tr>\n",
       "      <th>0</th>\n",
       "      <td>0</td>\n",
       "      <td>500325:BOM</td>\n",
       "      <td>RELIANCE INDUSTRIES LTD.</td>\n",
       "      <td>2632.2</td>\n",
       "      <td>1780701.03</td>\n",
       "    </tr>\n",
       "  </tbody>\n",
       "</table>\n",
       "</div>"
      ],
      "text/plain": [
       "   Unnamed: 0      Ticker                     Title   Close   MarketCap\n",
       "0           0  500325:BOM  RELIANCE INDUSTRIES LTD.  2632.2  1780701.03"
      ]
     },
     "execution_count": 5,
     "metadata": {},
     "output_type": "execute_result"
    }
   ],
   "source": [
    "BSE_Ticker_Top100_df.head(1)"
   ]
  },
  {
   "cell_type": "code",
   "execution_count": 126,
   "metadata": {},
   "outputs": [
    {
     "data": {
      "text/plain": [
       "'500325:BOM'"
      ]
     },
     "execution_count": 126,
     "metadata": {},
     "output_type": "execute_result"
    }
   ],
   "source": [
    "symbol"
   ]
  },
  {
   "cell_type": "code",
   "execution_count": 127,
   "metadata": {},
   "outputs": [
    {
     "name": "stdout",
     "output_type": "stream",
     "text": [
      "{\n",
      "  \"ticker_info\": {\n",
      "    \"title\": \"Reliance Industries Ltd\",\n",
      "    \"current_price\": \"\\u20b92,724.50\"\n",
      "  },\n",
      "  \"right_panel_data\": {\n",
      "    \"previous_close\": \"\\u20b92,632.20\",\n",
      "    \"day_range\": \"\\u20b92,635.65 - \\u20b92,732.00\",\n",
      "    \"year_range\": \"\\u20b92,016.60 - \\u20b92,855.00\",\n",
      "    \"market_cap\": \"18.43T INR\",\n",
      "    \"p/e_ratio\": \"29.99\",\n",
      "    \"dividend_yield\": \"-\",\n",
      "    \"primary_exchange\": \"NSE\",\n",
      "    \"ceo\": \"Mukesh Ambani\",\n",
      "    \"founded\": \"May 8, 1973\",\n",
      "    \"headquarters\": \"Mumbai, MaharashtraIndia\",\n",
      "    \"website\": \"ril.com\",\n",
      "    \"employees\": \"236,334\"\n",
      "  }\n",
      "}\n"
     ]
    }
   ],
   "source": [
    "data = scrape_google_finance(ticker=symbol)\n",
    "print(json.dumps(data, indent=2))"
   ]
  },
  {
   "cell_type": "code",
   "execution_count": 102,
   "metadata": {},
   "outputs": [
    {
     "data": {
      "text/plain": [
       "{'ticker_info': {'title': 'Reliance Industries Ltd',\n",
       "  'current_price': '₹2,724.50'},\n",
       " 'right_panel_data': {'previous_close': '₹2,632.20',\n",
       "  'day_range': '₹2,635.65 - ₹2,732.00',\n",
       "  'year_range': '₹2,016.60 - ₹2,855.00',\n",
       "  'market_cap': '18.43T INR',\n",
       "  'p/e_ratio': '29.99',\n",
       "  'dividend_yield': '-',\n",
       "  'primary_exchange': 'NSE',\n",
       "  'ceo': 'Mukesh Ambani',\n",
       "  'founded': 'May 8, 1973',\n",
       "  'headquarters': 'Mumbai, MaharashtraIndia',\n",
       "  'website': 'ril.com',\n",
       "  'employees': '236,334'}}"
      ]
     },
     "execution_count": 102,
     "metadata": {},
     "output_type": "execute_result"
    }
   ],
   "source": [
    "data"
   ]
  },
  {
   "cell_type": "code",
   "execution_count": 103,
   "metadata": {},
   "outputs": [
    {
     "data": {
      "text/html": [
       "<div>\n",
       "<style scoped>\n",
       "    .dataframe tbody tr th:only-of-type {\n",
       "        vertical-align: middle;\n",
       "    }\n",
       "\n",
       "    .dataframe tbody tr th {\n",
       "        vertical-align: top;\n",
       "    }\n",
       "\n",
       "    .dataframe thead th {\n",
       "        text-align: right;\n",
       "    }\n",
       "</style>\n",
       "<table border=\"1\" class=\"dataframe\">\n",
       "  <thead>\n",
       "    <tr style=\"text-align: right;\">\n",
       "      <th></th>\n",
       "      <th>title</th>\n",
       "      <th>current_price</th>\n",
       "      <th>previous_close</th>\n",
       "      <th>day_range</th>\n",
       "      <th>year_range</th>\n",
       "      <th>market_cap</th>\n",
       "      <th>p/e_ratio</th>\n",
       "      <th>dividend_yield</th>\n",
       "      <th>primary_exchange</th>\n",
       "      <th>ceo</th>\n",
       "      <th>founded</th>\n",
       "      <th>headquarters</th>\n",
       "      <th>website</th>\n",
       "      <th>employees</th>\n",
       "    </tr>\n",
       "  </thead>\n",
       "  <tbody>\n",
       "    <tr>\n",
       "      <th>ticker_info</th>\n",
       "      <td>Reliance Industries Ltd</td>\n",
       "      <td>₹2,724.50</td>\n",
       "      <td>NaN</td>\n",
       "      <td>NaN</td>\n",
       "      <td>NaN</td>\n",
       "      <td>NaN</td>\n",
       "      <td>NaN</td>\n",
       "      <td>NaN</td>\n",
       "      <td>NaN</td>\n",
       "      <td>NaN</td>\n",
       "      <td>NaN</td>\n",
       "      <td>NaN</td>\n",
       "      <td>NaN</td>\n",
       "      <td>NaN</td>\n",
       "    </tr>\n",
       "    <tr>\n",
       "      <th>right_panel_data</th>\n",
       "      <td>NaN</td>\n",
       "      <td>NaN</td>\n",
       "      <td>₹2,632.20</td>\n",
       "      <td>₹2,635.65 - ₹2,732.00</td>\n",
       "      <td>₹2,016.60 - ₹2,855.00</td>\n",
       "      <td>18.43T INR</td>\n",
       "      <td>29.99</td>\n",
       "      <td>-</td>\n",
       "      <td>NSE</td>\n",
       "      <td>Mukesh Ambani</td>\n",
       "      <td>May 8, 1973</td>\n",
       "      <td>Mumbai, MaharashtraIndia</td>\n",
       "      <td>ril.com</td>\n",
       "      <td>236,334</td>\n",
       "    </tr>\n",
       "  </tbody>\n",
       "</table>\n",
       "</div>"
      ],
      "text/plain": [
       "                                    title current_price previous_close  \\\n",
       "ticker_info       Reliance Industries Ltd     ₹2,724.50            NaN   \n",
       "right_panel_data                      NaN           NaN      ₹2,632.20   \n",
       "\n",
       "                              day_range             year_range  market_cap  \\\n",
       "ticker_info                         NaN                    NaN         NaN   \n",
       "right_panel_data  ₹2,635.65 - ₹2,732.00  ₹2,016.60 - ₹2,855.00  18.43T INR   \n",
       "\n",
       "                 p/e_ratio dividend_yield primary_exchange            ceo  \\\n",
       "ticker_info            NaN            NaN              NaN            NaN   \n",
       "right_panel_data     29.99              -              NSE  Mukesh Ambani   \n",
       "\n",
       "                      founded              headquarters  website employees  \n",
       "ticker_info               NaN                       NaN      NaN       NaN  \n",
       "right_panel_data  May 8, 1973  Mumbai, MaharashtraIndia  ril.com   236,334  "
      ]
     },
     "execution_count": 103,
     "metadata": {},
     "output_type": "execute_result"
    }
   ],
   "source": [
    "df = pd.DataFrame(data).T\n",
    "df"
   ]
  },
  {
   "cell_type": "code",
   "execution_count": 104,
   "metadata": {},
   "outputs": [
    {
     "data": {
      "text/plain": [
       "{'title': 'Reliance Industries Ltd', 'current_price': '₹2,724.50'}"
      ]
     },
     "execution_count": 104,
     "metadata": {},
     "output_type": "execute_result"
    }
   ],
   "source": [
    "data[\"ticker_info\"]"
   ]
  },
  {
   "cell_type": "code",
   "execution_count": 105,
   "metadata": {},
   "outputs": [
    {
     "data": {
      "text/html": [
       "<div>\n",
       "<style scoped>\n",
       "    .dataframe tbody tr th:only-of-type {\n",
       "        vertical-align: middle;\n",
       "    }\n",
       "\n",
       "    .dataframe tbody tr th {\n",
       "        vertical-align: top;\n",
       "    }\n",
       "\n",
       "    .dataframe thead th {\n",
       "        text-align: right;\n",
       "    }\n",
       "</style>\n",
       "<table border=\"1\" class=\"dataframe\">\n",
       "  <thead>\n",
       "    <tr style=\"text-align: right;\">\n",
       "      <th></th>\n",
       "      <th>title</th>\n",
       "      <th>current_price</th>\n",
       "    </tr>\n",
       "  </thead>\n",
       "  <tbody>\n",
       "    <tr>\n",
       "      <th>0</th>\n",
       "      <td>Reliance Industries Ltd</td>\n",
       "      <td>₹2,724.50</td>\n",
       "    </tr>\n",
       "  </tbody>\n",
       "</table>\n",
       "</div>"
      ],
      "text/plain": [
       "                     title current_price\n",
       "0  Reliance Industries Ltd     ₹2,724.50"
      ]
     },
     "execution_count": 105,
     "metadata": {},
     "output_type": "execute_result"
    }
   ],
   "source": [
    "cp = pd.DataFrame(data[\"ticker_info\"],index=[0])\n",
    "cp"
   ]
  },
  {
   "cell_type": "code",
   "execution_count": 106,
   "metadata": {},
   "outputs": [
    {
     "data": {
      "text/html": [
       "<div>\n",
       "<style scoped>\n",
       "    .dataframe tbody tr th:only-of-type {\n",
       "        vertical-align: middle;\n",
       "    }\n",
       "\n",
       "    .dataframe tbody tr th {\n",
       "        vertical-align: top;\n",
       "    }\n",
       "\n",
       "    .dataframe thead th {\n",
       "        text-align: right;\n",
       "    }\n",
       "</style>\n",
       "<table border=\"1\" class=\"dataframe\">\n",
       "  <thead>\n",
       "    <tr style=\"text-align: right;\">\n",
       "      <th></th>\n",
       "      <th>Data</th>\n",
       "    </tr>\n",
       "  </thead>\n",
       "  <tbody>\n",
       "    <tr>\n",
       "      <th>previous_close</th>\n",
       "      <td>₹2,632.20</td>\n",
       "    </tr>\n",
       "    <tr>\n",
       "      <th>day_range</th>\n",
       "      <td>₹2,635.65 - ₹2,732.00</td>\n",
       "    </tr>\n",
       "    <tr>\n",
       "      <th>year_range</th>\n",
       "      <td>₹2,016.60 - ₹2,855.00</td>\n",
       "    </tr>\n",
       "    <tr>\n",
       "      <th>market_cap</th>\n",
       "      <td>18.43T INR</td>\n",
       "    </tr>\n",
       "    <tr>\n",
       "      <th>p/e_ratio</th>\n",
       "      <td>29.99</td>\n",
       "    </tr>\n",
       "    <tr>\n",
       "      <th>dividend_yield</th>\n",
       "      <td>-</td>\n",
       "    </tr>\n",
       "    <tr>\n",
       "      <th>primary_exchange</th>\n",
       "      <td>NSE</td>\n",
       "    </tr>\n",
       "    <tr>\n",
       "      <th>ceo</th>\n",
       "      <td>Mukesh Ambani</td>\n",
       "    </tr>\n",
       "    <tr>\n",
       "      <th>founded</th>\n",
       "      <td>May 8, 1973</td>\n",
       "    </tr>\n",
       "    <tr>\n",
       "      <th>headquarters</th>\n",
       "      <td>Mumbai, MaharashtraIndia</td>\n",
       "    </tr>\n",
       "    <tr>\n",
       "      <th>website</th>\n",
       "      <td>ril.com</td>\n",
       "    </tr>\n",
       "    <tr>\n",
       "      <th>employees</th>\n",
       "      <td>236,334</td>\n",
       "    </tr>\n",
       "  </tbody>\n",
       "</table>\n",
       "</div>"
      ],
      "text/plain": [
       "                                      Data\n",
       "previous_close                   ₹2,632.20\n",
       "day_range            ₹2,635.65 - ₹2,732.00\n",
       "year_range           ₹2,016.60 - ₹2,855.00\n",
       "market_cap                      18.43T INR\n",
       "p/e_ratio                            29.99\n",
       "dividend_yield                           -\n",
       "primary_exchange                       NSE\n",
       "ceo                          Mukesh Ambani\n",
       "founded                        May 8, 1973\n",
       "headquarters      Mumbai, MaharashtraIndia\n",
       "website                            ril.com\n",
       "employees                          236,334"
      ]
     },
     "execution_count": 106,
     "metadata": {},
     "output_type": "execute_result"
    }
   ],
   "source": [
    "rpd = pd.DataFrame(data[\"right_panel_data\"],index=['Data']).T\n",
    "rpd"
   ]
  },
  {
   "cell_type": "code",
   "execution_count": 107,
   "metadata": {},
   "outputs": [
    {
     "data": {
      "text/html": [
       "<div>\n",
       "<style scoped>\n",
       "    .dataframe tbody tr th:only-of-type {\n",
       "        vertical-align: middle;\n",
       "    }\n",
       "\n",
       "    .dataframe tbody tr th {\n",
       "        vertical-align: top;\n",
       "    }\n",
       "\n",
       "    .dataframe thead th {\n",
       "        text-align: right;\n",
       "    }\n",
       "</style>\n",
       "<table border=\"1\" class=\"dataframe\">\n",
       "  <thead>\n",
       "    <tr style=\"text-align: right;\">\n",
       "      <th></th>\n",
       "      <th>previous_close</th>\n",
       "      <th>day_range</th>\n",
       "      <th>year_range</th>\n",
       "      <th>market_cap</th>\n",
       "      <th>p/e_ratio</th>\n",
       "      <th>dividend_yield</th>\n",
       "      <th>primary_exchange</th>\n",
       "      <th>ceo</th>\n",
       "      <th>founded</th>\n",
       "      <th>headquarters</th>\n",
       "      <th>website</th>\n",
       "      <th>employees</th>\n",
       "    </tr>\n",
       "  </thead>\n",
       "  <tbody>\n",
       "    <tr>\n",
       "      <th>0</th>\n",
       "      <td>₹2,632.20</td>\n",
       "      <td>₹2,635.65 - ₹2,732.00</td>\n",
       "      <td>₹2,016.60 - ₹2,855.00</td>\n",
       "      <td>18.43T INR</td>\n",
       "      <td>29.99</td>\n",
       "      <td>-</td>\n",
       "      <td>NSE</td>\n",
       "      <td>Mukesh Ambani</td>\n",
       "      <td>May 8, 1973</td>\n",
       "      <td>Mumbai, MaharashtraIndia</td>\n",
       "      <td>ril.com</td>\n",
       "      <td>236,334</td>\n",
       "    </tr>\n",
       "  </tbody>\n",
       "</table>\n",
       "</div>"
      ],
      "text/plain": [
       "  previous_close              day_range             year_range  market_cap  \\\n",
       "0      ₹2,632.20  ₹2,635.65 - ₹2,732.00  ₹2,016.60 - ₹2,855.00  18.43T INR   \n",
       "\n",
       "  p/e_ratio dividend_yield primary_exchange            ceo      founded  \\\n",
       "0     29.99              -              NSE  Mukesh Ambani  May 8, 1973   \n",
       "\n",
       "               headquarters  website employees  \n",
       "0  Mumbai, MaharashtraIndia  ril.com   236,334  "
      ]
     },
     "execution_count": 107,
     "metadata": {},
     "output_type": "execute_result"
    }
   ],
   "source": [
    "rpd = pd.DataFrame(data[\"right_panel_data\"],index=[0])\n",
    "rpd"
   ]
  },
  {
   "cell_type": "code",
   "execution_count": 108,
   "metadata": {},
   "outputs": [
    {
     "data": {
      "text/plain": [
       "'Reliance Industries Ltd'"
      ]
     },
     "execution_count": 108,
     "metadata": {},
     "output_type": "execute_result"
    }
   ],
   "source": [
    "data[\"ticker_info\"]['title']"
   ]
  },
  {
   "cell_type": "code",
   "execution_count": 109,
   "metadata": {},
   "outputs": [
    {
     "data": {
      "text/plain": [
       "'₹2,724.50'"
      ]
     },
     "execution_count": 109,
     "metadata": {},
     "output_type": "execute_result"
    }
   ],
   "source": [
    "data[\"ticker_info\"]['current_price']"
   ]
  },
  {
   "cell_type": "code",
   "execution_count": 110,
   "metadata": {},
   "outputs": [
    {
     "data": {
      "text/plain": [
       "{'previous_close': '₹2,632.20',\n",
       " 'day_range': '₹2,635.65 - ₹2,732.00',\n",
       " 'year_range': '₹2,016.60 - ₹2,855.00',\n",
       " 'market_cap': '18.43T INR',\n",
       " 'p/e_ratio': '29.99',\n",
       " 'dividend_yield': '-',\n",
       " 'primary_exchange': 'NSE',\n",
       " 'ceo': 'Mukesh Ambani',\n",
       " 'founded': 'May 8, 1973',\n",
       " 'headquarters': 'Mumbai, MaharashtraIndia',\n",
       " 'website': 'ril.com',\n",
       " 'employees': '236,334'}"
      ]
     },
     "execution_count": 110,
     "metadata": {},
     "output_type": "execute_result"
    }
   ],
   "source": [
    "data[\"right_panel_data\"]"
   ]
  },
  {
   "cell_type": "code",
   "execution_count": 134,
   "metadata": {},
   "outputs": [
    {
     "data": {
      "text/plain": [
       "'500325:BOM'"
      ]
     },
     "execution_count": 134,
     "metadata": {},
     "output_type": "execute_result"
    }
   ],
   "source": [
    "symbol"
   ]
  },
  {
   "cell_type": "code",
   "execution_count": 141,
   "metadata": {},
   "outputs": [
    {
     "data": {
      "text/plain": [
       "11"
      ]
     },
     "execution_count": 141,
     "metadata": {},
     "output_type": "execute_result"
    }
   ],
   "source": [
    "len(symbol)"
   ]
  },
  {
   "cell_type": "code",
   "execution_count": 146,
   "metadata": {},
   "outputs": [
    {
     "data": {
      "text/plain": [
       "10"
      ]
     },
     "execution_count": 146,
     "metadata": {},
     "output_type": "execute_result"
    }
   ],
   "source": [
    "len('500325:BOM')"
   ]
  },
  {
   "cell_type": "code",
   "execution_count": 140,
   "metadata": {},
   "outputs": [
    {
     "name": "stdout",
     "output_type": "stream",
     "text": [
      "{\n",
      "  \"ticker_info\": {\n",
      "    \"title\": \"Reliance Industries Ltd\",\n",
      "    \"current_price\": \"\\u20b92,724.50\"\n",
      "  },\n",
      "  \"right_panel_data\": {\n",
      "    \"previous_close\": \"\\u20b92,632.20\",\n",
      "    \"day_range\": \"\\u20b92,635.65 - \\u20b92,732.00\",\n",
      "    \"year_range\": \"\\u20b92,016.60 - \\u20b92,855.00\",\n",
      "    \"market_cap\": \"18.43T INR\",\n",
      "    \"p/e_ratio\": \"29.99\",\n",
      "    \"dividend_yield\": \"-\",\n",
      "    \"primary_exchange\": \"NSE\",\n",
      "    \"ceo\": \"Mukesh Ambani\",\n",
      "    \"founded\": \"May 8, 1973\",\n",
      "    \"headquarters\": \"Mumbai, MaharashtraIndia\",\n",
      "    \"website\": \"ril.com\",\n",
      "    \"employees\": \"236,334\"\n",
      "  }\n",
      "}\n"
     ]
    }
   ],
   "source": [
    "data = scrape_google_finance(ticker='500325:BOM')\n",
    "print(json.dumps(data, indent=2))"
   ]
  },
  {
   "cell_type": "markdown",
   "metadata": {},
   "source": [
    "### Trial 2"
   ]
  },
  {
   "cell_type": "code",
   "execution_count": 147,
   "metadata": {},
   "outputs": [],
   "source": [
    "symbol = BSE_Ticker_Top100_df['Ticker'][0]"
   ]
  },
  {
   "cell_type": "code",
   "execution_count": 148,
   "metadata": {},
   "outputs": [
    {
     "data": {
      "text/plain": [
       "10"
      ]
     },
     "execution_count": 148,
     "metadata": {},
     "output_type": "execute_result"
    }
   ],
   "source": [
    "len(symbol)"
   ]
  },
  {
   "cell_type": "code",
   "execution_count": 171,
   "metadata": {},
   "outputs": [
    {
     "name": "stdout",
     "output_type": "stream",
     "text": [
      "{\n",
      "  \"ticker_info\": {\n",
      "    \"title\": \"HDFC Bank Limited\",\n",
      "    \"current_price\": \"\\u20b91,385.20\"\n",
      "  },\n",
      "  \"right_panel_data\": {\n",
      "    \"previous_close\": \"\\u20b91,394.85\",\n",
      "    \"day_range\": \"\\u20b91,378.60 - \\u20b91,388.00\",\n",
      "    \"year_range\": \"\\u20b91,278.30 - \\u20b91,725.00\",\n",
      "    \"market_cap\": \"7.70T INR\",\n",
      "    \"p/e_ratio\": \"20.28\",\n",
      "    \"dividend_yield\": \"1.12%\",\n",
      "    \"primary_exchange\": \"NSE\",\n",
      "    \"ceo\": \"Sashidhar Jagdishan\",\n",
      "    \"founded\": \"Aug 1994\",\n",
      "    \"headquarters\": \"Mumbai, MaharashtraIndia\",\n",
      "    \"website\": \"hdfcbank.com\",\n",
      "    \"employees\": \"141,579\"\n",
      "  }\n",
      "}\n"
     ]
    }
   ],
   "source": [
    "data = scrape_google_finance(ticker=symbol)\n",
    "print(json.dumps(data, indent=2))"
   ]
  },
  {
   "cell_type": "code",
   "execution_count": 164,
   "metadata": {},
   "outputs": [
    {
     "data": {
      "text/plain": [
       "{'ticker_info': {'title': 'Reliance Industries Ltd',\n",
       "  'current_price': '₹2,724.50'},\n",
       " 'right_panel_data': {'previous_close': '₹2,632.20',\n",
       "  'day_range': '₹2,635.65 - ₹2,732.00',\n",
       "  'year_range': '₹2,016.60 - ₹2,855.00',\n",
       "  'market_cap': '18.43T INR',\n",
       "  'p/e_ratio': '29.99',\n",
       "  'dividend_yield': '-',\n",
       "  'primary_exchange': 'NSE',\n",
       "  'ceo': 'Mukesh Ambani',\n",
       "  'founded': 'May 8, 1973',\n",
       "  'headquarters': 'Mumbai, MaharashtraIndia',\n",
       "  'website': 'ril.com',\n",
       "  'employees': '236,334'}}"
      ]
     },
     "execution_count": 164,
     "metadata": {},
     "output_type": "execute_result"
    }
   ],
   "source": [
    "data"
   ]
  },
  {
   "cell_type": "code",
   "execution_count": 6,
   "metadata": {},
   "outputs": [
    {
     "data": {
      "text/plain": [
       "{'right_panel_data': {'previous_close': '₹1,394.85',\n",
       "  'day_range': '₹1,378.60 - ₹1,388.00',\n",
       "  'year_range': '₹1,278.30 - ₹1,725.00',\n",
       "  'market_cap': '7.70T INR',\n",
       "  'p/e_ratio': '20.28',\n",
       "  'dividend_yield': '1.12%',\n",
       "  'primary_exchange': 'NSE',\n",
       "  'ceo': 'Sashidhar Jagdishan',\n",
       "  'founded': 'Aug 1994',\n",
       "  'headquarters': 'Mumbai, MaharashtraIndia',\n",
       "  'website': 'hdfcbank.com',\n",
       "  'employees': '141,579'},\n",
       " 'ticker_info': {'title': 'HDFC Bank Limited', 'current_price': '₹1,385.20'}}"
      ]
     },
     "execution_count": 6,
     "metadata": {},
     "output_type": "execute_result"
    }
   ],
   "source": [
    "scrape_google_finance(ticker=symbol)"
   ]
  },
  {
   "cell_type": "code",
   "execution_count": 7,
   "metadata": {},
   "outputs": [
    {
     "name": "stdout",
     "output_type": "stream",
     "text": [
      "{'right_panel_data': {'previous_close': '₹1,394.85', 'day_range': '₹1,378.60 - ₹1,388.00', 'year_range': '₹1,278.30 - ₹1,725.00', 'market_cap': '7.70T INR', 'p/e_ratio': '20.28', 'dividend_yield': '1.12%', 'primary_exchange': 'NSE', 'ceo': 'Sashidhar Jagdishan', 'founded': 'Aug 1994', 'headquarters': 'Mumbai, MaharashtraIndia', 'website': 'hdfcbank.com', 'employees': '141,579'}, 'ticker_info': {'title': 'HDFC Bank Limited', 'current_price': '₹1,385.20'}}\n",
      "{'right_panel_data': {'previous_close': '₹1,394.85', 'day_range': '₹1,378.60 - ₹1,388.00', 'year_range': '₹1,278.30 - ₹1,725.00', 'market_cap': '7.70T INR', 'p/e_ratio': '20.28', 'dividend_yield': '1.12%', 'primary_exchange': 'NSE', 'ceo': 'Sashidhar Jagdishan', 'founded': 'Aug 1994', 'headquarters': 'Mumbai, MaharashtraIndia', 'website': 'hdfcbank.com', 'employees': '141,579'}, 'ticker_info': {'title': 'HDFC Bank Limited', 'current_price': '₹1,385.20'}}\n"
     ]
    }
   ],
   "source": [
    "# def gf_sec_scrape():\n",
    "#     data = scrape_google_finance(ticker=symbol)\n",
    "#     print(data)\n",
    "\n",
    "schedule.every().seconds.do(gf_sec_scrape)\n",
    "try:\n",
    "    while True:\n",
    "        schedule.run_pending()\n",
    "except KeyboardInterrupt:\n",
    "    pass"
   ]
  },
  {
   "cell_type": "markdown",
   "metadata": {},
   "source": [
    "### Trial 3"
   ]
  },
  {
   "cell_type": "code",
   "execution_count": 4,
   "metadata": {},
   "outputs": [],
   "source": [
    "import pandas as pd\n",
    "BSE_Ticker_Top100_df =pd.read_csv('E:\\Stock Market\\BSE_Ticker_Top100.csv')"
   ]
  },
  {
   "cell_type": "code",
   "execution_count": 5,
   "metadata": {},
   "outputs": [
    {
     "data": {
      "text/html": [
       "<div>\n",
       "<style scoped>\n",
       "    .dataframe tbody tr th:only-of-type {\n",
       "        vertical-align: middle;\n",
       "    }\n",
       "\n",
       "    .dataframe tbody tr th {\n",
       "        vertical-align: top;\n",
       "    }\n",
       "\n",
       "    .dataframe thead th {\n",
       "        text-align: right;\n",
       "    }\n",
       "</style>\n",
       "<table border=\"1\" class=\"dataframe\">\n",
       "  <thead>\n",
       "    <tr style=\"text-align: right;\">\n",
       "      <th></th>\n",
       "      <th>Unnamed: 0</th>\n",
       "      <th>Ticker</th>\n",
       "      <th>Title</th>\n",
       "      <th>Close</th>\n",
       "      <th>MarketCap</th>\n",
       "    </tr>\n",
       "  </thead>\n",
       "  <tbody>\n",
       "    <tr>\n",
       "      <th>0</th>\n",
       "      <td>0</td>\n",
       "      <td>500325:BOM</td>\n",
       "      <td>RELIANCE INDUSTRIES LTD.</td>\n",
       "      <td>2632.2</td>\n",
       "      <td>1780701.03</td>\n",
       "    </tr>\n",
       "  </tbody>\n",
       "</table>\n",
       "</div>"
      ],
      "text/plain": [
       "   Unnamed: 0      Ticker                     Title   Close   MarketCap\n",
       "0           0  500325:BOM  RELIANCE INDUSTRIES LTD.  2632.2  1780701.03"
      ]
     },
     "execution_count": 5,
     "metadata": {},
     "output_type": "execute_result"
    }
   ],
   "source": [
    "BSE_Ticker_Top100_df.head(1)"
   ]
  },
  {
   "cell_type": "code",
   "execution_count": 6,
   "metadata": {},
   "outputs": [],
   "source": [
    "symbol = BSE_Ticker_Top100_df['Ticker'][0]"
   ]
  },
  {
   "cell_type": "code",
   "execution_count": 110,
   "metadata": {},
   "outputs": [
    {
     "data": {
      "text/plain": [
       "'500325:BOM'"
      ]
     },
     "execution_count": 110,
     "metadata": {},
     "output_type": "execute_result"
    }
   ],
   "source": [
    "symbol = '500325:BOM'\n",
    "symbol"
   ]
  },
  {
   "cell_type": "code",
   "execution_count": 111,
   "metadata": {},
   "outputs": [],
   "source": [
    "def scrape_google_finance_CurP(ticker: str):\n",
    "    # https://docs.python-requests.org/en/master/user/quickstart/#passing-parameters-in-urls\n",
    "    params = {\n",
    "        \"hl\": \"en\" # language\n",
    "        }\n",
    "\n",
    "    headers = {\n",
    "        \"User-Agent\": \"Mozilla/5.0 (Windows NT 10.0; Win64; x64) AppleWebKit/537.36 (KHTML, like Gecko) Chrome/100.0.4896.60 Safari/537.36\",\n",
    "        }\n",
    "\n",
    "    html = requests.get(f\"https://www.google.com/finance/quote/{ticker}\", params=params, headers=headers, timeout=30)\n",
    "    soup = BeautifulSoup(html.text, \"lxml\")\n",
    "    \n",
    "    ticker_data = {\"ticker_info\": {}}\n",
    "    \n",
    "    ticker_data[\"ticker_info\"][\"title\"] = soup.select_one(\".zzDege\").text\n",
    "    ticker_data[\"ticker_info\"][\"current_price\"] = soup.select_one(\".AHmHk .fxKbKc\").text\n",
    "    \n",
    "    # right_panel_keys = soup.select(\".gyFHrc .mfs7Fc\")\n",
    "    # right_panel_values = soup.select(\".gyFHrc .P6K39c\")\n",
    "    \n",
    "    # for key, value in zip_longest(right_panel_keys, right_panel_values):\n",
    "    #     key_value = key.text.lower().replace(\" \", \"_\")\n",
    "\n",
    "    #     ticker_data[\"right_panel_data\"][key_value] = value.text\n",
    "    \n",
    "    return ticker_data[\"ticker_info\"][\"current_price\"]"
   ]
  },
  {
   "cell_type": "code",
   "execution_count": 112,
   "metadata": {},
   "outputs": [],
   "source": [
    "def gf_sec_scrape_cp2():\n",
    "    data = scrape_google_finance_CurP(ticker=symbol)\n",
    "    print(data)"
   ]
  },
  {
   "cell_type": "code",
   "execution_count": 113,
   "metadata": {},
   "outputs": [
    {
     "name": "stdout",
     "output_type": "stream",
     "text": [
      "₹2,754.10\n",
      "₹2,754.10\n",
      "₹2,754.10\n",
      "₹2,752.25\n",
      "₹2,752.25\n",
      "₹2,753.30\n",
      "₹2,753.30\n",
      "₹2,753.30\n",
      "₹2,753.30\n",
      "₹2,753.10\n",
      "₹2,753.10\n",
      "₹2,752.90\n",
      "₹2,751.00\n",
      "₹2,751.00\n",
      "₹2,751.00\n",
      "₹2,751.00\n",
      "₹2,750.60\n",
      "₹2,751.30\n",
      "₹2,751.30\n"
     ]
    }
   ],
   "source": [
    "schedule.every(.5).seconds.do(gf_sec_scrape_cp2)\n",
    "try:\n",
    "    while True:\n",
    "        schedule.run_pending()\n",
    "except KeyboardInterrupt:\n",
    "    pass"
   ]
  },
  {
   "cell_type": "markdown",
   "metadata": {},
   "source": [
    "###### Python for Finance #1 - Introduction and Getting Real Time Stock Data\n",
    "###### https://www.youtube.com/watch?v=q_MWWVgghsQ"
   ]
  },
  {
   "cell_type": "markdown",
   "metadata": {},
   "source": [
    "## 2nd Implementation"
   ]
  },
  {
   "cell_type": "markdown",
   "metadata": {},
   "source": [
    "https://serpapi.com/blog/scrape-google-finance-ticker-quote-data-in-python/#ticker_data"
   ]
  },
  {
   "cell_type": "code",
   "execution_count": 49,
   "metadata": {},
   "outputs": [],
   "source": [
    "# pip install parsel"
   ]
  },
  {
   "cell_type": "code",
   "execution_count": 85,
   "metadata": {},
   "outputs": [],
   "source": [
    "import pandas as pd\n",
    "import requests, json, re\n",
    "from parsel import Selector\n",
    "from itertools import zip_longest\n",
    "from bs4 import BeautifulSoup\n",
    "import requests, lxml, json"
   ]
  },
  {
   "cell_type": "code",
   "execution_count": 86,
   "metadata": {},
   "outputs": [
    {
     "data": {
      "text/plain": [
       "'500325:BOM'"
      ]
     },
     "execution_count": 86,
     "metadata": {},
     "output_type": "execute_result"
    }
   ],
   "source": [
    "symbol = '500325:BOM'\n",
    "symbol"
   ]
  },
  {
   "cell_type": "code",
   "execution_count": 87,
   "metadata": {},
   "outputs": [],
   "source": [
    "\n",
    "\n",
    "# https://docs.python.org/3/library/itertools.html#itertools.zip_longest\n",
    "def scrape_google_finance(ticker: str):\n",
    "    params = {\n",
    "        \"hl\": \"en\" # language\n",
    "        }\n",
    "\n",
    "    headers = {\n",
    "        \"User-Agent\": \"Mozilla/5.0 (Windows NT 10.0; Win64; x64) AppleWebKit/537.36 (KHTML, like Gecko) Chrome/100.0.4896.60 Safari/537.36\",\n",
    "        }\n",
    "\n",
    "    html = requests.get(f\"https://www.google.com/finance/quote/{ticker}\", params=params, headers=headers, timeout=30)\n",
    "    selector = Selector(text=html.text)\n",
    "    \n",
    "    # where all extracted data will be temporary located\n",
    "    ticker_data = {\n",
    "        \"ticker_data\": {},\n",
    "        \"about_panel\": {},\n",
    "        \"news\": {\"items\": []},\n",
    "        \"finance_perfomance\": {\"table\": []}, \n",
    "        \"people_also_search_for\": {\"items\": []},\n",
    "        \"interested_in\": {\"items\": []}\n",
    "    }\n",
    "    \n",
    "    # current price, quote, title extraction\n",
    "    ticker_data[\"ticker_data\"][\"current_price\"] = selector.css(\".AHmHk .fxKbKc::text\").get()\n",
    "    ticker_data[\"ticker_data\"][\"quote\"] = selector.css(\".PdOqHc::text\").get().replace(\" • \",\":\")\n",
    "    ticker_data[\"ticker_data\"][\"title\"] = selector.css(\".zzDege::text\").get()\n",
    "    \n",
    "    # about panel extraction\n",
    "    about_panel_keys = selector.css(\".gyFHrc .mfs7Fc::text\").getall()\n",
    "    about_panel_values = selector.css(\".gyFHrc .P6K39c\").xpath(\"normalize-space()\").getall()\n",
    "    \n",
    "    for key, value in zip_longest(about_panel_keys, about_panel_values):\n",
    "        key_value = key.lower().replace(\" \", \"_\")\n",
    "        ticker_data[\"about_panel\"][key_value] = value\n",
    "    \n",
    "    # description \"about\" extraction\n",
    "    ticker_data[\"about_panel\"][\"description\"] = selector.css(\".bLLb2d::text\").get()\n",
    "    ticker_data[\"about_panel\"][\"extensions\"] = selector.css(\".w2tnNd::text\").getall()\n",
    "    \n",
    "    # news extarction\n",
    "    if selector.css(\".yY3Lee\").get():\n",
    "        for index, news in enumerate(selector.css(\".yY3Lee\"), start=1):\n",
    "            ticker_data[\"news\"][\"items\"].append({\n",
    "                \"position\": index,\n",
    "                \"title\": news.css(\".Yfwt5::text\").get(),\n",
    "                \"link\": news.css(\".z4rs2b a::attr(href)\").get(),\n",
    "                \"source\": news.css(\".sfyJob::text\").get(),\n",
    "                \"published\": news.css(\".Adak::text\").get(),\n",
    "                \"thumbnail\": news.css(\"img.Z4idke::attr(src)\").get()\n",
    "            })\n",
    "    else: \n",
    "        ticker_data[\"news\"][\"error\"] = f\"No news result from a {ticker}.\"\n",
    "\n",
    "    # finance perfomance table\n",
    "    if selector.css(\".slpEwd .roXhBd\").get():\n",
    "        fin_perf_col_2 = selector.css(\".PFjsMe+ .yNnsfe::text\").get()           # e.g. Dec 2021\n",
    "        fin_perf_col_3 = selector.css(\".PFjsMe~ .yNnsfe+ .yNnsfe::text\").get()  # e.g. Year/year change\n",
    "        \n",
    "        for fin_perf in selector.css(\".slpEwd .roXhBd\"):\n",
    "            if fin_perf.css(\".J9Jhg::text , .jU4VAc::text\").get():\n",
    "                perf_key = fin_perf.css(\".J9Jhg::text , .jU4VAc::text\").get()   # e.g. Revenue, Net Income, Operating Income..\n",
    "                perf_value_col_1 = fin_perf.css(\".QXDnM::text\").get()           # 60.3B, 26.40%..   \n",
    "                perf_value_col_2 = fin_perf.css(\".gEUVJe .JwB6zf::text\").get()  # 2.39%, -21.22%..\n",
    "                \n",
    "                ticker_data[\"finance_perfomance\"][\"table\"].append({\n",
    "                    perf_key: {\n",
    "                        fin_perf_col_2: perf_value_col_1,\n",
    "                        fin_perf_col_3: perf_value_col_2\n",
    "                    }\n",
    "                })\n",
    "    else:\n",
    "        ticker_data[\"finance_perfomance\"][\"error\"] = f\"No 'finence perfomance table' for {ticker}.\"\n",
    "    \n",
    "    # \"you may be interested in\" results\n",
    "    if selector.css(\".HDXgAf .tOzDHb\").get():\n",
    "        for index, other_interests in enumerate(selector.css(\".HDXgAf .tOzDHb\"), start=1):\n",
    "            ticker_data[\"interested_in\"][\"items\"].append(discover_more_tickers(index, other_interests))\n",
    "    else:\n",
    "        ticker_data[\"interested_in\"][\"error\"] = f\"No 'you may be interested in` results for {ticker}\"\n",
    "    \n",
    "    \n",
    "    # \"people also search for\" results\n",
    "    if selector.css(\".HDXgAf+ div .tOzDHb\").get():\n",
    "        for index, other_tickers in enumerate(selector.css(\".HDXgAf+ div .tOzDHb\"), start=1):\n",
    "            ticker_data[\"people_also_search_for\"][\"items\"].append(discover_more_tickers(index, other_tickers))\n",
    "    else:\n",
    "        ticker_data[\"people_also_search_for\"][\"error\"] = f\"No 'people_also_search_for` in results for {ticker}\"\n",
    "        \n",
    "\n",
    "    return ticker_data\n",
    "\n",
    "\n",
    "def discover_more_tickers(index: int, other_data: str):\n",
    "    \"\"\"\n",
    "    if price_change_formatted will start complaining,\n",
    "    check beforehand for None values with try/except and set it to 0, in this function.\n",
    "    \n",
    "    however, re.search(r\"\\d{1}%|\\d{1,10}\\.\\d{1,2}%\" should make the job done.\n",
    "    \"\"\"\n",
    "    return {\n",
    "            \"position\": index,\n",
    "            \"ticker\": other_data.css(\".COaKTb::text\").get(),\n",
    "            \"ticker_link\": f'https://www.google.com/finance{other_data.attrib[\"href\"].replace(\"./\", \"/\")}',\n",
    "            \"title\": other_data.css(\".RwFyvf::text\").get(),\n",
    "            \"price\": other_data.css(\".YMlKec::text\").get(),\n",
    "            \"price_change\": other_data.css(\"[jsname=Fe7oBc]::attr(aria-label)\").get(),\n",
    "            # https://regex101.com/r/BOFBlt/1\n",
    "            # Up by 100.99% -> 100.99%\n",
    "            \"price_change_formatted\": re.search(r\"\\d{1}%|\\d{1,10}\\.\\d{1,2}%\", other_data.css(\"[jsname=Fe7oBc]::attr(aria-label)\").get()).group()\n",
    "        }"
   ]
  },
  {
   "cell_type": "code",
   "execution_count": 88,
   "metadata": {},
   "outputs": [
    {
     "data": {
      "text/plain": [
       "{'ticker_data': {'current_price': '$2,296.71',\n",
       "  'quote': 'GOOGL:NASDAQ',\n",
       "  'title': 'Alphabet Inc Class A'},\n",
       " 'about_panel': {'previous_close': '$2,343.88',\n",
       "  'day_range': '$2,295.52 - $2,365.98',\n",
       "  'year_range': '$2,037.69 - $3,030.93',\n",
       "  'market_cap': '1.51T USD',\n",
       "  'volume': '2.04M',\n",
       "  'p/e_ratio': '20.77',\n",
       "  'dividend_yield': '-',\n",
       "  'primary_exchange': 'NASDAQ',\n",
       "  'ceo': 'Sundar Pichai',\n",
       "  'founded': 'Oct 2, 2015',\n",
       "  'headquarters': 'Mountain View, CaliforniaUnited States',\n",
       "  'website': 'abc.xyz',\n",
       "  'employees': '163,906',\n",
       "  'description': 'Alphabet Inc. is an American multinational technology conglomerate holding company headquartered in Mountain View, California. It was created through a restructuring of Google on October 2, 2015, and became the parent company of Google and several former Google subsidiaries. Alphabet is the world\\'s third-largest technology company by revenue and one of the world\\'s most valuable companies. It is one of the Big Five American information technology companies, alongside Amazon, Apple, Meta and Microsoft.\\nThe establishment of Alphabet Inc. was prompted by a desire to make the core Google business \"cleaner and more accountable\" while allowing greater autonomy to group companies that operate in businesses other than Internet services. Founders Larry Page and Sergey Brin announced their resignation from their executive posts in December 2019, with the CEO role to be filled by Sundar Pichai, also the CEO of Google. Page and Brin remain employees, board members, and controlling shareholders of Alphabet Inc. ',\n",
       "  'extensions': ['Stock', 'US listed security', 'US headquartered']},\n",
       " 'news': {'items': [{'position': 1,\n",
       "    'title': \"Alphabet's Waymo, Uber Freight in deal for future self-driving trucks By \\nReuters\",\n",
       "    'link': 'https://www.investing.com/news/stock-market-news/alphabets-waymo-uber-freight-in-deal-for-future-selfdriving-trucks-2834441',\n",
       "    'source': 'Investing.com',\n",
       "    'published': '2 days ago',\n",
       "    'thumbnail': 'https://encrypted-tbn0.gstatic.com/images?q=tbn:ANd9GcSbuRkkPvaVqLre5XFLK32T-DWaygW5HkSJTuHcKB0IwiBNnd16SQbsv0AM_9A'},\n",
       "   {'position': 2,\n",
       "    'title': 'At $300,000, Alphabet, Meta had highest-paid median workers in 2021: Report',\n",
       "    'link': 'https://www.business-standard.com/article/international/alphabet-meta-had-highest-paid-median-workers-in-2021-says-report-122060300275_1.html',\n",
       "    'source': 'Business Standard',\n",
       "    'published': '6 days ago',\n",
       "    'thumbnail': 'https://encrypted-tbn0.gstatic.com/images?q=tbn:ANd9GcTKaVZ5U_ZMerr9Rh8q64uRhMb-BmBG0_NS6adiasFB2F8n-aVbuQgxsXf3fLQ'},\n",
       "   {'position': 3,\n",
       "    'title': 'Stocks to Buy Now: Alphabet, Facebook, and 4 More Bargains',\n",
       "    'link': 'https://www.barrons.com/articles/stocks-to-buy-now-alphabet-facebook-netflix-bargains-51653668705',\n",
       "    'source': \"Barron's\",\n",
       "    'published': '1 week ago',\n",
       "    'thumbnail': 'https://encrypted-tbn1.gstatic.com/images?q=tbn:ANd9GcSBIepA5jgOf9uNS3IgTrF6XOAZfNCsxX4WLaj0OLRrDkkuugreEs2ftmhQPKs'},\n",
       "   {'position': 4,\n",
       "    'title': 'Google CEO Sundar Pichai Faced Intense Pushback From Employees. His \\nResponse Is a Masterclass in Leading People',\n",
       "    'link': 'https://www.inc.com/jason-aten/google-ceo-sundar-pichai-faced-intense-pushback-from-employees-his-response-is-a-masterclass-in-leading-people.html',\n",
       "    'source': 'Inc. Magazine',\n",
       "    'published': '1 month ago',\n",
       "    'thumbnail': 'https://encrypted-tbn0.gstatic.com/images?q=tbn:ANd9GcR7_KXDr0BoHrgcwlYXHtdmPq64l4XcH6d0SSJWTz5mRKIQO_GDZq8XZ6laosM'},\n",
       "   {'position': 5,\n",
       "    'title': 'Alphabet Gains With its Own Stock Split a Little Over a Month Away By \\nInvesting.com',\n",
       "    'link': 'https://www.investing.com/news/stock-market-news/alphabet-gains-with-its-own-stock-split-a-little-over-a-month-away-432SI-2833980',\n",
       "    'source': 'Investing.com',\n",
       "    'published': '3 days ago',\n",
       "    'thumbnail': 'https://encrypted-tbn2.gstatic.com/images?q=tbn:ANd9GcTkEcPS3w7FdZgpLdzbtiPYyzAI5p7WqYrURd_cAZ--uX1jeN8l-Nq7shJSgm0'},\n",
       "   {'position': 6,\n",
       "    'title': 'This 49-year-old CEO used lessons from Amazon and Google to build a $1.5 \\nbillion start-up',\n",
       "    'link': 'https://www.cnbc.com/2022/05/12/lessons-from-amazon-and-google-helped-build-this-1point5-billion-start-up.html',\n",
       "    'source': 'CNBC',\n",
       "    'published': '4 weeks ago',\n",
       "    'thumbnail': 'https://encrypted-tbn3.gstatic.com/images?q=tbn:ANd9GcTtQlkPYnZwEze48-QZK9kZq2EvPjy1xUaSFNc2hU1fwsFJElT1W_yv_gZjSjg'}]},\n",
       " 'finance_perfomance': {'table': [{'Revenue': {'Mar 2022': '68.01B',\n",
       "     'Year/year change': '22.95%'}},\n",
       "   {'Net income': {'Mar 2022': '16.44B', 'Year/year change': '-8.33%'}},\n",
       "   {'Diluted EPS': {'Mar 2022': '24.62', 'Year/year change': '-6.35%'}},\n",
       "   {'Net profit margin': {'Mar 2022': '24.17%',\n",
       "     'Year/year change': '-25.42%'}},\n",
       "   {'Operating income': {'Mar 2022': '20.09B', 'Year/year change': '22.25%'}},\n",
       "   {'Net change in cash': {'Mar 2022': '-59.00M',\n",
       "     'Year/year change': '-137.58%'}},\n",
       "   {'Cash and equivalents': {'Mar 2022': '20.89B',\n",
       "     'Year/year change': '-21.55%'}},\n",
       "   {'Cost of revenue': {'Mar 2022': '29.60B', 'Year/year change': '22.80%'}}]},\n",
       " 'people_also_search_for': {'items': [{'position': 1,\n",
       "    'ticker': 'GOOG',\n",
       "    'ticker_link': 'https://www.google.com/finance/quote/GOOG:NASDAQ',\n",
       "    'title': 'Alphabet Inc Class C',\n",
       "    'price': '$2,298.36',\n",
       "    'price_change': 'Down by 1.98%',\n",
       "    'price_change_formatted': '1.98%'},\n",
       "   {'position': 2,\n",
       "    'ticker': 'AMZN',\n",
       "    'ticker_link': 'https://www.google.com/finance/quote/AMZN:NASDAQ',\n",
       "    'title': 'Amazon.com, Inc.',\n",
       "    'price': '$116.15',\n",
       "    'price_change': 'Down by 4.15%',\n",
       "    'price_change_formatted': '4.15%'},\n",
       "   {'position': 3,\n",
       "    'ticker': 'MSFT',\n",
       "    'ticker_link': 'https://www.google.com/finance/quote/MSFT:NASDAQ',\n",
       "    'title': 'Microsoft Corporation',\n",
       "    'price': '$264.79',\n",
       "    'price_change': 'Down by 2.08%',\n",
       "    'price_change_formatted': '2.08%'},\n",
       "   {'position': 4,\n",
       "    'ticker': 'AAPL',\n",
       "    'ticker_link': 'https://www.google.com/finance/quote/AAPL:NASDAQ',\n",
       "    'title': 'Apple Inc',\n",
       "    'price': '$142.64',\n",
       "    'price_change': 'Down by 3.60%',\n",
       "    'price_change_formatted': '3.60%'},\n",
       "   {'position': 5,\n",
       "    'ticker': 'TSLA',\n",
       "    'ticker_link': 'https://www.google.com/finance/quote/TSLA:NASDAQ',\n",
       "    'title': 'Tesla Inc',\n",
       "    'price': '$719.12',\n",
       "    'price_change': 'Down by 0.89%',\n",
       "    'price_change_formatted': '0.89%'},\n",
       "   {'position': 6,\n",
       "    'ticker': 'META',\n",
       "    'ticker_link': 'https://www.google.com/finance/quote/META:NASDAQ',\n",
       "    'title': 'Meta Platforms Inc',\n",
       "    'price': '$184.00',\n",
       "    'price_change': 'Down by 6.43%',\n",
       "    'price_change_formatted': '6.43%'},\n",
       "   {'position': 7,\n",
       "    'ticker': 'NVDA',\n",
       "    'ticker_link': 'https://www.google.com/finance/quote/NVDA:NASDAQ',\n",
       "    'title': 'NVIDIA Corporation',\n",
       "    'price': '$180.48',\n",
       "    'price_change': 'Down by 3.22%',\n",
       "    'price_change_formatted': '3.22%'},\n",
       "   {'position': 8,\n",
       "    'ticker': 'SNOW',\n",
       "    'ticker_link': 'https://www.google.com/finance/quote/SNOW:NYSE',\n",
       "    'title': 'Snowflake Inc',\n",
       "    'price': '$133.23',\n",
       "    'price_change': 'Down by 1.73%',\n",
       "    'price_change_formatted': '1.73%'},\n",
       "   {'position': 9,\n",
       "    'ticker': 'NFLX',\n",
       "    'ticker_link': 'https://www.google.com/finance/quote/NFLX:NASDAQ',\n",
       "    'title': 'Netflix Inc',\n",
       "    'price': '$192.77',\n",
       "    'price_change': 'Down by 4.96%',\n",
       "    'price_change_formatted': '4.96%'},\n",
       "   {'position': 10,\n",
       "    'ticker': 'DIS',\n",
       "    'ticker_link': 'https://www.google.com/finance/quote/DIS:NYSE',\n",
       "    'title': 'Walt Disney Co',\n",
       "    'price': '$103.30',\n",
       "    'price_change': 'Down by 3.69%',\n",
       "    'price_change_formatted': '3.69%'},\n",
       "   {'position': 11,\n",
       "    'ticker': 'AMD',\n",
       "    'ticker_link': 'https://www.google.com/finance/quote/AMD:NASDAQ',\n",
       "    'title': 'Advanced Micro Devices, Inc.',\n",
       "    'price': '$98.80',\n",
       "    'price_change': 'Down by 3.04%',\n",
       "    'price_change_formatted': '3.04%'},\n",
       "   {'position': 12,\n",
       "    'ticker': 'BRK.B',\n",
       "    'ticker_link': 'https://www.google.com/finance/quote/BRK.B:NYSE',\n",
       "    'title': 'Berkshire Hathaway Inc. Class B',\n",
       "    'price': '$300.80',\n",
       "    'price_change': 'Down by 2.51%',\n",
       "    'price_change_formatted': '2.51%'},\n",
       "   {'position': 13,\n",
       "    'ticker': 'V',\n",
       "    'ticker_link': 'https://www.google.com/finance/quote/V:NYSE',\n",
       "    'title': 'Visa Inc',\n",
       "    'price': '$206.11',\n",
       "    'price_change': 'Down by 3.43%',\n",
       "    'price_change_formatted': '3.43%'},\n",
       "   {'position': 14,\n",
       "    'ticker': 'QQQ',\n",
       "    'ticker_link': 'https://www.google.com/finance/quote/QQQ:NASDAQ',\n",
       "    'title': 'Invesco QQQ Trust Series 1',\n",
       "    'price': '$299.40',\n",
       "    'price_change': 'Down by 2.68%',\n",
       "    'price_change_formatted': '2.68%'},\n",
       "   {'position': 15,\n",
       "    'ticker': 'SPY',\n",
       "    'ticker_link': 'https://www.google.com/finance/quote/SPY:NYSEARCA',\n",
       "    'title': 'SPDR S&P 500 ETF Trust',\n",
       "    'price': '$401.44',\n",
       "    'price_change': 'Down by 2.38%',\n",
       "    'price_change_formatted': '2.38%'},\n",
       "   {'position': 16,\n",
       "    'ticker': 'LCID',\n",
       "    'ticker_link': 'https://www.google.com/finance/quote/LCID:NASDAQ',\n",
       "    'title': 'Lucid Group Inc',\n",
       "    'price': '$18.88',\n",
       "    'price_change': 'Down by 3.62%',\n",
       "    'price_change_formatted': '3.62%'},\n",
       "   {'position': 17,\n",
       "    'ticker': 'PYPL',\n",
       "    'ticker_link': 'https://www.google.com/finance/quote/PYPL:NASDAQ',\n",
       "    'title': 'PayPal Holdings Inc',\n",
       "    'price': '$84.11',\n",
       "    'price_change': 'Down by 3.89%',\n",
       "    'price_change_formatted': '3.89%'},\n",
       "   {'position': 18,\n",
       "    'ticker': 'SHOP',\n",
       "    'ticker_link': 'https://www.google.com/finance/quote/SHOP:NYSE',\n",
       "    'title': 'Shopify Inc',\n",
       "    'price': '$371.39',\n",
       "    'price_change': 'Down by 5.10%',\n",
       "    'price_change_formatted': '5.10%'}]},\n",
       " 'interested_in': {'items': [{'position': 1,\n",
       "    'ticker': 'Index',\n",
       "    'ticker_link': 'https://www.google.com/finance/quote/SENSEX:INDEXBOM',\n",
       "    'title': 'BSE SENSEX',\n",
       "    'price': '54,605.22',\n",
       "    'price_change': 'Down by 1.29%',\n",
       "    'price_change_formatted': '1.29%'},\n",
       "   {'position': 2,\n",
       "    'ticker': 'Index',\n",
       "    'ticker_link': 'https://www.google.com/finance/quote/NIFTY_50:INDEXNSE',\n",
       "    'title': 'NIFTY 50',\n",
       "    'price': '16,276.55',\n",
       "    'price_change': 'Down by 1.22%',\n",
       "    'price_change_formatted': '1.22%'},\n",
       "   {'position': 3,\n",
       "    'ticker': 'Index',\n",
       "    'ticker_link': 'https://www.google.com/finance/quote/.DJI:INDEXDJX',\n",
       "    'title': 'Dow Jones Industrial Average',\n",
       "    'price': '32,272.79',\n",
       "    'price_change': 'Down by 1.94%',\n",
       "    'price_change_formatted': '1.94%'},\n",
       "   {'position': 4,\n",
       "    'ticker': 'BSE',\n",
       "    'ticker_link': 'https://www.google.com/finance/quote/BSE:NSE',\n",
       "    'title': 'BSE Ltd',\n",
       "    'price': '₹717.10',\n",
       "    'price_change': 'Down by 1.58%',\n",
       "    'price_change_formatted': '1.58%'},\n",
       "   {'position': 5,\n",
       "    'ticker': 'Index',\n",
       "    'ticker_link': 'https://www.google.com/finance/quote/.INX:INDEXSP',\n",
       "    'title': 'S&P 500',\n",
       "    'price': '4,017.82',\n",
       "    'price_change': 'Down by 2.38%',\n",
       "    'price_change_formatted': '2.38%'},\n",
       "   {'position': 6,\n",
       "    'ticker': 'RELIANCE',\n",
       "    'ticker_link': 'https://www.google.com/finance/quote/RELIANCE:NSE',\n",
       "    'title': 'Reliance Industries Ltd',\n",
       "    'price': '₹2,764.75',\n",
       "    'price_change': 'Down by 1.21%',\n",
       "    'price_change_formatted': '1.21%'},\n",
       "   {'position': 7,\n",
       "    'ticker': 'ITC',\n",
       "    'ticker_link': 'https://www.google.com/finance/quote/ITC:NSE',\n",
       "    'title': 'ITC Ltd',\n",
       "    'price': '₹270.30',\n",
       "    'price_change': 'Down by 0.20%',\n",
       "    'price_change_formatted': '0.20%'},\n",
       "   {'position': 8,\n",
       "    'ticker': 'SBIN',\n",
       "    'ticker_link': 'https://www.google.com/finance/quote/SBIN:NSE',\n",
       "    'title': 'State Bank of India',\n",
       "    'price': '₹462.70',\n",
       "    'price_change': 'Down by 0.91%',\n",
       "    'price_change_formatted': '0.91%'},\n",
       "   {'position': 9,\n",
       "    'ticker': 'M&M',\n",
       "    'ticker_link': 'https://www.google.com/finance/quote/M&M:NSE',\n",
       "    'title': 'Mahindra & Mahindra Limited',\n",
       "    'price': '₹1,040.15',\n",
       "    'price_change': 'Down by 0.47%',\n",
       "    'price_change_formatted': '0.47%'},\n",
       "   {'position': 10,\n",
       "    'ticker': 'YESBANK',\n",
       "    'ticker_link': 'https://www.google.com/finance/quote/YESBANK:NSE',\n",
       "    'title': 'Yes Bank Limited',\n",
       "    'price': '₹13.10',\n",
       "    'price_change': 'Down by 0.76%',\n",
       "    'price_change_formatted': '0.76%'},\n",
       "   {'position': 11,\n",
       "    'ticker': 'NS',\n",
       "    'ticker_link': 'https://www.google.com/finance/quote/NS:NYSE',\n",
       "    'title': 'NuStar Energy L.P.',\n",
       "    'price': '$16.31',\n",
       "    'price_change': 'Up by 2.00%',\n",
       "    'price_change_formatted': '2.00%'},\n",
       "   {'position': 12,\n",
       "    'ticker': 'Index',\n",
       "    'ticker_link': 'https://www.google.com/finance/quote/VIX:INDEXCBOE',\n",
       "    'title': 'VIX',\n",
       "    'price': '26.09',\n",
       "    'price_change': 'Up by 8.89%',\n",
       "    'price_change_formatted': '8.89%'},\n",
       "   {'position': 13,\n",
       "    'ticker': 'CNC',\n",
       "    'ticker_link': 'https://www.google.com/finance/quote/CNC:NYSE',\n",
       "    'title': 'Centene Corp',\n",
       "    'price': '$80.02',\n",
       "    'price_change': 'Down by 3.10%',\n",
       "    'price_change_formatted': '3.10%'},\n",
       "   {'position': 14,\n",
       "    'ticker': 'CPP',\n",
       "    'ticker_link': 'https://www.google.com/finance/quote/CPP:LON',\n",
       "    'title': 'CPPGroup Plc',\n",
       "    'price': 'GBX\\xa0200.00',\n",
       "    'price_change': 'Up by 3.36%',\n",
       "    'price_change_formatted': '3.36%'},\n",
       "   {'position': 15,\n",
       "    'ticker': 'IDEA',\n",
       "    'ticker_link': 'https://www.google.com/finance/quote/IDEA:NSE',\n",
       "    'title': 'Vodafone Idea Ltd',\n",
       "    'price': '₹9.20',\n",
       "    'price_change': 'Changed by 0.00%',\n",
       "    'price_change_formatted': '0.00%'},\n",
       "   {'position': 16,\n",
       "    'ticker': 'INDUSINDBK',\n",
       "    'ticker_link': 'https://www.google.com/finance/quote/INDUSINDBK:NSE',\n",
       "    'title': 'Indusind Bank Ltd',\n",
       "    'price': '₹913.25',\n",
       "    'price_change': 'Down by 0.77%',\n",
       "    'price_change_formatted': '0.77%'},\n",
       "   {'position': 17,\n",
       "    'ticker': 'UPL',\n",
       "    'ticker_link': 'https://www.google.com/finance/quote/UPL:NSE',\n",
       "    'title': 'UPL Ltd Fully Paid Ord. Shrs',\n",
       "    'price': '₹737.35',\n",
       "    'price_change': 'Down by 1.33%',\n",
       "    'price_change_formatted': '1.33%'},\n",
       "   {'position': 18,\n",
       "    'ticker': 'INFY',\n",
       "    'ticker_link': 'https://www.google.com/finance/quote/INFY:NSE',\n",
       "    'title': 'Infosys Ltd',\n",
       "    'price': '₹1,487.05',\n",
       "    'price_change': 'Down by 1.84%',\n",
       "    'price_change_formatted': '1.84%'}]}}"
      ]
     },
     "execution_count": 88,
     "metadata": {},
     "output_type": "execute_result"
    }
   ],
   "source": [
    "scrape_google_finance(ticker=\"GOOGL:NASDAQ\")"
   ]
  },
  {
   "cell_type": "code",
   "execution_count": 54,
   "metadata": {},
   "outputs": [
    {
     "name": "stdout",
     "output_type": "stream",
     "text": [
      "{\n",
      "  \"current_price\": \"14,601.99\",\n",
      "  \"quote\": \"DAX:Index\",\n",
      "  \"title\": \"DAX PERFORMANCE-INDEX\"\n",
      "}\n",
      "{\n",
      "  \"current_price\": \"$2,290.82\",\n",
      "  \"quote\": \"GOOGL:NASDAQ\",\n",
      "  \"title\": \"Alphabet Inc Class A\"\n",
      "}\n",
      "{\n",
      "  \"current_price\": \"$270.02\",\n",
      "  \"quote\": \"MSFT:NASDAQ\",\n",
      "  \"title\": \"Microsoft Corporation\"\n",
      "}\n"
     ]
    }
   ],
   "source": [
    "for ticker in [\"DAX:INDEXDB\", \"GOOGL:NASDAQ\", \"MSFT:NASDAQ\"]:\n",
    "    data = scrape_google_finance(ticker=ticker)\n",
    "    print(json.dumps(data[\"ticker_data\"], indent=2, ensure_ascii=False))"
   ]
  },
  {
   "cell_type": "code",
   "execution_count": 89,
   "metadata": {},
   "outputs": [
    {
     "data": {
      "text/plain": [
       "{'ticker_data': {'current_price': '₹2,762.95',\n",
       "  'quote': '500325:BOM',\n",
       "  'title': 'Reliance Industries Ltd'},\n",
       " 'about_panel': {'previous_close': '₹2,798.60',\n",
       "  'day_range': '₹2,762.95 - ₹2,790.05',\n",
       "  'year_range': '₹2,016.60 - ₹2,855.00',\n",
       "  'market_cap': '18.72T INR',\n",
       "  'p/e_ratio': '30.41',\n",
       "  'dividend_yield': '-',\n",
       "  'primary_exchange': 'NSE',\n",
       "  'ceo': 'Mukesh Ambani',\n",
       "  'founded': 'May 8, 1973',\n",
       "  'headquarters': 'Mumbai, MaharashtraIndia',\n",
       "  'website': 'ril.com',\n",
       "  'employees': '236,334',\n",
       "  'description': \"Reliance Industries Limited is an Indian multinational conglomerate company, headquartered in Mumbai. It has diverse businesses including energy, petrochemicals, natural gas, retail, telecommunications, mass media, and textiles. Reliance is one of the most profitable companies in India, the largest publicly traded company in India by market capitalisation, and the largest company in India as measured by revenue. It is also the tenth largest employer in India with over 236,000 employees. RIL has a market capitalisation of US$243 billion as of March 31, 2022.\\nThe company is ranked 155th on the Fortune Global 500 list of the world's biggest corporations as of 2021. Reliance continues to be India's largest exporter, accounting for 8% of India's total merchandise exports and access to markets in over 100 countries. Reliance is responsible for almost 5% of the government of India's total revenues from customs and excise duty. It is also the highest income tax payer in the private sector in India. The company has negative free cash flows. Reliance Industries became the first Indian company to cross 100Bn$ in revenues. \",\n",
       "  'extensions': ['Stock', 'IN listed security', 'IN headquartered']},\n",
       " 'news': {'items': [{'position': 1,\n",
       "    'title': \"After Amazon, Flipkart, Reliance and Tata Neu, India's $133 billion \\necommerce market may be too little for a f\",\n",
       "    'link': 'https://www.businessinsider.in/business/ecommerce/news/after-amazon-flipkart-reliance-and-tata-neu-indias-133-billion-ecommerce-market-may-be-too-little-for-a-fifth-player/articleshow/92062540.cms',\n",
       "    'source': 'Business Insider India',\n",
       "    'published': '2 days ago',\n",
       "    'thumbnail': 'https://encrypted-tbn1.gstatic.com/images?q=tbn:ANd9GcQlRpsSoTDWUzECCc_aSeU-M6xLaMLPpCZmQwpFUfU7wb4dYQqZiyRPrXodtHo'},\n",
       "   {'position': 2,\n",
       "    'title': 'Sensex snaps 4-day losing run, rises 428 pts; Nifty holds 16,450; RIL up 3%',\n",
       "    'link': 'https://www.business-standard.com/article/markets/market-live-sensex-nifty-rbi-policy-oil-price-brent-yes-bank-sugar-122060900135_1.html',\n",
       "    'source': 'Business Standard',\n",
       "    'published': '18 hours ago',\n",
       "    'thumbnail': 'https://encrypted-tbn0.gstatic.com/images?q=tbn:ANd9GcS69bsJbc6KBTLyXNfI43vkYSipkMi2pXbNYEXpMSWhdFhG70_DySi2-oIk6gE'},\n",
       "   {'position': 3,\n",
       "    'title': 'Reliance Industries, HDFC, Bajaj Auto, Dr Reddy’s, ICICI Bank, Escorts \\nstocks in focus on 10 June 2022',\n",
       "    'link': 'https://www.financialexpress.com/market/stocks-to-watch-reliance-industries-ril-hdfc-bajaj-auto-dr-reddys-icici-bank-escorts-stocks-in-focus-on-10-june/2555009/',\n",
       "    'source': 'The Financial Express',\n",
       "    'published': '2 hours ago',\n",
       "    'thumbnail': 'https://encrypted-tbn0.gstatic.com/images?q=tbn:ANd9GcQbgWxo5KoLm_vYKkf2lrjS1t3_tzlEhB-cRE2VWks0NWj24S88hleMaiGnm2o'}]},\n",
       " 'finance_perfomance': {'table': [{'Revenue': {'Mar 2022': '2.07T',\n",
       "     'Year/year change': '38.64%'}},\n",
       "   {'Net income': {'Mar 2022': '162.03B', 'Year/year change': '22.50%'}},\n",
       "   {'Diluted EPS': {'Mar 2022': '23.95', 'Year/year change': '18.98%'}},\n",
       "   {'Net profit margin': {'Mar 2022': '7.81%', 'Year/year change': '-11.65%'}},\n",
       "   {'Operating income': {'Mar 2022': '233.65B', 'Year/year change': '48.65%'}},\n",
       "   {'Net change in cash': {'Mar 2022': '—', 'Year/year change': None}},\n",
       "   {'Cash and equivalents': {'Mar 2022': '361.78B',\n",
       "     'Year/year change': '107.96%'}},\n",
       "   {'Cost of revenue': {'Mar 2022': '1.45T', 'Year/year change': '40.15%'}}]},\n",
       " 'people_also_search_for': {'items': [{'position': 1,\n",
       "    'ticker': '500180',\n",
       "    'ticker_link': 'https://www.google.com/finance/quote/500180:BOM',\n",
       "    'title': 'HDFC Bank Limited',\n",
       "    'price': '₹1,351.95',\n",
       "    'price_change': 'Down by 1.84%',\n",
       "    'price_change_formatted': '1.84%'},\n",
       "   {'position': 2,\n",
       "    'ticker': '500312',\n",
       "    'ticker_link': 'https://www.google.com/finance/quote/500312:BOM',\n",
       "    'title': 'Oil & Natural Gas Corporation Limited',\n",
       "    'price': '₹164.70',\n",
       "    'price_change': 'Down by 0.54%',\n",
       "    'price_change_formatted': '0.54%'},\n",
       "   {'position': 3,\n",
       "    'ticker': '500470',\n",
       "    'ticker_link': 'https://www.google.com/finance/quote/500470:BOM',\n",
       "    'title': 'Tata Steel Limited Fully Paid Ord. Shrs',\n",
       "    'price': '₹1,017.45',\n",
       "    'price_change': 'Down by 2.67%',\n",
       "    'price_change_formatted': '2.67%'},\n",
       "   {'position': 4,\n",
       "    'ticker': '532540',\n",
       "    'ticker_link': 'https://www.google.com/finance/quote/532540:BOM',\n",
       "    'title': 'Tata Consultancy Services Limited',\n",
       "    'price': '₹3,370.55',\n",
       "    'price_change': 'Down by 1.63%',\n",
       "    'price_change_formatted': '1.63%'},\n",
       "   {'position': 5,\n",
       "    'ticker': '500209',\n",
       "    'ticker_link': 'https://www.google.com/finance/quote/500209:BOM',\n",
       "    'title': 'Infosys Ltd',\n",
       "    'price': '₹1,487.80',\n",
       "    'price_change': 'Down by 1.77%',\n",
       "    'price_change_formatted': '1.77%'},\n",
       "   {'position': 6,\n",
       "    'ticker': '532174',\n",
       "    'ticker_link': 'https://www.google.com/finance/quote/532174:BOM',\n",
       "    'title': 'ICICI Bank Ltd',\n",
       "    'price': '₹727.30',\n",
       "    'price_change': 'Down by 0.77%',\n",
       "    'price_change_formatted': '0.77%'},\n",
       "   {'position': 7,\n",
       "    'ticker': '500010',\n",
       "    'ticker_link': 'https://www.google.com/finance/quote/500010:BOM',\n",
       "    'title': 'Housing Development Finance Corp Ltd',\n",
       "    'price': '₹2,199.95',\n",
       "    'price_change': 'Down by 2.90%',\n",
       "    'price_change_formatted': '2.90%'},\n",
       "   {'position': 8,\n",
       "    'ticker': '500696',\n",
       "    'ticker_link': 'https://www.google.com/finance/quote/500696:BOM',\n",
       "    'title': 'Hindustan Unilever Ltd',\n",
       "    'price': '₹2,189.65',\n",
       "    'price_change': 'Down by 0.33%',\n",
       "    'price_change_formatted': '0.33%'},\n",
       "   {'position': 9,\n",
       "    'ticker': '500875',\n",
       "    'ticker_link': 'https://www.google.com/finance/quote/500875:BOM',\n",
       "    'title': 'ITC Ltd',\n",
       "    'price': '₹270.45',\n",
       "    'price_change': 'Down by 0.15%',\n",
       "    'price_change_formatted': '0.15%'},\n",
       "   {'position': 10,\n",
       "    'ticker': '500510',\n",
       "    'ticker_link': 'https://www.google.com/finance/quote/500510:BOM',\n",
       "    'title': 'Larsen & Toubro Limited',\n",
       "    'price': '₹1,576.25',\n",
       "    'price_change': 'Down by 1.25%',\n",
       "    'price_change_formatted': '1.25%'},\n",
       "   {'position': 11,\n",
       "    'ticker': '500247',\n",
       "    'ticker_link': 'https://www.google.com/finance/quote/500247:BOM',\n",
       "    'title': 'Kotak Mahindra Bank Ltd Fully Paid Ord. Shrs',\n",
       "    'price': '₹1,813.00',\n",
       "    'price_change': 'Down by 2.84%',\n",
       "    'price_change_formatted': '2.84%'},\n",
       "   {'position': 12,\n",
       "    'ticker': '532454',\n",
       "    'ticker_link': 'https://www.google.com/finance/quote/532454:BOM',\n",
       "    'title': 'Bharti Airtel Limited',\n",
       "    'price': '₹674.10',\n",
       "    'price_change': 'Down by 0.35%',\n",
       "    'price_change_formatted': '0.35%'},\n",
       "   {'position': 13,\n",
       "    'ticker': '500112',\n",
       "    'ticker_link': 'https://www.google.com/finance/quote/500112:BOM',\n",
       "    'title': 'State Bank of India',\n",
       "    'price': '₹462.90',\n",
       "    'price_change': 'Down by 0.85%',\n",
       "    'price_change_formatted': '0.85%'},\n",
       "   {'position': 14,\n",
       "    'ticker': '532215',\n",
       "    'ticker_link': 'https://www.google.com/finance/quote/532215:BOM',\n",
       "    'title': 'Axis Bank Ltd',\n",
       "    'price': '₹662.25',\n",
       "    'price_change': 'Up by 0.17%',\n",
       "    'price_change_formatted': '0.17%'},\n",
       "   {'position': 15,\n",
       "    'ticker': '500034',\n",
       "    'ticker_link': 'https://www.google.com/finance/quote/500034:BOM',\n",
       "    'title': 'Bajaj Finance Ltd',\n",
       "    'price': '₹5,700.15',\n",
       "    'price_change': 'Down by 3.35%',\n",
       "    'price_change_formatted': '3.35%'},\n",
       "   {'position': 16,\n",
       "    'ticker': '500520',\n",
       "    'ticker_link': 'https://www.google.com/finance/quote/500520:BOM',\n",
       "    'title': 'Mahindra & Mahindra Limited',\n",
       "    'price': '₹1,040.10',\n",
       "    'price_change': 'Down by 0.48%',\n",
       "    'price_change_formatted': '0.48%'},\n",
       "   {'position': 17,\n",
       "    'ticker': '532500',\n",
       "    'ticker_link': 'https://www.google.com/finance/quote/532500:BOM',\n",
       "    'title': 'Maruti Suzuki India Ltd',\n",
       "    'price': '₹7,945.40',\n",
       "    'price_change': 'Up by 0.25%',\n",
       "    'price_change_formatted': '0.25%'},\n",
       "   {'position': 18,\n",
       "    'ticker': '532555',\n",
       "    'ticker_link': 'https://www.google.com/finance/quote/532555:BOM',\n",
       "    'title': 'NTPC Limited',\n",
       "    'price': '₹154.85',\n",
       "    'price_change': 'Down by 0.23%',\n",
       "    'price_change_formatted': '0.23%'}]},\n",
       " 'interested_in': {'items': [{'position': 1,\n",
       "    'ticker': 'Index',\n",
       "    'ticker_link': 'https://www.google.com/finance/quote/SENSEX:INDEXBOM',\n",
       "    'title': 'BSE SENSEX',\n",
       "    'price': '54,613.67',\n",
       "    'price_change': 'Down by 1.28%',\n",
       "    'price_change_formatted': '1.28%'},\n",
       "   {'position': 2,\n",
       "    'ticker': 'Index',\n",
       "    'ticker_link': 'https://www.google.com/finance/quote/NIFTY_50:INDEXNSE',\n",
       "    'title': 'NIFTY 50',\n",
       "    'price': '16,278.25',\n",
       "    'price_change': 'Down by 1.21%',\n",
       "    'price_change_formatted': '1.21%'},\n",
       "   {'position': 3,\n",
       "    'ticker': 'Index',\n",
       "    'ticker_link': 'https://www.google.com/finance/quote/.DJI:INDEXDJX',\n",
       "    'title': 'Dow Jones Industrial Average',\n",
       "    'price': '32,272.79',\n",
       "    'price_change': 'Down by 1.94%',\n",
       "    'price_change_formatted': '1.94%'},\n",
       "   {'position': 4,\n",
       "    'ticker': 'BSE',\n",
       "    'ticker_link': 'https://www.google.com/finance/quote/BSE:NSE',\n",
       "    'title': 'BSE Ltd',\n",
       "    'price': '₹717.65',\n",
       "    'price_change': 'Down by 1.50%',\n",
       "    'price_change_formatted': '1.50%'},\n",
       "   {'position': 5,\n",
       "    'ticker': 'Index',\n",
       "    'ticker_link': 'https://www.google.com/finance/quote/.INX:INDEXSP',\n",
       "    'title': 'S&P 500',\n",
       "    'price': '4,017.82',\n",
       "    'price_change': 'Down by 2.38%',\n",
       "    'price_change_formatted': '2.38%'},\n",
       "   {'position': 6,\n",
       "    'ticker': 'RELIANCE',\n",
       "    'ticker_link': 'https://www.google.com/finance/quote/RELIANCE:NSE',\n",
       "    'title': 'Reliance Industries Ltd',\n",
       "    'price': '₹2,764.80',\n",
       "    'price_change': 'Down by 1.21%',\n",
       "    'price_change_formatted': '1.21%'},\n",
       "   {'position': 7,\n",
       "    'ticker': 'ITC',\n",
       "    'ticker_link': 'https://www.google.com/finance/quote/ITC:NSE',\n",
       "    'title': 'ITC Ltd',\n",
       "    'price': '₹270.45',\n",
       "    'price_change': 'Down by 0.15%',\n",
       "    'price_change_formatted': '0.15%'},\n",
       "   {'position': 8,\n",
       "    'ticker': 'SBIN',\n",
       "    'ticker_link': 'https://www.google.com/finance/quote/SBIN:NSE',\n",
       "    'title': 'State Bank of India',\n",
       "    'price': '₹462.70',\n",
       "    'price_change': 'Down by 0.91%',\n",
       "    'price_change_formatted': '0.91%'},\n",
       "   {'position': 9,\n",
       "    'ticker': 'M&M',\n",
       "    'ticker_link': 'https://www.google.com/finance/quote/M&M:NSE',\n",
       "    'title': 'Mahindra & Mahindra Limited',\n",
       "    'price': '₹1,040.00',\n",
       "    'price_change': 'Down by 0.49%',\n",
       "    'price_change_formatted': '0.49%'},\n",
       "   {'position': 10,\n",
       "    'ticker': 'YESBANK',\n",
       "    'ticker_link': 'https://www.google.com/finance/quote/YESBANK:NSE',\n",
       "    'title': 'Yes Bank Limited',\n",
       "    'price': '₹13.15',\n",
       "    'price_change': 'Down by 0.38%',\n",
       "    'price_change_formatted': '0.38%'},\n",
       "   {'position': 11,\n",
       "    'ticker': 'NS',\n",
       "    'ticker_link': 'https://www.google.com/finance/quote/NS:NYSE',\n",
       "    'title': 'NuStar Energy L.P.',\n",
       "    'price': '$16.31',\n",
       "    'price_change': 'Up by 2.00%',\n",
       "    'price_change_formatted': '2.00%'},\n",
       "   {'position': 12,\n",
       "    'ticker': 'Index',\n",
       "    'ticker_link': 'https://www.google.com/finance/quote/VIX:INDEXCBOE',\n",
       "    'title': 'VIX',\n",
       "    'price': '26.09',\n",
       "    'price_change': 'Up by 8.89%',\n",
       "    'price_change_formatted': '8.89%'},\n",
       "   {'position': 13,\n",
       "    'ticker': 'CNC',\n",
       "    'ticker_link': 'https://www.google.com/finance/quote/CNC:NYSE',\n",
       "    'title': 'Centene Corp',\n",
       "    'price': '$80.02',\n",
       "    'price_change': 'Down by 3.10%',\n",
       "    'price_change_formatted': '3.10%'},\n",
       "   {'position': 14,\n",
       "    'ticker': 'CPP',\n",
       "    'ticker_link': 'https://www.google.com/finance/quote/CPP:LON',\n",
       "    'title': 'CPPGroup Plc',\n",
       "    'price': 'GBX\\xa0200.00',\n",
       "    'price_change': 'Up by 3.36%',\n",
       "    'price_change_formatted': '3.36%'},\n",
       "   {'position': 15,\n",
       "    'ticker': 'IDEA',\n",
       "    'ticker_link': 'https://www.google.com/finance/quote/IDEA:NSE',\n",
       "    'title': 'Vodafone Idea Ltd',\n",
       "    'price': '₹9.15',\n",
       "    'price_change': 'Down by 0.54%',\n",
       "    'price_change_formatted': '0.54%'},\n",
       "   {'position': 16,\n",
       "    'ticker': 'INDUSINDBK',\n",
       "    'ticker_link': 'https://www.google.com/finance/quote/INDUSINDBK:NSE',\n",
       "    'title': 'Indusind Bank Ltd',\n",
       "    'price': '₹913.25',\n",
       "    'price_change': 'Down by 0.77%',\n",
       "    'price_change_formatted': '0.77%'},\n",
       "   {'position': 17,\n",
       "    'ticker': 'UPL',\n",
       "    'ticker_link': 'https://www.google.com/finance/quote/UPL:NSE',\n",
       "    'title': 'UPL Ltd Fully Paid Ord. Shrs',\n",
       "    'price': '₹737.40',\n",
       "    'price_change': 'Down by 1.32%',\n",
       "    'price_change_formatted': '1.32%'},\n",
       "   {'position': 18,\n",
       "    'ticker': 'INFY',\n",
       "    'ticker_link': 'https://www.google.com/finance/quote/INFY:NSE',\n",
       "    'title': 'Infosys Ltd',\n",
       "    'price': '₹1,487.80',\n",
       "    'price_change': 'Down by 1.80%',\n",
       "    'price_change_formatted': '1.80%'}]}}"
      ]
     },
     "execution_count": 89,
     "metadata": {},
     "output_type": "execute_result"
    }
   ],
   "source": [
    "scrape_google_finance(ticker=symbol)"
   ]
  },
  {
   "cell_type": "markdown",
   "metadata": {},
   "source": [
    "## Extract Google Finance Chart Time-Series Data"
   ]
  },
  {
   "cell_type": "code",
   "execution_count": null,
   "metadata": {},
   "outputs": [],
   "source": [
    "# https://apis.google.com/_/scs/abc-static/_/js/k=gapi.gapi.en.BYmJjssVfqI.O/m=gapi_iframes,googleapis_client/rt=j/sv=1/d=1/ed=1/rs=AHpOoo80_DzWbqWOZXEixUAk9-Z2HYlC7A/cb=gapi.loaded_0"
   ]
  },
  {
   "cell_type": "code",
   "execution_count": 90,
   "metadata": {},
   "outputs": [],
   "source": [
    "ticker=symbol"
   ]
  },
  {
   "cell_type": "code",
   "execution_count": 91,
   "metadata": {},
   "outputs": [],
   "source": [
    "params = {\"hl\": \"en\"}\n",
    "headers = {\"User-Agent\": \"Mozilla/5.0 (Windows NT 10.0; Win64; x64) AppleWebKit/537.36 (KHTML, like Gecko) Chrome/100.0.4896.60 Safari/537.36\",\n",
    "        }\n",
    "html = requests.get(f\"https://www.google.com/finance/quote/{ticker}\", params=params, headers=headers, timeout=30)"
   ]
  },
  {
   "cell_type": "code",
   "execution_count": 67,
   "metadata": {},
   "outputs": [],
   "source": [
    "# print(html.text)"
   ]
  },
  {
   "cell_type": "code",
   "execution_count": 92,
   "metadata": {},
   "outputs": [
    {
     "name": "stdout",
     "output_type": "stream",
     "text": [
      "200\n"
     ]
    }
   ],
   "source": [
    "print(html.status_code)"
   ]
  },
  {
   "cell_type": "code",
   "execution_count": 93,
   "metadata": {},
   "outputs": [],
   "source": [
    "soup = BeautifulSoup(html.content, 'html.parser')"
   ]
  },
  {
   "cell_type": "code",
   "execution_count": 69,
   "metadata": {},
   "outputs": [],
   "source": [
    "# Extract title of page\n",
    "page_title = soup.title.text\n",
    "\n",
    "# Extract body of page\n",
    "page_body = soup.body\n",
    "\n",
    "# Extract head of page\n",
    "page_head = soup.head"
   ]
  },
  {
   "cell_type": "code",
   "execution_count": null,
   "metadata": {},
   "outputs": [],
   "source": [
    "page_body"
   ]
  },
  {
   "cell_type": "code",
   "execution_count": 32,
   "metadata": {},
   "outputs": [],
   "source": [
    "soup = BeautifulSoup(html.content, 'lxml')"
   ]
  },
  {
   "cell_type": "code",
   "execution_count": 73,
   "metadata": {},
   "outputs": [
    {
     "data": {
      "text/plain": [
       "'Reliance Industries Ltd'"
      ]
     },
     "execution_count": 73,
     "metadata": {},
     "output_type": "execute_result"
    }
   ],
   "source": [
    "first_h1 = soup.select_one(\".zzDege\").text\n",
    "first_h1"
   ]
  },
  {
   "cell_type": "code",
   "execution_count": 74,
   "metadata": {},
   "outputs": [
    {
     "data": {
      "text/plain": [
       "'₹2,766.90'"
      ]
     },
     "execution_count": 74,
     "metadata": {},
     "output_type": "execute_result"
    }
   ],
   "source": [
    "soup.select_one(\".AHmHk .fxKbKc\").text"
   ]
  },
  {
   "cell_type": "code",
   "execution_count": 75,
   "metadata": {},
   "outputs": [
    {
     "data": {
      "text/plain": [
       "[<div aria-describedby=\"tt0i14\" class=\"mfs7Fc\" data-tooltip-anchor-boundary-type=\"2\" data-tooltip-x-position=\"2\" jsaction=\"mouseenter:tfO1Yc; focus:AHmuwe; blur:O22p3e; mouseleave:JywGue; touchstart:p6p2H; touchend:yfqBxc;mlnRJb:fLiPzd;\" jscontroller=\"e2jnoe\">Previous close</div>,\n",
       " <div aria-describedby=\"tt1i15\" class=\"mfs7Fc\" data-tooltip-anchor-boundary-type=\"2\" data-tooltip-x-position=\"2\" jsaction=\"mouseenter:tfO1Yc; focus:AHmuwe; blur:O22p3e; mouseleave:JywGue; touchstart:p6p2H; touchend:yfqBxc;mlnRJb:fLiPzd;\" jscontroller=\"e2jnoe\">Day range</div>,\n",
       " <div aria-describedby=\"tt2i16\" class=\"mfs7Fc\" data-tooltip-anchor-boundary-type=\"2\" data-tooltip-x-position=\"2\" jsaction=\"mouseenter:tfO1Yc; focus:AHmuwe; blur:O22p3e; mouseleave:JywGue; touchstart:p6p2H; touchend:yfqBxc;mlnRJb:fLiPzd;\" jscontroller=\"e2jnoe\">Year range</div>,\n",
       " <div aria-describedby=\"tt3i17\" class=\"mfs7Fc\" data-tooltip-anchor-boundary-type=\"2\" data-tooltip-x-position=\"2\" jsaction=\"mouseenter:tfO1Yc; focus:AHmuwe; blur:O22p3e; mouseleave:JywGue; touchstart:p6p2H; touchend:yfqBxc;mlnRJb:fLiPzd;\" jscontroller=\"e2jnoe\">Market cap</div>,\n",
       " <div aria-describedby=\"tt5i18\" class=\"mfs7Fc\" data-tooltip-anchor-boundary-type=\"2\" data-tooltip-x-position=\"2\" jsaction=\"mouseenter:tfO1Yc; focus:AHmuwe; blur:O22p3e; mouseleave:JywGue; touchstart:p6p2H; touchend:yfqBxc;mlnRJb:fLiPzd;\" jscontroller=\"e2jnoe\">P/E ratio</div>,\n",
       " <div aria-describedby=\"tt6i19\" class=\"mfs7Fc\" data-tooltip-anchor-boundary-type=\"2\" data-tooltip-x-position=\"2\" jsaction=\"mouseenter:tfO1Yc; focus:AHmuwe; blur:O22p3e; mouseleave:JywGue; touchstart:p6p2H; touchend:yfqBxc;mlnRJb:fLiPzd;\" jscontroller=\"e2jnoe\">Dividend yield</div>,\n",
       " <div aria-describedby=\"tt7i20\" class=\"mfs7Fc\" data-tooltip-anchor-boundary-type=\"2\" data-tooltip-x-position=\"2\" jsaction=\"mouseenter:tfO1Yc; focus:AHmuwe; blur:O22p3e; mouseleave:JywGue; touchstart:p6p2H; touchend:yfqBxc;mlnRJb:fLiPzd;\" jscontroller=\"e2jnoe\">Primary exchange</div>,\n",
       " <div class=\"mfs7Fc\"><span aria-hidden=\"true\" class=\"gnzz8b\"><svg class=\"NMm5M\" focusable=\"false\" height=\"14\" viewbox=\"0 0 24 24\" width=\"14\"><path d=\"M12 6c1.1 0 2 .9 2 2s-.9 2-2 2-2-.9-2-2 .9-2 2-2m0 9c2.7 0 5.8 1.29 6 2v1H6v-.99c.2-.72 3.3-2.01 6-2.01m0-11C9.79 4 8 5.79 8 8s1.79 4 4 4 4-1.79 4-4-1.79-4-4-4zm0 9c-2.67 0-8 1.34-8 4v3h16v-3c0-2.66-5.33-4-8-4z\"></path></svg></span>CEO</div>,\n",
       " <div class=\"mfs7Fc\"><span aria-hidden=\"true\" class=\"gnzz8b\"><svg class=\"NMm5M\" focusable=\"false\" height=\"14\" viewbox=\"0 0 24 24\" width=\"14\"><path d=\"M19 4h-1V2h-2v2H8V2H6v2H5c-1.11 0-1.99.9-1.99 2L3 20a2 2 0 0 0 2 2h14c1.1 0 2-.9 2-2V6c0-1.1-.9-2-2-2zm0 16H5V10h14v10z\"></path><path d=\"M14.5 13a2.5 2.5 0 0 0 0 5 2.5 2.5 0 0 0 0-5z\"></path></svg></span>Founded</div>,\n",
       " <div class=\"mfs7Fc\"><span aria-hidden=\"true\" class=\"gnzz8b\"><svg class=\"NMm5M\" focusable=\"false\" height=\"14\" viewbox=\"0 0 24 24\" width=\"14\"><path d=\"M12 2C8.13 2 5 5.13 5 9c0 5.25 7 13 7 13s7-7.75 7-13c0-3.87-3.13-7-7-7zM7 9c0-2.76 2.24-5 5-5s5 2.24 5 5c0 2.88-2.88 7.19-5 9.88C9.92 16.21 7 11.85 7 9z\"></path><circle cx=\"12\" cy=\"9\" r=\"2.5\"></circle></svg></span>Headquarters</div>,\n",
       " <div class=\"mfs7Fc\"><span aria-hidden=\"true\" class=\"gnzz8b\"><svg class=\"NMm5M\" focusable=\"false\" height=\"14\" viewbox=\"0 0 24 24\" width=\"14\"><path d=\"M20 4H4a2 2 0 0 0-2 2v12a2 2 0 0 0 2 2h16c1.1 0 2-.9 2-2V6a2 2 0 0 0-2-2zm0 14H4V8h16v10z\"></path></svg></span>Website</div>,\n",
       " <div class=\"mfs7Fc\"><span aria-hidden=\"true\" class=\"gnzz8b\"><svg class=\"NMm5M\" focusable=\"false\" height=\"14\" viewbox=\"0 0 24 24\" width=\"14\"><path d=\"M15 8c0-1.42-.5-2.73-1.33-3.76.42-.14.86-.24 1.33-.24 2.21 0 4 1.79 4 4s-1.79 4-4 4c-.43 0-.84-.09-1.23-.21-.03-.01-.06-.02-.1-.03A5.98 5.98 0 0 0 15 8zm1.66 5.13C18.03 14.06 19 15.32 19 17v3h4v-3c0-2.18-3.58-3.47-6.34-3.87zM9 6c-1.1 0-2 .9-2 2s.9 2 2 2 2-.9 2-2-.9-2-2-2m0 9c-2.7 0-5.8 1.29-6 2.01V18h12v-1c-.2-.71-3.3-2-6-2M9 4c2.21 0 4 1.79 4 4s-1.79 4-4 4-4-1.79-4-4 1.79-4 4-4zm0 9c2.67 0 8 1.34 8 4v3H1v-3c0-2.66 5.33-4 8-4z\"></path></svg></span>Employees</div>]"
      ]
     },
     "execution_count": 75,
     "metadata": {},
     "output_type": "execute_result"
    }
   ],
   "source": [
    "soup.select(\".gyFHrc .mfs7Fc\")"
   ]
  },
  {
   "cell_type": "code",
   "execution_count": 76,
   "metadata": {},
   "outputs": [
    {
     "data": {
      "text/plain": [
       "[<div class=\"P6K39c\">₹2,779.50</div>,\n",
       " <div class=\"P6K39c\">₹2,751.55 - ₹2,813.75</div>,\n",
       " <div class=\"P6K39c\">₹2,016.60 - ₹2,855.00</div>,\n",
       " <div class=\"P6K39c\">18.73T INR</div>,\n",
       " <div class=\"P6K39c\">30.46</div>,\n",
       " <div class=\"P6K39c\">-</div>,\n",
       " <div class=\"P6K39c\">NSE</div>,\n",
       " <div class=\"P6K39c\"><a class=\"tBHE4e\" href=\"https://www.google.com/search?q=Mukesh%20Ambani&amp;hl=en\" target=\"_blank\">Mukesh Ambani</a></div>,\n",
       " <div class=\"P6K39c\">May 8, 1973</div>,\n",
       " <div class=\"P6K39c\"><a class=\"tBHE4e\" href=\"https://www.google.com/maps/place/Makers%20Chambers%20-%20IV%2C%20%20Nariman%20Point%2C%20Mumbai%2C%20Maharashtra%2C%20India?hl=en\" target=\"_blank\">Mumbai, Maharashtra<br/>India</a></div>,\n",
       " <div class=\"P6K39c\"><a class=\"tBHE4e\" href=\"http://www.ril.com/\" rel=\"noopener noreferrer\" target=\"_blank\">ril.com</a></div>,\n",
       " <div class=\"P6K39c\">236,334</div>]"
      ]
     },
     "execution_count": 76,
     "metadata": {},
     "output_type": "execute_result"
    }
   ],
   "source": [
    "soup.select(\".gyFHrc .P6K39c\")"
   ]
  },
  {
   "cell_type": "code",
   "execution_count": 77,
   "metadata": {},
   "outputs": [
    {
     "data": {
      "text/plain": [
       "[<div class=\"ygUjEc\" jsname=\"Vebqub\">Jun 6, 4:01:28 PM GMT+5:30 · INR · BOM · <a href=\"https://www.google.com/intl/en_IN/googlefinance/disclaimer/\"><span class=\"koPoYd\">Disclaimer</span></a></div>]"
      ]
     },
     "execution_count": 77,
     "metadata": {},
     "output_type": "execute_result"
    }
   ],
   "source": [
    "soup.select(\".ygUjEc\")"
   ]
  },
  {
   "cell_type": "code",
   "execution_count": 23,
   "metadata": {},
   "outputs": [],
   "source": [
    "soup = BeautifulSoup(html.content, 'html.parser')"
   ]
  },
  {
   "cell_type": "code",
   "execution_count": 24,
   "metadata": {},
   "outputs": [
    {
     "data": {
      "text/plain": [
       "[]"
      ]
     },
     "execution_count": 24,
     "metadata": {},
     "output_type": "execute_result"
    }
   ],
   "source": [
    "soup.select(\".hSGhwc\")"
   ]
  },
  {
   "cell_type": "code",
   "execution_count": 25,
   "metadata": {},
   "outputs": [
    {
     "data": {
      "text/plain": [
       "[]"
      ]
     },
     "execution_count": 25,
     "metadata": {},
     "output_type": "execute_result"
    }
   ],
   "source": [
    "soup.select(\".Zelcpf\")"
   ]
  },
  {
   "cell_type": "code",
   "execution_count": 26,
   "metadata": {},
   "outputs": [
    {
     "data": {
      "text/plain": [
       "[<div aria-hidden=\"true\" class=\"ushogf\" jslog=\"105957;ved:2ahUKEwjY47v5-Jj4AhUrwYQAHZiyB6EQ5bsGegQIAhAX;track:click\" jsname=\"TFpDrb\" soy-skip=\"\" ssk=\"5:chart\"></div>]"
      ]
     },
     "execution_count": 26,
     "metadata": {},
     "output_type": "execute_result"
    }
   ],
   "source": [
    "soup.select(\".ushogf\")"
   ]
  },
  {
   "cell_type": "code",
   "execution_count": 27,
   "metadata": {},
   "outputs": [
    {
     "data": {
      "text/plain": [
       "[]"
      ]
     },
     "execution_count": 27,
     "metadata": {},
     "output_type": "execute_result"
    }
   ],
   "source": [
    "soup.select(\".pmHZZb\")"
   ]
  },
  {
   "cell_type": "code",
   "execution_count": 28,
   "metadata": {},
   "outputs": [
    {
     "data": {
      "text/plain": [
       "[]"
      ]
     },
     "execution_count": 28,
     "metadata": {},
     "output_type": "execute_result"
    }
   ],
   "source": [
    "soup.select(\".gJBfM\")"
   ]
  },
  {
   "cell_type": "code",
   "execution_count": 29,
   "metadata": {},
   "outputs": [
    {
     "data": {
      "text/plain": [
       "[]"
      ]
     },
     "execution_count": 29,
     "metadata": {},
     "output_type": "execute_result"
    }
   ],
   "source": [
    "soup.select(\".NuOFub\")"
   ]
  },
  {
   "cell_type": "code",
   "execution_count": 30,
   "metadata": {},
   "outputs": [
    {
     "data": {
      "text/plain": [
       "[]"
      ]
     },
     "execution_count": 30,
     "metadata": {},
     "output_type": "execute_result"
    }
   ],
   "source": [
    "soup.select(\".nvTgfe\")"
   ]
  },
  {
   "cell_type": "code",
   "execution_count": 33,
   "metadata": {},
   "outputs": [
    {
     "data": {
      "text/plain": [
       "[]"
      ]
     },
     "execution_count": 33,
     "metadata": {},
     "output_type": "execute_result"
    }
   ],
   "source": [
    "soup.select(\".hSGhwc-Z1Y4af\")"
   ]
  },
  {
   "cell_type": "code",
   "execution_count": 26,
   "metadata": {},
   "outputs": [],
   "source": [
    "ticker='RELIANCE:NSE'"
   ]
  },
  {
   "cell_type": "code",
   "execution_count": 29,
   "metadata": {},
   "outputs": [],
   "source": [
    "html = requests.get(f\"https://www.google.com/finance/quote/{ticker}?window=MAX\", params=params, headers=headers, timeout=30)"
   ]
  },
  {
   "cell_type": "code",
   "execution_count": 43,
   "metadata": {},
   "outputs": [],
   "source": [
    "# Extract title of page\n",
    "page_title = soup.title.text\n",
    "\n",
    "# Extract body of page\n",
    "page_body = soup.body\n",
    "\n",
    "# Extract head of page\n",
    "page_head = soup.head"
   ]
  },
  {
   "cell_type": "code",
   "execution_count": 44,
   "metadata": {},
   "outputs": [
    {
     "data": {
      "text/plain": [
       "'Reliance Industries Ltd (500325) Stock Price & News - Google Finance'"
      ]
     },
     "execution_count": 44,
     "metadata": {},
     "output_type": "execute_result"
    }
   ],
   "source": [
    "page_title"
   ]
  },
  {
   "cell_type": "code",
   "execution_count": 97,
   "metadata": {},
   "outputs": [
    {
     "data": {
      "text/plain": [
       "<div class=\"ygUjEc\" jsname=\"Vebqub\">Jun 10, 11:09:26 AM GMT+5:30 · INR · BOM · <a href=\"https://www.google.com/intl/en_IN/googlefinance/disclaimer/\"><span class=\"koPoYd\">Disclaimer</span></a></div>"
      ]
     },
     "execution_count": 97,
     "metadata": {},
     "output_type": "execute_result"
    }
   ],
   "source": [
    "soup.select_one(\".ygUjEc\")"
   ]
  },
  {
   "cell_type": "code",
   "execution_count": 99,
   "metadata": {},
   "outputs": [],
   "source": [
    "params = {\"hl\": \"en\"}\n",
    "headers = {\"User-Agent\": \"Mozilla/5.0 (Windows NT 10.0; Win64; x64) AppleWebKit/537.36 (KHTML, like Gecko) Chrome/100.0.4896.60 Safari/537.36\",\n",
    "        }"
   ]
  },
  {
   "cell_type": "code",
   "execution_count": 107,
   "metadata": {},
   "outputs": [
    {
     "data": {
      "text/plain": [
       "'₹2,758.50'"
      ]
     },
     "execution_count": 107,
     "metadata": {},
     "output_type": "execute_result"
    }
   ],
   "source": [
    "soup.select_one(\".AHmHk .fxKbKc\").text"
   ]
  },
  {
   "cell_type": "code",
   "execution_count": 83,
   "metadata": {},
   "outputs": [
    {
     "data": {
      "text/plain": [
       "[<span class=\"VfPpkd-jY41G-V67aGc\" jsname=\"V67aGc\">1D</span>,\n",
       " <span class=\"VfPpkd-jY41G-V67aGc\" jsname=\"V67aGc\">5D</span>,\n",
       " <span class=\"VfPpkd-jY41G-V67aGc\" jsname=\"V67aGc\">1M</span>,\n",
       " <span class=\"VfPpkd-jY41G-V67aGc\" jsname=\"V67aGc\">6M</span>,\n",
       " <span class=\"VfPpkd-jY41G-V67aGc\" jsname=\"V67aGc\">YTD</span>,\n",
       " <span class=\"VfPpkd-jY41G-V67aGc\" jsname=\"V67aGc\">1Y</span>,\n",
       " <span class=\"VfPpkd-jY41G-V67aGc\" jsname=\"V67aGc\">5Y</span>,\n",
       " <span class=\"VfPpkd-jY41G-V67aGc\" jsname=\"V67aGc\">MAX</span>]"
      ]
     },
     "execution_count": 83,
     "metadata": {},
     "output_type": "execute_result"
    }
   ],
   "source": [
    "soup.select(\".VfPpkd-jY41G-V67aGc\")"
   ]
  },
  {
   "cell_type": "code",
   "execution_count": 30,
   "metadata": {},
   "outputs": [],
   "source": [
    "soup = BeautifulSoup(html.content, 'html.parser')"
   ]
  },
  {
   "cell_type": "code",
   "execution_count": 31,
   "metadata": {},
   "outputs": [
    {
     "data": {
      "text/plain": [
       "[<div aria-hidden=\"true\" class=\"ushogf\" jslog=\"105957;ved:2ahUKEwiqo5TI6Jr4AhUXn44KHSosC30Q5bsGegQIAhAX;track:click\" jsname=\"TFpDrb\" soy-skip=\"\" ssk=\"5:chart\"></div>]"
      ]
     },
     "execution_count": 31,
     "metadata": {},
     "output_type": "execute_result"
    }
   ],
   "source": [
    "soup.select(\".ushogf\")"
   ]
  },
  {
   "cell_type": "code",
   "execution_count": 40,
   "metadata": {},
   "outputs": [
    {
     "data": {
      "text/plain": [
       "[]"
      ]
     },
     "execution_count": 40,
     "metadata": {},
     "output_type": "execute_result"
    }
   ],
   "source": [
    "soup.select(\".ushogf .hSGhwc .hSGhwc-SeJRAd\")"
   ]
  },
  {
   "cell_type": "code",
   "execution_count": 42,
   "metadata": {},
   "outputs": [
    {
     "data": {
      "text/plain": [
       "[]"
      ]
     },
     "execution_count": 42,
     "metadata": {},
     "output_type": "execute_result"
    }
   ],
   "source": [
    "soup.select(\".hSGhwc-IOpRCf\")"
   ]
  },
  {
   "cell_type": "code",
   "execution_count": 43,
   "metadata": {},
   "outputs": [],
   "source": [
    "data = (88,56,\"John\",\"67\",\"7\")"
   ]
  },
  {
   "cell_type": "code",
   "execution_count": 64,
   "metadata": {},
   "outputs": [],
   "source": [
    "data = (88,56,67,7)"
   ]
  },
  {
   "cell_type": "code",
   "execution_count": 67,
   "metadata": {},
   "outputs": [
    {
     "data": {
      "text/plain": [
       "81"
      ]
     },
     "execution_count": 67,
     "metadata": {},
     "output_type": "execute_result"
    }
   ],
   "source": [
    "data[0]+-data[len(data)-1]"
   ]
  },
  {
   "cell_type": "code",
   "execution_count": null,
   "metadata": {},
   "outputs": [],
   "source": [
    "'https://www.google.com/finance/quote/RELIANCE:NSE#YwQBze-550'\n",
    "'https://www.google.com/finance/quote/RELIANCE:NSE#varkUe-550'"
   ]
  },
  {
   "cell_type": "code",
   "execution_count": 68,
   "metadata": {},
   "outputs": [
    {
     "data": {
      "text/plain": [
       "[]"
      ]
     },
     "execution_count": 68,
     "metadata": {},
     "output_type": "execute_result"
    }
   ],
   "source": [
    "soup.select(\".gJBfM\")"
   ]
  },
  {
   "cell_type": "markdown",
   "metadata": {},
   "source": [
    "# Timezone operation"
   ]
  },
  {
   "cell_type": "code",
   "execution_count": null,
   "metadata": {},
   "outputs": [],
   "source": [
    "# https://www.geeksforgeeks.org/get-current-time-in-different-timezone-using-python/"
   ]
  },
  {
   "cell_type": "code",
   "execution_count": 10,
   "metadata": {},
   "outputs": [],
   "source": [
    "import time\n",
    "curr_time = time.localtime()\n",
    "curr_clock = time.strftime(\"%H:%M:%S\", curr_time)"
   ]
  },
  {
   "cell_type": "code",
   "execution_count": 3,
   "metadata": {},
   "outputs": [
    {
     "name": "stdout",
     "output_type": "stream",
     "text": [
      "time.struct_time(tm_year=2022, tm_mon=6, tm_mday=10, tm_hour=9, tm_min=53, tm_sec=35, tm_wday=4, tm_yday=161, tm_isdst=0)\n"
     ]
    }
   ],
   "source": [
    "print(curr_time)"
   ]
  },
  {
   "cell_type": "code",
   "execution_count": 11,
   "metadata": {},
   "outputs": [
    {
     "name": "stdout",
     "output_type": "stream",
     "text": [
      "09:54:10\n"
     ]
    }
   ],
   "source": [
    "print(curr_clock)"
   ]
  },
  {
   "cell_type": "code",
   "execution_count": 4,
   "metadata": {},
   "outputs": [],
   "source": [
    "# # get the standard UTC time\n",
    "# UTC = pytz.utc\n",
    "\n",
    "# it will get the time zone\n",
    "# of the specified location\n",
    "\n",
    "# # print the date and time in\n",
    "# # standard format\n",
    "# print(\"UTC in Default Format : \",\n",
    "# \tdatetime.now(UTC))\n",
    "\n",
    "\n",
    "\n",
    "# # # print the date and time in\n",
    "# # # specified format\n",
    "# # datetime_utc = datetime.now(UTC)\n",
    "# # print(\"Date & Time in UTC : \",\n",
    "# # \tdatetime_utc.strftime('%Y:%m:%d %H:%M:%S %Z %z'))\n",
    "\n",
    "# datetime_ist = datetime.now(IST)\n",
    "# print(\"Date & Time in IST : \",\n",
    "# \tdatetime_ist.strftime('%Y:%m:%d %H:%M:%S %Z %z'))\n"
   ]
  },
  {
   "cell_type": "code",
   "execution_count": 6,
   "metadata": {},
   "outputs": [],
   "source": [
    "from datetime import datetime\n",
    "import pytz"
   ]
  },
  {
   "cell_type": "code",
   "execution_count": 119,
   "metadata": {},
   "outputs": [
    {
     "name": "stdout",
     "output_type": "stream",
     "text": [
      "2022-06-10 11:27:34.339963+05:30"
     ]
    }
   ],
   "source": [
    "IST = pytz.timezone('Asia/Kolkata')\n",
    "vs2 =0\n",
    "while True:\n",
    "    try:    \n",
    "        cur_Time = datetime.now(IST)\n",
    "        print(cur_Time, end='\\r')\n",
    "        # if cur_Time[17:19] == '00':\n",
    "        #     print('open')\n",
    "        #     continue\n",
    "    except:\n",
    "        break"
   ]
  },
  {
   "cell_type": "code",
   "execution_count": 38,
   "metadata": {},
   "outputs": [
    {
     "name": "stdout",
     "output_type": "stream",
     "text": [
      "open\n"
     ]
    }
   ],
   "source": [
    "t = '2022-06-10 10:49:00.304888+05:30'\n",
    "if t[17:19] == '00':\n",
    "    print('open')"
   ]
  },
  {
   "cell_type": "code",
   "execution_count": 123,
   "metadata": {},
   "outputs": [
    {
     "data": {
      "text/plain": [
       "'500325:BOM'"
      ]
     },
     "execution_count": 123,
     "metadata": {},
     "output_type": "execute_result"
    }
   ],
   "source": [
    "symbol"
   ]
  }
 ],
 "metadata": {
  "interpreter": {
   "hash": "bace11cc54308957b4fa59b850875cf9783d3f406c107b54994bb6109dc9e6e8"
  },
  "kernelspec": {
   "display_name": "Python 3.9.5 64-bit",
   "language": "python",
   "name": "python3"
  },
  "language_info": {
   "codemirror_mode": {
    "name": "ipython",
    "version": 3
   },
   "file_extension": ".py",
   "mimetype": "text/x-python",
   "name": "python",
   "nbconvert_exporter": "python",
   "pygments_lexer": "ipython3",
   "version": "3.9.5"
  },
  "orig_nbformat": 4
 },
 "nbformat": 4,
 "nbformat_minor": 2
}
