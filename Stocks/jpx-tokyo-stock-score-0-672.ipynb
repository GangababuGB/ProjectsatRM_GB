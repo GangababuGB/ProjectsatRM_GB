{
 "cells": [
  {
   "cell_type": "markdown",
   "id": "376fcdf3",
   "metadata": {
    "papermill": {
     "duration": 0.011068,
     "end_time": "2022-04-08T08:20:22.876236",
     "exception": false,
     "start_time": "2022-04-08T08:20:22.865168",
     "status": "completed"
    },
    "tags": []
   },
   "source": [
    "# Hi Guys!"
   ]
  },
  {
   "cell_type": "markdown",
   "id": "81dc317a",
   "metadata": {
    "papermill": {
     "duration": 0.009442,
     "end_time": "2022-04-08T08:20:22.897398",
     "exception": false,
     "start_time": "2022-04-08T08:20:22.887956",
     "status": "completed"
    },
    "tags": []
   },
   "source": [
    "I changed the parameters by referring to the following\n",
    "https://www.kaggle.com/code/swimmy/median-model-jpx"
   ]
  },
  {
   "cell_type": "code",
   "execution_count": 1,
   "id": "6f4afc10",
   "metadata": {
    "execution": {
     "iopub.execute_input": "2022-04-08T08:20:22.925574Z",
     "iopub.status.busy": "2022-04-08T08:20:22.920592Z",
     "iopub.status.idle": "2022-04-08T08:20:22.948668Z",
     "shell.execute_reply": "2022-04-08T08:20:22.949219Z",
     "shell.execute_reply.started": "2022-04-07T08:38:13.418331Z"
    },
    "papermill": {
     "duration": 0.042525,
     "end_time": "2022-04-08T08:20:22.949561",
     "exception": false,
     "start_time": "2022-04-08T08:20:22.907036",
     "status": "completed"
    },
    "tags": []
   },
   "outputs": [],
   "source": [
    "import numpy as np\n",
    "import pandas as pd\n",
    "import jpx_tokyo_market_prediction"
   ]
  },
  {
   "cell_type": "markdown",
   "id": "f4a6044d",
   "metadata": {
    "papermill": {
     "duration": 0.009711,
     "end_time": "2022-04-08T08:20:22.969441",
     "exception": false,
     "start_time": "2022-04-08T08:20:22.959730",
     "status": "completed"
    },
    "tags": []
   },
   "source": [
    "# Load data"
   ]
  },
  {
   "cell_type": "code",
   "execution_count": 2,
   "id": "6833e5fd",
   "metadata": {
    "execution": {
     "iopub.execute_input": "2022-04-08T08:20:22.992820Z",
     "iopub.status.busy": "2022-04-08T08:20:22.992130Z",
     "iopub.status.idle": "2022-04-08T08:20:23.332176Z",
     "shell.execute_reply": "2022-04-08T08:20:23.331600Z",
     "shell.execute_reply.started": "2022-04-07T08:38:56.800973Z"
    },
    "papermill": {
     "duration": 0.352851,
     "end_time": "2022-04-08T08:20:23.332334",
     "exception": false,
     "start_time": "2022-04-08T08:20:22.979483",
     "status": "completed"
    },
    "tags": []
   },
   "outputs": [],
   "source": [
    "prices = pd.read_csv(\"../input/jpx-tokyo-stock-exchange-prediction/supplemental_files/stock_prices.csv\")"
   ]
  },
  {
   "cell_type": "code",
   "execution_count": 3,
   "id": "d539cf27",
   "metadata": {
    "execution": {
     "iopub.execute_input": "2022-04-08T08:20:23.369814Z",
     "iopub.status.busy": "2022-04-08T08:20:23.362196Z",
     "iopub.status.idle": "2022-04-08T08:20:23.438982Z",
     "shell.execute_reply": "2022-04-08T08:20:23.439483Z",
     "shell.execute_reply.started": "2022-04-07T08:38:59.358113Z"
    },
    "papermill": {
     "duration": 0.097111,
     "end_time": "2022-04-08T08:20:23.439676",
     "exception": false,
     "start_time": "2022-04-08T08:20:23.342565",
     "status": "completed"
    },
    "tags": []
   },
   "outputs": [
    {
     "data": {
      "text/html": [
       "<div>\n",
       "<style scoped>\n",
       "    .dataframe tbody tr th:only-of-type {\n",
       "        vertical-align: middle;\n",
       "    }\n",
       "\n",
       "    .dataframe tbody tr th {\n",
       "        vertical-align: top;\n",
       "    }\n",
       "\n",
       "    .dataframe thead th {\n",
       "        text-align: right;\n",
       "    }\n",
       "</style>\n",
       "<table border=\"1\" class=\"dataframe\">\n",
       "  <thead>\n",
       "    <tr style=\"text-align: right;\">\n",
       "      <th></th>\n",
       "      <th>SecuritiesCode</th>\n",
       "      <th>Open</th>\n",
       "      <th>High</th>\n",
       "      <th>Low</th>\n",
       "      <th>Close</th>\n",
       "      <th>Volume</th>\n",
       "      <th>AdjustmentFactor</th>\n",
       "      <th>ExpectedDividend</th>\n",
       "      <th>Target</th>\n",
       "    </tr>\n",
       "  </thead>\n",
       "  <tbody>\n",
       "    <tr>\n",
       "      <th>count</th>\n",
       "      <td>112000.000000</td>\n",
       "      <td>111716.000000</td>\n",
       "      <td>111716.000000</td>\n",
       "      <td>111716.000000</td>\n",
       "      <td>111716.000000</td>\n",
       "      <td>1.120000e+05</td>\n",
       "      <td>112000.000000</td>\n",
       "      <td>503.000000</td>\n",
       "      <td>112000.000000</td>\n",
       "    </tr>\n",
       "    <tr>\n",
       "      <th>mean</th>\n",
       "      <td>5883.054000</td>\n",
       "      <td>2684.313035</td>\n",
       "      <td>2717.101250</td>\n",
       "      <td>2645.627351</td>\n",
       "      <td>2680.175912</td>\n",
       "      <td>5.995511e+05</td>\n",
       "      <td>0.999940</td>\n",
       "      <td>23.385308</td>\n",
       "      <td>-0.001071</td>\n",
       "    </tr>\n",
       "    <tr>\n",
       "      <th>std</th>\n",
       "      <td>2389.818157</td>\n",
       "      <td>4257.855565</td>\n",
       "      <td>4308.294164</td>\n",
       "      <td>4196.004142</td>\n",
       "      <td>4249.675941</td>\n",
       "      <td>2.289323e+06</td>\n",
       "      <td>0.005678</td>\n",
       "      <td>32.305817</td>\n",
       "      <td>0.023810</td>\n",
       "    </tr>\n",
       "    <tr>\n",
       "      <th>min</th>\n",
       "      <td>1301.000000</td>\n",
       "      <td>35.000000</td>\n",
       "      <td>36.000000</td>\n",
       "      <td>34.000000</td>\n",
       "      <td>34.000000</td>\n",
       "      <td>0.000000e+00</td>\n",
       "      <td>0.333333</td>\n",
       "      <td>0.000000</td>\n",
       "      <td>-0.355000</td>\n",
       "    </tr>\n",
       "    <tr>\n",
       "      <th>25%</th>\n",
       "      <td>3915.750000</td>\n",
       "      <td>1025.000000</td>\n",
       "      <td>1039.000000</td>\n",
       "      <td>1012.000000</td>\n",
       "      <td>1025.000000</td>\n",
       "      <td>3.190000e+04</td>\n",
       "      <td>1.000000</td>\n",
       "      <td>0.000000</td>\n",
       "      <td>-0.012329</td>\n",
       "    </tr>\n",
       "    <tr>\n",
       "      <th>50%</th>\n",
       "      <td>6200.500000</td>\n",
       "      <td>1813.000000</td>\n",
       "      <td>1837.000000</td>\n",
       "      <td>1788.000000</td>\n",
       "      <td>1811.000000</td>\n",
       "      <td>9.690000e+04</td>\n",
       "      <td>1.000000</td>\n",
       "      <td>15.000000</td>\n",
       "      <td>-0.000478</td>\n",
       "    </tr>\n",
       "    <tr>\n",
       "      <th>75%</th>\n",
       "      <td>7938.250000</td>\n",
       "      <td>2985.000000</td>\n",
       "      <td>3015.000000</td>\n",
       "      <td>2943.000000</td>\n",
       "      <td>2982.000000</td>\n",
       "      <td>3.668000e+05</td>\n",
       "      <td>1.000000</td>\n",
       "      <td>30.000000</td>\n",
       "      <td>0.010388</td>\n",
       "    </tr>\n",
       "    <tr>\n",
       "      <th>max</th>\n",
       "      <td>9997.000000</td>\n",
       "      <td>79030.000000</td>\n",
       "      <td>79250.000000</td>\n",
       "      <td>78600.000000</td>\n",
       "      <td>79080.000000</td>\n",
       "      <td>1.177263e+08</td>\n",
       "      <td>1.000000</td>\n",
       "      <td>297.000000</td>\n",
       "      <td>0.597907</td>\n",
       "    </tr>\n",
       "  </tbody>\n",
       "</table>\n",
       "</div>"
      ],
      "text/plain": [
       "       SecuritiesCode           Open           High            Low  \\\n",
       "count   112000.000000  111716.000000  111716.000000  111716.000000   \n",
       "mean      5883.054000    2684.313035    2717.101250    2645.627351   \n",
       "std       2389.818157    4257.855565    4308.294164    4196.004142   \n",
       "min       1301.000000      35.000000      36.000000      34.000000   \n",
       "25%       3915.750000    1025.000000    1039.000000    1012.000000   \n",
       "50%       6200.500000    1813.000000    1837.000000    1788.000000   \n",
       "75%       7938.250000    2985.000000    3015.000000    2943.000000   \n",
       "max       9997.000000   79030.000000   79250.000000   78600.000000   \n",
       "\n",
       "               Close        Volume  AdjustmentFactor  ExpectedDividend  \\\n",
       "count  111716.000000  1.120000e+05     112000.000000        503.000000   \n",
       "mean     2680.175912  5.995511e+05          0.999940         23.385308   \n",
       "std      4249.675941  2.289323e+06          0.005678         32.305817   \n",
       "min        34.000000  0.000000e+00          0.333333          0.000000   \n",
       "25%      1025.000000  3.190000e+04          1.000000          0.000000   \n",
       "50%      1811.000000  9.690000e+04          1.000000         15.000000   \n",
       "75%      2982.000000  3.668000e+05          1.000000         30.000000   \n",
       "max     79080.000000  1.177263e+08          1.000000        297.000000   \n",
       "\n",
       "              Target  \n",
       "count  112000.000000  \n",
       "mean       -0.001071  \n",
       "std         0.023810  \n",
       "min        -0.355000  \n",
       "25%        -0.012329  \n",
       "50%        -0.000478  \n",
       "75%         0.010388  \n",
       "max         0.597907  "
      ]
     },
     "execution_count": 3,
     "metadata": {},
     "output_type": "execute_result"
    }
   ],
   "source": [
    "prices.describe()"
   ]
  },
  {
   "cell_type": "code",
   "execution_count": 4,
   "id": "298a9c92",
   "metadata": {
    "execution": {
     "iopub.execute_input": "2022-04-08T08:20:23.466282Z",
     "iopub.status.busy": "2022-04-08T08:20:23.465641Z",
     "iopub.status.idle": "2022-04-08T08:20:23.498901Z",
     "shell.execute_reply": "2022-04-08T08:20:23.498279Z",
     "shell.execute_reply.started": "2022-04-07T08:51:10.609213Z"
    },
    "papermill": {
     "duration": 0.048352,
     "end_time": "2022-04-08T08:20:23.499045",
     "exception": false,
     "start_time": "2022-04-08T08:20:23.450693",
     "status": "completed"
    },
    "tags": []
   },
   "outputs": [
    {
     "data": {
      "text/plain": [
       "RowId                    0\n",
       "Date                     0\n",
       "SecuritiesCode           0\n",
       "Open                   284\n",
       "High                   284\n",
       "Low                    284\n",
       "Close                  284\n",
       "Volume                   0\n",
       "AdjustmentFactor         0\n",
       "ExpectedDividend    111497\n",
       "SupervisionFlag          0\n",
       "Target                   0\n",
       "dtype: int64"
      ]
     },
     "execution_count": 4,
     "metadata": {},
     "output_type": "execute_result"
    }
   ],
   "source": [
    "prices.isnull().sum()"
   ]
  },
  {
   "cell_type": "code",
   "execution_count": 5,
   "id": "14063566",
   "metadata": {
    "execution": {
     "iopub.execute_input": "2022-04-08T08:20:23.542985Z",
     "iopub.status.busy": "2022-04-08T08:20:23.542306Z",
     "iopub.status.idle": "2022-04-08T08:20:23.565537Z",
     "shell.execute_reply": "2022-04-08T08:20:23.564947Z"
    },
    "papermill": {
     "duration": 0.055913,
     "end_time": "2022-04-08T08:20:23.565688",
     "exception": false,
     "start_time": "2022-04-08T08:20:23.509775",
     "status": "completed"
    },
    "tags": []
   },
   "outputs": [],
   "source": [
    "NDAYS = 34\n",
    "lastdays = prices[prices[\"Date\"]>=prices.Date.iat[-1999*NDAYS]].reset_index(drop=True)\n",
    "pred = lastdays.groupby(\"SecuritiesCode\")[\"Target\"].mean().rank(ascending=False,method=\"first\").astype(int) -1\n",
    "pred = pred.reset_index()\n",
    "pred = dict(zip(pred[\"SecuritiesCode\"],pred[\"Target\"]))"
   ]
  },
  {
   "cell_type": "markdown",
   "id": "8c4f3aa1",
   "metadata": {
    "papermill": {
     "duration": 0.011311,
     "end_time": "2022-04-08T08:20:23.588457",
     "exception": false,
     "start_time": "2022-04-08T08:20:23.577146",
     "status": "completed"
    },
    "tags": []
   },
   "source": [
    "# Submission"
   ]
  },
  {
   "cell_type": "code",
   "execution_count": 6,
   "id": "7c55bcc5",
   "metadata": {
    "execution": {
     "iopub.execute_input": "2022-04-08T08:20:23.616286Z",
     "iopub.status.busy": "2022-04-08T08:20:23.613390Z",
     "iopub.status.idle": "2022-04-08T08:20:23.855641Z",
     "shell.execute_reply": "2022-04-08T08:20:23.855094Z"
    },
    "papermill": {
     "duration": 0.256094,
     "end_time": "2022-04-08T08:20:23.855785",
     "exception": false,
     "start_time": "2022-04-08T08:20:23.599691",
     "status": "completed"
    },
    "tags": []
   },
   "outputs": [
    {
     "name": "stdout",
     "output_type": "stream",
     "text": [
      "This version of the API is not optimized and should not be used to estimate the runtime of your code on the hidden test set.\n"
     ]
    }
   ],
   "source": [
    "env = jpx_tokyo_market_prediction.make_env()\n",
    "iter_test = env.iter_test()\n",
    "\n",
    "for (prices, options, financials, trades, secondary_prices, sample_prediction) in iter_test:\n",
    "    sample_prediction['Rank'] = sample_prediction[\"SecuritiesCode\"].map(pred)\n",
    "    env.predict(sample_prediction)"
   ]
  },
  {
   "cell_type": "markdown",
   "id": "eee76034",
   "metadata": {
    "papermill": {
     "duration": 0.011691,
     "end_time": "2022-04-08T08:20:23.879358",
     "exception": false,
     "start_time": "2022-04-08T08:20:23.867667",
     "status": "completed"
    },
    "tags": []
   },
   "source": [
    "<center>\n",
    "    <h2 style=\"color: #bfaf2c\"> Thanks for reading!!! </h2>"
   ]
  }
 ],
 "metadata": {
  "kernelspec": {
   "display_name": "Python 3",
   "language": "python",
   "name": "python3"
  },
  "language_info": {
   "codemirror_mode": {
    "name": "ipython",
    "version": 3
   },
   "file_extension": ".py",
   "mimetype": "text/x-python",
   "name": "python",
   "nbconvert_exporter": "python",
   "pygments_lexer": "ipython3",
   "version": "3.7.12"
  },
  "papermill": {
   "default_parameters": {},
   "duration": 11.00338,
   "end_time": "2022-04-08T08:20:24.500738",
   "environment_variables": {},
   "exception": null,
   "input_path": "__notebook__.ipynb",
   "output_path": "__notebook__.ipynb",
   "parameters": {},
   "start_time": "2022-04-08T08:20:13.497358",
   "version": "2.3.3"
  }
 },
 "nbformat": 4,
 "nbformat_minor": 5
}
