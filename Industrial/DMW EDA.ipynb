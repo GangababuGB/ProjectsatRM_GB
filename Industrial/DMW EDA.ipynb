{
 "cells": [
  {
   "cell_type": "code",
   "execution_count": 1,
   "id": "2e8dcc17",
   "metadata": {},
   "outputs": [],
   "source": [
    "%matplotlib inline"
   ]
  },
  {
   "cell_type": "code",
   "execution_count": 2,
   "id": "df0d9f5d",
   "metadata": {},
   "outputs": [
    {
     "data": {
      "text/html": [
       "<div>\n",
       "<style scoped>\n",
       "    .dataframe tbody tr th:only-of-type {\n",
       "        vertical-align: middle;\n",
       "    }\n",
       "\n",
       "    .dataframe tbody tr th {\n",
       "        vertical-align: top;\n",
       "    }\n",
       "\n",
       "    .dataframe thead th {\n",
       "        text-align: right;\n",
       "    }\n",
       "</style>\n",
       "<table border=\"1\" class=\"dataframe\">\n",
       "  <thead>\n",
       "    <tr style=\"text-align: right;\">\n",
       "      <th></th>\n",
       "      <th>Unit</th>\n",
       "      <th>Equipment_ID</th>\n",
       "      <th>Equipment Name</th>\n",
       "      <th>Type</th>\n",
       "      <th>W.O. No.</th>\n",
       "      <th>W.O Date</th>\n",
       "      <th>Stop Date</th>\n",
       "      <th>Comp. Date</th>\n",
       "      <th>Comp. Sou.</th>\n",
       "      <th>Status</th>\n",
       "      <th>...</th>\n",
       "      <th>Reason</th>\n",
       "      <th>Priority</th>\n",
       "      <th>Remarks</th>\n",
       "      <th>Location</th>\n",
       "      <th>Capital WIP</th>\n",
       "      <th>Capital WIP Desc.</th>\n",
       "      <th>Current</th>\n",
       "      <th>RPM</th>\n",
       "      <th>Make</th>\n",
       "      <th>Model</th>\n",
       "    </tr>\n",
       "  </thead>\n",
       "  <tbody>\n",
       "    <tr>\n",
       "      <th>1499</th>\n",
       "      <td>PRI</td>\n",
       "      <td>HMC-S2</td>\n",
       "      <td>MAZAK-FH-4000-HMC-S2</td>\n",
       "      <td>Preventive</td>\n",
       "      <td>2122-00059</td>\n",
       "      <td>17.05.2021</td>\n",
       "      <td>NaN</td>\n",
       "      <td>17.05.2021 03:00 PM</td>\n",
       "      <td>WO</td>\n",
       "      <td>Handover</td>\n",
       "      <td>...</td>\n",
       "      <td>NaN</td>\n",
       "      <td>Medium</td>\n",
       "      <td>NaN</td>\n",
       "      <td>PERUNDURAI</td>\n",
       "      <td>NaN</td>\n",
       "      <td>NaN</td>\n",
       "      <td>0</td>\n",
       "      <td>0</td>\n",
       "      <td>MAZAK</td>\n",
       "      <td>FH-4000</td>\n",
       "    </tr>\n",
       "    <tr>\n",
       "      <th>719</th>\n",
       "      <td>CNR</td>\n",
       "      <td>HMC-4003</td>\n",
       "      <td>AMS-400-XL-HMC-4003</td>\n",
       "      <td>Breakdown</td>\n",
       "      <td>M04-WO-21-0068</td>\n",
       "      <td>20.07.2021</td>\n",
       "      <td>20.07.2021 - 09.00.07</td>\n",
       "      <td>20.07.2021 10:00 AM</td>\n",
       "      <td>WO</td>\n",
       "      <td>Handover</td>\n",
       "      <td>...</td>\n",
       "      <td>NaN</td>\n",
       "      <td>Medium</td>\n",
       "      <td>NaN</td>\n",
       "      <td>CHERAN NAGAR</td>\n",
       "      <td>NaN</td>\n",
       "      <td>NaN</td>\n",
       "      <td>0</td>\n",
       "      <td>0</td>\n",
       "      <td>AMS</td>\n",
       "      <td>400-XL</td>\n",
       "    </tr>\n",
       "    <tr>\n",
       "      <th>1219</th>\n",
       "      <td>PRI</td>\n",
       "      <td>RD-03</td>\n",
       "      <td>BATLIBOI-BVR-3-RD-03</td>\n",
       "      <td>Preventive</td>\n",
       "      <td>2122-00552</td>\n",
       "      <td>16.12.2021</td>\n",
       "      <td>NaN</td>\n",
       "      <td>16.12.2021 06:00 PM</td>\n",
       "      <td>WO</td>\n",
       "      <td>Handover</td>\n",
       "      <td>...</td>\n",
       "      <td>NaN</td>\n",
       "      <td>Medium</td>\n",
       "      <td>NaN</td>\n",
       "      <td>PERUNDURAI</td>\n",
       "      <td>NaN</td>\n",
       "      <td>NaN</td>\n",
       "      <td>0</td>\n",
       "      <td>0</td>\n",
       "      <td>BATLIBOI</td>\n",
       "      <td>BVR-3</td>\n",
       "    </tr>\n",
       "    <tr>\n",
       "      <th>1049</th>\n",
       "      <td>HSR</td>\n",
       "      <td>VMC-3003</td>\n",
       "      <td>AMS-MCV-450-VMC-3003</td>\n",
       "      <td>Breakdown</td>\n",
       "      <td>M03-WO-21-0187</td>\n",
       "      <td>20.07.2021</td>\n",
       "      <td>20.07.2021 - 12.00.07</td>\n",
       "      <td>20.07.2021 01:30 AM</td>\n",
       "      <td>WO</td>\n",
       "      <td>Handover</td>\n",
       "      <td>...</td>\n",
       "      <td>NaN</td>\n",
       "      <td>Medium</td>\n",
       "      <td>NaN</td>\n",
       "      <td>HOSUR-1</td>\n",
       "      <td>NaN</td>\n",
       "      <td>NaN</td>\n",
       "      <td>0</td>\n",
       "      <td>0</td>\n",
       "      <td>AMS</td>\n",
       "      <td>MCV-450</td>\n",
       "    </tr>\n",
       "    <tr>\n",
       "      <th>225</th>\n",
       "      <td>CBE</td>\n",
       "      <td>VMC-2010</td>\n",
       "      <td>DOOSAN-VC-510-VMC-2010</td>\n",
       "      <td>Preventive</td>\n",
       "      <td>2021-00006</td>\n",
       "      <td>24.03.2021</td>\n",
       "      <td>NaN</td>\n",
       "      <td>24.03.2021 05:00 PM</td>\n",
       "      <td>WO</td>\n",
       "      <td>Handover</td>\n",
       "      <td>...</td>\n",
       "      <td>NaN</td>\n",
       "      <td>Medium</td>\n",
       "      <td>NaN</td>\n",
       "      <td>COIMBATORE</td>\n",
       "      <td>NaN</td>\n",
       "      <td>NaN</td>\n",
       "      <td>0</td>\n",
       "      <td>0</td>\n",
       "      <td>DOOSAN</td>\n",
       "      <td>VC-510</td>\n",
       "    </tr>\n",
       "  </tbody>\n",
       "</table>\n",
       "<p>5 rows × 43 columns</p>\n",
       "</div>"
      ],
      "text/plain": [
       "     Unit Equipment_ID          Equipment Name        Type        W.O. No.  \\\n",
       "1499  PRI       HMC-S2    MAZAK-FH-4000-HMC-S2  Preventive      2122-00059   \n",
       "719   CNR     HMC-4003     AMS-400-XL-HMC-4003   Breakdown  M04-WO-21-0068   \n",
       "1219  PRI        RD-03    BATLIBOI-BVR-3-RD-03  Preventive      2122-00552   \n",
       "1049  HSR     VMC-3003    AMS-MCV-450-VMC-3003   Breakdown  M03-WO-21-0187   \n",
       "225   CBE     VMC-2010  DOOSAN-VC-510-VMC-2010  Preventive      2021-00006   \n",
       "\n",
       "        W.O Date              Stop Date           Comp. Date Comp. Sou.  \\\n",
       "1499  17.05.2021                    NaN  17.05.2021 03:00 PM         WO   \n",
       "719   20.07.2021  20.07.2021 - 09.00.07  20.07.2021 10:00 AM         WO   \n",
       "1219  16.12.2021                    NaN  16.12.2021 06:00 PM         WO   \n",
       "1049  20.07.2021  20.07.2021 - 12.00.07  20.07.2021 01:30 AM         WO   \n",
       "225   24.03.2021                    NaN  24.03.2021 05:00 PM         WO   \n",
       "\n",
       "        Status  ...  Reason  Priority Remarks      Location  Capital WIP  \\\n",
       "1499  Handover  ...     NaN    Medium     NaN    PERUNDURAI          NaN   \n",
       "719   Handover  ...     NaN    Medium     NaN  CHERAN NAGAR          NaN   \n",
       "1219  Handover  ...     NaN    Medium     NaN    PERUNDURAI          NaN   \n",
       "1049  Handover  ...     NaN    Medium     NaN       HOSUR-1          NaN   \n",
       "225   Handover  ...     NaN    Medium     NaN    COIMBATORE          NaN   \n",
       "\n",
       "     Capital WIP Desc. Current RPM      Make    Model  \n",
       "1499               NaN       0   0     MAZAK  FH-4000  \n",
       "719                NaN       0   0       AMS   400-XL  \n",
       "1219               NaN       0   0  BATLIBOI    BVR-3  \n",
       "1049               NaN       0   0       AMS  MCV-450  \n",
       "225                NaN       0   0    DOOSAN   VC-510  \n",
       "\n",
       "[5 rows x 43 columns]"
      ]
     },
     "execution_count": 2,
     "metadata": {},
     "output_type": "execute_result"
    }
   ],
   "source": [
    "import numpy as np\n",
    "import pandas as pd\n",
    "import matplotlib.pyplot as plt\n",
    "import seaborn as sns\n",
    "df = pd.read_csv(\"C:/Users/Ganga Babu.M/Downloads/Task Completion.csv\")\n",
    "df.sample(5)"
   ]
  },
  {
   "cell_type": "code",
   "execution_count": 3,
   "id": "7708e34f",
   "metadata": {},
   "outputs": [
    {
     "data": {
      "text/html": [
       "<div>\n",
       "<style scoped>\n",
       "    .dataframe tbody tr th:only-of-type {\n",
       "        vertical-align: middle;\n",
       "    }\n",
       "\n",
       "    .dataframe tbody tr th {\n",
       "        vertical-align: top;\n",
       "    }\n",
       "\n",
       "    .dataframe thead th {\n",
       "        text-align: right;\n",
       "    }\n",
       "</style>\n",
       "<table border=\"1\" class=\"dataframe\">\n",
       "  <thead>\n",
       "    <tr style=\"text-align: right;\">\n",
       "      <th></th>\n",
       "      <th>Unit</th>\n",
       "      <th>Equipment_ID</th>\n",
       "      <th>Equipment Name</th>\n",
       "      <th>Type</th>\n",
       "      <th>W.O. No.</th>\n",
       "      <th>W.O Date</th>\n",
       "      <th>Stop Date</th>\n",
       "      <th>Comp. Date</th>\n",
       "      <th>Comp. Sou.</th>\n",
       "      <th>Status</th>\n",
       "      <th>...</th>\n",
       "      <th>Reason</th>\n",
       "      <th>Priority</th>\n",
       "      <th>Remarks</th>\n",
       "      <th>Location</th>\n",
       "      <th>Capital WIP</th>\n",
       "      <th>Capital WIP Desc.</th>\n",
       "      <th>Current</th>\n",
       "      <th>RPM</th>\n",
       "      <th>Make</th>\n",
       "      <th>Model</th>\n",
       "    </tr>\n",
       "  </thead>\n",
       "  <tbody>\n",
       "    <tr>\n",
       "      <th>2179</th>\n",
       "      <td>RPT</td>\n",
       "      <td>HMC-6003</td>\n",
       "      <td>MAKINO-A82-HMC-6003</td>\n",
       "      <td>Breakdown</td>\n",
       "      <td>M06-WO-21-0059</td>\n",
       "      <td>27.08.2021</td>\n",
       "      <td>27.08.2021 - 12.00.08</td>\n",
       "      <td>27.08.2021 12:30 AM</td>\n",
       "      <td>WO</td>\n",
       "      <td>Handover</td>\n",
       "      <td>...</td>\n",
       "      <td>NaN</td>\n",
       "      <td>Medium</td>\n",
       "      <td>NaN</td>\n",
       "      <td>RANIPET</td>\n",
       "      <td>NaN</td>\n",
       "      <td>NaN</td>\n",
       "      <td>0</td>\n",
       "      <td>0</td>\n",
       "      <td>MAKINO</td>\n",
       "      <td>A82</td>\n",
       "    </tr>\n",
       "    <tr>\n",
       "      <th>2180</th>\n",
       "      <td>RPT</td>\n",
       "      <td>HMC-6004</td>\n",
       "      <td>MAKINO-A81NX-HMC-6004</td>\n",
       "      <td>Breakdown</td>\n",
       "      <td>M06-WO-21-0060</td>\n",
       "      <td>27.08.2021</td>\n",
       "      <td>27.08.2021 - 01.00.08</td>\n",
       "      <td>27.08.2021 01:35 AM</td>\n",
       "      <td>WO</td>\n",
       "      <td>Handover</td>\n",
       "      <td>...</td>\n",
       "      <td>NaN</td>\n",
       "      <td>Medium</td>\n",
       "      <td>NaN</td>\n",
       "      <td>RANIPET</td>\n",
       "      <td>NaN</td>\n",
       "      <td>NaN</td>\n",
       "      <td>0</td>\n",
       "      <td>0</td>\n",
       "      <td>MAKINO</td>\n",
       "      <td>A81NX</td>\n",
       "    </tr>\n",
       "    <tr>\n",
       "      <th>2181</th>\n",
       "      <td>RPT</td>\n",
       "      <td>HMC-6003</td>\n",
       "      <td>MAKINO-A82-HMC-6003</td>\n",
       "      <td>Breakdown</td>\n",
       "      <td>M06-WO-21-0061</td>\n",
       "      <td>21.08.2021</td>\n",
       "      <td>21.08.2021 - 09.00.08</td>\n",
       "      <td>21.08.2021 11:45 PM</td>\n",
       "      <td>WO</td>\n",
       "      <td>Handover</td>\n",
       "      <td>...</td>\n",
       "      <td>NaN</td>\n",
       "      <td>Medium</td>\n",
       "      <td>NaN</td>\n",
       "      <td>RANIPET</td>\n",
       "      <td>NaN</td>\n",
       "      <td>NaN</td>\n",
       "      <td>0</td>\n",
       "      <td>0</td>\n",
       "      <td>MAKINO</td>\n",
       "      <td>A82</td>\n",
       "    </tr>\n",
       "    <tr>\n",
       "      <th>2182</th>\n",
       "      <td>RPT</td>\n",
       "      <td>HMC-6003</td>\n",
       "      <td>MAKINO-A82-HMC-6003</td>\n",
       "      <td>Breakdown</td>\n",
       "      <td>M06-WO-21-0062</td>\n",
       "      <td>23.08.2021</td>\n",
       "      <td>23.08.2021 - 07.00.08</td>\n",
       "      <td>23.08.2021 08:50 AM</td>\n",
       "      <td>WO</td>\n",
       "      <td>Handover</td>\n",
       "      <td>...</td>\n",
       "      <td>NaN</td>\n",
       "      <td>Medium</td>\n",
       "      <td>NaN</td>\n",
       "      <td>RANIPET</td>\n",
       "      <td>NaN</td>\n",
       "      <td>NaN</td>\n",
       "      <td>0</td>\n",
       "      <td>0</td>\n",
       "      <td>MAKINO</td>\n",
       "      <td>A82</td>\n",
       "    </tr>\n",
       "    <tr>\n",
       "      <th>2183</th>\n",
       "      <td>RPT</td>\n",
       "      <td>HMC-6004</td>\n",
       "      <td>MAKINO-A81NX-HMC-6004</td>\n",
       "      <td>Breakdown</td>\n",
       "      <td>M06-WO-21-0063</td>\n",
       "      <td>31.08.2021</td>\n",
       "      <td>31.08.2021 - 12.00.08</td>\n",
       "      <td>31.08.2021 02:40 PM</td>\n",
       "      <td>WO</td>\n",
       "      <td>Handover</td>\n",
       "      <td>...</td>\n",
       "      <td>NaN</td>\n",
       "      <td>Medium</td>\n",
       "      <td>NaN</td>\n",
       "      <td>RANIPET</td>\n",
       "      <td>NaN</td>\n",
       "      <td>NaN</td>\n",
       "      <td>0</td>\n",
       "      <td>0</td>\n",
       "      <td>MAKINO</td>\n",
       "      <td>A81NX</td>\n",
       "    </tr>\n",
       "  </tbody>\n",
       "</table>\n",
       "<p>5 rows × 43 columns</p>\n",
       "</div>"
      ],
      "text/plain": [
       "     Unit Equipment_ID         Equipment Name       Type        W.O. No.  \\\n",
       "2179  RPT     HMC-6003    MAKINO-A82-HMC-6003  Breakdown  M06-WO-21-0059   \n",
       "2180  RPT     HMC-6004  MAKINO-A81NX-HMC-6004  Breakdown  M06-WO-21-0060   \n",
       "2181  RPT     HMC-6003    MAKINO-A82-HMC-6003  Breakdown  M06-WO-21-0061   \n",
       "2182  RPT     HMC-6003    MAKINO-A82-HMC-6003  Breakdown  M06-WO-21-0062   \n",
       "2183  RPT     HMC-6004  MAKINO-A81NX-HMC-6004  Breakdown  M06-WO-21-0063   \n",
       "\n",
       "        W.O Date              Stop Date           Comp. Date Comp. Sou.  \\\n",
       "2179  27.08.2021  27.08.2021 - 12.00.08  27.08.2021 12:30 AM         WO   \n",
       "2180  27.08.2021  27.08.2021 - 01.00.08  27.08.2021 01:35 AM         WO   \n",
       "2181  21.08.2021  21.08.2021 - 09.00.08  21.08.2021 11:45 PM         WO   \n",
       "2182  23.08.2021  23.08.2021 - 07.00.08  23.08.2021 08:50 AM         WO   \n",
       "2183  31.08.2021  31.08.2021 - 12.00.08  31.08.2021 02:40 PM         WO   \n",
       "\n",
       "        Status  ...  Reason  Priority Remarks Location  Capital WIP  \\\n",
       "2179  Handover  ...     NaN    Medium     NaN  RANIPET          NaN   \n",
       "2180  Handover  ...     NaN    Medium     NaN  RANIPET          NaN   \n",
       "2181  Handover  ...     NaN    Medium     NaN  RANIPET          NaN   \n",
       "2182  Handover  ...     NaN    Medium     NaN  RANIPET          NaN   \n",
       "2183  Handover  ...     NaN    Medium     NaN  RANIPET          NaN   \n",
       "\n",
       "     Capital WIP Desc. Current RPM    Make  Model  \n",
       "2179               NaN       0   0  MAKINO    A82  \n",
       "2180               NaN       0   0  MAKINO  A81NX  \n",
       "2181               NaN       0   0  MAKINO    A82  \n",
       "2182               NaN       0   0  MAKINO    A82  \n",
       "2183               NaN       0   0  MAKINO  A81NX  \n",
       "\n",
       "[5 rows x 43 columns]"
      ]
     },
     "execution_count": 3,
     "metadata": {},
     "output_type": "execute_result"
    }
   ],
   "source": [
    "df.tail()"
   ]
  },
  {
   "cell_type": "code",
   "execution_count": 4,
   "id": "9e9077e0",
   "metadata": {},
   "outputs": [
    {
     "data": {
      "text/plain": [
       "(2184, 43)"
      ]
     },
     "execution_count": 4,
     "metadata": {},
     "output_type": "execute_result"
    }
   ],
   "source": [
    "df.shape"
   ]
  },
  {
   "cell_type": "code",
   "execution_count": 5,
   "id": "0ccbadde",
   "metadata": {},
   "outputs": [
    {
     "data": {
      "text/html": [
       "<div>\n",
       "<style scoped>\n",
       "    .dataframe tbody tr th:only-of-type {\n",
       "        vertical-align: middle;\n",
       "    }\n",
       "\n",
       "    .dataframe tbody tr th {\n",
       "        vertical-align: top;\n",
       "    }\n",
       "\n",
       "    .dataframe thead th {\n",
       "        text-align: right;\n",
       "    }\n",
       "</style>\n",
       "<table border=\"1\" class=\"dataframe\">\n",
       "  <thead>\n",
       "    <tr style=\"text-align: right;\">\n",
       "      <th></th>\n",
       "      <th>DTH</th>\n",
       "      <th>RTH</th>\n",
       "      <th>Serv.</th>\n",
       "      <th>Est. Dur.</th>\n",
       "      <th>Par. W.O No.</th>\n",
       "      <th>Requestor</th>\n",
       "      <th>Reason</th>\n",
       "      <th>Remarks</th>\n",
       "      <th>Capital WIP</th>\n",
       "      <th>Capital WIP Desc.</th>\n",
       "      <th>Current</th>\n",
       "      <th>RPM</th>\n",
       "    </tr>\n",
       "  </thead>\n",
       "  <tbody>\n",
       "    <tr>\n",
       "      <th>count</th>\n",
       "      <td>2184.000000</td>\n",
       "      <td>2184.000000</td>\n",
       "      <td>2184.0</td>\n",
       "      <td>2184.0</td>\n",
       "      <td>0.0</td>\n",
       "      <td>33.000000</td>\n",
       "      <td>0.0</td>\n",
       "      <td>0.0</td>\n",
       "      <td>0.0</td>\n",
       "      <td>0.0</td>\n",
       "      <td>2184.0</td>\n",
       "      <td>2184.0</td>\n",
       "    </tr>\n",
       "    <tr>\n",
       "      <th>mean</th>\n",
       "      <td>21.880783</td>\n",
       "      <td>5.830696</td>\n",
       "      <td>0.0</td>\n",
       "      <td>0.0</td>\n",
       "      <td>NaN</td>\n",
       "      <td>15891.606061</td>\n",
       "      <td>NaN</td>\n",
       "      <td>NaN</td>\n",
       "      <td>NaN</td>\n",
       "      <td>NaN</td>\n",
       "      <td>0.0</td>\n",
       "      <td>0.0</td>\n",
       "    </tr>\n",
       "    <tr>\n",
       "      <th>std</th>\n",
       "      <td>191.194230</td>\n",
       "      <td>35.413342</td>\n",
       "      <td>0.0</td>\n",
       "      <td>0.0</td>\n",
       "      <td>NaN</td>\n",
       "      <td>10846.973699</td>\n",
       "      <td>NaN</td>\n",
       "      <td>NaN</td>\n",
       "      <td>NaN</td>\n",
       "      <td>NaN</td>\n",
       "      <td>0.0</td>\n",
       "      <td>0.0</td>\n",
       "    </tr>\n",
       "    <tr>\n",
       "      <th>min</th>\n",
       "      <td>0.000000</td>\n",
       "      <td>0.020000</td>\n",
       "      <td>0.0</td>\n",
       "      <td>0.0</td>\n",
       "      <td>NaN</td>\n",
       "      <td>10010.000000</td>\n",
       "      <td>NaN</td>\n",
       "      <td>NaN</td>\n",
       "      <td>NaN</td>\n",
       "      <td>NaN</td>\n",
       "      <td>0.0</td>\n",
       "      <td>0.0</td>\n",
       "    </tr>\n",
       "    <tr>\n",
       "      <th>25%</th>\n",
       "      <td>0.000000</td>\n",
       "      <td>2.000000</td>\n",
       "      <td>0.0</td>\n",
       "      <td>0.0</td>\n",
       "      <td>NaN</td>\n",
       "      <td>10035.000000</td>\n",
       "      <td>NaN</td>\n",
       "      <td>NaN</td>\n",
       "      <td>NaN</td>\n",
       "      <td>NaN</td>\n",
       "      <td>0.0</td>\n",
       "      <td>0.0</td>\n",
       "    </tr>\n",
       "    <tr>\n",
       "      <th>50%</th>\n",
       "      <td>0.000000</td>\n",
       "      <td>4.000000</td>\n",
       "      <td>0.0</td>\n",
       "      <td>0.0</td>\n",
       "      <td>NaN</td>\n",
       "      <td>10318.000000</td>\n",
       "      <td>NaN</td>\n",
       "      <td>NaN</td>\n",
       "      <td>NaN</td>\n",
       "      <td>NaN</td>\n",
       "      <td>0.0</td>\n",
       "      <td>0.0</td>\n",
       "    </tr>\n",
       "    <tr>\n",
       "      <th>75%</th>\n",
       "      <td>0.250000</td>\n",
       "      <td>7.562500</td>\n",
       "      <td>0.0</td>\n",
       "      <td>0.0</td>\n",
       "      <td>NaN</td>\n",
       "      <td>10435.000000</td>\n",
       "      <td>NaN</td>\n",
       "      <td>NaN</td>\n",
       "      <td>NaN</td>\n",
       "      <td>NaN</td>\n",
       "      <td>0.0</td>\n",
       "      <td>0.0</td>\n",
       "    </tr>\n",
       "    <tr>\n",
       "      <th>max</th>\n",
       "      <td>4651.750000</td>\n",
       "      <td>1584.000000</td>\n",
       "      <td>0.0</td>\n",
       "      <td>0.0</td>\n",
       "      <td>NaN</td>\n",
       "      <td>40029.000000</td>\n",
       "      <td>NaN</td>\n",
       "      <td>NaN</td>\n",
       "      <td>NaN</td>\n",
       "      <td>NaN</td>\n",
       "      <td>0.0</td>\n",
       "      <td>0.0</td>\n",
       "    </tr>\n",
       "  </tbody>\n",
       "</table>\n",
       "</div>"
      ],
      "text/plain": [
       "               DTH          RTH   Serv.  Est. Dur.  Par. W.O No.  \\\n",
       "count  2184.000000  2184.000000  2184.0     2184.0           0.0   \n",
       "mean     21.880783     5.830696     0.0        0.0           NaN   \n",
       "std     191.194230    35.413342     0.0        0.0           NaN   \n",
       "min       0.000000     0.020000     0.0        0.0           NaN   \n",
       "25%       0.000000     2.000000     0.0        0.0           NaN   \n",
       "50%       0.000000     4.000000     0.0        0.0           NaN   \n",
       "75%       0.250000     7.562500     0.0        0.0           NaN   \n",
       "max    4651.750000  1584.000000     0.0        0.0           NaN   \n",
       "\n",
       "          Requestor  Reason  Remarks  Capital WIP  Capital WIP Desc.  Current  \\\n",
       "count     33.000000     0.0      0.0          0.0                0.0   2184.0   \n",
       "mean   15891.606061     NaN      NaN          NaN                NaN      0.0   \n",
       "std    10846.973699     NaN      NaN          NaN                NaN      0.0   \n",
       "min    10010.000000     NaN      NaN          NaN                NaN      0.0   \n",
       "25%    10035.000000     NaN      NaN          NaN                NaN      0.0   \n",
       "50%    10318.000000     NaN      NaN          NaN                NaN      0.0   \n",
       "75%    10435.000000     NaN      NaN          NaN                NaN      0.0   \n",
       "max    40029.000000     NaN      NaN          NaN                NaN      0.0   \n",
       "\n",
       "          RPM  \n",
       "count  2184.0  \n",
       "mean      0.0  \n",
       "std       0.0  \n",
       "min       0.0  \n",
       "25%       0.0  \n",
       "50%       0.0  \n",
       "75%       0.0  \n",
       "max       0.0  "
      ]
     },
     "execution_count": 5,
     "metadata": {},
     "output_type": "execute_result"
    }
   ],
   "source": [
    "df.describe()"
   ]
  },
  {
   "cell_type": "code",
   "execution_count": 6,
   "id": "64efb4fa",
   "metadata": {},
   "outputs": [
    {
     "data": {
      "text/plain": [
       "Index(['Unit', 'Equipment_ID', 'Equipment Name', 'Type', 'W.O. No.',\n",
       "       'W.O Date', 'Stop Date', 'Comp. Date', 'Comp. Sou.', 'Status', 'DTH',\n",
       "       'RTH', 'Spare', 'Labour', 'Serv.', 'Total', 'Doc. No.', 'Doc.Date',\n",
       "       'W.O Description', 'Work Req. No.', 'Sub.Dept.', 'Clear No.',\n",
       "       'Est. Dur.', 'Par. W.O No.', 'Sub. Category', 'Observation',\n",
       "       'Work Req.Desc.', 'Cat Desc.', 'Corrective Action', 'Failure',\n",
       "       'Department', 'Requestor', 'Requestor Name', 'Reason', 'Priority',\n",
       "       'Remarks', 'Location', 'Capital WIP', 'Capital WIP Desc.', 'Current',\n",
       "       'RPM', 'Make', 'Model'],\n",
       "      dtype='object')"
      ]
     },
     "execution_count": 6,
     "metadata": {},
     "output_type": "execute_result"
    }
   ],
   "source": [
    "df.columns"
   ]
  },
  {
   "cell_type": "code",
   "execution_count": 7,
   "id": "099c0c58",
   "metadata": {},
   "outputs": [],
   "source": [
    "drop_col=['W.O. No.','Doc. No.','Doc.Date','Comp. Sou.','Serv.','Doc. No.','Doc.Date','Work Req. No.','Clear No.','Est. Dur.','Par. W.O No.','Work Req.Desc.','Department','Requestor','Requestor Name','Reason','Remarks','Capital WIP','Capital WIP Desc.','Current','RPM']"
   ]
  },
  {
   "cell_type": "code",
   "execution_count": 8,
   "id": "535a901a",
   "metadata": {},
   "outputs": [
    {
     "name": "stdout",
     "output_type": "stream",
     "text": [
      "['W.O. No.', 'Doc. No.', 'Doc.Date', 'Comp. Sou.', 'Serv.', 'Doc. No.', 'Doc.Date', 'Work Req. No.', 'Clear No.', 'Est. Dur.', 'Par. W.O No.', 'Work Req.Desc.', 'Department', 'Requestor', 'Requestor Name', 'Reason', 'Remarks', 'Capital WIP', 'Capital WIP Desc.', 'Current', 'RPM']\n"
     ]
    }
   ],
   "source": [
    "print(drop_col)"
   ]
  },
  {
   "cell_type": "code",
   "execution_count": 9,
   "id": "f9e37249",
   "metadata": {},
   "outputs": [],
   "source": [
    "df=df.drop(drop_col,axis=1)"
   ]
  },
  {
   "cell_type": "code",
   "execution_count": 10,
   "id": "93fe607d",
   "metadata": {},
   "outputs": [
    {
     "data": {
      "text/plain": [
       "Index(['Unit', 'Equipment_ID', 'Equipment Name', 'Type', 'W.O Date',\n",
       "       'Stop Date', 'Comp. Date', 'Status', 'DTH', 'RTH', 'Spare', 'Labour',\n",
       "       'Total', 'W.O Description', 'Sub.Dept.', 'Sub. Category', 'Observation',\n",
       "       'Cat Desc.', 'Corrective Action', 'Failure', 'Priority', 'Location',\n",
       "       'Make', 'Model'],\n",
       "      dtype='object')"
      ]
     },
     "execution_count": 10,
     "metadata": {},
     "output_type": "execute_result"
    }
   ],
   "source": [
    "df.columns"
   ]
  },
  {
   "cell_type": "code",
   "execution_count": 11,
   "id": "43f14387",
   "metadata": {},
   "outputs": [
    {
     "data": {
      "text/plain": [
       "Unit                    5\n",
       "Equipment_ID          213\n",
       "Equipment Name        211\n",
       "Type                    3\n",
       "W.O Date              326\n",
       "Stop Date             613\n",
       "Comp. Date           1879\n",
       "Status                  4\n",
       "DTH                   217\n",
       "RTH                   123\n",
       "Spare                  17\n",
       "Labour                322\n",
       "Total                 332\n",
       "W.O Description       763\n",
       "Sub.Dept.               5\n",
       "Sub. Category          20\n",
       "Observation           119\n",
       "Cat Desc.               6\n",
       "Corrective Action     122\n",
       "Failure                24\n",
       "Priority                4\n",
       "Location                5\n",
       "Make                   60\n",
       "Model                 124\n",
       "dtype: int64"
      ]
     },
     "execution_count": 11,
     "metadata": {},
     "output_type": "execute_result"
    }
   ],
   "source": [
    "df.nunique()"
   ]
  },
  {
   "cell_type": "code",
   "execution_count": 12,
   "id": "4b3db9d3",
   "metadata": {},
   "outputs": [
    {
     "data": {
      "text/plain": [
       "Unit                    0\n",
       "Equipment_ID            0\n",
       "Equipment Name          2\n",
       "Type                    0\n",
       "W.O Date                1\n",
       "Stop Date            1430\n",
       "Comp. Date              0\n",
       "Status                  0\n",
       "DTH                     0\n",
       "RTH                     0\n",
       "Spare                   0\n",
       "Labour                  0\n",
       "Total                   0\n",
       "W.O Description         0\n",
       "Sub.Dept.             743\n",
       "Sub. Category           2\n",
       "Observation          2020\n",
       "Cat Desc.               2\n",
       "Corrective Action    2041\n",
       "Failure              1407\n",
       "Priority                0\n",
       "Location                2\n",
       "Make                    1\n",
       "Model                  43\n",
       "dtype: int64"
      ]
     },
     "execution_count": 12,
     "metadata": {},
     "output_type": "execute_result"
    }
   ],
   "source": [
    "df.isnull().sum()"
   ]
  },
  {
   "cell_type": "code",
   "execution_count": 13,
   "id": "1dad32c2",
   "metadata": {},
   "outputs": [
    {
     "data": {
      "text/plain": [
       "array(['CBE', 'CNR', 'HSR', 'PRI', 'RPT'], dtype=object)"
      ]
     },
     "execution_count": 13,
     "metadata": {},
     "output_type": "execute_result"
    }
   ],
   "source": [
    "df.Unit.unique()"
   ]
  },
  {
   "cell_type": "code",
   "execution_count": 14,
   "id": "fd540dd7",
   "metadata": {},
   "outputs": [
    {
     "data": {
      "text/plain": [
       "array(['COIMBATORE', 'CHERAN NAGAR', 'HOSUR-1', 'PERUNDURAI', nan,\n",
       "       'RANIPET'], dtype=object)"
      ]
     },
     "execution_count": 14,
     "metadata": {},
     "output_type": "execute_result"
    }
   ],
   "source": [
    "df.Location.unique()"
   ]
  },
  {
   "cell_type": "code",
   "execution_count": 15,
   "id": "2f5dd724",
   "metadata": {},
   "outputs": [],
   "source": [
    "df=df.drop(['Stop Date','Sub.Dept.','Observation','Corrective Action','Location','Equipment Name','W.O Description','Status'],axis=1)"
   ]
  },
  {
   "cell_type": "code",
   "execution_count": 16,
   "id": "7f37f969",
   "metadata": {},
   "outputs": [
    {
     "data": {
      "text/plain": [
       "Unit                0\n",
       "Equipment_ID        0\n",
       "Type                0\n",
       "W.O Date            1\n",
       "Comp. Date          0\n",
       "DTH                 0\n",
       "RTH                 0\n",
       "Spare               0\n",
       "Labour              0\n",
       "Total               0\n",
       "Sub. Category       2\n",
       "Cat Desc.           2\n",
       "Failure          1407\n",
       "Priority            0\n",
       "Make                1\n",
       "Model              43\n",
       "dtype: int64"
      ]
     },
     "execution_count": 16,
     "metadata": {},
     "output_type": "execute_result"
    }
   ],
   "source": [
    "df.isnull().sum()"
   ]
  },
  {
   "cell_type": "code",
   "execution_count": 17,
   "id": "8d5496d8",
   "metadata": {},
   "outputs": [
    {
     "data": {
      "text/plain": [
       "1407"
      ]
     },
     "execution_count": 17,
     "metadata": {},
     "output_type": "execute_result"
    }
   ],
   "source": [
    "df['Failure'].isnull().sum()"
   ]
  },
  {
   "cell_type": "code",
   "execution_count": 18,
   "id": "d70942e7",
   "metadata": {},
   "outputs": [],
   "source": [
    "df['Failure'] = df['Failure'].replace(np.nan, 'Preventive')"
   ]
  },
  {
   "cell_type": "code",
   "execution_count": 19,
   "id": "73db8e90",
   "metadata": {},
   "outputs": [
    {
     "data": {
      "text/plain": [
       "0"
      ]
     },
     "execution_count": 19,
     "metadata": {},
     "output_type": "execute_result"
    }
   ],
   "source": [
    "df['Failure'].isnull().sum()"
   ]
  },
  {
   "cell_type": "code",
   "execution_count": 20,
   "id": "60140327",
   "metadata": {},
   "outputs": [
    {
     "data": {
      "text/plain": [
       "Preventive                               1407\n",
       "AUTO TOOL CHANGE PROBLEM                  211\n",
       "AUTO PALLET CHANGER PROBLEM                81\n",
       "SECONDARY FILTER/COOLANT UNIT PROBLEM      65\n",
       "SPINDLE UNIT PROBLEM                       64\n",
       "HYDRAULIC UNIT                             37\n",
       "OPERATOR PANEL PROBLEM                     34\n",
       "X-AXIS PROBLEM                             33\n",
       "DRIVE CARD PROBLEM                         31\n",
       "CHIP CONVEYER PROBLEM                      30\n",
       "PNUMATIC UNIT                              30\n",
       "B-AXIS PROBLEM                             25\n",
       "LUBRICATION UNIT PROBLEM                   24\n",
       "MAGAZINE PROBLEM                           14\n",
       "BROKEN TOOL SENSOR FAILURE                 14\n",
       "TURRET PROBLEM                             14\n",
       "TELESCOPIC COVER PROBLEM                   13\n",
       "Z-AXIS PROBLEM                             11\n",
       "ENCODER FAILURE                             9\n",
       "CHILLER UNIT FAILURE                        9\n",
       "SERVO MOTOR FAILURE                         9\n",
       "Y-AXIS PROBLEM                              8\n",
       "PANEL COOLER PROBLEM                        4\n",
       "PFM UNIT FAILURE                            4\n",
       "TRANSFORMER FAILURE                         3\n",
       "Name: Failure, dtype: int64"
      ]
     },
     "execution_count": 20,
     "metadata": {},
     "output_type": "execute_result"
    }
   ],
   "source": [
    "df.Failure.value_counts()"
   ]
  },
  {
   "cell_type": "code",
   "execution_count": 21,
   "id": "58214d4a",
   "metadata": {},
   "outputs": [],
   "source": [
    "df = df.dropna()"
   ]
  },
  {
   "cell_type": "code",
   "execution_count": 22,
   "id": "472924c1",
   "metadata": {
    "scrolled": true
   },
   "outputs": [
    {
     "data": {
      "text/plain": [
       "Unit             0\n",
       "Equipment_ID     0\n",
       "Type             0\n",
       "W.O Date         0\n",
       "Comp. Date       0\n",
       "DTH              0\n",
       "RTH              0\n",
       "Spare            0\n",
       "Labour           0\n",
       "Total            0\n",
       "Sub. Category    0\n",
       "Cat Desc.        0\n",
       "Failure          0\n",
       "Priority         0\n",
       "Make             0\n",
       "Model            0\n",
       "dtype: int64"
      ]
     },
     "execution_count": 22,
     "metadata": {},
     "output_type": "execute_result"
    }
   ],
   "source": [
    "df.isnull().sum()"
   ]
  },
  {
   "cell_type": "code",
   "execution_count": 23,
   "id": "48479fd4",
   "metadata": {},
   "outputs": [],
   "source": [
    "df = df.reset_index(drop = True)"
   ]
  },
  {
   "cell_type": "code",
   "execution_count": 24,
   "id": "3d45bc44",
   "metadata": {},
   "outputs": [
    {
     "data": {
      "text/plain": [
       "(2140, 16)"
      ]
     },
     "execution_count": 24,
     "metadata": {},
     "output_type": "execute_result"
    }
   ],
   "source": [
    "df.shape"
   ]
  },
  {
   "cell_type": "code",
   "execution_count": 25,
   "id": "4126ec05",
   "metadata": {},
   "outputs": [
    {
     "data": {
      "text/plain": [
       "array(['Preventive', 'Breakdown', 'Rebuild'], dtype=object)"
      ]
     },
     "execution_count": 25,
     "metadata": {},
     "output_type": "execute_result"
    }
   ],
   "source": [
    "df.Type.unique()"
   ]
  },
  {
   "cell_type": "code",
   "execution_count": 26,
   "id": "77c8a6e6",
   "metadata": {},
   "outputs": [
    {
     "data": {
      "text/plain": [
       "Preventive    1371\n",
       "Breakdown      766\n",
       "Rebuild          3\n",
       "Name: Type, dtype: int64"
      ]
     },
     "execution_count": 26,
     "metadata": {},
     "output_type": "execute_result"
    }
   ],
   "source": [
    "df.Type.value_counts()"
   ]
  },
  {
   "cell_type": "code",
   "execution_count": 27,
   "id": "7b58d429",
   "metadata": {},
   "outputs": [
    {
     "data": {
      "text/plain": [
       "Medium      2120\n",
       "High           9\n",
       "Critical       8\n",
       "Low            3\n",
       "Name: Priority, dtype: int64"
      ]
     },
     "execution_count": 27,
     "metadata": {},
     "output_type": "execute_result"
    }
   ],
   "source": [
    "df.Priority.value_counts()"
   ]
  },
  {
   "cell_type": "code",
   "execution_count": 28,
   "id": "22e41b04",
   "metadata": {
    "scrolled": false
   },
   "outputs": [
    {
     "data": {
      "text/plain": [
       "<AxesSubplot:>"
      ]
     },
     "execution_count": 28,
     "metadata": {},
     "output_type": "execute_result"
    },
    {
     "data": {
      "image/png": "[encoded data removed]",
      "text/plain": [
       "<Figure size 1440x432 with 1 Axes>"
      ]
     },
     "metadata": {
      "needs_background": "light"
     },
     "output_type": "display_data"
    }
   ],
   "source": [
    "df.Make.value_counts().plot(kind='bar', width=.8, figsize=(20,6), fontsize=13)"
   ]
  },
  {
   "cell_type": "code",
   "execution_count": 29,
   "id": "57cb2aa1",
   "metadata": {},
   "outputs": [],
   "source": [
    "df_ut = df.groupby(['Unit','Type'])[['Type']].agg('count')"
   ]
  },
  {
   "cell_type": "code",
   "execution_count": 30,
   "id": "434dbbc7",
   "metadata": {},
   "outputs": [],
   "source": [
    "df_ut.columns = ['counts']"
   ]
  },
  {
   "cell_type": "code",
   "execution_count": 31,
   "id": "16a6d526",
   "metadata": {
    "scrolled": false
   },
   "outputs": [
    {
     "data": {
      "text/html": [
       "<div>\n",
       "<style scoped>\n",
       "    .dataframe tbody tr th:only-of-type {\n",
       "        vertical-align: middle;\n",
       "    }\n",
       "\n",
       "    .dataframe tbody tr th {\n",
       "        vertical-align: top;\n",
       "    }\n",
       "\n",
       "    .dataframe thead th {\n",
       "        text-align: right;\n",
       "    }\n",
       "</style>\n",
       "<table border=\"1\" class=\"dataframe\">\n",
       "  <thead>\n",
       "    <tr style=\"text-align: right;\">\n",
       "      <th></th>\n",
       "      <th></th>\n",
       "      <th>counts</th>\n",
       "    </tr>\n",
       "    <tr>\n",
       "      <th>Unit</th>\n",
       "      <th>Type</th>\n",
       "      <th></th>\n",
       "    </tr>\n",
       "  </thead>\n",
       "  <tbody>\n",
       "    <tr>\n",
       "      <th rowspan=\"2\" valign=\"top\">CBE</th>\n",
       "      <th>Breakdown</th>\n",
       "      <td>183</td>\n",
       "    </tr>\n",
       "    <tr>\n",
       "      <th>Preventive</th>\n",
       "      <td>164</td>\n",
       "    </tr>\n",
       "    <tr>\n",
       "      <th rowspan=\"2\" valign=\"top\">CNR</th>\n",
       "      <th>Breakdown</th>\n",
       "      <td>94</td>\n",
       "    </tr>\n",
       "    <tr>\n",
       "      <th>Preventive</th>\n",
       "      <td>418</td>\n",
       "    </tr>\n",
       "    <tr>\n",
       "      <th rowspan=\"2\" valign=\"top\">HSR</th>\n",
       "      <th>Breakdown</th>\n",
       "      <td>205</td>\n",
       "    </tr>\n",
       "    <tr>\n",
       "      <th>Preventive</th>\n",
       "      <td>8</td>\n",
       "    </tr>\n",
       "    <tr>\n",
       "      <th rowspan=\"3\" valign=\"top\">PRI</th>\n",
       "      <th>Breakdown</th>\n",
       "      <td>177</td>\n",
       "    </tr>\n",
       "    <tr>\n",
       "      <th>Preventive</th>\n",
       "      <td>648</td>\n",
       "    </tr>\n",
       "    <tr>\n",
       "      <th>Rebuild</th>\n",
       "      <td>3</td>\n",
       "    </tr>\n",
       "    <tr>\n",
       "      <th rowspan=\"2\" valign=\"top\">RPT</th>\n",
       "      <th>Breakdown</th>\n",
       "      <td>107</td>\n",
       "    </tr>\n",
       "    <tr>\n",
       "      <th>Preventive</th>\n",
       "      <td>133</td>\n",
       "    </tr>\n",
       "  </tbody>\n",
       "</table>\n",
       "</div>"
      ],
      "text/plain": [
       "                 counts\n",
       "Unit Type              \n",
       "CBE  Breakdown      183\n",
       "     Preventive     164\n",
       "CNR  Breakdown       94\n",
       "     Preventive     418\n",
       "HSR  Breakdown      205\n",
       "     Preventive       8\n",
       "PRI  Breakdown      177\n",
       "     Preventive     648\n",
       "     Rebuild          3\n",
       "RPT  Breakdown      107\n",
       "     Preventive     133"
      ]
     },
     "execution_count": 31,
     "metadata": {},
     "output_type": "execute_result"
    }
   ],
   "source": [
    "df_ut"
   ]
  },
  {
   "cell_type": "code",
   "execution_count": 32,
   "id": "b732087c",
   "metadata": {},
   "outputs": [
    {
     "data": {
      "text/plain": [
       "Text(0.5, 1.0, 'Unit | Events')"
      ]
     },
     "execution_count": 32,
     "metadata": {},
     "output_type": "execute_result"
    },
    {
     "data": {
      "image/png": "[encoded data removed]",
      "text/plain": [
       "<Figure size 1440x432 with 1 Axes>"
      ]
     },
     "metadata": {
      "needs_background": "light"
     },
     "output_type": "display_data"
    }
   ],
   "source": [
    "df_ut.unstack().plot(kind='bar', stacked=False, width=.8, figsize=(20,6), fontsize=13)\n",
    "plt.title('Unit | Events',fontsize=20)"
   ]
  },
  {
   "cell_type": "code",
   "execution_count": 33,
   "id": "47bc33c5",
   "metadata": {},
   "outputs": [
    {
     "data": {
      "text/plain": [
       "HMC-6003    42\n",
       "HMC-4002    37\n",
       "VTM-01      30\n",
       "HMC-6005    29\n",
       "HMC-3009    29\n",
       "            ..\n",
       "HMC-3013     1\n",
       "VM-01        1\n",
       "EGB-03       1\n",
       "HMC-3015     1\n",
       "RGB-6003     1\n",
       "Name: Equipment_ID, Length: 204, dtype: int64"
      ]
     },
     "execution_count": 33,
     "metadata": {},
     "output_type": "execute_result"
    }
   ],
   "source": [
    "df.Equipment_ID.value_counts()"
   ]
  },
  {
   "cell_type": "code",
   "execution_count": 34,
   "id": "c2ff6dc3",
   "metadata": {
    "scrolled": false
   },
   "outputs": [
    {
     "data": {
      "text/html": [
       "<div>\n",
       "<style scoped>\n",
       "    .dataframe tbody tr th:only-of-type {\n",
       "        vertical-align: middle;\n",
       "    }\n",
       "\n",
       "    .dataframe tbody tr th {\n",
       "        vertical-align: top;\n",
       "    }\n",
       "\n",
       "    .dataframe thead th {\n",
       "        text-align: right;\n",
       "    }\n",
       "</style>\n",
       "<table border=\"1\" class=\"dataframe\">\n",
       "  <thead>\n",
       "    <tr style=\"text-align: right;\">\n",
       "      <th></th>\n",
       "      <th></th>\n",
       "      <th></th>\n",
       "      <th>counts</th>\n",
       "    </tr>\n",
       "    <tr>\n",
       "      <th>Unit</th>\n",
       "      <th>Equipment_ID</th>\n",
       "      <th>Type</th>\n",
       "      <th></th>\n",
       "    </tr>\n",
       "  </thead>\n",
       "  <tbody>\n",
       "    <tr>\n",
       "      <th rowspan=\"5\" valign=\"top\">CBE</th>\n",
       "      <th>CP-2001</th>\n",
       "      <th>Preventive</th>\n",
       "      <td>1</td>\n",
       "    </tr>\n",
       "    <tr>\n",
       "      <th>CP-2002</th>\n",
       "      <th>Preventive</th>\n",
       "      <td>1</td>\n",
       "    </tr>\n",
       "    <tr>\n",
       "      <th>GS-2001</th>\n",
       "      <th>Preventive</th>\n",
       "      <td>2</td>\n",
       "    </tr>\n",
       "    <tr>\n",
       "      <th>HM-2001</th>\n",
       "      <th>Preventive</th>\n",
       "      <td>1</td>\n",
       "    </tr>\n",
       "    <tr>\n",
       "      <th>HMC-2001</th>\n",
       "      <th>Breakdown</th>\n",
       "      <td>12</td>\n",
       "    </tr>\n",
       "    <tr>\n",
       "      <th>...</th>\n",
       "      <th>...</th>\n",
       "      <th>...</th>\n",
       "      <td>...</td>\n",
       "    </tr>\n",
       "    <tr>\n",
       "      <th rowspan=\"5\" valign=\"top\">RPT</th>\n",
       "      <th rowspan=\"2\" valign=\"top\">RGB-6002</th>\n",
       "      <th>Breakdown</th>\n",
       "      <td>8</td>\n",
       "    </tr>\n",
       "    <tr>\n",
       "      <th>Preventive</th>\n",
       "      <td>10</td>\n",
       "    </tr>\n",
       "    <tr>\n",
       "      <th>RGB-6003</th>\n",
       "      <th>Preventive</th>\n",
       "      <td>1</td>\n",
       "    </tr>\n",
       "    <tr>\n",
       "      <th>SWG-6001</th>\n",
       "      <th>Preventive</th>\n",
       "      <td>9</td>\n",
       "    </tr>\n",
       "    <tr>\n",
       "      <th>WS-6001</th>\n",
       "      <th>Preventive</th>\n",
       "      <td>9</td>\n",
       "    </tr>\n",
       "  </tbody>\n",
       "</table>\n",
       "<p>300 rows × 1 columns</p>\n",
       "</div>"
      ],
      "text/plain": [
       "                              counts\n",
       "Unit Equipment_ID Type              \n",
       "CBE  CP-2001      Preventive       1\n",
       "     CP-2002      Preventive       1\n",
       "     GS-2001      Preventive       2\n",
       "     HM-2001      Preventive       1\n",
       "     HMC-2001     Breakdown       12\n",
       "...                              ...\n",
       "RPT  RGB-6002     Breakdown        8\n",
       "                  Preventive      10\n",
       "     RGB-6003     Preventive       1\n",
       "     SWG-6001     Preventive       9\n",
       "     WS-6001      Preventive       9\n",
       "\n",
       "[300 rows x 1 columns]"
      ]
     },
     "execution_count": 34,
     "metadata": {},
     "output_type": "execute_result"
    }
   ],
   "source": [
    "df_uet = df.groupby(['Unit','Equipment_ID','Type'])[['Type']].agg('count')\n",
    "df_uet.columns = ['counts']\n",
    "df_uet"
   ]
  },
  {
   "cell_type": "code",
   "execution_count": 35,
   "id": "34431a31",
   "metadata": {},
   "outputs": [],
   "source": [
    "pd.set_option(\"display.max_rows\",200)"
   ]
  },
  {
   "cell_type": "code",
   "execution_count": 36,
   "id": "269a32f4",
   "metadata": {},
   "outputs": [],
   "source": [
    "df_BD = df[df.Failure != 'Preventive']"
   ]
  },
  {
   "cell_type": "code",
   "execution_count": 37,
   "id": "7724462b",
   "metadata": {},
   "outputs": [
    {
     "data": {
      "text/plain": [
       "AUTO TOOL CHANGE PROBLEM                 211\n",
       "AUTO PALLET CHANGER PROBLEM               81\n",
       "SECONDARY FILTER/COOLANT UNIT PROBLEM     65\n",
       "SPINDLE UNIT PROBLEM                      64\n",
       "HYDRAULIC UNIT                            37\n",
       "OPERATOR PANEL PROBLEM                    34\n",
       "X-AXIS PROBLEM                            33\n",
       "DRIVE CARD PROBLEM                        31\n",
       "CHIP CONVEYER PROBLEM                     30\n",
       "PNUMATIC UNIT                             30\n",
       "B-AXIS PROBLEM                            25\n",
       "LUBRICATION UNIT PROBLEM                  24\n",
       "MAGAZINE PROBLEM                          14\n",
       "TURRET PROBLEM                            14\n",
       "BROKEN TOOL SENSOR FAILURE                14\n",
       "TELESCOPIC COVER PROBLEM                  13\n",
       "Z-AXIS PROBLEM                            11\n",
       "SERVO MOTOR FAILURE                        9\n",
       "ENCODER FAILURE                            9\n",
       "CHILLER UNIT FAILURE                       9\n",
       "Y-AXIS PROBLEM                             8\n",
       "PANEL COOLER PROBLEM                       4\n",
       "PFM UNIT FAILURE                           4\n",
       "TRANSFORMER FAILURE                        3\n",
       "Name: Failure, dtype: int64"
      ]
     },
     "execution_count": 37,
     "metadata": {},
     "output_type": "execute_result"
    }
   ],
   "source": [
    "df_BD.Failure.value_counts()"
   ]
  },
  {
   "cell_type": "code",
   "execution_count": 38,
   "id": "5376f3b3",
   "metadata": {
    "scrolled": true
   },
   "outputs": [
    {
     "data": {
      "text/html": [
       "<div>\n",
       "<style scoped>\n",
       "    .dataframe tbody tr th:only-of-type {\n",
       "        vertical-align: middle;\n",
       "    }\n",
       "\n",
       "    .dataframe tbody tr th {\n",
       "        vertical-align: top;\n",
       "    }\n",
       "\n",
       "    .dataframe thead th {\n",
       "        text-align: right;\n",
       "    }\n",
       "</style>\n",
       "<table border=\"1\" class=\"dataframe\">\n",
       "  <thead>\n",
       "    <tr style=\"text-align: right;\">\n",
       "      <th></th>\n",
       "      <th></th>\n",
       "      <th></th>\n",
       "      <th>Failure</th>\n",
       "    </tr>\n",
       "    <tr>\n",
       "      <th>Unit</th>\n",
       "      <th>Sub. Category</th>\n",
       "      <th>Failure</th>\n",
       "      <th></th>\n",
       "    </tr>\n",
       "  </thead>\n",
       "  <tbody>\n",
       "    <tr>\n",
       "      <th rowspan=\"37\" valign=\"top\">CBE</th>\n",
       "      <th rowspan=\"16\" valign=\"top\">HORIZONTAL MACHINING CENTRE</th>\n",
       "      <th>AUTO PALLET CHANGER PROBLEM</th>\n",
       "      <td>5</td>\n",
       "    </tr>\n",
       "    <tr>\n",
       "      <th>AUTO TOOL CHANGE PROBLEM</th>\n",
       "      <td>11</td>\n",
       "    </tr>\n",
       "    <tr>\n",
       "      <th>B-AXIS PROBLEM</th>\n",
       "      <td>1</td>\n",
       "    </tr>\n",
       "    <tr>\n",
       "      <th>BROKEN TOOL SENSOR FAILURE</th>\n",
       "      <td>3</td>\n",
       "    </tr>\n",
       "    <tr>\n",
       "      <th>CHILLER UNIT FAILURE</th>\n",
       "      <td>1</td>\n",
       "    </tr>\n",
       "    <tr>\n",
       "      <th>DRIVE CARD PROBLEM</th>\n",
       "      <td>1</td>\n",
       "    </tr>\n",
       "    <tr>\n",
       "      <th>ENCODER FAILURE</th>\n",
       "      <td>1</td>\n",
       "    </tr>\n",
       "    <tr>\n",
       "      <th>HYDRAULIC UNIT</th>\n",
       "      <td>1</td>\n",
       "    </tr>\n",
       "    <tr>\n",
       "      <th>LUBRICATION UNIT PROBLEM</th>\n",
       "      <td>5</td>\n",
       "    </tr>\n",
       "    <tr>\n",
       "      <th>MAGAZINE PROBLEM</th>\n",
       "      <td>4</td>\n",
       "    </tr>\n",
       "    <tr>\n",
       "      <th>OPERATOR PANEL PROBLEM</th>\n",
       "      <td>6</td>\n",
       "    </tr>\n",
       "    <tr>\n",
       "      <th>PANEL COOLER PROBLEM</th>\n",
       "      <td>1</td>\n",
       "    </tr>\n",
       "    <tr>\n",
       "      <th>PFM UNIT FAILURE</th>\n",
       "      <td>1</td>\n",
       "    </tr>\n",
       "    <tr>\n",
       "      <th>PNUMATIC UNIT</th>\n",
       "      <td>1</td>\n",
       "    </tr>\n",
       "    <tr>\n",
       "      <th>SECONDARY FILTER/COOLANT UNIT PROBLEM</th>\n",
       "      <td>2</td>\n",
       "    </tr>\n",
       "    <tr>\n",
       "      <th>SPINDLE UNIT PROBLEM</th>\n",
       "      <td>4</td>\n",
       "    </tr>\n",
       "    <tr>\n",
       "      <th rowspan=\"4\" valign=\"top\">HORIZONTAL TURNING CENTRE</th>\n",
       "      <th>DRIVE CARD PROBLEM</th>\n",
       "      <td>1</td>\n",
       "    </tr>\n",
       "    <tr>\n",
       "      <th>ENCODER FAILURE</th>\n",
       "      <td>1</td>\n",
       "    </tr>\n",
       "    <tr>\n",
       "      <th>OPERATOR PANEL PROBLEM</th>\n",
       "      <td>1</td>\n",
       "    </tr>\n",
       "    <tr>\n",
       "      <th>SPINDLE UNIT PROBLEM</th>\n",
       "      <td>1</td>\n",
       "    </tr>\n",
       "    <tr>\n",
       "      <th rowspan=\"16\" valign=\"top\">VERTICAL MAC CENTRE</th>\n",
       "      <th>AUTO PALLET CHANGER PROBLEM</th>\n",
       "      <td>17</td>\n",
       "    </tr>\n",
       "    <tr>\n",
       "      <th>AUTO TOOL CHANGE PROBLEM</th>\n",
       "      <td>36</td>\n",
       "    </tr>\n",
       "    <tr>\n",
       "      <th>B-AXIS PROBLEM</th>\n",
       "      <td>4</td>\n",
       "    </tr>\n",
       "    <tr>\n",
       "      <th>BROKEN TOOL SENSOR FAILURE</th>\n",
       "      <td>2</td>\n",
       "    </tr>\n",
       "    <tr>\n",
       "      <th>CHIP CONVEYER PROBLEM</th>\n",
       "      <td>2</td>\n",
       "    </tr>\n",
       "    <tr>\n",
       "      <th>ENCODER FAILURE</th>\n",
       "      <td>2</td>\n",
       "    </tr>\n",
       "    <tr>\n",
       "      <th>HYDRAULIC UNIT</th>\n",
       "      <td>6</td>\n",
       "    </tr>\n",
       "    <tr>\n",
       "      <th>LUBRICATION UNIT PROBLEM</th>\n",
       "      <td>7</td>\n",
       "    </tr>\n",
       "    <tr>\n",
       "      <th>OPERATOR PANEL PROBLEM</th>\n",
       "      <td>9</td>\n",
       "    </tr>\n",
       "    <tr>\n",
       "      <th>PANEL COOLER PROBLEM</th>\n",
       "      <td>1</td>\n",
       "    </tr>\n",
       "    <tr>\n",
       "      <th>PFM UNIT FAILURE</th>\n",
       "      <td>3</td>\n",
       "    </tr>\n",
       "    <tr>\n",
       "      <th>PNUMATIC UNIT</th>\n",
       "      <td>5</td>\n",
       "    </tr>\n",
       "    <tr>\n",
       "      <th>SECONDARY FILTER/COOLANT UNIT PROBLEM</th>\n",
       "      <td>19</td>\n",
       "    </tr>\n",
       "    <tr>\n",
       "      <th>SERVO MOTOR FAILURE</th>\n",
       "      <td>6</td>\n",
       "    </tr>\n",
       "    <tr>\n",
       "      <th>SPINDLE UNIT PROBLEM</th>\n",
       "      <td>9</td>\n",
       "    </tr>\n",
       "    <tr>\n",
       "      <th>TELESCOPIC COVER PROBLEM</th>\n",
       "      <td>2</td>\n",
       "    </tr>\n",
       "    <tr>\n",
       "      <th>VERTICAL TURNING CENTRE</th>\n",
       "      <th>HYDRAULIC UNIT</th>\n",
       "      <td>1</td>\n",
       "    </tr>\n",
       "    <tr>\n",
       "      <th rowspan=\"30\" valign=\"top\">CNR</th>\n",
       "      <th rowspan=\"3\" valign=\"top\">DRILL TAP CENTRE</th>\n",
       "      <th>AUTO TOOL CHANGE PROBLEM</th>\n",
       "      <td>5</td>\n",
       "    </tr>\n",
       "    <tr>\n",
       "      <th>LUBRICATION UNIT PROBLEM</th>\n",
       "      <td>1</td>\n",
       "    </tr>\n",
       "    <tr>\n",
       "      <th>Z-AXIS PROBLEM</th>\n",
       "      <td>1</td>\n",
       "    </tr>\n",
       "    <tr>\n",
       "      <th rowspan=\"9\" valign=\"top\">HORIZONTAL MACHINING CENTRE</th>\n",
       "      <th>AUTO PALLET CHANGER PROBLEM</th>\n",
       "      <td>8</td>\n",
       "    </tr>\n",
       "    <tr>\n",
       "      <th>AUTO TOOL CHANGE PROBLEM</th>\n",
       "      <td>30</td>\n",
       "    </tr>\n",
       "    <tr>\n",
       "      <th>B-AXIS PROBLEM</th>\n",
       "      <td>1</td>\n",
       "    </tr>\n",
       "    <tr>\n",
       "      <th>CHIP CONVEYER PROBLEM</th>\n",
       "      <td>2</td>\n",
       "    </tr>\n",
       "    <tr>\n",
       "      <th>DRIVE CARD PROBLEM</th>\n",
       "      <td>1</td>\n",
       "    </tr>\n",
       "    <tr>\n",
       "      <th>HYDRAULIC UNIT</th>\n",
       "      <td>1</td>\n",
       "    </tr>\n",
       "    <tr>\n",
       "      <th>LUBRICATION UNIT PROBLEM</th>\n",
       "      <td>1</td>\n",
       "    </tr>\n",
       "    <tr>\n",
       "      <th>SECONDARY FILTER/COOLANT UNIT PROBLEM</th>\n",
       "      <td>1</td>\n",
       "    </tr>\n",
       "    <tr>\n",
       "      <th>SPINDLE UNIT PROBLEM</th>\n",
       "      <td>1</td>\n",
       "    </tr>\n",
       "    <tr>\n",
       "      <th rowspan=\"4\" valign=\"top\">HORIZONTAL TURNING CENTRE</th>\n",
       "      <th>HYDRAULIC UNIT</th>\n",
       "      <td>2</td>\n",
       "    </tr>\n",
       "    <tr>\n",
       "      <th>TRANSFORMER FAILURE</th>\n",
       "      <td>1</td>\n",
       "    </tr>\n",
       "    <tr>\n",
       "      <th>TURRET PROBLEM</th>\n",
       "      <td>5</td>\n",
       "    </tr>\n",
       "    <tr>\n",
       "      <th>X-AXIS PROBLEM</th>\n",
       "      <td>1</td>\n",
       "    </tr>\n",
       "    <tr>\n",
       "      <th rowspan=\"9\" valign=\"top\">VERTICAL MAC CENTRE</th>\n",
       "      <th>AUTO TOOL CHANGE PROBLEM</th>\n",
       "      <td>5</td>\n",
       "    </tr>\n",
       "    <tr>\n",
       "      <th>CHIP CONVEYER PROBLEM</th>\n",
       "      <td>1</td>\n",
       "    </tr>\n",
       "    <tr>\n",
       "      <th>ENCODER FAILURE</th>\n",
       "      <td>1</td>\n",
       "    </tr>\n",
       "    <tr>\n",
       "      <th>LUBRICATION UNIT PROBLEM</th>\n",
       "      <td>1</td>\n",
       "    </tr>\n",
       "    <tr>\n",
       "      <th>OPERATOR PANEL PROBLEM</th>\n",
       "      <td>3</td>\n",
       "    </tr>\n",
       "    <tr>\n",
       "      <th>SPINDLE UNIT PROBLEM</th>\n",
       "      <td>3</td>\n",
       "    </tr>\n",
       "    <tr>\n",
       "      <th>TURRET PROBLEM</th>\n",
       "      <td>2</td>\n",
       "    </tr>\n",
       "    <tr>\n",
       "      <th>X-AXIS PROBLEM</th>\n",
       "      <td>4</td>\n",
       "    </tr>\n",
       "    <tr>\n",
       "      <th>Y-AXIS PROBLEM</th>\n",
       "      <td>4</td>\n",
       "    </tr>\n",
       "    <tr>\n",
       "      <th rowspan=\"5\" valign=\"top\">VERTICAL TURNING CENTRE</th>\n",
       "      <th>AUTO TOOL CHANGE PROBLEM</th>\n",
       "      <td>1</td>\n",
       "    </tr>\n",
       "    <tr>\n",
       "      <th>HYDRAULIC UNIT</th>\n",
       "      <td>3</td>\n",
       "    </tr>\n",
       "    <tr>\n",
       "      <th>OPERATOR PANEL PROBLEM</th>\n",
       "      <td>1</td>\n",
       "    </tr>\n",
       "    <tr>\n",
       "      <th>X-AXIS PROBLEM</th>\n",
       "      <td>1</td>\n",
       "    </tr>\n",
       "    <tr>\n",
       "      <th>Z-AXIS PROBLEM</th>\n",
       "      <td>2</td>\n",
       "    </tr>\n",
       "    <tr>\n",
       "      <th rowspan=\"35\" valign=\"top\">HSR</th>\n",
       "      <th rowspan=\"15\" valign=\"top\">HORIZONTAL MACHINING CENTRE</th>\n",
       "      <th>AUTO PALLET CHANGER PROBLEM</th>\n",
       "      <td>10</td>\n",
       "    </tr>\n",
       "    <tr>\n",
       "      <th>AUTO TOOL CHANGE PROBLEM</th>\n",
       "      <td>48</td>\n",
       "    </tr>\n",
       "    <tr>\n",
       "      <th>B-AXIS PROBLEM</th>\n",
       "      <td>3</td>\n",
       "    </tr>\n",
       "    <tr>\n",
       "      <th>BROKEN TOOL SENSOR FAILURE</th>\n",
       "      <td>3</td>\n",
       "    </tr>\n",
       "    <tr>\n",
       "      <th>CHIP CONVEYER PROBLEM</th>\n",
       "      <td>8</td>\n",
       "    </tr>\n",
       "    <tr>\n",
       "      <th>DRIVE CARD PROBLEM</th>\n",
       "      <td>5</td>\n",
       "    </tr>\n",
       "    <tr>\n",
       "      <th>ENCODER FAILURE</th>\n",
       "      <td>2</td>\n",
       "    </tr>\n",
       "    <tr>\n",
       "      <th>HYDRAULIC UNIT</th>\n",
       "      <td>2</td>\n",
       "    </tr>\n",
       "    <tr>\n",
       "      <th>LUBRICATION UNIT PROBLEM</th>\n",
       "      <td>2</td>\n",
       "    </tr>\n",
       "    <tr>\n",
       "      <th>MAGAZINE PROBLEM</th>\n",
       "      <td>5</td>\n",
       "    </tr>\n",
       "    <tr>\n",
       "      <th>OPERATOR PANEL PROBLEM</th>\n",
       "      <td>4</td>\n",
       "    </tr>\n",
       "    <tr>\n",
       "      <th>PNUMATIC UNIT</th>\n",
       "      <td>8</td>\n",
       "    </tr>\n",
       "    <tr>\n",
       "      <th>SECONDARY FILTER/COOLANT UNIT PROBLEM</th>\n",
       "      <td>16</td>\n",
       "    </tr>\n",
       "    <tr>\n",
       "      <th>SERVO MOTOR FAILURE</th>\n",
       "      <td>1</td>\n",
       "    </tr>\n",
       "    <tr>\n",
       "      <th>SPINDLE UNIT PROBLEM</th>\n",
       "      <td>6</td>\n",
       "    </tr>\n",
       "    <tr>\n",
       "      <th rowspan=\"17\" valign=\"top\">VERTICAL MAC CENTRE</th>\n",
       "      <th>AUTO PALLET CHANGER PROBLEM</th>\n",
       "      <td>11</td>\n",
       "    </tr>\n",
       "    <tr>\n",
       "      <th>AUTO TOOL CHANGE PROBLEM</th>\n",
       "      <td>8</td>\n",
       "    </tr>\n",
       "    <tr>\n",
       "      <th>B-AXIS PROBLEM</th>\n",
       "      <td>3</td>\n",
       "    </tr>\n",
       "    <tr>\n",
       "      <th>CHILLER UNIT FAILURE</th>\n",
       "      <td>2</td>\n",
       "    </tr>\n",
       "    <tr>\n",
       "      <th>CHIP CONVEYER PROBLEM</th>\n",
       "      <td>4</td>\n",
       "    </tr>\n",
       "    <tr>\n",
       "      <th>DRIVE CARD PROBLEM</th>\n",
       "      <td>10</td>\n",
       "    </tr>\n",
       "    <tr>\n",
       "      <th>ENCODER FAILURE</th>\n",
       "      <td>1</td>\n",
       "    </tr>\n",
       "    <tr>\n",
       "      <th>HYDRAULIC UNIT</th>\n",
       "      <td>4</td>\n",
       "    </tr>\n",
       "    <tr>\n",
       "      <th>LUBRICATION UNIT PROBLEM</th>\n",
       "      <td>1</td>\n",
       "    </tr>\n",
       "    <tr>\n",
       "      <th>MAGAZINE PROBLEM</th>\n",
       "      <td>2</td>\n",
       "    </tr>\n",
       "    <tr>\n",
       "      <th>OPERATOR PANEL PROBLEM</th>\n",
       "      <td>6</td>\n",
       "    </tr>\n",
       "    <tr>\n",
       "      <th>PNUMATIC UNIT</th>\n",
       "      <td>4</td>\n",
       "    </tr>\n",
       "    <tr>\n",
       "      <th>SECONDARY FILTER/COOLANT UNIT PROBLEM</th>\n",
       "      <td>15</td>\n",
       "    </tr>\n",
       "    <tr>\n",
       "      <th>SPINDLE UNIT PROBLEM</th>\n",
       "      <td>4</td>\n",
       "    </tr>\n",
       "    <tr>\n",
       "      <th>TELESCOPIC COVER PROBLEM</th>\n",
       "      <td>2</td>\n",
       "    </tr>\n",
       "    <tr>\n",
       "      <th>TRANSFORMER FAILURE</th>\n",
       "      <td>1</td>\n",
       "    </tr>\n",
       "    <tr>\n",
       "      <th>X-AXIS PROBLEM</th>\n",
       "      <td>2</td>\n",
       "    </tr>\n",
       "    <tr>\n",
       "      <th rowspan=\"3\" valign=\"top\">VERTICAL TURNING CENTRE</th>\n",
       "      <th>OPERATOR PANEL PROBLEM</th>\n",
       "      <td>1</td>\n",
       "    </tr>\n",
       "    <tr>\n",
       "      <th>SPINDLE UNIT PROBLEM</th>\n",
       "      <td>1</td>\n",
       "    </tr>\n",
       "    <tr>\n",
       "      <th>TELESCOPIC COVER PROBLEM</th>\n",
       "      <td>1</td>\n",
       "    </tr>\n",
       "    <tr>\n",
       "      <th rowspan=\"59\" valign=\"top\">PRI</th>\n",
       "      <th rowspan=\"3\" valign=\"top\">BORING MACHINE</th>\n",
       "      <th>SPINDLE UNIT PROBLEM</th>\n",
       "      <td>1</td>\n",
       "    </tr>\n",
       "    <tr>\n",
       "      <th>X-AXIS PROBLEM</th>\n",
       "      <td>1</td>\n",
       "    </tr>\n",
       "    <tr>\n",
       "      <th>Z-AXIS PROBLEM</th>\n",
       "      <td>2</td>\n",
       "    </tr>\n",
       "    <tr>\n",
       "      <th rowspan=\"21\" valign=\"top\">HORIZONTAL MACHINING CENTRE</th>\n",
       "      <th>AUTO PALLET CHANGER PROBLEM</th>\n",
       "      <td>15</td>\n",
       "    </tr>\n",
       "    <tr>\n",
       "      <th>AUTO TOOL CHANGE PROBLEM</th>\n",
       "      <td>16</td>\n",
       "    </tr>\n",
       "    <tr>\n",
       "      <th>B-AXIS PROBLEM</th>\n",
       "      <td>4</td>\n",
       "    </tr>\n",
       "    <tr>\n",
       "      <th>BROKEN TOOL SENSOR FAILURE</th>\n",
       "      <td>2</td>\n",
       "    </tr>\n",
       "    <tr>\n",
       "      <th>CHILLER UNIT FAILURE</th>\n",
       "      <td>3</td>\n",
       "    </tr>\n",
       "    <tr>\n",
       "      <th>CHIP CONVEYER PROBLEM</th>\n",
       "      <td>7</td>\n",
       "    </tr>\n",
       "    <tr>\n",
       "      <th>DRIVE CARD PROBLEM</th>\n",
       "      <td>2</td>\n",
       "    </tr>\n",
       "    <tr>\n",
       "      <th>ENCODER FAILURE</th>\n",
       "      <td>1</td>\n",
       "    </tr>\n",
       "    <tr>\n",
       "      <th>HYDRAULIC UNIT</th>\n",
       "      <td>5</td>\n",
       "    </tr>\n",
       "    <tr>\n",
       "      <th>LUBRICATION UNIT PROBLEM</th>\n",
       "      <td>1</td>\n",
       "    </tr>\n",
       "    <tr>\n",
       "      <th>MAGAZINE PROBLEM</th>\n",
       "      <td>2</td>\n",
       "    </tr>\n",
       "    <tr>\n",
       "      <th>PANEL COOLER PROBLEM</th>\n",
       "      <td>1</td>\n",
       "    </tr>\n",
       "    <tr>\n",
       "      <th>PNUMATIC UNIT</th>\n",
       "      <td>4</td>\n",
       "    </tr>\n",
       "    <tr>\n",
       "      <th>SECONDARY FILTER/COOLANT UNIT PROBLEM</th>\n",
       "      <td>1</td>\n",
       "    </tr>\n",
       "    <tr>\n",
       "      <th>SERVO MOTOR FAILURE</th>\n",
       "      <td>1</td>\n",
       "    </tr>\n",
       "    <tr>\n",
       "      <th>SPINDLE UNIT PROBLEM</th>\n",
       "      <td>6</td>\n",
       "    </tr>\n",
       "    <tr>\n",
       "      <th>TELESCOPIC COVER PROBLEM</th>\n",
       "      <td>2</td>\n",
       "    </tr>\n",
       "    <tr>\n",
       "      <th>TRANSFORMER FAILURE</th>\n",
       "      <td>1</td>\n",
       "    </tr>\n",
       "    <tr>\n",
       "      <th>X-AXIS PROBLEM</th>\n",
       "      <td>6</td>\n",
       "    </tr>\n",
       "    <tr>\n",
       "      <th>Y-AXIS PROBLEM</th>\n",
       "      <td>1</td>\n",
       "    </tr>\n",
       "    <tr>\n",
       "      <th>Z-AXIS PROBLEM</th>\n",
       "      <td>2</td>\n",
       "    </tr>\n",
       "    <tr>\n",
       "      <th rowspan=\"5\" valign=\"top\">HORIZONTAL TURNING CENTRE</th>\n",
       "      <th>CHIP CONVEYER PROBLEM</th>\n",
       "      <td>1</td>\n",
       "    </tr>\n",
       "    <tr>\n",
       "      <th>DRIVE CARD PROBLEM</th>\n",
       "      <td>2</td>\n",
       "    </tr>\n",
       "    <tr>\n",
       "      <th>LUBRICATION UNIT PROBLEM</th>\n",
       "      <td>1</td>\n",
       "    </tr>\n",
       "    <tr>\n",
       "      <th>SPINDLE UNIT PROBLEM</th>\n",
       "      <td>2</td>\n",
       "    </tr>\n",
       "    <tr>\n",
       "      <th>X-AXIS PROBLEM</th>\n",
       "      <td>1</td>\n",
       "    </tr>\n",
       "    <tr>\n",
       "      <th rowspan=\"2\" valign=\"top\">MILLING MACHINE</th>\n",
       "      <th>DRIVE CARD PROBLEM</th>\n",
       "      <td>1</td>\n",
       "    </tr>\n",
       "    <tr>\n",
       "      <th>X-AXIS PROBLEM</th>\n",
       "      <td>3</td>\n",
       "    </tr>\n",
       "    <tr>\n",
       "      <th rowspan=\"2\" valign=\"top\">TURNING MACHINE</th>\n",
       "      <th>HYDRAULIC UNIT</th>\n",
       "      <td>3</td>\n",
       "    </tr>\n",
       "    <tr>\n",
       "      <th>SPINDLE UNIT PROBLEM</th>\n",
       "      <td>1</td>\n",
       "    </tr>\n",
       "    <tr>\n",
       "      <th rowspan=\"12\" valign=\"top\">VERTICAL MAC CENTRE</th>\n",
       "      <th>AUTO PALLET CHANGER PROBLEM</th>\n",
       "      <td>3</td>\n",
       "    </tr>\n",
       "    <tr>\n",
       "      <th>AUTO TOOL CHANGE PROBLEM</th>\n",
       "      <td>17</td>\n",
       "    </tr>\n",
       "    <tr>\n",
       "      <th>DRIVE CARD PROBLEM</th>\n",
       "      <td>3</td>\n",
       "    </tr>\n",
       "    <tr>\n",
       "      <th>LUBRICATION UNIT PROBLEM</th>\n",
       "      <td>3</td>\n",
       "    </tr>\n",
       "    <tr>\n",
       "      <th>MAGAZINE PROBLEM</th>\n",
       "      <td>1</td>\n",
       "    </tr>\n",
       "    <tr>\n",
       "      <th>OPERATOR PANEL PROBLEM</th>\n",
       "      <td>1</td>\n",
       "    </tr>\n",
       "    <tr>\n",
       "      <th>PNUMATIC UNIT</th>\n",
       "      <td>5</td>\n",
       "    </tr>\n",
       "    <tr>\n",
       "      <th>SECONDARY FILTER/COOLANT UNIT PROBLEM</th>\n",
       "      <td>1</td>\n",
       "    </tr>\n",
       "    <tr>\n",
       "      <th>SPINDLE UNIT PROBLEM</th>\n",
       "      <td>10</td>\n",
       "    </tr>\n",
       "    <tr>\n",
       "      <th>TELESCOPIC COVER PROBLEM</th>\n",
       "      <td>2</td>\n",
       "    </tr>\n",
       "    <tr>\n",
       "      <th>X-AXIS PROBLEM</th>\n",
       "      <td>4</td>\n",
       "    </tr>\n",
       "    <tr>\n",
       "      <th>Z-AXIS PROBLEM</th>\n",
       "      <td>1</td>\n",
       "    </tr>\n",
       "    <tr>\n",
       "      <th rowspan=\"8\" valign=\"top\">VERTICAL TURNING CENTRE</th>\n",
       "      <th>CHIP CONVEYER PROBLEM</th>\n",
       "      <td>1</td>\n",
       "    </tr>\n",
       "    <tr>\n",
       "      <th>PNUMATIC UNIT</th>\n",
       "      <td>3</td>\n",
       "    </tr>\n",
       "    <tr>\n",
       "      <th>SERVO MOTOR FAILURE</th>\n",
       "      <td>1</td>\n",
       "    </tr>\n",
       "    <tr>\n",
       "      <th>SPINDLE UNIT PROBLEM</th>\n",
       "      <td>3</td>\n",
       "    </tr>\n",
       "    <tr>\n",
       "      <th>TELESCOPIC COVER PROBLEM</th>\n",
       "      <td>1</td>\n",
       "    </tr>\n",
       "    <tr>\n",
       "      <th>TURRET PROBLEM</th>\n",
       "      <td>7</td>\n",
       "    </tr>\n",
       "    <tr>\n",
       "      <th>X-AXIS PROBLEM</th>\n",
       "      <td>1</td>\n",
       "    </tr>\n",
       "    <tr>\n",
       "      <th>Z-AXIS PROBLEM</th>\n",
       "      <td>1</td>\n",
       "    </tr>\n",
       "    <tr>\n",
       "      <th rowspan=\"6\" valign=\"top\">VERTICAL TURNING MILLING</th>\n",
       "      <th>AUTO TOOL CHANGE PROBLEM</th>\n",
       "      <td>6</td>\n",
       "    </tr>\n",
       "    <tr>\n",
       "      <th>CHIP CONVEYER PROBLEM</th>\n",
       "      <td>2</td>\n",
       "    </tr>\n",
       "    <tr>\n",
       "      <th>HYDRAULIC UNIT</th>\n",
       "      <td>2</td>\n",
       "    </tr>\n",
       "    <tr>\n",
       "      <th>OPERATOR PANEL PROBLEM</th>\n",
       "      <td>2</td>\n",
       "    </tr>\n",
       "    <tr>\n",
       "      <th>SPINDLE UNIT PROBLEM</th>\n",
       "      <td>3</td>\n",
       "    </tr>\n",
       "    <tr>\n",
       "      <th>Z-AXIS PROBLEM</th>\n",
       "      <td>1</td>\n",
       "    </tr>\n",
       "    <tr>\n",
       "      <th rowspan=\"24\" valign=\"top\">RPT</th>\n",
       "      <th rowspan=\"4\" valign=\"top\">DRILLING MACHINE</th>\n",
       "      <th>AUTO PALLET CHANGER PROBLEM</th>\n",
       "      <td>1</td>\n",
       "    </tr>\n",
       "    <tr>\n",
       "      <th>HYDRAULIC UNIT</th>\n",
       "      <td>3</td>\n",
       "    </tr>\n",
       "    <tr>\n",
       "      <th>SPINDLE UNIT PROBLEM</th>\n",
       "      <td>3</td>\n",
       "    </tr>\n",
       "    <tr>\n",
       "      <th>Y-AXIS PROBLEM</th>\n",
       "      <td>1</td>\n",
       "    </tr>\n",
       "    <tr>\n",
       "      <th rowspan=\"13\" valign=\"top\">HORIZONTAL MACHINING CENTRE</th>\n",
       "      <th>AUTO PALLET CHANGER PROBLEM</th>\n",
       "      <td>10</td>\n",
       "    </tr>\n",
       "    <tr>\n",
       "      <th>AUTO TOOL CHANGE PROBLEM</th>\n",
       "      <td>28</td>\n",
       "    </tr>\n",
       "    <tr>\n",
       "      <th>B-AXIS PROBLEM</th>\n",
       "      <td>9</td>\n",
       "    </tr>\n",
       "    <tr>\n",
       "      <th>BROKEN TOOL SENSOR FAILURE</th>\n",
       "      <td>4</td>\n",
       "    </tr>\n",
       "    <tr>\n",
       "      <th>CHILLER UNIT FAILURE</th>\n",
       "      <td>3</td>\n",
       "    </tr>\n",
       "    <tr>\n",
       "      <th>CHIP CONVEYER PROBLEM</th>\n",
       "      <td>2</td>\n",
       "    </tr>\n",
       "    <tr>\n",
       "      <th>DRIVE CARD PROBLEM</th>\n",
       "      <td>5</td>\n",
       "    </tr>\n",
       "    <tr>\n",
       "      <th>HYDRAULIC UNIT</th>\n",
       "      <td>3</td>\n",
       "    </tr>\n",
       "    <tr>\n",
       "      <th>SECONDARY FILTER/COOLANT UNIT PROBLEM</th>\n",
       "      <td>10</td>\n",
       "    </tr>\n",
       "    <tr>\n",
       "      <th>SPINDLE UNIT PROBLEM</th>\n",
       "      <td>3</td>\n",
       "    </tr>\n",
       "    <tr>\n",
       "      <th>TELESCOPIC COVER PROBLEM</th>\n",
       "      <td>3</td>\n",
       "    </tr>\n",
       "    <tr>\n",
       "      <th>Y-AXIS PROBLEM</th>\n",
       "      <td>1</td>\n",
       "    </tr>\n",
       "    <tr>\n",
       "      <th>Z-AXIS PROBLEM</th>\n",
       "      <td>1</td>\n",
       "    </tr>\n",
       "    <tr>\n",
       "      <th rowspan=\"7\" valign=\"top\">MILLING MACHINE</th>\n",
       "      <th>AUTO PALLET CHANGER PROBLEM</th>\n",
       "      <td>1</td>\n",
       "    </tr>\n",
       "    <tr>\n",
       "      <th>HYDRAULIC UNIT</th>\n",
       "      <td>1</td>\n",
       "    </tr>\n",
       "    <tr>\n",
       "      <th>LUBRICATION UNIT PROBLEM</th>\n",
       "      <td>1</td>\n",
       "    </tr>\n",
       "    <tr>\n",
       "      <th>PANEL COOLER PROBLEM</th>\n",
       "      <td>1</td>\n",
       "    </tr>\n",
       "    <tr>\n",
       "      <th>SPINDLE UNIT PROBLEM</th>\n",
       "      <td>3</td>\n",
       "    </tr>\n",
       "    <tr>\n",
       "      <th>X-AXIS PROBLEM</th>\n",
       "      <td>9</td>\n",
       "    </tr>\n",
       "    <tr>\n",
       "      <th>Y-AXIS PROBLEM</th>\n",
       "      <td>1</td>\n",
       "    </tr>\n",
       "  </tbody>\n",
       "</table>\n",
       "</div>"
      ],
      "text/plain": [
       "                                                                        Failure\n",
       "Unit Sub. Category               Failure                                       \n",
       "CBE  HORIZONTAL MACHINING CENTRE AUTO PALLET CHANGER PROBLEM                  5\n",
       "                                 AUTO TOOL CHANGE PROBLEM                    11\n",
       "                                 B-AXIS PROBLEM                               1\n",
       "                                 BROKEN TOOL SENSOR FAILURE                   3\n",
       "                                 CHILLER UNIT FAILURE                         1\n",
       "                                 DRIVE CARD PROBLEM                           1\n",
       "                                 ENCODER FAILURE                              1\n",
       "                                 HYDRAULIC UNIT                               1\n",
       "                                 LUBRICATION UNIT PROBLEM                     5\n",
       "                                 MAGAZINE PROBLEM                             4\n",
       "                                 OPERATOR PANEL PROBLEM                       6\n",
       "                                 PANEL COOLER PROBLEM                         1\n",
       "                                 PFM UNIT FAILURE                             1\n",
       "                                 PNUMATIC UNIT                                1\n",
       "                                 SECONDARY FILTER/COOLANT UNIT PROBLEM        2\n",
       "                                 SPINDLE UNIT PROBLEM                         4\n",
       "     HORIZONTAL TURNING CENTRE   DRIVE CARD PROBLEM                           1\n",
       "                                 ENCODER FAILURE                              1\n",
       "                                 OPERATOR PANEL PROBLEM                       1\n",
       "                                 SPINDLE UNIT PROBLEM                         1\n",
       "     VERTICAL MAC CENTRE         AUTO PALLET CHANGER PROBLEM                 17\n",
       "                                 AUTO TOOL CHANGE PROBLEM                    36\n",
       "                                 B-AXIS PROBLEM                               4\n",
       "                                 BROKEN TOOL SENSOR FAILURE                   2\n",
       "                                 CHIP CONVEYER PROBLEM                        2\n",
       "                                 ENCODER FAILURE                              2\n",
       "                                 HYDRAULIC UNIT                               6\n",
       "                                 LUBRICATION UNIT PROBLEM                     7\n",
       "                                 OPERATOR PANEL PROBLEM                       9\n",
       "                                 PANEL COOLER PROBLEM                         1\n",
       "                                 PFM UNIT FAILURE                             3\n",
       "                                 PNUMATIC UNIT                                5\n",
       "                                 SECONDARY FILTER/COOLANT UNIT PROBLEM       19\n",
       "                                 SERVO MOTOR FAILURE                          6\n",
       "                                 SPINDLE UNIT PROBLEM                         9\n",
       "                                 TELESCOPIC COVER PROBLEM                     2\n",
       "     VERTICAL TURNING CENTRE     HYDRAULIC UNIT                               1\n",
       "CNR  DRILL TAP CENTRE            AUTO TOOL CHANGE PROBLEM                     5\n",
       "                                 LUBRICATION UNIT PROBLEM                     1\n",
       "                                 Z-AXIS PROBLEM                               1\n",
       "     HORIZONTAL MACHINING CENTRE AUTO PALLET CHANGER PROBLEM                  8\n",
       "                                 AUTO TOOL CHANGE PROBLEM                    30\n",
       "                                 B-AXIS PROBLEM                               1\n",
       "                                 CHIP CONVEYER PROBLEM                        2\n",
       "                                 DRIVE CARD PROBLEM                           1\n",
       "                                 HYDRAULIC UNIT                               1\n",
       "                                 LUBRICATION UNIT PROBLEM                     1\n",
       "                                 SECONDARY FILTER/COOLANT UNIT PROBLEM        1\n",
       "                                 SPINDLE UNIT PROBLEM                         1\n",
       "     HORIZONTAL TURNING CENTRE   HYDRAULIC UNIT                               2\n",
       "                                 TRANSFORMER FAILURE                          1\n",
       "                                 TURRET PROBLEM                               5\n",
       "                                 X-AXIS PROBLEM                               1\n",
       "     VERTICAL MAC CENTRE         AUTO TOOL CHANGE PROBLEM                     5\n",
       "                                 CHIP CONVEYER PROBLEM                        1\n",
       "                                 ENCODER FAILURE                              1\n",
       "                                 LUBRICATION UNIT PROBLEM                     1\n",
       "                                 OPERATOR PANEL PROBLEM                       3\n",
       "                                 SPINDLE UNIT PROBLEM                         3\n",
       "                                 TURRET PROBLEM                               2\n",
       "                                 X-AXIS PROBLEM                               4\n",
       "                                 Y-AXIS PROBLEM                               4\n",
       "     VERTICAL TURNING CENTRE     AUTO TOOL CHANGE PROBLEM                     1\n",
       "                                 HYDRAULIC UNIT                               3\n",
       "                                 OPERATOR PANEL PROBLEM                       1\n",
       "                                 X-AXIS PROBLEM                               1\n",
       "                                 Z-AXIS PROBLEM                               2\n",
       "HSR  HORIZONTAL MACHINING CENTRE AUTO PALLET CHANGER PROBLEM                 10\n",
       "                                 AUTO TOOL CHANGE PROBLEM                    48\n",
       "                                 B-AXIS PROBLEM                               3\n",
       "                                 BROKEN TOOL SENSOR FAILURE                   3\n",
       "                                 CHIP CONVEYER PROBLEM                        8\n",
       "                                 DRIVE CARD PROBLEM                           5\n",
       "                                 ENCODER FAILURE                              2\n",
       "                                 HYDRAULIC UNIT                               2\n",
       "                                 LUBRICATION UNIT PROBLEM                     2\n",
       "                                 MAGAZINE PROBLEM                             5\n",
       "                                 OPERATOR PANEL PROBLEM                       4\n",
       "                                 PNUMATIC UNIT                                8\n",
       "                                 SECONDARY FILTER/COOLANT UNIT PROBLEM       16\n",
       "                                 SERVO MOTOR FAILURE                          1\n",
       "                                 SPINDLE UNIT PROBLEM                         6\n",
       "     VERTICAL MAC CENTRE         AUTO PALLET CHANGER PROBLEM                 11\n",
       "                                 AUTO TOOL CHANGE PROBLEM                     8\n",
       "                                 B-AXIS PROBLEM                               3\n",
       "                                 CHILLER UNIT FAILURE                         2\n",
       "                                 CHIP CONVEYER PROBLEM                        4\n",
       "                                 DRIVE CARD PROBLEM                          10\n",
       "                                 ENCODER FAILURE                              1\n",
       "                                 HYDRAULIC UNIT                               4\n",
       "                                 LUBRICATION UNIT PROBLEM                     1\n",
       "                                 MAGAZINE PROBLEM                             2\n",
       "                                 OPERATOR PANEL PROBLEM                       6\n",
       "                                 PNUMATIC UNIT                                4\n",
       "                                 SECONDARY FILTER/COOLANT UNIT PROBLEM       15\n",
       "                                 SPINDLE UNIT PROBLEM                         4\n",
       "                                 TELESCOPIC COVER PROBLEM                     2\n",
       "                                 TRANSFORMER FAILURE                          1\n",
       "                                 X-AXIS PROBLEM                               2\n",
       "     VERTICAL TURNING CENTRE     OPERATOR PANEL PROBLEM                       1\n",
       "                                 SPINDLE UNIT PROBLEM                         1\n",
       "                                 TELESCOPIC COVER PROBLEM                     1\n",
       "PRI  BORING MACHINE              SPINDLE UNIT PROBLEM                         1\n",
       "                                 X-AXIS PROBLEM                               1\n",
       "                                 Z-AXIS PROBLEM                               2\n",
       "     HORIZONTAL MACHINING CENTRE AUTO PALLET CHANGER PROBLEM                 15\n",
       "                                 AUTO TOOL CHANGE PROBLEM                    16\n",
       "                                 B-AXIS PROBLEM                               4\n",
       "                                 BROKEN TOOL SENSOR FAILURE                   2\n",
       "                                 CHILLER UNIT FAILURE                         3\n",
       "                                 CHIP CONVEYER PROBLEM                        7\n",
       "                                 DRIVE CARD PROBLEM                           2\n",
       "                                 ENCODER FAILURE                              1\n",
       "                                 HYDRAULIC UNIT                               5\n",
       "                                 LUBRICATION UNIT PROBLEM                     1\n",
       "                                 MAGAZINE PROBLEM                             2\n",
       "                                 PANEL COOLER PROBLEM                         1\n",
       "                                 PNUMATIC UNIT                                4\n",
       "                                 SECONDARY FILTER/COOLANT UNIT PROBLEM        1\n",
       "                                 SERVO MOTOR FAILURE                          1\n",
       "                                 SPINDLE UNIT PROBLEM                         6\n",
       "                                 TELESCOPIC COVER PROBLEM                     2\n",
       "                                 TRANSFORMER FAILURE                          1\n",
       "                                 X-AXIS PROBLEM                               6\n",
       "                                 Y-AXIS PROBLEM                               1\n",
       "                                 Z-AXIS PROBLEM                               2\n",
       "     HORIZONTAL TURNING CENTRE   CHIP CONVEYER PROBLEM                        1\n",
       "                                 DRIVE CARD PROBLEM                           2\n",
       "                                 LUBRICATION UNIT PROBLEM                     1\n",
       "                                 SPINDLE UNIT PROBLEM                         2\n",
       "                                 X-AXIS PROBLEM                               1\n",
       "     MILLING MACHINE             DRIVE CARD PROBLEM                           1\n",
       "                                 X-AXIS PROBLEM                               3\n",
       "     TURNING MACHINE             HYDRAULIC UNIT                               3\n",
       "                                 SPINDLE UNIT PROBLEM                         1\n",
       "     VERTICAL MAC CENTRE         AUTO PALLET CHANGER PROBLEM                  3\n",
       "                                 AUTO TOOL CHANGE PROBLEM                    17\n",
       "                                 DRIVE CARD PROBLEM                           3\n",
       "                                 LUBRICATION UNIT PROBLEM                     3\n",
       "                                 MAGAZINE PROBLEM                             1\n",
       "                                 OPERATOR PANEL PROBLEM                       1\n",
       "                                 PNUMATIC UNIT                                5\n",
       "                                 SECONDARY FILTER/COOLANT UNIT PROBLEM        1\n",
       "                                 SPINDLE UNIT PROBLEM                        10\n",
       "                                 TELESCOPIC COVER PROBLEM                     2\n",
       "                                 X-AXIS PROBLEM                               4\n",
       "                                 Z-AXIS PROBLEM                               1\n",
       "     VERTICAL TURNING CENTRE     CHIP CONVEYER PROBLEM                        1\n",
       "                                 PNUMATIC UNIT                                3\n",
       "                                 SERVO MOTOR FAILURE                          1\n",
       "                                 SPINDLE UNIT PROBLEM                         3\n",
       "                                 TELESCOPIC COVER PROBLEM                     1\n",
       "                                 TURRET PROBLEM                               7\n",
       "                                 X-AXIS PROBLEM                               1\n",
       "                                 Z-AXIS PROBLEM                               1\n",
       "     VERTICAL TURNING MILLING    AUTO TOOL CHANGE PROBLEM                     6\n",
       "                                 CHIP CONVEYER PROBLEM                        2\n",
       "                                 HYDRAULIC UNIT                               2\n",
       "                                 OPERATOR PANEL PROBLEM                       2\n",
       "                                 SPINDLE UNIT PROBLEM                         3\n",
       "                                 Z-AXIS PROBLEM                               1\n",
       "RPT  DRILLING MACHINE            AUTO PALLET CHANGER PROBLEM                  1\n",
       "                                 HYDRAULIC UNIT                               3\n",
       "                                 SPINDLE UNIT PROBLEM                         3\n",
       "                                 Y-AXIS PROBLEM                               1\n",
       "     HORIZONTAL MACHINING CENTRE AUTO PALLET CHANGER PROBLEM                 10\n",
       "                                 AUTO TOOL CHANGE PROBLEM                    28\n",
       "                                 B-AXIS PROBLEM                               9\n",
       "                                 BROKEN TOOL SENSOR FAILURE                   4\n",
       "                                 CHILLER UNIT FAILURE                         3\n",
       "                                 CHIP CONVEYER PROBLEM                        2\n",
       "                                 DRIVE CARD PROBLEM                           5\n",
       "                                 HYDRAULIC UNIT                               3\n",
       "                                 SECONDARY FILTER/COOLANT UNIT PROBLEM       10\n",
       "                                 SPINDLE UNIT PROBLEM                         3\n",
       "                                 TELESCOPIC COVER PROBLEM                     3\n",
       "                                 Y-AXIS PROBLEM                               1\n",
       "                                 Z-AXIS PROBLEM                               1\n",
       "     MILLING MACHINE             AUTO PALLET CHANGER PROBLEM                  1\n",
       "                                 HYDRAULIC UNIT                               1\n",
       "                                 LUBRICATION UNIT PROBLEM                     1\n",
       "                                 PANEL COOLER PROBLEM                         1\n",
       "                                 SPINDLE UNIT PROBLEM                         3\n",
       "                                 X-AXIS PROBLEM                               9\n",
       "                                 Y-AXIS PROBLEM                               1"
      ]
     },
     "execution_count": 38,
     "metadata": {},
     "output_type": "execute_result"
    }
   ],
   "source": [
    "df_BDS = df_BD.groupby(['Unit','Sub. Category','Failure'])[['Failure']].agg('count')\n",
    "df_BDS"
   ]
  },
  {
   "cell_type": "code",
   "execution_count": 39,
   "id": "e6a46bd2",
   "metadata": {},
   "outputs": [],
   "source": [
    "unit = 'CBE'"
   ]
  },
  {
   "cell_type": "code",
   "execution_count": 42,
   "id": "ac4d4c43",
   "metadata": {},
   "outputs": [
    {
     "data": {
      "text/plain": [
       "Text(0.5, 1.0, 'Breakdown by Unit: CBE [ Sub. Category | Failure ]')"
      ]
     },
     "execution_count": 42,
     "metadata": {},
     "output_type": "execute_result"
    },
    {
     "data": {
      "image/png": "[encoded data removed]",
      "text/plain": [
       "<Figure size 1440x432 with 1 Axes>"
      ]
     },
     "metadata": {
      "needs_background": "light"
     },
     "output_type": "display_data"
    }
   ],
   "source": [
    "df_BDS.loc[unit].unstack().plot(kind='bar', width=.8, figsize=(20,6), fontsize=10)\n",
    "plt.title('Breakdown by Unit: '+unit+' [ Sub. Category | Failure ]',fontsize=20)"
   ]
  },
  {
   "cell_type": "code",
   "execution_count": 43,
   "id": "37d2e3f7",
   "metadata": {
    "scrolled": true
   },
   "outputs": [
    {
     "name": "stdout",
     "output_type": "stream",
     "text": [
      "Unit:  CBE\n"
     ]
    },
    {
     "data": {
      "text/html": [
       "<div>\n",
       "<style scoped>\n",
       "    .dataframe tbody tr th:only-of-type {\n",
       "        vertical-align: middle;\n",
       "    }\n",
       "\n",
       "    .dataframe tbody tr th {\n",
       "        vertical-align: top;\n",
       "    }\n",
       "\n",
       "    .dataframe thead th {\n",
       "        text-align: right;\n",
       "    }\n",
       "</style>\n",
       "<table border=\"1\" class=\"dataframe\">\n",
       "  <thead>\n",
       "    <tr style=\"text-align: right;\">\n",
       "      <th></th>\n",
       "      <th></th>\n",
       "      <th>Failure</th>\n",
       "    </tr>\n",
       "    <tr>\n",
       "      <th>Sub. Category</th>\n",
       "      <th>Failure</th>\n",
       "      <th></th>\n",
       "    </tr>\n",
       "  </thead>\n",
       "  <tbody>\n",
       "    <tr>\n",
       "      <th rowspan=\"16\" valign=\"top\">HORIZONTAL MACHINING CENTRE</th>\n",
       "      <th>AUTO PALLET CHANGER PROBLEM</th>\n",
       "      <td>5</td>\n",
       "    </tr>\n",
       "    <tr>\n",
       "      <th>AUTO TOOL CHANGE PROBLEM</th>\n",
       "      <td>11</td>\n",
       "    </tr>\n",
       "    <tr>\n",
       "      <th>B-AXIS PROBLEM</th>\n",
       "      <td>1</td>\n",
       "    </tr>\n",
       "    <tr>\n",
       "      <th>BROKEN TOOL SENSOR FAILURE</th>\n",
       "      <td>3</td>\n",
       "    </tr>\n",
       "    <tr>\n",
       "      <th>CHILLER UNIT FAILURE</th>\n",
       "      <td>1</td>\n",
       "    </tr>\n",
       "    <tr>\n",
       "      <th>DRIVE CARD PROBLEM</th>\n",
       "      <td>1</td>\n",
       "    </tr>\n",
       "    <tr>\n",
       "      <th>ENCODER FAILURE</th>\n",
       "      <td>1</td>\n",
       "    </tr>\n",
       "    <tr>\n",
       "      <th>HYDRAULIC UNIT</th>\n",
       "      <td>1</td>\n",
       "    </tr>\n",
       "    <tr>\n",
       "      <th>LUBRICATION UNIT PROBLEM</th>\n",
       "      <td>5</td>\n",
       "    </tr>\n",
       "    <tr>\n",
       "      <th>MAGAZINE PROBLEM</th>\n",
       "      <td>4</td>\n",
       "    </tr>\n",
       "    <tr>\n",
       "      <th>OPERATOR PANEL PROBLEM</th>\n",
       "      <td>6</td>\n",
       "    </tr>\n",
       "    <tr>\n",
       "      <th>PANEL COOLER PROBLEM</th>\n",
       "      <td>1</td>\n",
       "    </tr>\n",
       "    <tr>\n",
       "      <th>PFM UNIT FAILURE</th>\n",
       "      <td>1</td>\n",
       "    </tr>\n",
       "    <tr>\n",
       "      <th>PNUMATIC UNIT</th>\n",
       "      <td>1</td>\n",
       "    </tr>\n",
       "    <tr>\n",
       "      <th>SECONDARY FILTER/COOLANT UNIT PROBLEM</th>\n",
       "      <td>2</td>\n",
       "    </tr>\n",
       "    <tr>\n",
       "      <th>SPINDLE UNIT PROBLEM</th>\n",
       "      <td>4</td>\n",
       "    </tr>\n",
       "    <tr>\n",
       "      <th rowspan=\"4\" valign=\"top\">HORIZONTAL TURNING CENTRE</th>\n",
       "      <th>DRIVE CARD PROBLEM</th>\n",
       "      <td>1</td>\n",
       "    </tr>\n",
       "    <tr>\n",
       "      <th>ENCODER FAILURE</th>\n",
       "      <td>1</td>\n",
       "    </tr>\n",
       "    <tr>\n",
       "      <th>OPERATOR PANEL PROBLEM</th>\n",
       "      <td>1</td>\n",
       "    </tr>\n",
       "    <tr>\n",
       "      <th>SPINDLE UNIT PROBLEM</th>\n",
       "      <td>1</td>\n",
       "    </tr>\n",
       "    <tr>\n",
       "      <th rowspan=\"16\" valign=\"top\">VERTICAL MAC CENTRE</th>\n",
       "      <th>AUTO PALLET CHANGER PROBLEM</th>\n",
       "      <td>17</td>\n",
       "    </tr>\n",
       "    <tr>\n",
       "      <th>AUTO TOOL CHANGE PROBLEM</th>\n",
       "      <td>36</td>\n",
       "    </tr>\n",
       "    <tr>\n",
       "      <th>B-AXIS PROBLEM</th>\n",
       "      <td>4</td>\n",
       "    </tr>\n",
       "    <tr>\n",
       "      <th>BROKEN TOOL SENSOR FAILURE</th>\n",
       "      <td>2</td>\n",
       "    </tr>\n",
       "    <tr>\n",
       "      <th>CHIP CONVEYER PROBLEM</th>\n",
       "      <td>2</td>\n",
       "    </tr>\n",
       "    <tr>\n",
       "      <th>ENCODER FAILURE</th>\n",
       "      <td>2</td>\n",
       "    </tr>\n",
       "    <tr>\n",
       "      <th>HYDRAULIC UNIT</th>\n",
       "      <td>6</td>\n",
       "    </tr>\n",
       "    <tr>\n",
       "      <th>LUBRICATION UNIT PROBLEM</th>\n",
       "      <td>7</td>\n",
       "    </tr>\n",
       "    <tr>\n",
       "      <th>OPERATOR PANEL PROBLEM</th>\n",
       "      <td>9</td>\n",
       "    </tr>\n",
       "    <tr>\n",
       "      <th>PANEL COOLER PROBLEM</th>\n",
       "      <td>1</td>\n",
       "    </tr>\n",
       "    <tr>\n",
       "      <th>PFM UNIT FAILURE</th>\n",
       "      <td>3</td>\n",
       "    </tr>\n",
       "    <tr>\n",
       "      <th>PNUMATIC UNIT</th>\n",
       "      <td>5</td>\n",
       "    </tr>\n",
       "    <tr>\n",
       "      <th>SECONDARY FILTER/COOLANT UNIT PROBLEM</th>\n",
       "      <td>19</td>\n",
       "    </tr>\n",
       "    <tr>\n",
       "      <th>SERVO MOTOR FAILURE</th>\n",
       "      <td>6</td>\n",
       "    </tr>\n",
       "    <tr>\n",
       "      <th>SPINDLE UNIT PROBLEM</th>\n",
       "      <td>9</td>\n",
       "    </tr>\n",
       "    <tr>\n",
       "      <th>TELESCOPIC COVER PROBLEM</th>\n",
       "      <td>2</td>\n",
       "    </tr>\n",
       "    <tr>\n",
       "      <th>VERTICAL TURNING CENTRE</th>\n",
       "      <th>HYDRAULIC UNIT</th>\n",
       "      <td>1</td>\n",
       "    </tr>\n",
       "  </tbody>\n",
       "</table>\n",
       "</div>"
      ],
      "text/plain": [
       "                                                                   Failure\n",
       "Sub. Category               Failure                                       \n",
       "HORIZONTAL MACHINING CENTRE AUTO PALLET CHANGER PROBLEM                  5\n",
       "                            AUTO TOOL CHANGE PROBLEM                    11\n",
       "                            B-AXIS PROBLEM                               1\n",
       "                            BROKEN TOOL SENSOR FAILURE                   3\n",
       "                            CHILLER UNIT FAILURE                         1\n",
       "                            DRIVE CARD PROBLEM                           1\n",
       "                            ENCODER FAILURE                              1\n",
       "                            HYDRAULIC UNIT                               1\n",
       "                            LUBRICATION UNIT PROBLEM                     5\n",
       "                            MAGAZINE PROBLEM                             4\n",
       "                            OPERATOR PANEL PROBLEM                       6\n",
       "                            PANEL COOLER PROBLEM                         1\n",
       "                            PFM UNIT FAILURE                             1\n",
       "                            PNUMATIC UNIT                                1\n",
       "                            SECONDARY FILTER/COOLANT UNIT PROBLEM        2\n",
       "                            SPINDLE UNIT PROBLEM                         4\n",
       "HORIZONTAL TURNING CENTRE   DRIVE CARD PROBLEM                           1\n",
       "                            ENCODER FAILURE                              1\n",
       "                            OPERATOR PANEL PROBLEM                       1\n",
       "                            SPINDLE UNIT PROBLEM                         1\n",
       "VERTICAL MAC CENTRE         AUTO PALLET CHANGER PROBLEM                 17\n",
       "                            AUTO TOOL CHANGE PROBLEM                    36\n",
       "                            B-AXIS PROBLEM                               4\n",
       "                            BROKEN TOOL SENSOR FAILURE                   2\n",
       "                            CHIP CONVEYER PROBLEM                        2\n",
       "                            ENCODER FAILURE                              2\n",
       "                            HYDRAULIC UNIT                               6\n",
       "                            LUBRICATION UNIT PROBLEM                     7\n",
       "                            OPERATOR PANEL PROBLEM                       9\n",
       "                            PANEL COOLER PROBLEM                         1\n",
       "                            PFM UNIT FAILURE                             3\n",
       "                            PNUMATIC UNIT                                5\n",
       "                            SECONDARY FILTER/COOLANT UNIT PROBLEM       19\n",
       "                            SERVO MOTOR FAILURE                          6\n",
       "                            SPINDLE UNIT PROBLEM                         9\n",
       "                            TELESCOPIC COVER PROBLEM                     2\n",
       "VERTICAL TURNING CENTRE     HYDRAULIC UNIT                               1"
      ]
     },
     "execution_count": 43,
     "metadata": {},
     "output_type": "execute_result"
    }
   ],
   "source": [
    "print('Unit: ',unit)\n",
    "df_BDS.loc[unit]"
   ]
  },
  {
   "cell_type": "code",
   "execution_count": 44,
   "id": "f1d6c71d",
   "metadata": {},
   "outputs": [],
   "source": [
    "import plotly.graph_objects as go\n",
    "import plotly.express as px"
   ]
  },
  {
   "cell_type": "code",
   "execution_count": 48,
   "id": "0f1fcc27",
   "metadata": {
    "scrolled": true
   },
   "outputs": [
    {
     "data": {
      "text/html": [
       "<div>\n",
       "<style scoped>\n",
       "    .dataframe tbody tr th:only-of-type {\n",
       "        vertical-align: middle;\n",
       "    }\n",
       "\n",
       "    .dataframe tbody tr th {\n",
       "        vertical-align: top;\n",
       "    }\n",
       "\n",
       "    .dataframe thead th {\n",
       "        text-align: right;\n",
       "    }\n",
       "</style>\n",
       "<table border=\"1\" class=\"dataframe\">\n",
       "  <thead>\n",
       "    <tr style=\"text-align: right;\">\n",
       "      <th></th>\n",
       "      <th></th>\n",
       "      <th>counts</th>\n",
       "    </tr>\n",
       "    <tr>\n",
       "      <th>Sub. Category</th>\n",
       "      <th>Failure</th>\n",
       "      <th></th>\n",
       "    </tr>\n",
       "  </thead>\n",
       "  <tbody>\n",
       "    <tr>\n",
       "      <th rowspan=\"16\" valign=\"top\">HORIZONTAL MACHINING CENTRE</th>\n",
       "      <th>AUTO PALLET CHANGER PROBLEM</th>\n",
       "      <td>5</td>\n",
       "    </tr>\n",
       "    <tr>\n",
       "      <th>AUTO TOOL CHANGE PROBLEM</th>\n",
       "      <td>11</td>\n",
       "    </tr>\n",
       "    <tr>\n",
       "      <th>B-AXIS PROBLEM</th>\n",
       "      <td>1</td>\n",
       "    </tr>\n",
       "    <tr>\n",
       "      <th>BROKEN TOOL SENSOR FAILURE</th>\n",
       "      <td>3</td>\n",
       "    </tr>\n",
       "    <tr>\n",
       "      <th>CHILLER UNIT FAILURE</th>\n",
       "      <td>1</td>\n",
       "    </tr>\n",
       "    <tr>\n",
       "      <th>DRIVE CARD PROBLEM</th>\n",
       "      <td>1</td>\n",
       "    </tr>\n",
       "    <tr>\n",
       "      <th>ENCODER FAILURE</th>\n",
       "      <td>1</td>\n",
       "    </tr>\n",
       "    <tr>\n",
       "      <th>HYDRAULIC UNIT</th>\n",
       "      <td>1</td>\n",
       "    </tr>\n",
       "    <tr>\n",
       "      <th>LUBRICATION UNIT PROBLEM</th>\n",
       "      <td>5</td>\n",
       "    </tr>\n",
       "    <tr>\n",
       "      <th>MAGAZINE PROBLEM</th>\n",
       "      <td>4</td>\n",
       "    </tr>\n",
       "    <tr>\n",
       "      <th>OPERATOR PANEL PROBLEM</th>\n",
       "      <td>6</td>\n",
       "    </tr>\n",
       "    <tr>\n",
       "      <th>PANEL COOLER PROBLEM</th>\n",
       "      <td>1</td>\n",
       "    </tr>\n",
       "    <tr>\n",
       "      <th>PFM UNIT FAILURE</th>\n",
       "      <td>1</td>\n",
       "    </tr>\n",
       "    <tr>\n",
       "      <th>PNUMATIC UNIT</th>\n",
       "      <td>1</td>\n",
       "    </tr>\n",
       "    <tr>\n",
       "      <th>SECONDARY FILTER/COOLANT UNIT PROBLEM</th>\n",
       "      <td>2</td>\n",
       "    </tr>\n",
       "    <tr>\n",
       "      <th>SPINDLE UNIT PROBLEM</th>\n",
       "      <td>4</td>\n",
       "    </tr>\n",
       "    <tr>\n",
       "      <th rowspan=\"4\" valign=\"top\">HORIZONTAL TURNING CENTRE</th>\n",
       "      <th>DRIVE CARD PROBLEM</th>\n",
       "      <td>1</td>\n",
       "    </tr>\n",
       "    <tr>\n",
       "      <th>ENCODER FAILURE</th>\n",
       "      <td>1</td>\n",
       "    </tr>\n",
       "    <tr>\n",
       "      <th>OPERATOR PANEL PROBLEM</th>\n",
       "      <td>1</td>\n",
       "    </tr>\n",
       "    <tr>\n",
       "      <th>SPINDLE UNIT PROBLEM</th>\n",
       "      <td>1</td>\n",
       "    </tr>\n",
       "    <tr>\n",
       "      <th rowspan=\"16\" valign=\"top\">VERTICAL MAC CENTRE</th>\n",
       "      <th>AUTO PALLET CHANGER PROBLEM</th>\n",
       "      <td>17</td>\n",
       "    </tr>\n",
       "    <tr>\n",
       "      <th>AUTO TOOL CHANGE PROBLEM</th>\n",
       "      <td>36</td>\n",
       "    </tr>\n",
       "    <tr>\n",
       "      <th>B-AXIS PROBLEM</th>\n",
       "      <td>4</td>\n",
       "    </tr>\n",
       "    <tr>\n",
       "      <th>BROKEN TOOL SENSOR FAILURE</th>\n",
       "      <td>2</td>\n",
       "    </tr>\n",
       "    <tr>\n",
       "      <th>CHIP CONVEYER PROBLEM</th>\n",
       "      <td>2</td>\n",
       "    </tr>\n",
       "    <tr>\n",
       "      <th>ENCODER FAILURE</th>\n",
       "      <td>2</td>\n",
       "    </tr>\n",
       "    <tr>\n",
       "      <th>HYDRAULIC UNIT</th>\n",
       "      <td>6</td>\n",
       "    </tr>\n",
       "    <tr>\n",
       "      <th>LUBRICATION UNIT PROBLEM</th>\n",
       "      <td>7</td>\n",
       "    </tr>\n",
       "    <tr>\n",
       "      <th>OPERATOR PANEL PROBLEM</th>\n",
       "      <td>9</td>\n",
       "    </tr>\n",
       "    <tr>\n",
       "      <th>PANEL COOLER PROBLEM</th>\n",
       "      <td>1</td>\n",
       "    </tr>\n",
       "    <tr>\n",
       "      <th>PFM UNIT FAILURE</th>\n",
       "      <td>3</td>\n",
       "    </tr>\n",
       "    <tr>\n",
       "      <th>PNUMATIC UNIT</th>\n",
       "      <td>5</td>\n",
       "    </tr>\n",
       "    <tr>\n",
       "      <th>SECONDARY FILTER/COOLANT UNIT PROBLEM</th>\n",
       "      <td>19</td>\n",
       "    </tr>\n",
       "    <tr>\n",
       "      <th>SERVO MOTOR FAILURE</th>\n",
       "      <td>6</td>\n",
       "    </tr>\n",
       "    <tr>\n",
       "      <th>SPINDLE UNIT PROBLEM</th>\n",
       "      <td>9</td>\n",
       "    </tr>\n",
       "    <tr>\n",
       "      <th>TELESCOPIC COVER PROBLEM</th>\n",
       "      <td>2</td>\n",
       "    </tr>\n",
       "    <tr>\n",
       "      <th>VERTICAL TURNING CENTRE</th>\n",
       "      <th>HYDRAULIC UNIT</th>\n",
       "      <td>1</td>\n",
       "    </tr>\n",
       "  </tbody>\n",
       "</table>\n",
       "</div>"
      ],
      "text/plain": [
       "                                                                   counts\n",
       "Sub. Category               Failure                                      \n",
       "HORIZONTAL MACHINING CENTRE AUTO PALLET CHANGER PROBLEM                 5\n",
       "                            AUTO TOOL CHANGE PROBLEM                   11\n",
       "                            B-AXIS PROBLEM                              1\n",
       "                            BROKEN TOOL SENSOR FAILURE                  3\n",
       "                            CHILLER UNIT FAILURE                        1\n",
       "                            DRIVE CARD PROBLEM                          1\n",
       "                            ENCODER FAILURE                             1\n",
       "                            HYDRAULIC UNIT                              1\n",
       "                            LUBRICATION UNIT PROBLEM                    5\n",
       "                            MAGAZINE PROBLEM                            4\n",
       "                            OPERATOR PANEL PROBLEM                      6\n",
       "                            PANEL COOLER PROBLEM                        1\n",
       "                            PFM UNIT FAILURE                            1\n",
       "                            PNUMATIC UNIT                               1\n",
       "                            SECONDARY FILTER/COOLANT UNIT PROBLEM       2\n",
       "                            SPINDLE UNIT PROBLEM                        4\n",
       "HORIZONTAL TURNING CENTRE   DRIVE CARD PROBLEM                          1\n",
       "                            ENCODER FAILURE                             1\n",
       "                            OPERATOR PANEL PROBLEM                      1\n",
       "                            SPINDLE UNIT PROBLEM                        1\n",
       "VERTICAL MAC CENTRE         AUTO PALLET CHANGER PROBLEM                17\n",
       "                            AUTO TOOL CHANGE PROBLEM                   36\n",
       "                            B-AXIS PROBLEM                              4\n",
       "                            BROKEN TOOL SENSOR FAILURE                  2\n",
       "                            CHIP CONVEYER PROBLEM                       2\n",
       "                            ENCODER FAILURE                             2\n",
       "                            HYDRAULIC UNIT                              6\n",
       "                            LUBRICATION UNIT PROBLEM                    7\n",
       "                            OPERATOR PANEL PROBLEM                      9\n",
       "                            PANEL COOLER PROBLEM                        1\n",
       "                            PFM UNIT FAILURE                            3\n",
       "                            PNUMATIC UNIT                               5\n",
       "                            SECONDARY FILTER/COOLANT UNIT PROBLEM      19\n",
       "                            SERVO MOTOR FAILURE                         6\n",
       "                            SPINDLE UNIT PROBLEM                        9\n",
       "                            TELESCOPIC COVER PROBLEM                    2\n",
       "VERTICAL TURNING CENTRE     HYDRAULIC UNIT                              1"
      ]
     },
     "execution_count": 48,
     "metadata": {},
     "output_type": "execute_result"
    }
   ],
   "source": [
    "df_df_BDS = df_BDS.loc[unit]\n",
    "df_df_BDS.columns = ['counts']\n",
    "df_df_BDS"
   ]
  },
  {
   "cell_type": "code",
   "execution_count": 52,
   "id": "c7513dff",
   "metadata": {},
   "outputs": [
    {
     "data": {
      "application/vnd.plotly.v1+json": {
       "config": {
        "plotlyServerURL": "https://plot.ly"
       },
       "data": [
        {
         "domain": {
          "x": [
           0,
           1
          ],
          "y": [
           0,
           1
          ]
         },
         "hovertemplate": "Failure=%{label}<br>counts=%{value}<extra></extra>",
         "labels": [
          "AUTO PALLET CHANGER PROBLEM",
          "AUTO TOOL CHANGE PROBLEM",
          "B-AXIS PROBLEM",
          "BROKEN TOOL SENSOR FAILURE",
          "CHILLER UNIT FAILURE",
          "DRIVE CARD PROBLEM",
          "ENCODER FAILURE",
          "HYDRAULIC UNIT",
          "LUBRICATION UNIT PROBLEM",
          "MAGAZINE PROBLEM",
          "OPERATOR PANEL PROBLEM",
          "PANEL COOLER PROBLEM",
          "PFM UNIT FAILURE",
          "PNUMATIC UNIT",
          "SECONDARY FILTER/COOLANT UNIT PROBLEM",
          "SPINDLE UNIT PROBLEM",
          "DRIVE CARD PROBLEM",
          "ENCODER FAILURE",
          "OPERATOR PANEL PROBLEM",
          "SPINDLE UNIT PROBLEM",
          "AUTO PALLET CHANGER PROBLEM",
          "AUTO TOOL CHANGE PROBLEM",
          "B-AXIS PROBLEM",
          "BROKEN TOOL SENSOR FAILURE",
          "CHIP CONVEYER PROBLEM",
          "ENCODER FAILURE",
          "HYDRAULIC UNIT",
          "LUBRICATION UNIT PROBLEM",
          "OPERATOR PANEL PROBLEM",
          "PANEL COOLER PROBLEM",
          "PFM UNIT FAILURE",
          "PNUMATIC UNIT",
          "SECONDARY FILTER/COOLANT UNIT PROBLEM",
          "SERVO MOTOR FAILURE",
          "SPINDLE UNIT PROBLEM",
          "TELESCOPIC COVER PROBLEM",
          "HYDRAULIC UNIT"
         ],
         "legendgroup": "",
         "name": "",
         "showlegend": true,
         "type": "pie",
         "values": [
          5,
          11,
          1,
          3,
          1,
          1,
          1,
          1,
          5,
          4,
          6,
          1,
          1,
          1,
          2,
          4,
          1,
          1,
          1,
          1,
          17,
          36,
          4,
          2,
          2,
          2,
          6,
          7,
          9,
          1,
          3,
          5,
          19,
          6,
          9,
          2,
          1
         ]
        }
       ],
       "layout": {
        "legend": {
         "tracegroupgap": 0
        },
        "template": {
         "data": {
          "bar": [
           {
            "error_x": {
             "color": "#2a3f5f"
            },
            "error_y": {
             "color": "#2a3f5f"
            },
            "marker": {
             "line": {
              "color": "#E5ECF6",
              "width": 0.5
             },
             "pattern": {
              "fillmode": "overlay",
              "size": 10,
              "solidity": 0.2
             }
            },
            "type": "bar"
           }
          ],
          "barpolar": [
           {
            "marker": {
             "line": {
              "color": "#E5ECF6",
              "width": 0.5
             },
             "pattern": {
              "fillmode": "overlay",
              "size": 10,
              "solidity": 0.2
             }
            },
            "type": "barpolar"
           }
          ],
          "carpet": [
           {
            "aaxis": {
             "endlinecolor": "#2a3f5f",
             "gridcolor": "white",
             "linecolor": "white",
             "minorgridcolor": "white",
             "startlinecolor": "#2a3f5f"
            },
            "baxis": {
             "endlinecolor": "#2a3f5f",
             "gridcolor": "white",
             "linecolor": "white",
             "minorgridcolor": "white",
             "startlinecolor": "#2a3f5f"
            },
            "type": "carpet"
           }
          ],
          "choropleth": [
           {
            "colorbar": {
             "outlinewidth": 0,
             "ticks": ""
            },
            "type": "choropleth"
           }
          ],
          "contour": [
           {
            "colorbar": {
             "outlinewidth": 0,
             "ticks": ""
            },
            "colorscale": [
             [
              0,
              "#0d0887"
             ],
             [
              0.1111111111111111,
              "#46039f"
             ],
             [
              0.2222222222222222,
              "#7201a8"
             ],
             [
              0.3333333333333333,
              "#9c179e"
             ],
             [
              0.4444444444444444,
              "#bd3786"
             ],
             [
              0.5555555555555556,
              "#d8576b"
             ],
             [
              0.6666666666666666,
              "#ed7953"
             ],
             [
              0.7777777777777778,
              "#fb9f3a"
             ],
             [
              0.8888888888888888,
              "#fdca26"
             ],
             [
              1,
              "#f0f921"
             ]
            ],
            "type": "contour"
           }
          ],
          "contourcarpet": [
           {
            "colorbar": {
             "outlinewidth": 0,
             "ticks": ""
            },
            "type": "contourcarpet"
           }
          ],
          "heatmap": [
           {
            "colorbar": {
             "outlinewidth": 0,
             "ticks": ""
            },
            "colorscale": [
             [
              0,
              "#0d0887"
             ],
             [
              0.1111111111111111,
              "#46039f"
             ],
             [
              0.2222222222222222,
              "#7201a8"
             ],
             [
              0.3333333333333333,
              "#9c179e"
             ],
             [
              0.4444444444444444,
              "#bd3786"
             ],
             [
              0.5555555555555556,
              "#d8576b"
             ],
             [
              0.6666666666666666,
              "#ed7953"
             ],
             [
              0.7777777777777778,
              "#fb9f3a"
             ],
             [
              0.8888888888888888,
              "#fdca26"
             ],
             [
              1,
              "#f0f921"
             ]
            ],
            "type": "heatmap"
           }
          ],
          "heatmapgl": [
           {
            "colorbar": {
             "outlinewidth": 0,
             "ticks": ""
            },
            "colorscale": [
             [
              0,
              "#0d0887"
             ],
             [
              0.1111111111111111,
              "#46039f"
             ],
             [
              0.2222222222222222,
              "#7201a8"
             ],
             [
              0.3333333333333333,
              "#9c179e"
             ],
             [
              0.4444444444444444,
              "#bd3786"
             ],
             [
              0.5555555555555556,
              "#d8576b"
             ],
             [
              0.6666666666666666,
              "#ed7953"
             ],
             [
              0.7777777777777778,
              "#fb9f3a"
             ],
             [
              0.8888888888888888,
              "#fdca26"
             ],
             [
              1,
              "#f0f921"
             ]
            ],
            "type": "heatmapgl"
           }
          ],
          "histogram": [
           {
            "marker": {
             "pattern": {
              "fillmode": "overlay",
              "size": 10,
              "solidity": 0.2
             }
            },
            "type": "histogram"
           }
          ],
          "histogram2d": [
           {
            "colorbar": {
             "outlinewidth": 0,
             "ticks": ""
            },
            "colorscale": [
             [
              0,
              "#0d0887"
             ],
             [
              0.1111111111111111,
              "#46039f"
             ],
             [
              0.2222222222222222,
              "#7201a8"
             ],
             [
              0.3333333333333333,
              "#9c179e"
             ],
             [
              0.4444444444444444,
              "#bd3786"
             ],
             [
              0.5555555555555556,
              "#d8576b"
             ],
             [
              0.6666666666666666,
              "#ed7953"
             ],
             [
              0.7777777777777778,
              "#fb9f3a"
             ],
             [
              0.8888888888888888,
              "#fdca26"
             ],
             [
              1,
              "#f0f921"
             ]
            ],
            "type": "histogram2d"
           }
          ],
          "histogram2dcontour": [
           {
            "colorbar": {
             "outlinewidth": 0,
             "ticks": ""
            },
            "colorscale": [
             [
              0,
              "#0d0887"
             ],
             [
              0.1111111111111111,
              "#46039f"
             ],
             [
              0.2222222222222222,
              "#7201a8"
             ],
             [
              0.3333333333333333,
              "#9c179e"
             ],
             [
              0.4444444444444444,
              "#bd3786"
             ],
             [
              0.5555555555555556,
              "#d8576b"
             ],
             [
              0.6666666666666666,
              "#ed7953"
             ],
             [
              0.7777777777777778,
              "#fb9f3a"
             ],
             [
              0.8888888888888888,
              "#fdca26"
             ],
             [
              1,
              "#f0f921"
             ]
            ],
            "type": "histogram2dcontour"
           }
          ],
          "mesh3d": [
           {
            "colorbar": {
             "outlinewidth": 0,
             "ticks": ""
            },
            "type": "mesh3d"
           }
          ],
          "parcoords": [
           {
            "line": {
             "colorbar": {
              "outlinewidth": 0,
              "ticks": ""
             }
            },
            "type": "parcoords"
           }
          ],
          "pie": [
           {
            "automargin": true,
            "type": "pie"
           }
          ],
          "scatter": [
           {
            "marker": {
             "colorbar": {
              "outlinewidth": 0,
              "ticks": ""
             }
            },
            "type": "scatter"
           }
          ],
          "scatter3d": [
           {
            "line": {
             "colorbar": {
              "outlinewidth": 0,
              "ticks": ""
             }
            },
            "marker": {
             "colorbar": {
              "outlinewidth": 0,
              "ticks": ""
             }
            },
            "type": "scatter3d"
           }
          ],
          "scattercarpet": [
           {
            "marker": {
             "colorbar": {
              "outlinewidth": 0,
              "ticks": ""
             }
            },
            "type": "scattercarpet"
           }
          ],
          "scattergeo": [
           {
            "marker": {
             "colorbar": {
              "outlinewidth": 0,
              "ticks": ""
             }
            },
            "type": "scattergeo"
           }
          ],
          "scattergl": [
           {
            "marker": {
             "colorbar": {
              "outlinewidth": 0,
              "ticks": ""
             }
            },
            "type": "scattergl"
           }
          ],
          "scattermapbox": [
           {
            "marker": {
             "colorbar": {
              "outlinewidth": 0,
              "ticks": ""
             }
            },
            "type": "scattermapbox"
           }
          ],
          "scatterpolar": [
           {
            "marker": {
             "colorbar": {
              "outlinewidth": 0,
              "ticks": ""
             }
            },
            "type": "scatterpolar"
           }
          ],
          "scatterpolargl": [
           {
            "marker": {
             "colorbar": {
              "outlinewidth": 0,
              "ticks": ""
             }
            },
            "type": "scatterpolargl"
           }
          ],
          "scatterternary": [
           {
            "marker": {
             "colorbar": {
              "outlinewidth": 0,
              "ticks": ""
             }
            },
            "type": "scatterternary"
           }
          ],
          "surface": [
           {
            "colorbar": {
             "outlinewidth": 0,
             "ticks": ""
            },
            "colorscale": [
             [
              0,
              "#0d0887"
             ],
             [
              0.1111111111111111,
              "#46039f"
             ],
             [
              0.2222222222222222,
              "#7201a8"
             ],
             [
              0.3333333333333333,
              "#9c179e"
             ],
             [
              0.4444444444444444,
              "#bd3786"
             ],
             [
              0.5555555555555556,
              "#d8576b"
             ],
             [
              0.6666666666666666,
              "#ed7953"
             ],
             [
              0.7777777777777778,
              "#fb9f3a"
             ],
             [
              0.8888888888888888,
              "#fdca26"
             ],
             [
              1,
              "#f0f921"
             ]
            ],
            "type": "surface"
           }
          ],
          "table": [
           {
            "cells": {
             "fill": {
              "color": "#EBF0F8"
             },
             "line": {
              "color": "white"
             }
            },
            "header": {
             "fill": {
              "color": "#C8D4E3"
             },
             "line": {
              "color": "white"
             }
            },
            "type": "table"
           }
          ]
         },
         "layout": {
          "annotationdefaults": {
           "arrowcolor": "#2a3f5f",
           "arrowhead": 0,
           "arrowwidth": 1
          },
          "autotypenumbers": "strict",
          "coloraxis": {
           "colorbar": {
            "outlinewidth": 0,
            "ticks": ""
           }
          },
          "colorscale": {
           "diverging": [
            [
             0,
             "#8e0152"
            ],
            [
             0.1,
             "#c51b7d"
            ],
            [
             0.2,
             "#de77ae"
            ],
            [
             0.3,
             "#f1b6da"
            ],
            [
             0.4,
             "#fde0ef"
            ],
            [
             0.5,
             "#f7f7f7"
            ],
            [
             0.6,
             "#e6f5d0"
            ],
            [
             0.7,
             "#b8e186"
            ],
            [
             0.8,
             "#7fbc41"
            ],
            [
             0.9,
             "#4d9221"
            ],
            [
             1,
             "#276419"
            ]
           ],
           "sequential": [
            [
             0,
             "#0d0887"
            ],
            [
             0.1111111111111111,
             "#46039f"
            ],
            [
             0.2222222222222222,
             "#7201a8"
            ],
            [
             0.3333333333333333,
             "#9c179e"
            ],
            [
             0.4444444444444444,
             "#bd3786"
            ],
            [
             0.5555555555555556,
             "#d8576b"
            ],
            [
             0.6666666666666666,
             "#ed7953"
            ],
            [
             0.7777777777777778,
             "#fb9f3a"
            ],
            [
             0.8888888888888888,
             "#fdca26"
            ],
            [
             1,
             "#f0f921"
            ]
           ],
           "sequentialminus": [
            [
             0,
             "#0d0887"
            ],
            [
             0.1111111111111111,
             "#46039f"
            ],
            [
             0.2222222222222222,
             "#7201a8"
            ],
            [
             0.3333333333333333,
             "#9c179e"
            ],
            [
             0.4444444444444444,
             "#bd3786"
            ],
            [
             0.5555555555555556,
             "#d8576b"
            ],
            [
             0.6666666666666666,
             "#ed7953"
            ],
            [
             0.7777777777777778,
             "#fb9f3a"
            ],
            [
             0.8888888888888888,
             "#fdca26"
            ],
            [
             1,
             "#f0f921"
            ]
           ]
          },
          "colorway": [
           "#636efa",
           "#EF553B",
           "#00cc96",
           "#ab63fa",
           "#FFA15A",
           "#19d3f3",
           "#FF6692",
           "#B6E880",
           "#FF97FF",
           "#FECB52"
          ],
          "font": {
           "color": "#2a3f5f"
          },
          "geo": {
           "bgcolor": "white",
           "lakecolor": "white",
           "landcolor": "#E5ECF6",
           "showlakes": true,
           "showland": true,
           "subunitcolor": "white"
          },
          "hoverlabel": {
           "align": "left"
          },
          "hovermode": "closest",
          "mapbox": {
           "style": "light"
          },
          "paper_bgcolor": "white",
          "plot_bgcolor": "#E5ECF6",
          "polar": {
           "angularaxis": {
            "gridcolor": "white",
            "linecolor": "white",
            "ticks": ""
           },
           "bgcolor": "#E5ECF6",
           "radialaxis": {
            "gridcolor": "white",
            "linecolor": "white",
            "ticks": ""
           }
          },
          "scene": {
           "xaxis": {
            "backgroundcolor": "#E5ECF6",
            "gridcolor": "white",
            "gridwidth": 2,
            "linecolor": "white",
            "showbackground": true,
            "ticks": "",
            "zerolinecolor": "white"
           },
           "yaxis": {
            "backgroundcolor": "#E5ECF6",
            "gridcolor": "white",
            "gridwidth": 2,
            "linecolor": "white",
            "showbackground": true,
            "ticks": "",
            "zerolinecolor": "white"
           },
           "zaxis": {
            "backgroundcolor": "#E5ECF6",
            "gridcolor": "white",
            "gridwidth": 2,
            "linecolor": "white",
            "showbackground": true,
            "ticks": "",
            "zerolinecolor": "white"
           }
          },
          "shapedefaults": {
           "line": {
            "color": "#2a3f5f"
           }
          },
          "ternary": {
           "aaxis": {
            "gridcolor": "white",
            "linecolor": "white",
            "ticks": ""
           },
           "baxis": {
            "gridcolor": "white",
            "linecolor": "white",
            "ticks": ""
           },
           "bgcolor": "#E5ECF6",
           "caxis": {
            "gridcolor": "white",
            "linecolor": "white",
            "ticks": ""
           }
          },
          "title": {
           "x": 0.05
          },
          "xaxis": {
           "automargin": true,
           "gridcolor": "white",
           "linecolor": "white",
           "ticks": "",
           "title": {
            "standoff": 15
           },
           "zerolinecolor": "white",
           "zerolinewidth": 2
          },
          "yaxis": {
           "automargin": true,
           "gridcolor": "white",
           "linecolor": "white",
           "ticks": "",
           "title": {
            "standoff": 15
           },
           "zerolinecolor": "white",
           "zerolinewidth": 2
          }
         }
        },
        "title": {
         "text": "Failure Types"
        }
       }
      },
      "text/html": [
       "<div>                            <div id=\"b6ce8586-37df-4d00-9a0a-96e0f2b527ee\" class=\"plotly-graph-div\" style=\"height:525px; width:100%;\"></div>            <script type=\"text/javascript\">                require([\"plotly\"], function(Plotly) {                    window.PLOTLYENV=window.PLOTLYENV || {};                                    if (document.getElementById(\"b6ce8586-37df-4d00-9a0a-96e0f2b527ee\")) {                    Plotly.newPlot(                        \"b6ce8586-37df-4d00-9a0a-96e0f2b527ee\",                        [{\"domain\":{\"x\":[0.0,1.0],\"y\":[0.0,1.0]},\"hovertemplate\":\"Failure=%{label}<br>counts=%{value}<extra></extra>\",\"labels\":[\"AUTO PALLET CHANGER PROBLEM\",\"AUTO TOOL CHANGE PROBLEM\",\"B-AXIS PROBLEM\",\"BROKEN TOOL SENSOR FAILURE\",\"CHILLER UNIT FAILURE\",\"DRIVE CARD PROBLEM\",\"ENCODER FAILURE\",\"HYDRAULIC UNIT\",\"LUBRICATION UNIT PROBLEM\",\"MAGAZINE PROBLEM\",\"OPERATOR PANEL PROBLEM\",\"PANEL COOLER PROBLEM\",\"PFM UNIT FAILURE\",\"PNUMATIC UNIT\",\"SECONDARY FILTER/COOLANT UNIT PROBLEM\",\"SPINDLE UNIT PROBLEM\",\"DRIVE CARD PROBLEM\",\"ENCODER FAILURE\",\"OPERATOR PANEL PROBLEM\",\"SPINDLE UNIT PROBLEM\",\"AUTO PALLET CHANGER PROBLEM\",\"AUTO TOOL CHANGE PROBLEM\",\"B-AXIS PROBLEM\",\"BROKEN TOOL SENSOR FAILURE\",\"CHIP CONVEYER PROBLEM\",\"ENCODER FAILURE\",\"HYDRAULIC UNIT\",\"LUBRICATION UNIT PROBLEM\",\"OPERATOR PANEL PROBLEM\",\"PANEL COOLER PROBLEM\",\"PFM UNIT FAILURE\",\"PNUMATIC UNIT\",\"SECONDARY FILTER/COOLANT UNIT PROBLEM\",\"SERVO MOTOR FAILURE\",\"SPINDLE UNIT PROBLEM\",\"TELESCOPIC COVER PROBLEM\",\"HYDRAULIC UNIT\"],\"legendgroup\":\"\",\"name\":\"\",\"showlegend\":true,\"values\":[5,11,1,3,1,1,1,1,5,4,6,1,1,1,2,4,1,1,1,1,17,36,4,2,2,2,6,7,9,1,3,5,19,6,9,2,1],\"type\":\"pie\"}],                        {\"template\":{\"data\":{\"bar\":[{\"error_x\":{\"color\":\"#2a3f5f\"},\"error_y\":{\"color\":\"#2a3f5f\"},\"marker\":{\"line\":{\"color\":\"#E5ECF6\",\"width\":0.5},\"pattern\":{\"fillmode\":\"overlay\",\"size\":10,\"solidity\":0.2}},\"type\":\"bar\"}],\"barpolar\":[{\"marker\":{\"line\":{\"color\":\"#E5ECF6\",\"width\":0.5},\"pattern\":{\"fillmode\":\"overlay\",\"size\":10,\"solidity\":0.2}},\"type\":\"barpolar\"}],\"carpet\":[{\"aaxis\":{\"endlinecolor\":\"#2a3f5f\",\"gridcolor\":\"white\",\"linecolor\":\"white\",\"minorgridcolor\":\"white\",\"startlinecolor\":\"#2a3f5f\"},\"baxis\":{\"endlinecolor\":\"#2a3f5f\",\"gridcolor\":\"white\",\"linecolor\":\"white\",\"minorgridcolor\":\"white\",\"startlinecolor\":\"#2a3f5f\"},\"type\":\"carpet\"}],\"choropleth\":[{\"colorbar\":{\"outlinewidth\":0,\"ticks\":\"\"},\"type\":\"choropleth\"}],\"contour\":[{\"colorbar\":{\"outlinewidth\":0,\"ticks\":\"\"},\"colorscale\":[[0.0,\"#0d0887\"],[0.1111111111111111,\"#46039f\"],[0.2222222222222222,\"#7201a8\"],[0.3333333333333333,\"#9c179e\"],[0.4444444444444444,\"#bd3786\"],[0.5555555555555556,\"#d8576b\"],[0.6666666666666666,\"#ed7953\"],[0.7777777777777778,\"#fb9f3a\"],[0.8888888888888888,\"#fdca26\"],[1.0,\"#f0f921\"]],\"type\":\"contour\"}],\"contourcarpet\":[{\"colorbar\":{\"outlinewidth\":0,\"ticks\":\"\"},\"type\":\"contourcarpet\"}],\"heatmap\":[{\"colorbar\":{\"outlinewidth\":0,\"ticks\":\"\"},\"colorscale\":[[0.0,\"#0d0887\"],[0.1111111111111111,\"#46039f\"],[0.2222222222222222,\"#7201a8\"],[0.3333333333333333,\"#9c179e\"],[0.4444444444444444,\"#bd3786\"],[0.5555555555555556,\"#d8576b\"],[0.6666666666666666,\"#ed7953\"],[0.7777777777777778,\"#fb9f3a\"],[0.8888888888888888,\"#fdca26\"],[1.0,\"#f0f921\"]],\"type\":\"heatmap\"}],\"heatmapgl\":[{\"colorbar\":{\"outlinewidth\":0,\"ticks\":\"\"},\"colorscale\":[[0.0,\"#0d0887\"],[0.1111111111111111,\"#46039f\"],[0.2222222222222222,\"#7201a8\"],[0.3333333333333333,\"#9c179e\"],[0.4444444444444444,\"#bd3786\"],[0.5555555555555556,\"#d8576b\"],[0.6666666666666666,\"#ed7953\"],[0.7777777777777778,\"#fb9f3a\"],[0.8888888888888888,\"#fdca26\"],[1.0,\"#f0f921\"]],\"type\":\"heatmapgl\"}],\"histogram\":[{\"marker\":{\"pattern\":{\"fillmode\":\"overlay\",\"size\":10,\"solidity\":0.2}},\"type\":\"histogram\"}],\"histogram2d\":[{\"colorbar\":{\"outlinewidth\":0,\"ticks\":\"\"},\"colorscale\":[[0.0,\"#0d0887\"],[0.1111111111111111,\"#46039f\"],[0.2222222222222222,\"#7201a8\"],[0.3333333333333333,\"#9c179e\"],[0.4444444444444444,\"#bd3786\"],[0.5555555555555556,\"#d8576b\"],[0.6666666666666666,\"#ed7953\"],[0.7777777777777778,\"#fb9f3a\"],[0.8888888888888888,\"#fdca26\"],[1.0,\"#f0f921\"]],\"type\":\"histogram2d\"}],\"histogram2dcontour\":[{\"colorbar\":{\"outlinewidth\":0,\"ticks\":\"\"},\"colorscale\":[[0.0,\"#0d0887\"],[0.1111111111111111,\"#46039f\"],[0.2222222222222222,\"#7201a8\"],[0.3333333333333333,\"#9c179e\"],[0.4444444444444444,\"#bd3786\"],[0.5555555555555556,\"#d8576b\"],[0.6666666666666666,\"#ed7953\"],[0.7777777777777778,\"#fb9f3a\"],[0.8888888888888888,\"#fdca26\"],[1.0,\"#f0f921\"]],\"type\":\"histogram2dcontour\"}],\"mesh3d\":[{\"colorbar\":{\"outlinewidth\":0,\"ticks\":\"\"},\"type\":\"mesh3d\"}],\"parcoords\":[{\"line\":{\"colorbar\":{\"outlinewidth\":0,\"ticks\":\"\"}},\"type\":\"parcoords\"}],\"pie\":[{\"automargin\":true,\"type\":\"pie\"}],\"scatter\":[{\"marker\":{\"colorbar\":{\"outlinewidth\":0,\"ticks\":\"\"}},\"type\":\"scatter\"}],\"scatter3d\":[{\"line\":{\"colorbar\":{\"outlinewidth\":0,\"ticks\":\"\"}},\"marker\":{\"colorbar\":{\"outlinewidth\":0,\"ticks\":\"\"}},\"type\":\"scatter3d\"}],\"scattercarpet\":[{\"marker\":{\"colorbar\":{\"outlinewidth\":0,\"ticks\":\"\"}},\"type\":\"scattercarpet\"}],\"scattergeo\":[{\"marker\":{\"colorbar\":{\"outlinewidth\":0,\"ticks\":\"\"}},\"type\":\"scattergeo\"}],\"scattergl\":[{\"marker\":{\"colorbar\":{\"outlinewidth\":0,\"ticks\":\"\"}},\"type\":\"scattergl\"}],\"scattermapbox\":[{\"marker\":{\"colorbar\":{\"outlinewidth\":0,\"ticks\":\"\"}},\"type\":\"scattermapbox\"}],\"scatterpolar\":[{\"marker\":{\"colorbar\":{\"outlinewidth\":0,\"ticks\":\"\"}},\"type\":\"scatterpolar\"}],\"scatterpolargl\":[{\"marker\":{\"colorbar\":{\"outlinewidth\":0,\"ticks\":\"\"}},\"type\":\"scatterpolargl\"}],\"scatterternary\":[{\"marker\":{\"colorbar\":{\"outlinewidth\":0,\"ticks\":\"\"}},\"type\":\"scatterternary\"}],\"surface\":[{\"colorbar\":{\"outlinewidth\":0,\"ticks\":\"\"},\"colorscale\":[[0.0,\"#0d0887\"],[0.1111111111111111,\"#46039f\"],[0.2222222222222222,\"#7201a8\"],[0.3333333333333333,\"#9c179e\"],[0.4444444444444444,\"#bd3786\"],[0.5555555555555556,\"#d8576b\"],[0.6666666666666666,\"#ed7953\"],[0.7777777777777778,\"#fb9f3a\"],[0.8888888888888888,\"#fdca26\"],[1.0,\"#f0f921\"]],\"type\":\"surface\"}],\"table\":[{\"cells\":{\"fill\":{\"color\":\"#EBF0F8\"},\"line\":{\"color\":\"white\"}},\"header\":{\"fill\":{\"color\":\"#C8D4E3\"},\"line\":{\"color\":\"white\"}},\"type\":\"table\"}]},\"layout\":{\"annotationdefaults\":{\"arrowcolor\":\"#2a3f5f\",\"arrowhead\":0,\"arrowwidth\":1},\"autotypenumbers\":\"strict\",\"coloraxis\":{\"colorbar\":{\"outlinewidth\":0,\"ticks\":\"\"}},\"colorscale\":{\"diverging\":[[0,\"#8e0152\"],[0.1,\"#c51b7d\"],[0.2,\"#de77ae\"],[0.3,\"#f1b6da\"],[0.4,\"#fde0ef\"],[0.5,\"#f7f7f7\"],[0.6,\"#e6f5d0\"],[0.7,\"#b8e186\"],[0.8,\"#7fbc41\"],[0.9,\"#4d9221\"],[1,\"#276419\"]],\"sequential\":[[0.0,\"#0d0887\"],[0.1111111111111111,\"#46039f\"],[0.2222222222222222,\"#7201a8\"],[0.3333333333333333,\"#9c179e\"],[0.4444444444444444,\"#bd3786\"],[0.5555555555555556,\"#d8576b\"],[0.6666666666666666,\"#ed7953\"],[0.7777777777777778,\"#fb9f3a\"],[0.8888888888888888,\"#fdca26\"],[1.0,\"#f0f921\"]],\"sequentialminus\":[[0.0,\"#0d0887\"],[0.1111111111111111,\"#46039f\"],[0.2222222222222222,\"#7201a8\"],[0.3333333333333333,\"#9c179e\"],[0.4444444444444444,\"#bd3786\"],[0.5555555555555556,\"#d8576b\"],[0.6666666666666666,\"#ed7953\"],[0.7777777777777778,\"#fb9f3a\"],[0.8888888888888888,\"#fdca26\"],[1.0,\"#f0f921\"]]},\"colorway\":[\"#636efa\",\"#EF553B\",\"#00cc96\",\"#ab63fa\",\"#FFA15A\",\"#19d3f3\",\"#FF6692\",\"#B6E880\",\"#FF97FF\",\"#FECB52\"],\"font\":{\"color\":\"#2a3f5f\"},\"geo\":{\"bgcolor\":\"white\",\"lakecolor\":\"white\",\"landcolor\":\"#E5ECF6\",\"showlakes\":true,\"showland\":true,\"subunitcolor\":\"white\"},\"hoverlabel\":{\"align\":\"left\"},\"hovermode\":\"closest\",\"mapbox\":{\"style\":\"light\"},\"paper_bgcolor\":\"white\",\"plot_bgcolor\":\"#E5ECF6\",\"polar\":{\"angularaxis\":{\"gridcolor\":\"white\",\"linecolor\":\"white\",\"ticks\":\"\"},\"bgcolor\":\"#E5ECF6\",\"radialaxis\":{\"gridcolor\":\"white\",\"linecolor\":\"white\",\"ticks\":\"\"}},\"scene\":{\"xaxis\":{\"backgroundcolor\":\"#E5ECF6\",\"gridcolor\":\"white\",\"gridwidth\":2,\"linecolor\":\"white\",\"showbackground\":true,\"ticks\":\"\",\"zerolinecolor\":\"white\"},\"yaxis\":{\"backgroundcolor\":\"#E5ECF6\",\"gridcolor\":\"white\",\"gridwidth\":2,\"linecolor\":\"white\",\"showbackground\":true,\"ticks\":\"\",\"zerolinecolor\":\"white\"},\"zaxis\":{\"backgroundcolor\":\"#E5ECF6\",\"gridcolor\":\"white\",\"gridwidth\":2,\"linecolor\":\"white\",\"showbackground\":true,\"ticks\":\"\",\"zerolinecolor\":\"white\"}},\"shapedefaults\":{\"line\":{\"color\":\"#2a3f5f\"}},\"ternary\":{\"aaxis\":{\"gridcolor\":\"white\",\"linecolor\":\"white\",\"ticks\":\"\"},\"baxis\":{\"gridcolor\":\"white\",\"linecolor\":\"white\",\"ticks\":\"\"},\"bgcolor\":\"#E5ECF6\",\"caxis\":{\"gridcolor\":\"white\",\"linecolor\":\"white\",\"ticks\":\"\"}},\"title\":{\"x\":0.05},\"xaxis\":{\"automargin\":true,\"gridcolor\":\"white\",\"linecolor\":\"white\",\"ticks\":\"\",\"title\":{\"standoff\":15},\"zerolinecolor\":\"white\",\"zerolinewidth\":2},\"yaxis\":{\"automargin\":true,\"gridcolor\":\"white\",\"linecolor\":\"white\",\"ticks\":\"\",\"title\":{\"standoff\":15},\"zerolinecolor\":\"white\",\"zerolinewidth\":2}}},\"legend\":{\"tracegroupgap\":0},\"title\":{\"text\":\"Failure Types\"}},                        {\"responsive\": true}                    ).then(function(){\n",
       "                            \n",
       "var gd = document.getElementById('b6ce8586-37df-4d00-9a0a-96e0f2b527ee');\n",
       "var x = new MutationObserver(function (mutations, observer) {{\n",
       "        var display = window.getComputedStyle(gd).display;\n",
       "        if (!display || display === 'none') {{\n",
       "            console.log([gd, 'removed!']);\n",
       "            Plotly.purge(gd);\n",
       "            observer.disconnect();\n",
       "        }}\n",
       "}});\n",
       "\n",
       "// Listen for the removal of the full notebook cells\n",
       "var notebookContainer = gd.closest('#notebook-container');\n",
       "if (notebookContainer) {{\n",
       "    x.observe(notebookContainer, {childList: true});\n",
       "}}\n",
       "\n",
       "// Listen for the clearing of the current output cell\n",
       "var outputEl = gd.closest('.output');\n",
       "if (outputEl) {{\n",
       "    x.observe(outputEl, {childList: true});\n",
       "}}\n",
       "\n",
       "                        })                };                });            </script>        </div>"
      ]
     },
     "metadata": {},
     "output_type": "display_data"
    }
   ],
   "source": [
    "fig = px.pie(df_df_BDS.reset_index(),\n",
    "             title  = 'Failure Types',\n",
    "             values = 'counts',\n",
    "             names  = 'Failure')\n",
    "fig.show()"
   ]
  },
  {
   "cell_type": "code",
   "execution_count": 59,
   "id": "8c8c5590",
   "metadata": {
    "scrolled": true
   },
   "outputs": [
    {
     "data": {
      "text/html": [
       "<div>\n",
       "<style scoped>\n",
       "    .dataframe tbody tr th:only-of-type {\n",
       "        vertical-align: middle;\n",
       "    }\n",
       "\n",
       "    .dataframe tbody tr th {\n",
       "        vertical-align: top;\n",
       "    }\n",
       "\n",
       "    .dataframe thead th {\n",
       "        text-align: right;\n",
       "    }\n",
       "</style>\n",
       "<table border=\"1\" class=\"dataframe\">\n",
       "  <thead>\n",
       "    <tr style=\"text-align: right;\">\n",
       "      <th></th>\n",
       "      <th></th>\n",
       "      <th></th>\n",
       "      <th>Failure</th>\n",
       "    </tr>\n",
       "    <tr>\n",
       "      <th>Equipment_ID</th>\n",
       "      <th>Sub. Category</th>\n",
       "      <th>Failure</th>\n",
       "      <th></th>\n",
       "    </tr>\n",
       "  </thead>\n",
       "  <tbody>\n",
       "    <tr>\n",
       "      <th rowspan=\"7\" valign=\"top\">HMC-2001</th>\n",
       "      <th rowspan=\"7\" valign=\"top\">HORIZONTAL MACHINING CENTRE</th>\n",
       "      <th>AUTO PALLET CHANGER PROBLEM</th>\n",
       "      <td>1</td>\n",
       "    </tr>\n",
       "    <tr>\n",
       "      <th>AUTO TOOL CHANGE PROBLEM</th>\n",
       "      <td>6</td>\n",
       "    </tr>\n",
       "    <tr>\n",
       "      <th>B-AXIS PROBLEM</th>\n",
       "      <td>1</td>\n",
       "    </tr>\n",
       "    <tr>\n",
       "      <th>DRIVE CARD PROBLEM</th>\n",
       "      <td>1</td>\n",
       "    </tr>\n",
       "    <tr>\n",
       "      <th>LUBRICATION UNIT PROBLEM</th>\n",
       "      <td>1</td>\n",
       "    </tr>\n",
       "    <tr>\n",
       "      <th>PFM UNIT FAILURE</th>\n",
       "      <td>1</td>\n",
       "    </tr>\n",
       "    <tr>\n",
       "      <th>PNUMATIC UNIT</th>\n",
       "      <td>1</td>\n",
       "    </tr>\n",
       "    <tr>\n",
       "      <th rowspan=\"8\" valign=\"top\">HMC-2002</th>\n",
       "      <th rowspan=\"8\" valign=\"top\">HORIZONTAL MACHINING CENTRE</th>\n",
       "      <th>AUTO TOOL CHANGE PROBLEM</th>\n",
       "      <td>2</td>\n",
       "    </tr>\n",
       "    <tr>\n",
       "      <th>BROKEN TOOL SENSOR FAILURE</th>\n",
       "      <td>2</td>\n",
       "    </tr>\n",
       "    <tr>\n",
       "      <th>CHILLER UNIT FAILURE</th>\n",
       "      <td>1</td>\n",
       "    </tr>\n",
       "    <tr>\n",
       "      <th>LUBRICATION UNIT PROBLEM</th>\n",
       "      <td>1</td>\n",
       "    </tr>\n",
       "    <tr>\n",
       "      <th>MAGAZINE PROBLEM</th>\n",
       "      <td>1</td>\n",
       "    </tr>\n",
       "    <tr>\n",
       "      <th>OPERATOR PANEL PROBLEM</th>\n",
       "      <td>4</td>\n",
       "    </tr>\n",
       "    <tr>\n",
       "      <th>SECONDARY FILTER/COOLANT UNIT PROBLEM</th>\n",
       "      <td>1</td>\n",
       "    </tr>\n",
       "    <tr>\n",
       "      <th>SPINDLE UNIT PROBLEM</th>\n",
       "      <td>2</td>\n",
       "    </tr>\n",
       "    <tr>\n",
       "      <th rowspan=\"9\" valign=\"top\">HMC-2003</th>\n",
       "      <th rowspan=\"9\" valign=\"top\">HORIZONTAL MACHINING CENTRE</th>\n",
       "      <th>AUTO PALLET CHANGER PROBLEM</th>\n",
       "      <td>2</td>\n",
       "    </tr>\n",
       "    <tr>\n",
       "      <th>AUTO TOOL CHANGE PROBLEM</th>\n",
       "      <td>2</td>\n",
       "    </tr>\n",
       "    <tr>\n",
       "      <th>ENCODER FAILURE</th>\n",
       "      <td>1</td>\n",
       "    </tr>\n",
       "    <tr>\n",
       "      <th>HYDRAULIC UNIT</th>\n",
       "      <td>1</td>\n",
       "    </tr>\n",
       "    <tr>\n",
       "      <th>LUBRICATION UNIT PROBLEM</th>\n",
       "      <td>3</td>\n",
       "    </tr>\n",
       "    <tr>\n",
       "      <th>OPERATOR PANEL PROBLEM</th>\n",
       "      <td>2</td>\n",
       "    </tr>\n",
       "    <tr>\n",
       "      <th>PANEL COOLER PROBLEM</th>\n",
       "      <td>1</td>\n",
       "    </tr>\n",
       "    <tr>\n",
       "      <th>SECONDARY FILTER/COOLANT UNIT PROBLEM</th>\n",
       "      <td>1</td>\n",
       "    </tr>\n",
       "    <tr>\n",
       "      <th>SPINDLE UNIT PROBLEM</th>\n",
       "      <td>2</td>\n",
       "    </tr>\n",
       "    <tr>\n",
       "      <th rowspan=\"4\" valign=\"top\">HMC-2004</th>\n",
       "      <th rowspan=\"4\" valign=\"top\">HORIZONTAL MACHINING CENTRE</th>\n",
       "      <th>AUTO PALLET CHANGER PROBLEM</th>\n",
       "      <td>2</td>\n",
       "    </tr>\n",
       "    <tr>\n",
       "      <th>AUTO TOOL CHANGE PROBLEM</th>\n",
       "      <td>1</td>\n",
       "    </tr>\n",
       "    <tr>\n",
       "      <th>BROKEN TOOL SENSOR FAILURE</th>\n",
       "      <td>1</td>\n",
       "    </tr>\n",
       "    <tr>\n",
       "      <th>MAGAZINE PROBLEM</th>\n",
       "      <td>3</td>\n",
       "    </tr>\n",
       "    <tr>\n",
       "      <th>HTC-2004</th>\n",
       "      <th>HORIZONTAL TURNING CENTRE</th>\n",
       "      <th>ENCODER FAILURE</th>\n",
       "      <td>1</td>\n",
       "    </tr>\n",
       "    <tr>\n",
       "      <th rowspan=\"3\" valign=\"top\">HTC-2006</th>\n",
       "      <th rowspan=\"3\" valign=\"top\">HORIZONTAL TURNING CENTRE</th>\n",
       "      <th>DRIVE CARD PROBLEM</th>\n",
       "      <td>1</td>\n",
       "    </tr>\n",
       "    <tr>\n",
       "      <th>OPERATOR PANEL PROBLEM</th>\n",
       "      <td>1</td>\n",
       "    </tr>\n",
       "    <tr>\n",
       "      <th>SPINDLE UNIT PROBLEM</th>\n",
       "      <td>1</td>\n",
       "    </tr>\n",
       "    <tr>\n",
       "      <th rowspan=\"2\" valign=\"top\">VMC-2004</th>\n",
       "      <th rowspan=\"2\" valign=\"top\">VERTICAL MAC CENTRE</th>\n",
       "      <th>AUTO TOOL CHANGE PROBLEM</th>\n",
       "      <td>2</td>\n",
       "    </tr>\n",
       "    <tr>\n",
       "      <th>SECONDARY FILTER/COOLANT UNIT PROBLEM</th>\n",
       "      <td>1</td>\n",
       "    </tr>\n",
       "    <tr>\n",
       "      <th rowspan=\"2\" valign=\"top\">VMC-2005</th>\n",
       "      <th rowspan=\"2\" valign=\"top\">VERTICAL MAC CENTRE</th>\n",
       "      <th>AUTO TOOL CHANGE PROBLEM</th>\n",
       "      <td>2</td>\n",
       "    </tr>\n",
       "    <tr>\n",
       "      <th>SECONDARY FILTER/COOLANT UNIT PROBLEM</th>\n",
       "      <td>2</td>\n",
       "    </tr>\n",
       "    <tr>\n",
       "      <th rowspan=\"3\" valign=\"top\">VMC-2006</th>\n",
       "      <th rowspan=\"3\" valign=\"top\">VERTICAL MAC CENTRE</th>\n",
       "      <th>AUTO TOOL CHANGE PROBLEM</th>\n",
       "      <td>5</td>\n",
       "    </tr>\n",
       "    <tr>\n",
       "      <th>PFM UNIT FAILURE</th>\n",
       "      <td>1</td>\n",
       "    </tr>\n",
       "    <tr>\n",
       "      <th>SECONDARY FILTER/COOLANT UNIT PROBLEM</th>\n",
       "      <td>1</td>\n",
       "    </tr>\n",
       "    <tr>\n",
       "      <th rowspan=\"2\" valign=\"top\">VMC-2007</th>\n",
       "      <th rowspan=\"2\" valign=\"top\">VERTICAL MAC CENTRE</th>\n",
       "      <th>ENCODER FAILURE</th>\n",
       "      <td>2</td>\n",
       "    </tr>\n",
       "    <tr>\n",
       "      <th>SECONDARY FILTER/COOLANT UNIT PROBLEM</th>\n",
       "      <td>1</td>\n",
       "    </tr>\n",
       "    <tr>\n",
       "      <th>VMC-2008</th>\n",
       "      <th>VERTICAL MAC CENTRE</th>\n",
       "      <th>SECONDARY FILTER/COOLANT UNIT PROBLEM</th>\n",
       "      <td>1</td>\n",
       "    </tr>\n",
       "    <tr>\n",
       "      <th rowspan=\"3\" valign=\"top\">VMC-2009</th>\n",
       "      <th rowspan=\"3\" valign=\"top\">VERTICAL MAC CENTRE</th>\n",
       "      <th>AUTO PALLET CHANGER PROBLEM</th>\n",
       "      <td>1</td>\n",
       "    </tr>\n",
       "    <tr>\n",
       "      <th>HYDRAULIC UNIT</th>\n",
       "      <td>1</td>\n",
       "    </tr>\n",
       "    <tr>\n",
       "      <th>SECONDARY FILTER/COOLANT UNIT PROBLEM</th>\n",
       "      <td>1</td>\n",
       "    </tr>\n",
       "    <tr>\n",
       "      <th rowspan=\"3\" valign=\"top\">VMC-2010</th>\n",
       "      <th rowspan=\"3\" valign=\"top\">VERTICAL MAC CENTRE</th>\n",
       "      <th>AUTO TOOL CHANGE PROBLEM</th>\n",
       "      <td>2</td>\n",
       "    </tr>\n",
       "    <tr>\n",
       "      <th>SECONDARY FILTER/COOLANT UNIT PROBLEM</th>\n",
       "      <td>4</td>\n",
       "    </tr>\n",
       "    <tr>\n",
       "      <th>SERVO MOTOR FAILURE</th>\n",
       "      <td>3</td>\n",
       "    </tr>\n",
       "    <tr>\n",
       "      <th rowspan=\"8\" valign=\"top\">VMC-2012</th>\n",
       "      <th rowspan=\"8\" valign=\"top\">VERTICAL MAC CENTRE</th>\n",
       "      <th>AUTO TOOL CHANGE PROBLEM</th>\n",
       "      <td>7</td>\n",
       "    </tr>\n",
       "    <tr>\n",
       "      <th>BROKEN TOOL SENSOR FAILURE</th>\n",
       "      <td>1</td>\n",
       "    </tr>\n",
       "    <tr>\n",
       "      <th>CHIP CONVEYER PROBLEM</th>\n",
       "      <td>2</td>\n",
       "    </tr>\n",
       "    <tr>\n",
       "      <th>LUBRICATION UNIT PROBLEM</th>\n",
       "      <td>1</td>\n",
       "    </tr>\n",
       "    <tr>\n",
       "      <th>OPERATOR PANEL PROBLEM</th>\n",
       "      <td>2</td>\n",
       "    </tr>\n",
       "    <tr>\n",
       "      <th>PNUMATIC UNIT</th>\n",
       "      <td>3</td>\n",
       "    </tr>\n",
       "    <tr>\n",
       "      <th>SERVO MOTOR FAILURE</th>\n",
       "      <td>1</td>\n",
       "    </tr>\n",
       "    <tr>\n",
       "      <th>SPINDLE UNIT PROBLEM</th>\n",
       "      <td>1</td>\n",
       "    </tr>\n",
       "    <tr>\n",
       "      <th rowspan=\"2\" valign=\"top\">VMC-2013</th>\n",
       "      <th rowspan=\"2\" valign=\"top\">VERTICAL MAC CENTRE</th>\n",
       "      <th>AUTO TOOL CHANGE PROBLEM</th>\n",
       "      <td>1</td>\n",
       "    </tr>\n",
       "    <tr>\n",
       "      <th>SECONDARY FILTER/COOLANT UNIT PROBLEM</th>\n",
       "      <td>1</td>\n",
       "    </tr>\n",
       "    <tr>\n",
       "      <th rowspan=\"3\" valign=\"top\">VMC-2014</th>\n",
       "      <th rowspan=\"3\" valign=\"top\">VERTICAL MAC CENTRE</th>\n",
       "      <th>LUBRICATION UNIT PROBLEM</th>\n",
       "      <td>2</td>\n",
       "    </tr>\n",
       "    <tr>\n",
       "      <th>PFM UNIT FAILURE</th>\n",
       "      <td>1</td>\n",
       "    </tr>\n",
       "    <tr>\n",
       "      <th>SECONDARY FILTER/COOLANT UNIT PROBLEM</th>\n",
       "      <td>1</td>\n",
       "    </tr>\n",
       "    <tr>\n",
       "      <th rowspan=\"5\" valign=\"top\">VMC-2015</th>\n",
       "      <th rowspan=\"5\" valign=\"top\">VERTICAL MAC CENTRE</th>\n",
       "      <th>AUTO TOOL CHANGE PROBLEM</th>\n",
       "      <td>1</td>\n",
       "    </tr>\n",
       "    <tr>\n",
       "      <th>B-AXIS PROBLEM</th>\n",
       "      <td>1</td>\n",
       "    </tr>\n",
       "    <tr>\n",
       "      <th>PFM UNIT FAILURE</th>\n",
       "      <td>1</td>\n",
       "    </tr>\n",
       "    <tr>\n",
       "      <th>SECONDARY FILTER/COOLANT UNIT PROBLEM</th>\n",
       "      <td>1</td>\n",
       "    </tr>\n",
       "    <tr>\n",
       "      <th>TELESCOPIC COVER PROBLEM</th>\n",
       "      <td>2</td>\n",
       "    </tr>\n",
       "    <tr>\n",
       "      <th rowspan=\"2\" valign=\"top\">VMC-2017</th>\n",
       "      <th rowspan=\"2\" valign=\"top\">VERTICAL MAC CENTRE</th>\n",
       "      <th>AUTO PALLET CHANGER PROBLEM</th>\n",
       "      <td>2</td>\n",
       "    </tr>\n",
       "    <tr>\n",
       "      <th>AUTO TOOL CHANGE PROBLEM</th>\n",
       "      <td>1</td>\n",
       "    </tr>\n",
       "    <tr>\n",
       "      <th rowspan=\"2\" valign=\"top\">VMC-2018</th>\n",
       "      <th rowspan=\"2\" valign=\"top\">VERTICAL MAC CENTRE</th>\n",
       "      <th>AUTO TOOL CHANGE PROBLEM</th>\n",
       "      <td>2</td>\n",
       "    </tr>\n",
       "    <tr>\n",
       "      <th>SPINDLE UNIT PROBLEM</th>\n",
       "      <td>5</td>\n",
       "    </tr>\n",
       "    <tr>\n",
       "      <th rowspan=\"7\" valign=\"top\">VMC-2019</th>\n",
       "      <th rowspan=\"7\" valign=\"top\">VERTICAL MAC CENTRE</th>\n",
       "      <th>AUTO TOOL CHANGE PROBLEM</th>\n",
       "      <td>8</td>\n",
       "    </tr>\n",
       "    <tr>\n",
       "      <th>B-AXIS PROBLEM</th>\n",
       "      <td>2</td>\n",
       "    </tr>\n",
       "    <tr>\n",
       "      <th>LUBRICATION UNIT PROBLEM</th>\n",
       "      <td>2</td>\n",
       "    </tr>\n",
       "    <tr>\n",
       "      <th>OPERATOR PANEL PROBLEM</th>\n",
       "      <td>1</td>\n",
       "    </tr>\n",
       "    <tr>\n",
       "      <th>PNUMATIC UNIT</th>\n",
       "      <td>1</td>\n",
       "    </tr>\n",
       "    <tr>\n",
       "      <th>SECONDARY FILTER/COOLANT UNIT PROBLEM</th>\n",
       "      <td>1</td>\n",
       "    </tr>\n",
       "    <tr>\n",
       "      <th>SERVO MOTOR FAILURE</th>\n",
       "      <td>1</td>\n",
       "    </tr>\n",
       "    <tr>\n",
       "      <th rowspan=\"3\" valign=\"top\">VMC-2021</th>\n",
       "      <th rowspan=\"3\" valign=\"top\">VERTICAL MAC CENTRE</th>\n",
       "      <th>AUTO PALLET CHANGER PROBLEM</th>\n",
       "      <td>7</td>\n",
       "    </tr>\n",
       "    <tr>\n",
       "      <th>HYDRAULIC UNIT</th>\n",
       "      <td>2</td>\n",
       "    </tr>\n",
       "    <tr>\n",
       "      <th>LUBRICATION UNIT PROBLEM</th>\n",
       "      <td>1</td>\n",
       "    </tr>\n",
       "    <tr>\n",
       "      <th rowspan=\"4\" valign=\"top\">VMC-2022</th>\n",
       "      <th rowspan=\"4\" valign=\"top\">VERTICAL MAC CENTRE</th>\n",
       "      <th>AUTO TOOL CHANGE PROBLEM</th>\n",
       "      <td>1</td>\n",
       "    </tr>\n",
       "    <tr>\n",
       "      <th>OPERATOR PANEL PROBLEM</th>\n",
       "      <td>5</td>\n",
       "    </tr>\n",
       "    <tr>\n",
       "      <th>PNUMATIC UNIT</th>\n",
       "      <td>1</td>\n",
       "    </tr>\n",
       "    <tr>\n",
       "      <th>SPINDLE UNIT PROBLEM</th>\n",
       "      <td>1</td>\n",
       "    </tr>\n",
       "    <tr>\n",
       "      <th rowspan=\"3\" valign=\"top\">VMC-2023</th>\n",
       "      <th rowspan=\"3\" valign=\"top\">VERTICAL MAC CENTRE</th>\n",
       "      <th>AUTO TOOL CHANGE PROBLEM</th>\n",
       "      <td>3</td>\n",
       "    </tr>\n",
       "    <tr>\n",
       "      <th>SECONDARY FILTER/COOLANT UNIT PROBLEM</th>\n",
       "      <td>1</td>\n",
       "    </tr>\n",
       "    <tr>\n",
       "      <th>SPINDLE UNIT PROBLEM</th>\n",
       "      <td>2</td>\n",
       "    </tr>\n",
       "    <tr>\n",
       "      <th rowspan=\"10\" valign=\"top\">VMC-2024</th>\n",
       "      <th rowspan=\"10\" valign=\"top\">VERTICAL MAC CENTRE</th>\n",
       "      <th>AUTO PALLET CHANGER PROBLEM</th>\n",
       "      <td>7</td>\n",
       "    </tr>\n",
       "    <tr>\n",
       "      <th>AUTO TOOL CHANGE PROBLEM</th>\n",
       "      <td>1</td>\n",
       "    </tr>\n",
       "    <tr>\n",
       "      <th>B-AXIS PROBLEM</th>\n",
       "      <td>1</td>\n",
       "    </tr>\n",
       "    <tr>\n",
       "      <th>BROKEN TOOL SENSOR FAILURE</th>\n",
       "      <td>1</td>\n",
       "    </tr>\n",
       "    <tr>\n",
       "      <th>HYDRAULIC UNIT</th>\n",
       "      <td>3</td>\n",
       "    </tr>\n",
       "    <tr>\n",
       "      <th>LUBRICATION UNIT PROBLEM</th>\n",
       "      <td>1</td>\n",
       "    </tr>\n",
       "    <tr>\n",
       "      <th>OPERATOR PANEL PROBLEM</th>\n",
       "      <td>1</td>\n",
       "    </tr>\n",
       "    <tr>\n",
       "      <th>PANEL COOLER PROBLEM</th>\n",
       "      <td>1</td>\n",
       "    </tr>\n",
       "    <tr>\n",
       "      <th>SECONDARY FILTER/COOLANT UNIT PROBLEM</th>\n",
       "      <td>3</td>\n",
       "    </tr>\n",
       "    <tr>\n",
       "      <th>SERVO MOTOR FAILURE</th>\n",
       "      <td>1</td>\n",
       "    </tr>\n",
       "    <tr>\n",
       "      <th>VTL-2003</th>\n",
       "      <th>VERTICAL TURNING CENTRE</th>\n",
       "      <th>HYDRAULIC UNIT</th>\n",
       "      <td>1</td>\n",
       "    </tr>\n",
       "  </tbody>\n",
       "</table>\n",
       "</div>"
      ],
      "text/plain": [
       "                                                                                Failure\n",
       "Equipment_ID Sub. Category               Failure                                       \n",
       "HMC-2001     HORIZONTAL MACHINING CENTRE AUTO PALLET CHANGER PROBLEM                  1\n",
       "                                         AUTO TOOL CHANGE PROBLEM                     6\n",
       "                                         B-AXIS PROBLEM                               1\n",
       "                                         DRIVE CARD PROBLEM                           1\n",
       "                                         LUBRICATION UNIT PROBLEM                     1\n",
       "                                         PFM UNIT FAILURE                             1\n",
       "                                         PNUMATIC UNIT                                1\n",
       "HMC-2002     HORIZONTAL MACHINING CENTRE AUTO TOOL CHANGE PROBLEM                     2\n",
       "                                         BROKEN TOOL SENSOR FAILURE                   2\n",
       "                                         CHILLER UNIT FAILURE                         1\n",
       "                                         LUBRICATION UNIT PROBLEM                     1\n",
       "                                         MAGAZINE PROBLEM                             1\n",
       "                                         OPERATOR PANEL PROBLEM                       4\n",
       "                                         SECONDARY FILTER/COOLANT UNIT PROBLEM        1\n",
       "                                         SPINDLE UNIT PROBLEM                         2\n",
       "HMC-2003     HORIZONTAL MACHINING CENTRE AUTO PALLET CHANGER PROBLEM                  2\n",
       "                                         AUTO TOOL CHANGE PROBLEM                     2\n",
       "                                         ENCODER FAILURE                              1\n",
       "                                         HYDRAULIC UNIT                               1\n",
       "                                         LUBRICATION UNIT PROBLEM                     3\n",
       "                                         OPERATOR PANEL PROBLEM                       2\n",
       "                                         PANEL COOLER PROBLEM                         1\n",
       "                                         SECONDARY FILTER/COOLANT UNIT PROBLEM        1\n",
       "                                         SPINDLE UNIT PROBLEM                         2\n",
       "HMC-2004     HORIZONTAL MACHINING CENTRE AUTO PALLET CHANGER PROBLEM                  2\n",
       "                                         AUTO TOOL CHANGE PROBLEM                     1\n",
       "                                         BROKEN TOOL SENSOR FAILURE                   1\n",
       "                                         MAGAZINE PROBLEM                             3\n",
       "HTC-2004     HORIZONTAL TURNING CENTRE   ENCODER FAILURE                              1\n",
       "HTC-2006     HORIZONTAL TURNING CENTRE   DRIVE CARD PROBLEM                           1\n",
       "                                         OPERATOR PANEL PROBLEM                       1\n",
       "                                         SPINDLE UNIT PROBLEM                         1\n",
       "VMC-2004     VERTICAL MAC CENTRE         AUTO TOOL CHANGE PROBLEM                     2\n",
       "                                         SECONDARY FILTER/COOLANT UNIT PROBLEM        1\n",
       "VMC-2005     VERTICAL MAC CENTRE         AUTO TOOL CHANGE PROBLEM                     2\n",
       "                                         SECONDARY FILTER/COOLANT UNIT PROBLEM        2\n",
       "VMC-2006     VERTICAL MAC CENTRE         AUTO TOOL CHANGE PROBLEM                     5\n",
       "                                         PFM UNIT FAILURE                             1\n",
       "                                         SECONDARY FILTER/COOLANT UNIT PROBLEM        1\n",
       "VMC-2007     VERTICAL MAC CENTRE         ENCODER FAILURE                              2\n",
       "                                         SECONDARY FILTER/COOLANT UNIT PROBLEM        1\n",
       "VMC-2008     VERTICAL MAC CENTRE         SECONDARY FILTER/COOLANT UNIT PROBLEM        1\n",
       "VMC-2009     VERTICAL MAC CENTRE         AUTO PALLET CHANGER PROBLEM                  1\n",
       "                                         HYDRAULIC UNIT                               1\n",
       "                                         SECONDARY FILTER/COOLANT UNIT PROBLEM        1\n",
       "VMC-2010     VERTICAL MAC CENTRE         AUTO TOOL CHANGE PROBLEM                     2\n",
       "                                         SECONDARY FILTER/COOLANT UNIT PROBLEM        4\n",
       "                                         SERVO MOTOR FAILURE                          3\n",
       "VMC-2012     VERTICAL MAC CENTRE         AUTO TOOL CHANGE PROBLEM                     7\n",
       "                                         BROKEN TOOL SENSOR FAILURE                   1\n",
       "                                         CHIP CONVEYER PROBLEM                        2\n",
       "                                         LUBRICATION UNIT PROBLEM                     1\n",
       "                                         OPERATOR PANEL PROBLEM                       2\n",
       "                                         PNUMATIC UNIT                                3\n",
       "                                         SERVO MOTOR FAILURE                          1\n",
       "                                         SPINDLE UNIT PROBLEM                         1\n",
       "VMC-2013     VERTICAL MAC CENTRE         AUTO TOOL CHANGE PROBLEM                     1\n",
       "                                         SECONDARY FILTER/COOLANT UNIT PROBLEM        1\n",
       "VMC-2014     VERTICAL MAC CENTRE         LUBRICATION UNIT PROBLEM                     2\n",
       "                                         PFM UNIT FAILURE                             1\n",
       "                                         SECONDARY FILTER/COOLANT UNIT PROBLEM        1\n",
       "VMC-2015     VERTICAL MAC CENTRE         AUTO TOOL CHANGE PROBLEM                     1\n",
       "                                         B-AXIS PROBLEM                               1\n",
       "                                         PFM UNIT FAILURE                             1\n",
       "                                         SECONDARY FILTER/COOLANT UNIT PROBLEM        1\n",
       "                                         TELESCOPIC COVER PROBLEM                     2\n",
       "VMC-2017     VERTICAL MAC CENTRE         AUTO PALLET CHANGER PROBLEM                  2\n",
       "                                         AUTO TOOL CHANGE PROBLEM                     1\n",
       "VMC-2018     VERTICAL MAC CENTRE         AUTO TOOL CHANGE PROBLEM                     2\n",
       "                                         SPINDLE UNIT PROBLEM                         5\n",
       "VMC-2019     VERTICAL MAC CENTRE         AUTO TOOL CHANGE PROBLEM                     8\n",
       "                                         B-AXIS PROBLEM                               2\n",
       "                                         LUBRICATION UNIT PROBLEM                     2\n",
       "                                         OPERATOR PANEL PROBLEM                       1\n",
       "                                         PNUMATIC UNIT                                1\n",
       "                                         SECONDARY FILTER/COOLANT UNIT PROBLEM        1\n",
       "                                         SERVO MOTOR FAILURE                          1\n",
       "VMC-2021     VERTICAL MAC CENTRE         AUTO PALLET CHANGER PROBLEM                  7\n",
       "                                         HYDRAULIC UNIT                               2\n",
       "                                         LUBRICATION UNIT PROBLEM                     1\n",
       "VMC-2022     VERTICAL MAC CENTRE         AUTO TOOL CHANGE PROBLEM                     1\n",
       "                                         OPERATOR PANEL PROBLEM                       5\n",
       "                                         PNUMATIC UNIT                                1\n",
       "                                         SPINDLE UNIT PROBLEM                         1\n",
       "VMC-2023     VERTICAL MAC CENTRE         AUTO TOOL CHANGE PROBLEM                     3\n",
       "                                         SECONDARY FILTER/COOLANT UNIT PROBLEM        1\n",
       "                                         SPINDLE UNIT PROBLEM                         2\n",
       "VMC-2024     VERTICAL MAC CENTRE         AUTO PALLET CHANGER PROBLEM                  7\n",
       "                                         AUTO TOOL CHANGE PROBLEM                     1\n",
       "                                         B-AXIS PROBLEM                               1\n",
       "                                         BROKEN TOOL SENSOR FAILURE                   1\n",
       "                                         HYDRAULIC UNIT                               3\n",
       "                                         LUBRICATION UNIT PROBLEM                     1\n",
       "                                         OPERATOR PANEL PROBLEM                       1\n",
       "                                         PANEL COOLER PROBLEM                         1\n",
       "                                         SECONDARY FILTER/COOLANT UNIT PROBLEM        3\n",
       "                                         SERVO MOTOR FAILURE                          1\n",
       "VTL-2003     VERTICAL TURNING CENTRE     HYDRAULIC UNIT                               1"
      ]
     },
     "execution_count": 59,
     "metadata": {},
     "output_type": "execute_result"
    }
   ],
   "source": [
    "df_BDEI = df_BD.groupby(['Unit','Equipment_ID','Sub. Category','Failure'])[['Failure']].agg('count')\n",
    "df_BDEI.loc[unit]"
   ]
  },
  {
   "cell_type": "code",
   "execution_count": 32,
   "id": "e7e326aa",
   "metadata": {
    "scrolled": false
   },
   "outputs": [
    {
     "data": {
      "text/html": [
       "<div>\n",
       "<style scoped>\n",
       "    .dataframe tbody tr th:only-of-type {\n",
       "        vertical-align: middle;\n",
       "    }\n",
       "\n",
       "    .dataframe tbody tr th {\n",
       "        vertical-align: top;\n",
       "    }\n",
       "\n",
       "    .dataframe thead th {\n",
       "        text-align: right;\n",
       "    }\n",
       "</style>\n",
       "<table border=\"1\" class=\"dataframe\">\n",
       "  <thead>\n",
       "    <tr style=\"text-align: right;\">\n",
       "      <th></th>\n",
       "      <th></th>\n",
       "      <th></th>\n",
       "      <th>counts</th>\n",
       "    </tr>\n",
       "    <tr>\n",
       "      <th>Unit</th>\n",
       "      <th>Cat Desc.</th>\n",
       "      <th>Type</th>\n",
       "      <th></th>\n",
       "    </tr>\n",
       "  </thead>\n",
       "  <tbody>\n",
       "    <tr>\n",
       "      <th rowspan=\"6\" valign=\"top\">CBE</th>\n",
       "      <th>AIR COMPRESSING EQUIPMENTS</th>\n",
       "      <th>Preventive</th>\n",
       "      <td>2</td>\n",
       "    </tr>\n",
       "    <tr>\n",
       "      <th rowspan=\"2\" valign=\"top\">CNC MACHINES</th>\n",
       "      <th>Breakdown</th>\n",
       "      <td>183</td>\n",
       "    </tr>\n",
       "    <tr>\n",
       "      <th>Preventive</th>\n",
       "      <td>156</td>\n",
       "    </tr>\n",
       "    <tr>\n",
       "      <th>CONVENTIONAL MACHINES</th>\n",
       "      <th>Preventive</th>\n",
       "      <td>3</td>\n",
       "    </tr>\n",
       "    <tr>\n",
       "      <th>DIESEL GENSET</th>\n",
       "      <th>Preventive</th>\n",
       "      <td>2</td>\n",
       "    </tr>\n",
       "    <tr>\n",
       "      <th>METROLOGY EQUIPMENTS</th>\n",
       "      <th>Preventive</th>\n",
       "      <td>1</td>\n",
       "    </tr>\n",
       "    <tr>\n",
       "      <th rowspan=\"7\" valign=\"top\">CNR</th>\n",
       "      <th>AIR COMPRESSING EQUIPMENTS</th>\n",
       "      <th>Preventive</th>\n",
       "      <td>34</td>\n",
       "    </tr>\n",
       "    <tr>\n",
       "      <th rowspan=\"2\" valign=\"top\">CNC MACHINES</th>\n",
       "      <th>Breakdown</th>\n",
       "      <td>94</td>\n",
       "    </tr>\n",
       "    <tr>\n",
       "      <th>Preventive</th>\n",
       "      <td>183</td>\n",
       "    </tr>\n",
       "    <tr>\n",
       "      <th>CONVENTIONAL MACHINES</th>\n",
       "      <th>Preventive</th>\n",
       "      <td>140</td>\n",
       "    </tr>\n",
       "    <tr>\n",
       "      <th>DIESEL GENSET</th>\n",
       "      <th>Preventive</th>\n",
       "      <td>9</td>\n",
       "    </tr>\n",
       "    <tr>\n",
       "      <th>HIGH TENSION TRANSFORMERS</th>\n",
       "      <th>Preventive</th>\n",
       "      <td>9</td>\n",
       "    </tr>\n",
       "    <tr>\n",
       "      <th>METROLOGY EQUIPMENTS</th>\n",
       "      <th>Preventive</th>\n",
       "      <td>43</td>\n",
       "    </tr>\n",
       "    <tr>\n",
       "      <th rowspan=\"2\" valign=\"top\">HSR</th>\n",
       "      <th rowspan=\"2\" valign=\"top\">CNC MACHINES</th>\n",
       "      <th>Breakdown</th>\n",
       "      <td>205</td>\n",
       "    </tr>\n",
       "    <tr>\n",
       "      <th>Preventive</th>\n",
       "      <td>8</td>\n",
       "    </tr>\n",
       "    <tr>\n",
       "      <th rowspan=\"6\" valign=\"top\">PRI</th>\n",
       "      <th>AIR COMPRESSING EQUIPMENTS</th>\n",
       "      <th>Preventive</th>\n",
       "      <td>4</td>\n",
       "    </tr>\n",
       "    <tr>\n",
       "      <th rowspan=\"3\" valign=\"top\">CNC MACHINES</th>\n",
       "      <th>Breakdown</th>\n",
       "      <td>166</td>\n",
       "    </tr>\n",
       "    <tr>\n",
       "      <th>Preventive</th>\n",
       "      <td>448</td>\n",
       "    </tr>\n",
       "    <tr>\n",
       "      <th>Rebuild</th>\n",
       "      <td>3</td>\n",
       "    </tr>\n",
       "    <tr>\n",
       "      <th rowspan=\"2\" valign=\"top\">CONVENTIONAL MACHINES</th>\n",
       "      <th>Breakdown</th>\n",
       "      <td>11</td>\n",
       "    </tr>\n",
       "    <tr>\n",
       "      <th>Preventive</th>\n",
       "      <td>196</td>\n",
       "    </tr>\n",
       "    <tr>\n",
       "      <th rowspan=\"8\" valign=\"top\">RPT</th>\n",
       "      <th>AIR COMPRESSING EQUIPMENTS</th>\n",
       "      <th>Preventive</th>\n",
       "      <td>10</td>\n",
       "    </tr>\n",
       "    <tr>\n",
       "      <th rowspan=\"2\" valign=\"top\">CNC MACHINES</th>\n",
       "      <th>Breakdown</th>\n",
       "      <td>82</td>\n",
       "    </tr>\n",
       "    <tr>\n",
       "      <th>Preventive</th>\n",
       "      <td>45</td>\n",
       "    </tr>\n",
       "    <tr>\n",
       "      <th rowspan=\"2\" valign=\"top\">CONVENTIONAL MACHINES</th>\n",
       "      <th>Breakdown</th>\n",
       "      <td>25</td>\n",
       "    </tr>\n",
       "    <tr>\n",
       "      <th>Preventive</th>\n",
       "      <td>72</td>\n",
       "    </tr>\n",
       "    <tr>\n",
       "      <th>DIESEL GENSET</th>\n",
       "      <th>Preventive</th>\n",
       "      <td>4</td>\n",
       "    </tr>\n",
       "    <tr>\n",
       "      <th>HIGH TENSION TRANSFORMERS</th>\n",
       "      <th>Preventive</th>\n",
       "      <td>1</td>\n",
       "    </tr>\n",
       "    <tr>\n",
       "      <th>METROLOGY EQUIPMENTS</th>\n",
       "      <th>Preventive</th>\n",
       "      <td>1</td>\n",
       "    </tr>\n",
       "  </tbody>\n",
       "</table>\n",
       "</div>"
      ],
      "text/plain": [
       "                                            counts\n",
       "Unit Cat Desc.                  Type              \n",
       "CBE  AIR COMPRESSING EQUIPMENTS Preventive       2\n",
       "     CNC MACHINES               Breakdown      183\n",
       "                                Preventive     156\n",
       "     CONVENTIONAL MACHINES      Preventive       3\n",
       "     DIESEL GENSET              Preventive       2\n",
       "     METROLOGY EQUIPMENTS       Preventive       1\n",
       "CNR  AIR COMPRESSING EQUIPMENTS Preventive      34\n",
       "     CNC MACHINES               Breakdown       94\n",
       "                                Preventive     183\n",
       "     CONVENTIONAL MACHINES      Preventive     140\n",
       "     DIESEL GENSET              Preventive       9\n",
       "     HIGH TENSION TRANSFORMERS  Preventive       9\n",
       "     METROLOGY EQUIPMENTS       Preventive      43\n",
       "HSR  CNC MACHINES               Breakdown      205\n",
       "                                Preventive       8\n",
       "PRI  AIR COMPRESSING EQUIPMENTS Preventive       4\n",
       "     CNC MACHINES               Breakdown      166\n",
       "                                Preventive     448\n",
       "                                Rebuild          3\n",
       "     CONVENTIONAL MACHINES      Breakdown       11\n",
       "                                Preventive     196\n",
       "RPT  AIR COMPRESSING EQUIPMENTS Preventive      10\n",
       "     CNC MACHINES               Breakdown       82\n",
       "                                Preventive      45\n",
       "     CONVENTIONAL MACHINES      Breakdown       25\n",
       "                                Preventive      72\n",
       "     DIESEL GENSET              Preventive       4\n",
       "     HIGH TENSION TRANSFORMERS  Preventive       1\n",
       "     METROLOGY EQUIPMENTS       Preventive       1"
      ]
     },
     "execution_count": 32,
     "metadata": {},
     "output_type": "execute_result"
    }
   ],
   "source": [
    "df_ucdt = df.groupby(['Unit','Cat Desc.','Type'])[['Type']].agg('count')\n",
    "df_ucdt.columns = ['counts']\n",
    "df_ucdt"
   ]
  },
  {
   "cell_type": "code",
   "execution_count": 33,
   "id": "33d50b1a",
   "metadata": {},
   "outputs": [
    {
     "data": {
      "text/plain": [
       "Text(0.5, 1.0, 'Unit: CBE [ Cat Desc. | Events ]')"
      ]
     },
     "execution_count": 33,
     "metadata": {},
     "output_type": "execute_result"
    },
    {
     "data": {
      "image/png": "[encoded data removed]",
      "text/plain": [
       "<Figure size 1440x432 with 1 Axes>"
      ]
     },
     "metadata": {
      "needs_background": "light"
     },
     "output_type": "display_data"
    }
   ],
   "source": [
    "df_ucdt.loc[unit].unstack().plot(kind='bar', width=.8, figsize=(20,6), fontsize=10)\n",
    "plt.title('Unit: '+unit+' [ Cat Desc. | Events ]',fontsize=20)"
   ]
  },
  {
   "cell_type": "code",
   "execution_count": 34,
   "id": "4f708a2a",
   "metadata": {},
   "outputs": [
    {
     "data": {
      "text/plain": [
       "Text(0.5, 1.0, 'Unit: CBE [ Equipment_ID | Events ]')"
      ]
     },
     "execution_count": 34,
     "metadata": {},
     "output_type": "execute_result"
    },
    {
     "data": {
      "image/png": "[encoded data removed]",
      "text/plain": [
       "<Figure size 1440x432 with 1 Axes>"
      ]
     },
     "metadata": {
      "needs_background": "light"
     },
     "output_type": "display_data"
    }
   ],
   "source": [
    "df_uet.loc[unit].unstack().plot(kind='bar', width=.8, figsize=(20,6), fontsize=10)\n",
    "plt.title('Unit: '+unit+' [ Equipment_ID | Events ]',fontsize=15)"
   ]
  },
  {
   "cell_type": "code",
   "execution_count": 35,
   "id": "dc92b501",
   "metadata": {
    "scrolled": false
   },
   "outputs": [
    {
     "data": {
      "text/html": [
       "<div>\n",
       "<style scoped>\n",
       "    .dataframe tbody tr th:only-of-type {\n",
       "        vertical-align: middle;\n",
       "    }\n",
       "\n",
       "    .dataframe tbody tr th {\n",
       "        vertical-align: top;\n",
       "    }\n",
       "\n",
       "    .dataframe thead th {\n",
       "        text-align: right;\n",
       "    }\n",
       "</style>\n",
       "<table border=\"1\" class=\"dataframe\">\n",
       "  <thead>\n",
       "    <tr style=\"text-align: right;\">\n",
       "      <th></th>\n",
       "      <th></th>\n",
       "      <th></th>\n",
       "      <th></th>\n",
       "      <th>counts</th>\n",
       "    </tr>\n",
       "    <tr>\n",
       "      <th>Unit</th>\n",
       "      <th>Sub. Category</th>\n",
       "      <th>Equipment_ID</th>\n",
       "      <th>Type</th>\n",
       "      <th></th>\n",
       "    </tr>\n",
       "  </thead>\n",
       "  <tbody>\n",
       "    <tr>\n",
       "      <th rowspan=\"5\" valign=\"top\">CBE</th>\n",
       "      <th rowspan=\"2\" valign=\"top\">AIR COMPRESSOR</th>\n",
       "      <th>CP-2001</th>\n",
       "      <th>Preventive</th>\n",
       "      <td>1</td>\n",
       "    </tr>\n",
       "    <tr>\n",
       "      <th>CP-2002</th>\n",
       "      <th>Preventive</th>\n",
       "      <td>1</td>\n",
       "    </tr>\n",
       "    <tr>\n",
       "      <th>DIESEL GENSET</th>\n",
       "      <th>GS-2001</th>\n",
       "      <th>Preventive</th>\n",
       "      <td>2</td>\n",
       "    </tr>\n",
       "    <tr>\n",
       "      <th>HEIGHT MASTER</th>\n",
       "      <th>HM-2001</th>\n",
       "      <th>Preventive</th>\n",
       "      <td>1</td>\n",
       "    </tr>\n",
       "    <tr>\n",
       "      <th>HORIZONTAL MACHINING CENTRE</th>\n",
       "      <th>HMC-2001</th>\n",
       "      <th>Breakdown</th>\n",
       "      <td>12</td>\n",
       "    </tr>\n",
       "    <tr>\n",
       "      <th>...</th>\n",
       "      <th>...</th>\n",
       "      <th>...</th>\n",
       "      <th>...</th>\n",
       "      <td>...</td>\n",
       "    </tr>\n",
       "    <tr>\n",
       "      <th rowspan=\"5\" valign=\"top\">RPT</th>\n",
       "      <th>MILLING MACHINE</th>\n",
       "      <th>RGB-6002</th>\n",
       "      <th>Preventive</th>\n",
       "      <td>10</td>\n",
       "    </tr>\n",
       "    <tr>\n",
       "      <th rowspan=\"4\" valign=\"top\">OTHER EQUIPMENT</th>\n",
       "      <th>FGB-6002</th>\n",
       "      <th>Preventive</th>\n",
       "      <td>5</td>\n",
       "    </tr>\n",
       "    <tr>\n",
       "      <th>RGB-6003</th>\n",
       "      <th>Preventive</th>\n",
       "      <td>1</td>\n",
       "    </tr>\n",
       "    <tr>\n",
       "      <th>SWG-6001</th>\n",
       "      <th>Preventive</th>\n",
       "      <td>9</td>\n",
       "    </tr>\n",
       "    <tr>\n",
       "      <th>WS-6001</th>\n",
       "      <th>Preventive</th>\n",
       "      <td>9</td>\n",
       "    </tr>\n",
       "  </tbody>\n",
       "</table>\n",
       "<p>300 rows × 1 columns</p>\n",
       "</div>"
      ],
      "text/plain": [
       "                                                          counts\n",
       "Unit Sub. Category               Equipment_ID Type              \n",
       "CBE  AIR COMPRESSOR              CP-2001      Preventive       1\n",
       "                                 CP-2002      Preventive       1\n",
       "     DIESEL GENSET               GS-2001      Preventive       2\n",
       "     HEIGHT MASTER               HM-2001      Preventive       1\n",
       "     HORIZONTAL MACHINING CENTRE HMC-2001     Breakdown       12\n",
       "...                                                          ...\n",
       "RPT  MILLING MACHINE             RGB-6002     Preventive      10\n",
       "     OTHER EQUIPMENT             FGB-6002     Preventive       5\n",
       "                                 RGB-6003     Preventive       1\n",
       "                                 SWG-6001     Preventive       9\n",
       "                                 WS-6001      Preventive       9\n",
       "\n",
       "[300 rows x 1 columns]"
      ]
     },
     "execution_count": 35,
     "metadata": {},
     "output_type": "execute_result"
    }
   ],
   "source": [
    "df_uscet = df.groupby(['Unit','Sub. Category','Equipment_ID','Type'])[['Type']].agg('count')\n",
    "df_uscet.columns = ['counts']\n",
    "df_uscet"
   ]
  },
  {
   "cell_type": "code",
   "execution_count": 36,
   "id": "ab71acfb",
   "metadata": {
    "scrolled": false
   },
   "outputs": [
    {
     "data": {
      "text/plain": [
       "Text(0.5, 1.0, 'Unit: CBE [ Sub. Category | Equipment_ID | Events ]')"
      ]
     },
     "execution_count": 36,
     "metadata": {},
     "output_type": "execute_result"
    },
    {
     "data": {
      "image/png": "[encoded data removed]",
      "text/plain": [
       "<Figure size 1440x432 with 1 Axes>"
      ]
     },
     "metadata": {
      "needs_background": "light"
     },
     "output_type": "display_data"
    }
   ],
   "source": [
    "df_uscet.loc[unit].unstack().plot(kind='bar', width=.8, figsize=(20,6), fontsize=13)\n",
    "plt.title('Unit: '+unit+' [ Sub. Category | Equipment_ID | Events ]',fontsize=15)"
   ]
  },
  {
   "cell_type": "code",
   "execution_count": 37,
   "id": "62873a3e",
   "metadata": {},
   "outputs": [
    {
     "data": {
      "text/html": [
       "<div>\n",
       "<style scoped>\n",
       "    .dataframe tbody tr th:only-of-type {\n",
       "        vertical-align: middle;\n",
       "    }\n",
       "\n",
       "    .dataframe tbody tr th {\n",
       "        vertical-align: top;\n",
       "    }\n",
       "\n",
       "    .dataframe thead th {\n",
       "        text-align: right;\n",
       "    }\n",
       "</style>\n",
       "<table border=\"1\" class=\"dataframe\">\n",
       "  <thead>\n",
       "    <tr style=\"text-align: right;\">\n",
       "      <th></th>\n",
       "      <th></th>\n",
       "      <th></th>\n",
       "      <th></th>\n",
       "      <th></th>\n",
       "      <th>counts</th>\n",
       "    </tr>\n",
       "    <tr>\n",
       "      <th>Unit</th>\n",
       "      <th>Cat Desc.</th>\n",
       "      <th>Sub. Category</th>\n",
       "      <th>Equipment_ID</th>\n",
       "      <th>Type</th>\n",
       "      <th></th>\n",
       "    </tr>\n",
       "  </thead>\n",
       "  <tbody>\n",
       "    <tr>\n",
       "      <th rowspan=\"5\" valign=\"top\">CBE</th>\n",
       "      <th rowspan=\"2\" valign=\"top\">AIR COMPRESSING EQUIPMENTS</th>\n",
       "      <th rowspan=\"2\" valign=\"top\">AIR COMPRESSOR</th>\n",
       "      <th>CP-2001</th>\n",
       "      <th>Preventive</th>\n",
       "      <td>1</td>\n",
       "    </tr>\n",
       "    <tr>\n",
       "      <th>CP-2002</th>\n",
       "      <th>Preventive</th>\n",
       "      <td>1</td>\n",
       "    </tr>\n",
       "    <tr>\n",
       "      <th rowspan=\"3\" valign=\"top\">CNC MACHINES</th>\n",
       "      <th rowspan=\"3\" valign=\"top\">HORIZONTAL MACHINING CENTRE</th>\n",
       "      <th rowspan=\"2\" valign=\"top\">HMC-2001</th>\n",
       "      <th>Breakdown</th>\n",
       "      <td>12</td>\n",
       "    </tr>\n",
       "    <tr>\n",
       "      <th>Preventive</th>\n",
       "      <td>4</td>\n",
       "    </tr>\n",
       "    <tr>\n",
       "      <th>HMC-2002</th>\n",
       "      <th>Breakdown</th>\n",
       "      <td>14</td>\n",
       "    </tr>\n",
       "    <tr>\n",
       "      <th>...</th>\n",
       "      <th>...</th>\n",
       "      <th>...</th>\n",
       "      <th>...</th>\n",
       "      <th>...</th>\n",
       "      <td>...</td>\n",
       "    </tr>\n",
       "    <tr>\n",
       "      <th rowspan=\"5\" valign=\"top\">RPT</th>\n",
       "      <th rowspan=\"2\" valign=\"top\">CONVENTIONAL MACHINES</th>\n",
       "      <th rowspan=\"2\" valign=\"top\">OTHER EQUIPMENT</th>\n",
       "      <th>SWG-6001</th>\n",
       "      <th>Preventive</th>\n",
       "      <td>9</td>\n",
       "    </tr>\n",
       "    <tr>\n",
       "      <th>WS-6001</th>\n",
       "      <th>Preventive</th>\n",
       "      <td>9</td>\n",
       "    </tr>\n",
       "    <tr>\n",
       "      <th>DIESEL GENSET</th>\n",
       "      <th>DIESEL GENSET</th>\n",
       "      <th>GS-6001</th>\n",
       "      <th>Preventive</th>\n",
       "      <td>4</td>\n",
       "    </tr>\n",
       "    <tr>\n",
       "      <th>HIGH TENSION TRANSFORMERS</th>\n",
       "      <th>HIGH TENSION TRANSFORMERS</th>\n",
       "      <th>HT-6001</th>\n",
       "      <th>Preventive</th>\n",
       "      <td>1</td>\n",
       "    </tr>\n",
       "    <tr>\n",
       "      <th>METROLOGY EQUIPMENTS</th>\n",
       "      <th>COORDINATE MEASURING MACHINE</th>\n",
       "      <th>CMM-6001</th>\n",
       "      <th>Preventive</th>\n",
       "      <td>1</td>\n",
       "    </tr>\n",
       "  </tbody>\n",
       "</table>\n",
       "<p>300 rows × 1 columns</p>\n",
       "</div>"
      ],
      "text/plain": [
       "                                                                                      counts\n",
       "Unit Cat Desc.                  Sub. Category                Equipment_ID Type              \n",
       "CBE  AIR COMPRESSING EQUIPMENTS AIR COMPRESSOR               CP-2001      Preventive       1\n",
       "                                                             CP-2002      Preventive       1\n",
       "     CNC MACHINES               HORIZONTAL MACHINING CENTRE  HMC-2001     Breakdown       12\n",
       "                                                                          Preventive       4\n",
       "                                                             HMC-2002     Breakdown       14\n",
       "...                                                                                      ...\n",
       "RPT  CONVENTIONAL MACHINES      OTHER EQUIPMENT              SWG-6001     Preventive       9\n",
       "                                                             WS-6001      Preventive       9\n",
       "     DIESEL GENSET              DIESEL GENSET                GS-6001      Preventive       4\n",
       "     HIGH TENSION TRANSFORMERS  HIGH TENSION TRANSFORMERS    HT-6001      Preventive       1\n",
       "     METROLOGY EQUIPMENTS       COORDINATE MEASURING MACHINE CMM-6001     Preventive       1\n",
       "\n",
       "[300 rows x 1 columns]"
      ]
     },
     "execution_count": 37,
     "metadata": {},
     "output_type": "execute_result"
    }
   ],
   "source": [
    "df_ucdscet = df.groupby(['Unit','Cat Desc.','Sub. Category','Equipment_ID','Type'])[['Type']].agg('count')\n",
    "df_ucdscet.columns = ['counts']\n",
    "df_ucdscet"
   ]
  },
  {
   "cell_type": "code",
   "execution_count": 38,
   "id": "6b0e1335",
   "metadata": {},
   "outputs": [
    {
     "data": {
      "text/plain": [
       "Text(0.5, 1.0, 'Unit: CBE [ Cat Desc. | Sub. Category | Equipment_ID | Events ]')"
      ]
     },
     "execution_count": 38,
     "metadata": {},
     "output_type": "execute_result"
    },
    {
     "data": {
      "image/png": "[encoded data removed]",
      "text/plain": [
       "<Figure size 1440x432 with 1 Axes>"
      ]
     },
     "metadata": {
      "needs_background": "light"
     },
     "output_type": "display_data"
    }
   ],
   "source": [
    "df_ucdscet.loc[unit].unstack().plot(kind='bar', width=.8, figsize=(20,6), fontsize=10)\n",
    "plt.title('Unit: '+unit+' [ Cat Desc. | Sub. Category | Equipment_ID | Events ]',fontsize=15)"
   ]
  },
  {
   "cell_type": "code",
   "execution_count": 39,
   "id": "57f8cd08",
   "metadata": {},
   "outputs": [
    {
     "data": {
      "text/html": [
       "<div>\n",
       "<style scoped>\n",
       "    .dataframe tbody tr th:only-of-type {\n",
       "        vertical-align: middle;\n",
       "    }\n",
       "\n",
       "    .dataframe tbody tr th {\n",
       "        vertical-align: top;\n",
       "    }\n",
       "\n",
       "    .dataframe thead th {\n",
       "        text-align: right;\n",
       "    }\n",
       "</style>\n",
       "<table border=\"1\" class=\"dataframe\">\n",
       "  <thead>\n",
       "    <tr style=\"text-align: right;\">\n",
       "      <th></th>\n",
       "      <th></th>\n",
       "      <th></th>\n",
       "      <th></th>\n",
       "      <th>counts</th>\n",
       "    </tr>\n",
       "    <tr>\n",
       "      <th>Unit</th>\n",
       "      <th>Cat Desc.</th>\n",
       "      <th>Equipment_ID</th>\n",
       "      <th>Type</th>\n",
       "      <th></th>\n",
       "    </tr>\n",
       "  </thead>\n",
       "  <tbody>\n",
       "    <tr>\n",
       "      <th rowspan=\"5\" valign=\"top\">CBE</th>\n",
       "      <th rowspan=\"2\" valign=\"top\">AIR COMPRESSING EQUIPMENTS</th>\n",
       "      <th>CP-2001</th>\n",
       "      <th>Preventive</th>\n",
       "      <td>1</td>\n",
       "    </tr>\n",
       "    <tr>\n",
       "      <th>CP-2002</th>\n",
       "      <th>Preventive</th>\n",
       "      <td>1</td>\n",
       "    </tr>\n",
       "    <tr>\n",
       "      <th rowspan=\"3\" valign=\"top\">CNC MACHINES</th>\n",
       "      <th rowspan=\"2\" valign=\"top\">HMC-2001</th>\n",
       "      <th>Breakdown</th>\n",
       "      <td>12</td>\n",
       "    </tr>\n",
       "    <tr>\n",
       "      <th>Preventive</th>\n",
       "      <td>4</td>\n",
       "    </tr>\n",
       "    <tr>\n",
       "      <th>HMC-2002</th>\n",
       "      <th>Breakdown</th>\n",
       "      <td>14</td>\n",
       "    </tr>\n",
       "    <tr>\n",
       "      <th>...</th>\n",
       "      <th>...</th>\n",
       "      <th>...</th>\n",
       "      <th>...</th>\n",
       "      <td>...</td>\n",
       "    </tr>\n",
       "    <tr>\n",
       "      <th rowspan=\"5\" valign=\"top\">RPT</th>\n",
       "      <th rowspan=\"2\" valign=\"top\">CONVENTIONAL MACHINES</th>\n",
       "      <th>SWG-6001</th>\n",
       "      <th>Preventive</th>\n",
       "      <td>9</td>\n",
       "    </tr>\n",
       "    <tr>\n",
       "      <th>WS-6001</th>\n",
       "      <th>Preventive</th>\n",
       "      <td>9</td>\n",
       "    </tr>\n",
       "    <tr>\n",
       "      <th>DIESEL GENSET</th>\n",
       "      <th>GS-6001</th>\n",
       "      <th>Preventive</th>\n",
       "      <td>4</td>\n",
       "    </tr>\n",
       "    <tr>\n",
       "      <th>HIGH TENSION TRANSFORMERS</th>\n",
       "      <th>HT-6001</th>\n",
       "      <th>Preventive</th>\n",
       "      <td>1</td>\n",
       "    </tr>\n",
       "    <tr>\n",
       "      <th>METROLOGY EQUIPMENTS</th>\n",
       "      <th>CMM-6001</th>\n",
       "      <th>Preventive</th>\n",
       "      <td>1</td>\n",
       "    </tr>\n",
       "  </tbody>\n",
       "</table>\n",
       "<p>300 rows × 1 columns</p>\n",
       "</div>"
      ],
      "text/plain": [
       "                                                         counts\n",
       "Unit Cat Desc.                  Equipment_ID Type              \n",
       "CBE  AIR COMPRESSING EQUIPMENTS CP-2001      Preventive       1\n",
       "                                CP-2002      Preventive       1\n",
       "     CNC MACHINES               HMC-2001     Breakdown       12\n",
       "                                             Preventive       4\n",
       "                                HMC-2002     Breakdown       14\n",
       "...                                                         ...\n",
       "RPT  CONVENTIONAL MACHINES      SWG-6001     Preventive       9\n",
       "                                WS-6001      Preventive       9\n",
       "     DIESEL GENSET              GS-6001      Preventive       4\n",
       "     HIGH TENSION TRANSFORMERS  HT-6001      Preventive       1\n",
       "     METROLOGY EQUIPMENTS       CMM-6001     Preventive       1\n",
       "\n",
       "[300 rows x 1 columns]"
      ]
     },
     "execution_count": 39,
     "metadata": {},
     "output_type": "execute_result"
    }
   ],
   "source": [
    "df_ucdet = df.groupby(['Unit','Cat Desc.','Equipment_ID','Type'])[['Type']].agg('count')\n",
    "df_ucdet.columns = ['counts']\n",
    "df_ucdet"
   ]
  },
  {
   "cell_type": "code",
   "execution_count": 40,
   "id": "e739ccf3",
   "metadata": {},
   "outputs": [
    {
     "data": {
      "text/plain": [
       "Text(0.5, 1.0, 'Unit: CBE [ Cat Desc. | Equipment_ID | Events ]')"
      ]
     },
     "execution_count": 40,
     "metadata": {},
     "output_type": "execute_result"
    },
    {
     "data": {
      "image/png": "[encoded data removed]",
      "text/plain": [
       "<Figure size 1440x432 with 1 Axes>"
      ]
     },
     "metadata": {
      "needs_background": "light"
     },
     "output_type": "display_data"
    }
   ],
   "source": [
    "df_ucdet.loc[unit].unstack().plot(kind='bar', width=.8, figsize=(20,6), fontsize=10)\n",
    "plt.title('Unit: '+unit+' [ Cat Desc. | Equipment_ID | Events ]',fontsize=15)"
   ]
  },
  {
   "cell_type": "code",
   "execution_count": 41,
   "id": "977ff495",
   "metadata": {},
   "outputs": [
    {
     "data": {
      "text/plain": [
       "MAKINO        392\n",
       "AMS           203\n",
       "DOOSAN        174\n",
       "MAZAK         139\n",
       "MORI-SEIKI     94\n",
       "HELLER         92\n",
       "HWACHEON       81\n",
       "HMT            79\n",
       "Name: Make, dtype: int64"
      ]
     },
     "execution_count": 41,
     "metadata": {},
     "output_type": "execute_result"
    }
   ],
   "source": [
    "df.Make.value_counts().head(8)"
   ]
  },
  {
   "cell_type": "code",
   "execution_count": 42,
   "id": "fbe1d33b",
   "metadata": {},
   "outputs": [
    {
     "data": {
      "text/html": [
       "<div>\n",
       "<style scoped>\n",
       "    .dataframe tbody tr th:only-of-type {\n",
       "        vertical-align: middle;\n",
       "    }\n",
       "\n",
       "    .dataframe tbody tr th {\n",
       "        vertical-align: top;\n",
       "    }\n",
       "\n",
       "    .dataframe thead th {\n",
       "        text-align: right;\n",
       "    }\n",
       "</style>\n",
       "<table border=\"1\" class=\"dataframe\">\n",
       "  <thead>\n",
       "    <tr style=\"text-align: right;\">\n",
       "      <th></th>\n",
       "      <th></th>\n",
       "      <th></th>\n",
       "      <th>counts</th>\n",
       "    </tr>\n",
       "    <tr>\n",
       "      <th>Unit</th>\n",
       "      <th>Make</th>\n",
       "      <th>Type</th>\n",
       "      <th></th>\n",
       "    </tr>\n",
       "  </thead>\n",
       "  <tbody>\n",
       "    <tr>\n",
       "      <th rowspan=\"5\" valign=\"top\">CBE</th>\n",
       "      <th rowspan=\"2\" valign=\"top\">AMS</th>\n",
       "      <th>Breakdown</th>\n",
       "      <td>75</td>\n",
       "    </tr>\n",
       "    <tr>\n",
       "      <th>Preventive</th>\n",
       "      <td>37</td>\n",
       "    </tr>\n",
       "    <tr>\n",
       "      <th>ASKAR MICRON</th>\n",
       "      <th>Preventive</th>\n",
       "      <td>2</td>\n",
       "    </tr>\n",
       "    <tr>\n",
       "      <th>ATLAS COPCO</th>\n",
       "      <th>Preventive</th>\n",
       "      <td>1</td>\n",
       "    </tr>\n",
       "    <tr>\n",
       "      <th>CLEANTECH</th>\n",
       "      <th>Preventive</th>\n",
       "      <td>3</td>\n",
       "    </tr>\n",
       "    <tr>\n",
       "      <th>...</th>\n",
       "      <th>...</th>\n",
       "      <th>...</th>\n",
       "      <td>...</td>\n",
       "    </tr>\n",
       "    <tr>\n",
       "      <th rowspan=\"5\" valign=\"top\">RPT</th>\n",
       "      <th>PENTAGON</th>\n",
       "      <th>Preventive</th>\n",
       "      <td>21</td>\n",
       "    </tr>\n",
       "    <tr>\n",
       "      <th>PREMIER</th>\n",
       "      <th>Preventive</th>\n",
       "      <td>2</td>\n",
       "    </tr>\n",
       "    <tr>\n",
       "      <th rowspan=\"2\" valign=\"top\">SUNKAP</th>\n",
       "      <th>Breakdown</th>\n",
       "      <td>3</td>\n",
       "    </tr>\n",
       "    <tr>\n",
       "      <th>Preventive</th>\n",
       "      <td>9</td>\n",
       "    </tr>\n",
       "    <tr>\n",
       "      <th>WASHING MACHINE</th>\n",
       "      <th>Preventive</th>\n",
       "      <td>9</td>\n",
       "    </tr>\n",
       "  </tbody>\n",
       "</table>\n",
       "<p>132 rows × 1 columns</p>\n",
       "</div>"
      ],
      "text/plain": [
       "                                 counts\n",
       "Unit Make            Type              \n",
       "CBE  AMS             Breakdown       75\n",
       "                     Preventive      37\n",
       "     ASKAR MICRON    Preventive       2\n",
       "     ATLAS COPCO     Preventive       1\n",
       "     CLEANTECH       Preventive       3\n",
       "...                                 ...\n",
       "RPT  PENTAGON        Preventive      21\n",
       "     PREMIER         Preventive       2\n",
       "     SUNKAP          Breakdown        3\n",
       "                     Preventive       9\n",
       "     WASHING MACHINE Preventive       9\n",
       "\n",
       "[132 rows x 1 columns]"
      ]
     },
     "execution_count": 42,
     "metadata": {},
     "output_type": "execute_result"
    }
   ],
   "source": [
    "df_umt = df.groupby(['Unit','Make','Type'])[['Type']].agg('count')\n",
    "df_umt.columns = ['counts']\n",
    "df_umt"
   ]
  },
  {
   "cell_type": "code",
   "execution_count": 43,
   "id": "9ad54eb2",
   "metadata": {},
   "outputs": [
    {
     "data": {
      "text/plain": [
       "Text(0.5, 1.0, 'Unit: CBE [ Make | Events ]')"
      ]
     },
     "execution_count": 43,
     "metadata": {},
     "output_type": "execute_result"
    },
    {
     "data": {
      "image/png": "[encoded data removed]",
      "text/plain": [
       "<Figure size 1440x432 with 1 Axes>"
      ]
     },
     "metadata": {
      "needs_background": "light"
     },
     "output_type": "display_data"
    }
   ],
   "source": [
    "df_umt.loc[unit].unstack(level=1).plot(kind='bar', width=.8, figsize=(20,6), fontsize=13)\n",
    "plt.title('Unit: '+unit+' [ Make | Events ]',fontsize=15)"
   ]
  },
  {
   "cell_type": "code",
   "execution_count": 44,
   "id": "8b9f2ea1",
   "metadata": {},
   "outputs": [
    {
     "data": {
      "text/plain": [
       "Text(0.5, 1.0, 'Unit: CBE [ Make | Events ]')"
      ]
     },
     "execution_count": 44,
     "metadata": {},
     "output_type": "execute_result"
    },
    {
     "data": {
      "image/png": "[encoded data removed]",
      "text/plain": [
       "<Figure size 1440x432 with 1 Axes>"
      ]
     },
     "metadata": {
      "needs_background": "light"
     },
     "output_type": "display_data"
    }
   ],
   "source": [
    "df_umt.loc[unit].unstack(level=0).plot(kind='bar', width=.8, figsize=(20,6), fontsize=13)\n",
    "plt.title('Unit: '+unit+' [ Make | Events ]',fontsize=15)"
   ]
  },
  {
   "cell_type": "code",
   "execution_count": 45,
   "id": "6dfb88d2",
   "metadata": {},
   "outputs": [
    {
     "data": {
      "text/plain": [
       "A81         123\n",
       "VC-510       95\n",
       "A81NX        77\n",
       "MCH-280      67\n",
       "MCV-550L     66\n",
       "           ... \n",
       "1000L         1\n",
       "V5L           1\n",
       "E45-10        1\n",
       "GA45VSD+      1\n",
       "HV3-18        1\n",
       "Name: Model, Length: 124, dtype: int64"
      ]
     },
     "execution_count": 45,
     "metadata": {},
     "output_type": "execute_result"
    }
   ],
   "source": [
    "df.Model.value_counts()"
   ]
  },
  {
   "cell_type": "code",
   "execution_count": 46,
   "id": "8fbf238e",
   "metadata": {},
   "outputs": [
    {
     "data": {
      "text/html": [
       "<div>\n",
       "<style scoped>\n",
       "    .dataframe tbody tr th:only-of-type {\n",
       "        vertical-align: middle;\n",
       "    }\n",
       "\n",
       "    .dataframe tbody tr th {\n",
       "        vertical-align: top;\n",
       "    }\n",
       "\n",
       "    .dataframe thead th {\n",
       "        text-align: right;\n",
       "    }\n",
       "</style>\n",
       "<table border=\"1\" class=\"dataframe\">\n",
       "  <thead>\n",
       "    <tr style=\"text-align: right;\">\n",
       "      <th></th>\n",
       "      <th></th>\n",
       "      <th></th>\n",
       "      <th></th>\n",
       "      <th>counts</th>\n",
       "    </tr>\n",
       "    <tr>\n",
       "      <th>Unit</th>\n",
       "      <th>Make</th>\n",
       "      <th>Model</th>\n",
       "      <th>Type</th>\n",
       "      <th></th>\n",
       "    </tr>\n",
       "  </thead>\n",
       "  <tbody>\n",
       "    <tr>\n",
       "      <th rowspan=\"5\" valign=\"top\">CBE</th>\n",
       "      <th rowspan=\"5\" valign=\"top\">AMS</th>\n",
       "      <th rowspan=\"2\" valign=\"top\">ACER</th>\n",
       "      <th>Breakdown</th>\n",
       "      <td>16</td>\n",
       "    </tr>\n",
       "    <tr>\n",
       "      <th>Preventive</th>\n",
       "      <td>6</td>\n",
       "    </tr>\n",
       "    <tr>\n",
       "      <th rowspan=\"2\" valign=\"top\">MCV-550L</th>\n",
       "      <th>Breakdown</th>\n",
       "      <td>38</td>\n",
       "    </tr>\n",
       "    <tr>\n",
       "      <th>Preventive</th>\n",
       "      <td>19</td>\n",
       "    </tr>\n",
       "    <tr>\n",
       "      <th>MCV-650L</th>\n",
       "      <th>Breakdown</th>\n",
       "      <td>21</td>\n",
       "    </tr>\n",
       "    <tr>\n",
       "      <th>...</th>\n",
       "      <th>...</th>\n",
       "      <th>...</th>\n",
       "      <th>...</th>\n",
       "      <td>...</td>\n",
       "    </tr>\n",
       "    <tr>\n",
       "      <th rowspan=\"5\" valign=\"top\">RPT</th>\n",
       "      <th rowspan=\"2\" valign=\"top\">PREMIER</th>\n",
       "      <th>PE-VAR-2000L</th>\n",
       "      <th>Preventive</th>\n",
       "      <td>1</td>\n",
       "    </tr>\n",
       "    <tr>\n",
       "      <th>PE-VAR-250L</th>\n",
       "      <th>Preventive</th>\n",
       "      <td>1</td>\n",
       "    </tr>\n",
       "    <tr>\n",
       "      <th rowspan=\"2\" valign=\"top\">SUNKAP</th>\n",
       "      <th rowspan=\"2\" valign=\"top\">SPM</th>\n",
       "      <th>Breakdown</th>\n",
       "      <td>3</td>\n",
       "    </tr>\n",
       "    <tr>\n",
       "      <th>Preventive</th>\n",
       "      <td>9</td>\n",
       "    </tr>\n",
       "    <tr>\n",
       "      <th>WASHING MACHINE</th>\n",
       "      <th>SPM</th>\n",
       "      <th>Preventive</th>\n",
       "      <td>9</td>\n",
       "    </tr>\n",
       "  </tbody>\n",
       "</table>\n",
       "<p>221 rows × 1 columns</p>\n",
       "</div>"
      ],
      "text/plain": [
       "                                              counts\n",
       "Unit Make            Model        Type              \n",
       "CBE  AMS             ACER         Breakdown       16\n",
       "                                  Preventive       6\n",
       "                     MCV-550L     Breakdown       38\n",
       "                                  Preventive      19\n",
       "                     MCV-650L     Breakdown       21\n",
       "...                                              ...\n",
       "RPT  PREMIER         PE-VAR-2000L Preventive       1\n",
       "                     PE-VAR-250L  Preventive       1\n",
       "     SUNKAP          SPM          Breakdown        3\n",
       "                                  Preventive       9\n",
       "     WASHING MACHINE SPM          Preventive       9\n",
       "\n",
       "[221 rows x 1 columns]"
      ]
     },
     "execution_count": 46,
     "metadata": {},
     "output_type": "execute_result"
    }
   ],
   "source": [
    "df_ummt = df.groupby(['Unit','Make','Model','Type'])[['Type']].agg('count')\n",
    "df_ummt.columns = ['counts']\n",
    "df_ummt"
   ]
  },
  {
   "cell_type": "code",
   "execution_count": 47,
   "id": "9521db05",
   "metadata": {},
   "outputs": [
    {
     "data": {
      "text/plain": [
       "Text(0.5, 1.0, 'Unit: CBE [ Make | Model | Events ]')"
      ]
     },
     "execution_count": 47,
     "metadata": {},
     "output_type": "execute_result"
    },
    {
     "data": {
      "image/png": "[encoded data removed]",
      "text/plain": [
       "<Figure size 1440x432 with 1 Axes>"
      ]
     },
     "metadata": {
      "needs_background": "light"
     },
     "output_type": "display_data"
    }
   ],
   "source": [
    "df_ummt.loc[unit].unstack().plot(kind='bar', stacked=False, width=.8, figsize=(20,6), fontsize=13)\n",
    "plt.title('Unit: '+unit+' [ Make | Model | Events ]',fontsize=15)"
   ]
  },
  {
   "cell_type": "code",
   "execution_count": 2,
   "id": "4b4ccb9e",
   "metadata": {},
   "outputs": [
    {
     "name": "stdout",
     "output_type": "stream",
     "text": [
      "[1, 2] False\n",
      "[4, 5, 6] True\n",
      "[10] False\n",
      "[15, 16, 17, 18] True\n",
      "[22] False\n",
      "[25, 26, 27, 28] True\n",
      "[30] False\n"
     ]
    }
   ],
   "source": [
    "from itertools import groupby\n",
    "data = [ 1,2,4,5,6,10,15,16,17,18,22,25,26,27,28,30]\n",
    "\n",
    "for k, g in groupby(enumerate(data), lambda i: i[0] - i[1]):\n",
    "    x = list(dict(g).values())\n",
    "    if len(x) >= 3:\n",
    "        print(x,bool(x))\n",
    "    elif len(x) < 3:\n",
    "        print(x,'False')"
   ]
  },
  {
   "cell_type": "code",
   "execution_count": 3,
   "id": "b075d3a3",
   "metadata": {},
   "outputs": [
    {
     "name": "stdout",
     "output_type": "stream",
     "text": [
      "True\n"
     ]
    }
   ],
   "source": [
    "def checkConsecutive(l):\n",
    "    return sorted(l) == list(range(min(l), max(l)+1))\n",
    "\n",
    "lst = [2, 3, 1, 4, 5]\n",
    "print(checkConsecutive(lst))"
   ]
  }
 ],
 "metadata": {
  "kernelspec": {
   "display_name": "Python 3 (ipykernel)",
   "language": "python",
   "name": "python3"
  },
  "language_info": {
   "codemirror_mode": {
    "name": "ipython",
    "version": 3
   },
   "file_extension": ".py",
   "mimetype": "text/x-python",
   "name": "python",
   "nbconvert_exporter": "python",
   "pygments_lexer": "ipython3",
   "version": "3.9.7"
  }
 },
 "nbformat": 4,
 "nbformat_minor": 5
}
